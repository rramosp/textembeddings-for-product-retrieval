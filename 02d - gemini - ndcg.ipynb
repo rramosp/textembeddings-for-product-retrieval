{
 "cells": [
  {
   "cell_type": "code",
   "execution_count": 2,
   "id": "9fa80260-93b7-4331-ad2e-39c36b4ca63a",
   "metadata": {},
   "outputs": [
    {
     "data": {
      "text/plain": [
       "<module 'utils' from '/usr/local/google/home/raulramos/projects/text-embeddings-benchmark/utils.py'>"
      ]
     },
     "execution_count": 2,
     "metadata": {},
     "output_type": "execute_result"
    }
   ],
   "source": [
    "import pandas as pd\n",
    "import numpy as np\n",
    "from tqdm import tqdm\n",
    "import utils\n",
    "\n",
    "from importlib import reload\n",
    "reload(utils)"
   ]
  },
  {
   "cell_type": "code",
   "execution_count": 3,
   "id": "369f0dd6-7594-4fd7-9766-3a7449b20944",
   "metadata": {},
   "outputs": [],
   "source": [
    "# clone repo https://github.com/amazon-science/esci-data\n",
    "# previously install git-lfs to download the data files when cloning\n",
    "\n",
    "ESCI_DATASET_ROOT = '/usr/local/google/home/raulramos/projects/esci-data'"
   ]
  },
  {
   "cell_type": "code",
   "execution_count": 4,
   "id": "de9e684e-d91a-4c7b-981d-ea5d6647dae4",
   "metadata": {},
   "outputs": [],
   "source": [
    "# load ground truth\n",
    "dgt = utils.load_examples(ESCI_DATASET_ROOT=ESCI_DATASET_ROOT, locale='es')"
   ]
  },
  {
   "cell_type": "markdown",
   "id": "3786322d-feb5-457e-b9b8-806ba1e6bd93",
   "metadata": {},
   "source": [
    "## model results for locale `es`"
   ]
  },
  {
   "cell_type": "code",
   "execution_count": 25,
   "id": "3bffa0c3-c04b-4343-af7f-40db71eb99f1",
   "metadata": {},
   "outputs": [],
   "source": [
    "model = 'gemini'\n",
    "locale = 'es'"
   ]
  },
  {
   "cell_type": "code",
   "execution_count": 5,
   "id": "74a55ae8-20f5-4837-8fe9-6c027b4ef513",
   "metadata": {},
   "outputs": [
    {
     "name": "stderr",
     "output_type": "stream",
     "text": [
      "100%|█████████████████████████████████████████████████████████████████████████████████████████████████████████████████████████████████| 15180/15180 [00:15<00:00, 991.85it/s]\n"
     ]
    },
    {
     "data": {
      "text/plain": [
       "(607200, 16)"
      ]
     },
     "execution_count": 5,
     "metadata": {},
     "output_type": "execute_result"
    }
   ],
   "source": [
    "br = utils.get_model_ranking(f'{model}/embeddings_dotp_ranking_{locale}.csv', dgt)\n",
    "br.shape"
   ]
  },
  {
   "cell_type": "code",
   "execution_count": 6,
   "id": "3d5b99fe-0f38-41e9-b569-c40ca10ed6bc",
   "metadata": {},
   "outputs": [
    {
     "data": {
      "text/plain": [
       "185904"
      ]
     },
     "execution_count": 6,
     "metadata": {},
     "output_type": "execute_result"
    }
   ],
   "source": [
    "prods = np.unique(br.product_id.values)\n",
    "len(prods)\n"
   ]
  },
  {
   "cell_type": "code",
   "execution_count": 7,
   "id": "e67f06b1-786e-43af-9992-cfce500f8347",
   "metadata": {},
   "outputs": [
    {
     "name": "stdout",
     "output_type": "stream",
     "text": [
      "number of queries: 15180\n"
     ]
    }
   ],
   "source": [
    "print(f'number of queries: {len(np.unique(br.query_id))}')"
   ]
  },
  {
   "cell_type": "code",
   "execution_count": 8,
   "id": "01e02a78-5764-4f6a-9511-4da18e9ac3c2",
   "metadata": {},
   "outputs": [
    {
     "name": "stderr",
     "output_type": "stream",
     "text": [
      "100%|█████████████████████████████████████████████████████████████████████████████████████████████████████████████████████████████████| 15180/15180 [00:49<00:00, 307.95it/s]\n"
     ]
    }
   ],
   "source": [
    "df_dcg, ndgc = utils.compute_ndcg(br)"
   ]
  },
  {
   "cell_type": "code",
   "execution_count": 9,
   "id": "e888c1e1-7dac-4f8b-887e-cdcd8266e167",
   "metadata": {},
   "outputs": [
    {
     "name": "stdout",
     "output_type": "stream",
     "text": [
      "mean ndgc 0.6664\n"
     ]
    },
    {
     "data": {
      "text/html": [
       "<div>\n",
       "<style scoped>\n",
       "    .dataframe tbody tr th:only-of-type {\n",
       "        vertical-align: middle;\n",
       "    }\n",
       "\n",
       "    .dataframe tbody tr th {\n",
       "        vertical-align: top;\n",
       "    }\n",
       "\n",
       "    .dataframe thead th {\n",
       "        text-align: right;\n",
       "    }\n",
       "</style>\n",
       "<table border=\"1\" class=\"dataframe\">\n",
       "  <thead>\n",
       "    <tr style=\"text-align: right;\">\n",
       "      <th></th>\n",
       "      <th>dgc</th>\n",
       "      <th>idgc</th>\n",
       "      <th>ndgc</th>\n",
       "    </tr>\n",
       "    <tr>\n",
       "      <th>query_id</th>\n",
       "      <th></th>\n",
       "      <th></th>\n",
       "      <th></th>\n",
       "    </tr>\n",
       "  </thead>\n",
       "  <tbody>\n",
       "    <tr>\n",
       "      <th>3</th>\n",
       "      <td>0.000000</td>\n",
       "      <td>0.000000</td>\n",
       "      <td>NaN</td>\n",
       "    </tr>\n",
       "    <tr>\n",
       "      <th>4</th>\n",
       "      <td>37.219244</td>\n",
       "      <td>41.921903</td>\n",
       "      <td>0.887823</td>\n",
       "    </tr>\n",
       "    <tr>\n",
       "      <th>31</th>\n",
       "      <td>42.502899</td>\n",
       "      <td>46.269155</td>\n",
       "      <td>0.918601</td>\n",
       "    </tr>\n",
       "    <tr>\n",
       "      <th>110</th>\n",
       "      <td>31.284197</td>\n",
       "      <td>33.809115</td>\n",
       "      <td>0.925318</td>\n",
       "    </tr>\n",
       "    <tr>\n",
       "      <th>130</th>\n",
       "      <td>3.640957</td>\n",
       "      <td>5.770780</td>\n",
       "      <td>0.630930</td>\n",
       "    </tr>\n",
       "    <tr>\n",
       "      <th>...</th>\n",
       "      <td>...</td>\n",
       "      <td>...</td>\n",
       "      <td>...</td>\n",
       "    </tr>\n",
       "    <tr>\n",
       "      <th>115942</th>\n",
       "      <td>0.000000</td>\n",
       "      <td>0.000000</td>\n",
       "      <td>NaN</td>\n",
       "    </tr>\n",
       "    <tr>\n",
       "      <th>115943</th>\n",
       "      <td>4.991860</td>\n",
       "      <td>14.782467</td>\n",
       "      <td>0.337688</td>\n",
       "    </tr>\n",
       "    <tr>\n",
       "      <th>115944</th>\n",
       "      <td>18.942539</td>\n",
       "      <td>23.501607</td>\n",
       "      <td>0.806010</td>\n",
       "    </tr>\n",
       "    <tr>\n",
       "      <th>115946</th>\n",
       "      <td>8.547512</td>\n",
       "      <td>20.994096</td>\n",
       "      <td>0.407139</td>\n",
       "    </tr>\n",
       "    <tr>\n",
       "      <th>115947</th>\n",
       "      <td>13.453820</td>\n",
       "      <td>15.898688</td>\n",
       "      <td>0.846222</td>\n",
       "    </tr>\n",
       "  </tbody>\n",
       "</table>\n",
       "<p>15180 rows × 3 columns</p>\n",
       "</div>"
      ],
      "text/plain": [
       "                dgc       idgc      ndgc\n",
       "query_id                                \n",
       "3          0.000000   0.000000       NaN\n",
       "4         37.219244  41.921903  0.887823\n",
       "31        42.502899  46.269155  0.918601\n",
       "110       31.284197  33.809115  0.925318\n",
       "130        3.640957   5.770780  0.630930\n",
       "...             ...        ...       ...\n",
       "115942     0.000000   0.000000       NaN\n",
       "115943     4.991860  14.782467  0.337688\n",
       "115944    18.942539  23.501607  0.806010\n",
       "115946     8.547512  20.994096  0.407139\n",
       "115947    13.453820  15.898688  0.846222\n",
       "\n",
       "[15180 rows x 3 columns]"
      ]
     },
     "execution_count": 9,
     "metadata": {},
     "output_type": "execute_result"
    }
   ],
   "source": [
    "print (f'mean ndgc {ndgc.ndgc.mean():.4f}')\n",
    "ndgc"
   ]
  },
  {
   "cell_type": "code",
   "execution_count": 16,
   "id": "016137f9-5100-4620-b766-61cf5a8122c7",
   "metadata": {},
   "outputs": [
    {
     "name": "stdout",
     "output_type": "stream",
     "text": [
      "mean ndgc 0.6844\n"
     ]
    },
    {
     "data": {
      "text/html": [
       "<div>\n",
       "<style scoped>\n",
       "    .dataframe tbody tr th:only-of-type {\n",
       "        vertical-align: middle;\n",
       "    }\n",
       "\n",
       "    .dataframe tbody tr th {\n",
       "        vertical-align: top;\n",
       "    }\n",
       "\n",
       "    .dataframe thead th {\n",
       "        text-align: right;\n",
       "    }\n",
       "</style>\n",
       "<table border=\"1\" class=\"dataframe\">\n",
       "  <thead>\n",
       "    <tr style=\"text-align: right;\">\n",
       "      <th></th>\n",
       "      <th>dgc</th>\n",
       "      <th>idgc</th>\n",
       "      <th>ndgc</th>\n",
       "    </tr>\n",
       "    <tr>\n",
       "      <th>query_id</th>\n",
       "      <th></th>\n",
       "      <th></th>\n",
       "      <th></th>\n",
       "    </tr>\n",
       "  </thead>\n",
       "  <tbody>\n",
       "    <tr>\n",
       "      <th>3</th>\n",
       "      <td>0.000000</td>\n",
       "      <td>0.000000</td>\n",
       "      <td>NaN</td>\n",
       "    </tr>\n",
       "    <tr>\n",
       "      <th>31</th>\n",
       "      <td>48.029384</td>\n",
       "      <td>51.081955</td>\n",
       "      <td>0.940242</td>\n",
       "    </tr>\n",
       "    <tr>\n",
       "      <th>130</th>\n",
       "      <td>5.770780</td>\n",
       "      <td>5.770780</td>\n",
       "      <td>1.000000</td>\n",
       "    </tr>\n",
       "    <tr>\n",
       "      <th>155</th>\n",
       "      <td>1.313835</td>\n",
       "      <td>5.770780</td>\n",
       "      <td>0.227670</td>\n",
       "    </tr>\n",
       "    <tr>\n",
       "      <th>168</th>\n",
       "      <td>16.837598</td>\n",
       "      <td>17.722066</td>\n",
       "      <td>0.950092</td>\n",
       "    </tr>\n",
       "    <tr>\n",
       "      <th>...</th>\n",
       "      <td>...</td>\n",
       "      <td>...</td>\n",
       "      <td>...</td>\n",
       "    </tr>\n",
       "    <tr>\n",
       "      <th>115941</th>\n",
       "      <td>19.268778</td>\n",
       "      <td>26.607709</td>\n",
       "      <td>0.724180</td>\n",
       "    </tr>\n",
       "    <tr>\n",
       "      <th>115942</th>\n",
       "      <td>3.922285</td>\n",
       "      <td>13.439784</td>\n",
       "      <td>0.291841</td>\n",
       "    </tr>\n",
       "    <tr>\n",
       "      <th>115944</th>\n",
       "      <td>23.334342</td>\n",
       "      <td>26.900467</td>\n",
       "      <td>0.867433</td>\n",
       "    </tr>\n",
       "    <tr>\n",
       "      <th>115946</th>\n",
       "      <td>14.430206</td>\n",
       "      <td>26.219882</td>\n",
       "      <td>0.550354</td>\n",
       "    </tr>\n",
       "    <tr>\n",
       "      <th>115947</th>\n",
       "      <td>13.683588</td>\n",
       "      <td>15.898688</td>\n",
       "      <td>0.860674</td>\n",
       "    </tr>\n",
       "  </tbody>\n",
       "</table>\n",
       "<p>8049 rows × 3 columns</p>\n",
       "</div>"
      ],
      "text/plain": [
       "                dgc       idgc      ndgc\n",
       "query_id                                \n",
       "3          0.000000   0.000000       NaN\n",
       "31        48.029384  51.081955  0.940242\n",
       "130        5.770780   5.770780  1.000000\n",
       "155        1.313835   5.770780  0.227670\n",
       "168       16.837598  17.722066  0.950092\n",
       "...             ...        ...       ...\n",
       "115941    19.268778  26.607709  0.724180\n",
       "115942     3.922285  13.439784  0.291841\n",
       "115944    23.334342  26.900467  0.867433\n",
       "115946    14.430206  26.219882  0.550354\n",
       "115947    13.683588  15.898688  0.860674\n",
       "\n",
       "[8049 rows x 3 columns]"
      ]
     },
     "execution_count": 16,
     "metadata": {},
     "output_type": "execute_result"
    }
   ],
   "source": [
    "print (f'mean ndgc {ndgc.ndgc.mean():.4f}')\n",
    "ndgc"
   ]
  },
  {
   "cell_type": "code",
   "execution_count": 10,
   "id": "fcda6e52-74c0-486b-b4ce-76703d9aadf6",
   "metadata": {},
   "outputs": [
    {
     "data": {
      "image/png": "[encoded data removed]",
      "text/plain": [
       "<Figure size 640x480 with 1 Axes>"
      ]
     },
     "metadata": {},
     "output_type": "display_data"
    }
   ],
   "source": [
    "import matplotlib.pyplot as plt\n",
    "plt.hist(ndgc.ndgc, bins=100);"
   ]
  },
  {
   "cell_type": "markdown",
   "id": "0726a87a-f812-4dd4-a585-e314d8ac2f02",
   "metadata": {},
   "source": [
    "## inspect random query"
   ]
  },
  {
   "cell_type": "code",
   "execution_count": 34,
   "id": "f821e83a-6584-49ca-b73e-b51f5d368a35",
   "metadata": {},
   "outputs": [],
   "source": [
    "p = pd.read_parquet(f'{model}/products-{locale}.parquet')\n",
    "q = pd.read_parquet(f'{model}/queries-{locale}.parquet')"
   ]
  },
  {
   "cell_type": "code",
   "execution_count": 60,
   "id": "2bd090b0-0e02-4095-a529-c2f76f7f5c6f",
   "metadata": {},
   "outputs": [
    {
     "name": "stdout",
     "output_type": "stream",
     "text": [
      "dgc     2.396826\n",
      "idgc    9.411737\n",
      "ndgc    0.254663\n",
      "Name: 9541, dtype: float64\n"
     ]
    },
    {
     "data": {
      "text/plain": [
       "'aparato corrientes fisioterapia'"
      ]
     },
     "execution_count": 60,
     "metadata": {},
     "output_type": "execute_result"
    }
   ],
   "source": [
    "# inspect random query\n",
    "\n",
    "#qid = np.random.choice(np.unique(df_dcg.query_id.values))\n",
    "qid = np.random.choice(ndgc[ndgc.ndgc<.3].index)\n",
    "print (ndgc.loc[qid])\n",
    "bq = df_dcg[df_dcg.query_id==qid]\n",
    "#bq[['query_id', 'query', 'product_id', 'relevance', 'model_rank', 'ideal_rank', 'dgc', 'idgc','product_title']].iloc[:15]\n",
    "q.loc[qid].query"
   ]
  },
  {
   "cell_type": "code",
   "execution_count": 61,
   "id": "e7ef070a-947f-422c-b054-8e5a18721bc6",
   "metadata": {},
   "outputs": [
    {
     "name": "stdout",
     "output_type": "stream",
     "text": [
      "B08SCFNHQ5   <TITLE>Instrumento de fisioterapia, dispositivo de terapia de ondas de choque profesional ED Disposi\n",
      "B08H23JXZN   <TITLE>Instrumento de terapia de ondas de choque extracorpóreo, Máquina de masaje muscular de tejido\n",
      "B093QD9B2Z   <TITLE>Masajeador de ondas de choque ZJchao para aliviar el dolor Máquina de terapia de ondas de cho\n",
      "B08X22TJN9   <TITLE>Instrumento de fisioterapia de ondas de choque ED, máquina de terapia de masajeador de alivio\n",
      "B08BHY62CJ   <TITLE>Máquina de terapia de ondas de choque, tratamiento de alivio del dolor, máquina de terapia po\n",
      "B082DHLXGP   <TITLE>Máquina extracorpórea de terapia de ondas de choque, fisioterapia de tejidos profundos ED Dis\n",
      "B08X4L3DFK   <TITLE>Instrumento de fisioterapia de ondas de choque, dispositivo de terapia de ondas de choque ext\n",
      "B087RLCSVZ   <TITLE>Máquina de Terapia de Ondas de Choque Extracorpórea Electromagnética Masajeador Muscular para\n",
      "B08SVN78H2   <TITLE>Máquina de terapia de ondas de choque, Instrumento de fisioterapia de ondas de choque Máquina\n",
      "B08J7MT1S4   <TITLE>4YANG Máquina de terapia de ondas de choque Masajeador corporal ShockWave, uso para tratamien\n",
      "B098QJWYYC   <TITLE>Máquina de ondas de choque, Máquina de terapia de ondas de choque extracorpóreas, Terapia de \n",
      "B08YK29TM5   <TITLE>Dispositivo de terapia de ondas de choque, tratamiento de disfunción eréctil profesional aliv\n",
      "B097RB2ZKK   <TITLE>Masajeador De Piernas De Compresión De Aire Eléctrico Envolturas De Piernas Tobillos De Pies \n",
      "B08315XQW6   <TITLE>Máquina de Terapia de Ondas de Choque 19ED Máquina de Terapia de Ondas de Choque extracorpóre\n",
      "B08FY27K1W   <TITLE>Máquina de terapia de ondas de choque, pistola de masaje de fisioterapia instrumento alivio d\n",
      "B08PFXBR1S   <TITLE>BHDD Ondas de Choque extracorpóreas, ED Máquina de Terapia de Ondas de Choque Dispositivo de \n",
      "B08C5FG2BV   <TITLE>ZMIN Equipo de Fisioterapia de Ondas de Choque Radial Shock Wave Equipo de Fisioterapia con 7\n",
      "B08QJCHB38   <TITLE>Máquina Terapia Ondas Choque, Multifuncional Onda Sonido Vibrante Máquina Fisioterapia Masaje\n",
      "B08V8MH3HB   <TITLE>Instrumento de Tratamiento de Ondas de Choque Ed, Máquina de Fisioterapia de Ondas de Choque \n",
      "B09FPZSGBJ   <TITLE>Máquina de Terapia de Ondas de Choque ED, Sistema Terapia Dolor, para Tratamiento de Disfunci\n",
      "B07N6GD6PC   <TITLE>Presoterapia Portatil nuevo modelo más completo</TITLE> <DESCRIPTION>Nuevo Modelo de Equipo d\n",
      "B08L63WZC9   <TITLE>S SMAUTOP Máquina De Terapia De Ondas De Choque, Máquina De Terapia De Ondas Corporal De Onda\n",
      "B08QJG3JXR   <TITLE>WRQ Máquina Terapia Ondas Choque Multifuncional Onda Sonido Vibrante Máquina Fisioterapia con\n",
      "B07WJK7CFN * <TITLE>Dispositivo de Terapia de Máquina Decenas de Doble Canal JUMPER para el Manejo del Dolor con \n",
      "B09DT12DJ7   <TITLE>Joyfitness Máquina Masajeadora De Compresión De Aire para Cintura, Pierna, Brazo, Presoterapi\n",
      "B08RZ4HC6K   <TITLE>WRQ Máquina Terapia Ondas Choque Multifuncional Onda Sonido Vibrante Máquina Fisioterapia par\n",
      "B09CFRCRMW   <TITLE>Electroestimulador digital,para aliviar el dolor muscular y el fortalecimiento muscular, masa\n",
      "B0851FV8VV   <TITLE>Denshine Máquina de terapia de ondas de choque para el tratamiento del dolor articular y la d\n",
      "B08CXY7FM6   <TITLE>Máquina extracorpórea de terapia de ondas de choque Tejido profundo ED Tratamiento para el al\n",
      "B0963RWMCL   <TITLE>Masajeador De Ondas De Presión Para Pantorrillas,piernas Y Pies, Masajeador De Piernas,masaje\n",
      "B07JBXX9PH * <TITLE>Laluztop Electroestimulador Digital Masaje Recargable 24 Modes 8 Almohadillas EMS TENS Pantal\n",
      "B089SX64PK   <TITLE>Sonda de terapia de ondas de choque, ED Terapia de ondas de choque extracorpóreas Alivio del \n",
      "B0757X4PDT   <TITLE>Maquina de Presoterapia Profesional Completa - Altas Prestaciones con Procesador Inteligente<\n",
      "B089QP19ZF   <TITLE>ED Terapia de ondas de choque extracorpóreas Masajeador de alivio del dolor Instrumento de fi\n",
      "B082G8TWHQ   <TITLE>Presión del aire Máquina de adelgazamiento con presoterapia con equipo de drenaje linfático P\n",
      "B09532N94Z   <TITLE>Electroestimulador Digital Portatil, 8 Modos Masaje Estimulador Muscular Masajeador Electro, \n",
      "B09GVHK7SX   <TITLE>YUXINCAI Botas De Compresión De Aire De 4 Cavidades Masajeador De Piernas Y Pies, Masajeador \n",
      "B08FQSHVHS   <TITLE>ROOTOK Electroestimulador Muscular Abdominales, Masajeador Eléctrico Cinturón con USB， Estimu\n",
      "B094JCLRDD   <TITLE>Masajeador de Pies, OSITO EMS Maquina de Circulación Sanguínea para Músculos de Pie Pierna Cu\n",
      "B06XC465DS   <TITLE>TRÉBOL ADVANCE Cinta de Correr Semi Profesional 2 HP. 20 Programas con Masaje, Plegable Funci\n"
     ]
    }
   ],
   "source": [
    "for i in range(len(bq)):\n",
    "    pi = p.loc[bq.iloc[i].product_id]\n",
    "    print (pi.name, ('*' if not pd.isna(bq.iloc[i].dgc) else ' '), (pi['product'].replace('\\n',' '))[:100])"
   ]
  },
  {
   "cell_type": "code",
   "execution_count": null,
   "id": "3a4c0371-cfb3-4f9e-95e6-d9dc6bbf80e8",
   "metadata": {},
   "outputs": [],
   "source": []
  }
 ],
 "metadata": {
  "kernelspec": {
   "display_name": "p312",
   "language": "python",
   "name": "p312"
  },
  "language_info": {
   "codemirror_mode": {
    "name": "ipython",
    "version": 3
   },
   "file_extension": ".py",
   "mimetype": "text/x-python",
   "name": "python",
   "nbconvert_exporter": "python",
   "pygments_lexer": "ipython3",
   "version": "3.12.7"
  }
 },
 "nbformat": 4,
 "nbformat_minor": 5
}
