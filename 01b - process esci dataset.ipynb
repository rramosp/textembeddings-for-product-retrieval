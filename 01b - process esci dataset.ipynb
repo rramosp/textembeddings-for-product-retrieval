{
 "cells": [
  {
   "cell_type": "code",
   "execution_count": 1,
   "id": "389e6a8f-1579-47ff-8af0-685479d1299a",
   "metadata": {},
   "outputs": [],
   "source": [
    "import pandas as pd\n",
    "import utils\n",
    "from tqdm import tqdm\n",
    "import os"
   ]
  },
  {
   "cell_type": "code",
   "execution_count": 20,
   "id": "7b7767e5-7cdf-4fda-8c0d-efe5eea3d0be",
   "metadata": {},
   "outputs": [],
   "source": [
    "ESCI_DATASET_ROOT = '/usr/local/google/home/raulramos/projects/esci-data'\n",
    "locale = 'es'\n",
    "dataset = f'esci-{locale}'"
   ]
  },
  {
   "cell_type": "code",
   "execution_count": 21,
   "id": "25cf4f58-b124-4778-99d8-3d0127d1461b",
   "metadata": {},
   "outputs": [],
   "source": [
    "dgt = utils.load_esci_examples(ESCI_DATASET_ROOT=ESCI_DATASET_ROOT, locale=locale)"
   ]
  },
  {
   "cell_type": "code",
   "execution_count": 22,
   "id": "7181ce9b-f6c0-4910-98a4-0e6e5be83167",
   "metadata": {},
   "outputs": [],
   "source": [
    "queries = dgt.groupby('query_id').first()[['query']]"
   ]
  },
  {
   "cell_type": "code",
   "execution_count": 23,
   "id": "b442d5cd-5c0c-4a8c-a8d6-bc2615840748",
   "metadata": {},
   "outputs": [
    {
     "name": "stderr",
     "output_type": "stream",
     "text": [
      "259973it [00:23, 11175.12it/s]\n"
     ]
    }
   ],
   "source": [
    "products = dgt.groupby('product_id').first()[['product_title', 'product_description', 'product_bullet_point', 'product_brand', 'product_color']]\n",
    "products = pd.DataFrame([{product_id: utils.get_esci_product_string(pi) for product_id,pi in tqdm(products.iterrows())}], index=['product']).T"
   ]
  },
  {
   "cell_type": "code",
   "execution_count": 24,
   "id": "7c099cbf-e9da-4597-b4a2-ed3bd97cb511",
   "metadata": {},
   "outputs": [
    {
     "data": {
      "text/plain": [
       "((15180, 1), (259973, 1))"
      ]
     },
     "execution_count": 24,
     "metadata": {},
     "output_type": "execute_result"
    }
   ],
   "source": [
    "queries.shape, products.shape"
   ]
  },
  {
   "cell_type": "code",
   "execution_count": 25,
   "id": "06cdd3c2-d427-44fe-87f7-bcd7d99e2a17",
   "metadata": {},
   "outputs": [],
   "source": [
    "queries.to_parquet(f'{dataset}/queries.parquet')\n",
    "products.to_parquet(f'{dataset}/products.parquet')\n",
    "dgt[['example_id', 'query_id', 'product_id', 'esci_label', 'relevance']].to_parquet(f'{dataset}/relevance.parquet')"
   ]
  },
  {
   "cell_type": "code",
   "execution_count": null,
   "id": "75acb868-ebff-4bba-bf06-daecee4303c7",
   "metadata": {},
   "outputs": [],
   "source": []
  },
  {
   "cell_type": "code",
   "execution_count": null,
   "id": "544b8b71-a220-4ecf-9d99-a498429ac593",
   "metadata": {},
   "outputs": [],
   "source": []
  }
 ],
 "metadata": {
  "kernelspec": {
   "display_name": "p312",
   "language": "python",
   "name": "p312"
  },
  "language_info": {
   "codemirror_mode": {
    "name": "ipython",
    "version": 3
   },
   "file_extension": ".py",
   "mimetype": "text/x-python",
   "name": "python",
   "nbconvert_exporter": "python",
   "pygments_lexer": "ipython3",
   "version": "3.12.9"
  }
 },
 "nbformat": 4,
 "nbformat_minor": 5
}
