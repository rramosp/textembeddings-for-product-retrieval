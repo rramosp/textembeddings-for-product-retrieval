{
 "cells": [
  {
   "cell_type": "markdown",
   "id": "9352b0bf-75be-4485-8c0a-56c97dfd3064",
   "metadata": {},
   "source": [
    "# batch makes all queries to get top 40 products relevant for each query"
   ]
  },
  {
   "cell_type": "code",
   "execution_count": 1,
   "id": "27ae0fd4-3b28-4ef0-9faa-764e075177a9",
   "metadata": {},
   "outputs": [],
   "source": [
    "import pandas as pd\n",
    "import numpy as np\n",
    "from tqdm import tqdm\n",
    "from joblib import Parallel, delayed\n",
    "import polars as pl\n"
   ]
  },
  {
   "cell_type": "code",
   "execution_count": 2,
   "id": "619516f1-8fc4-4814-9d74-35902a690852",
   "metadata": {},
   "outputs": [
    {
     "data": {
      "text/plain": [
       "'/opt/conda/envs/p312/bin/python'"
      ]
     },
     "execution_count": 2,
     "metadata": {},
     "output_type": "execute_result"
    }
   ],
   "source": [
    "import sys\n",
    "sys.executable"
   ]
  },
  {
   "cell_type": "code",
   "execution_count": 3,
   "id": "a95c9cd3-25c3-4816-b775-97c2c2d2aa48",
   "metadata": {},
   "outputs": [],
   "source": [
    "model = 'openai'\n",
    "locale = 'us'"
   ]
  },
  {
   "cell_type": "code",
   "execution_count": 6,
   "id": "d2f61b2d-cf83-4b44-ae51-04fb3a36411e",
   "metadata": {},
   "outputs": [],
   "source": [
    "q = pd.read_parquet(f'{model}/queries-{locale}.parquet')"
   ]
  },
  {
   "cell_type": "code",
   "execution_count": 4,
   "id": "edc6e349-a8f0-4a78-bbf7-e1a5cf8b7a2b",
   "metadata": {},
   "outputs": [],
   "source": [
    "p = pl.read_parquet(f'{model}/products-{locale}.parquet')\n",
    "p = p.to_pandas()\n"
   ]
  },
  {
   "cell_type": "code",
   "execution_count": 7,
   "id": "8aca26de-6c79-4732-8d89-d5a82ab64ecf",
   "metadata": {},
   "outputs": [
    {
     "data": {
      "text/plain": [
       "((97345, 2), (1215851, 3))"
      ]
     },
     "execution_count": 7,
     "metadata": {},
     "output_type": "execute_result"
    }
   ],
   "source": [
    "q.shape, p.shape"
   ]
  },
  {
   "cell_type": "code",
   "execution_count": 8,
   "id": "a2e7381b-74ec-45be-b3b2-72bf23564fcd",
   "metadata": {},
   "outputs": [
    {
     "data": {
      "text/plain": [
       "((97345, 3072), (1215851, 3072))"
      ]
     },
     "execution_count": 8,
     "metadata": {},
     "output_type": "execute_result"
    }
   ],
   "source": [
    "qe = np.stack(q.embeddings.values.copy())\n",
    "pe = np.stack(p.embeddings.values.copy())\n",
    "qe.shape, pe.shape"
   ]
  },
  {
   "cell_type": "code",
   "execution_count": 9,
   "id": "40e27f77-d5d5-4c05-bd0a-88157e418cf3",
   "metadata": {},
   "outputs": [],
   "source": [
    "def get_dotp_closests_idxs(q_embedding,p_embeddings_matrix, topk=40):\n",
    "    return np.argsort( p_embeddings_matrix.dot(q_embedding) )[-topk:][::-1]\n"
   ]
  },
  {
   "cell_type": "code",
   "execution_count": 10,
   "id": "e9fc1661-5010-4f00-9d28-94d0498e9154",
   "metadata": {},
   "outputs": [
    {
     "data": {
      "text/plain": [
       "1"
      ]
     },
     "execution_count": 10,
     "metadata": {},
     "output_type": "execute_result"
    }
   ],
   "source": [
    "1"
   ]
  },
  {
   "cell_type": "code",
   "execution_count": 11,
   "id": "d1d9268b-2654-4673-8cd4-637ad8cf9ddf",
   "metadata": {},
   "outputs": [
    {
     "name": "stderr",
     "output_type": "stream",
     "text": [
      "[Parallel(n_jobs=-1)]: Using backend LokyBackend with 64 concurrent workers.\n",
      "[Parallel(n_jobs=-1)]: Done  34 tasks      | elapsed:   51.8s\n",
      "[Parallel(n_jobs=-1)]: Done 160 tasks      | elapsed:  1.4min\n",
      "[Parallel(n_jobs=-1)]: Done 322 tasks      | elapsed:  2.2min\n",
      "[Parallel(n_jobs=-1)]: Done 520 tasks      | elapsed:  3.1min\n",
      "[Parallel(n_jobs=-1)]: Done 754 tasks      | elapsed:  4.1min\n",
      "[Parallel(n_jobs=-1)]: Done 1024 tasks      | elapsed:  5.3min\n",
      "[Parallel(n_jobs=-1)]: Done 1330 tasks      | elapsed:  6.7min\n",
      "[Parallel(n_jobs=-1)]: Done 1672 tasks      | elapsed:  8.2min\n",
      "[Parallel(n_jobs=-1)]: Done 2050 tasks      | elapsed:  9.9min\n",
      "[Parallel(n_jobs=-1)]: Done 2464 tasks      | elapsed: 11.7min\n",
      "[Parallel(n_jobs=-1)]: Done 2914 tasks      | elapsed: 13.7min\n",
      "[Parallel(n_jobs=-1)]: Done 3400 tasks      | elapsed: 15.9min\n",
      "[Parallel(n_jobs=-1)]: Done 3922 tasks      | elapsed: 18.3min\n",
      "[Parallel(n_jobs=-1)]: Done 4480 tasks      | elapsed: 20.8min\n",
      "[Parallel(n_jobs=-1)]: Done 5074 tasks      | elapsed: 23.6min\n",
      "[Parallel(n_jobs=-1)]: Done 5704 tasks      | elapsed: 26.5min\n",
      "[Parallel(n_jobs=-1)]: Done 6370 tasks      | elapsed: 29.6min\n",
      "[Parallel(n_jobs=-1)]: Done 7072 tasks      | elapsed: 33.1min\n",
      "[Parallel(n_jobs=-1)]: Done 7810 tasks      | elapsed: 36.5min\n",
      "[Parallel(n_jobs=-1)]: Done 8584 tasks      | elapsed: 40.0min\n",
      "[Parallel(n_jobs=-1)]: Done 9394 tasks      | elapsed: 43.8min\n",
      "[Parallel(n_jobs=-1)]: Done 10240 tasks      | elapsed: 47.8min\n",
      "[Parallel(n_jobs=-1)]: Done 11122 tasks      | elapsed: 51.7min\n",
      "[Parallel(n_jobs=-1)]: Done 12040 tasks      | elapsed: 55.8min\n",
      "[Parallel(n_jobs=-1)]: Done 12994 tasks      | elapsed: 59.9min\n",
      "[Parallel(n_jobs=-1)]: Done 13984 tasks      | elapsed: 64.2min\n",
      "[Parallel(n_jobs=-1)]: Done 15010 tasks      | elapsed: 68.8min\n",
      "[Parallel(n_jobs=-1)]: Done 16072 tasks      | elapsed: 73.6min\n",
      "[Parallel(n_jobs=-1)]: Done 17170 tasks      | elapsed: 78.4min\n",
      "[Parallel(n_jobs=-1)]: Done 18304 tasks      | elapsed: 83.4min\n",
      "[Parallel(n_jobs=-1)]: Done 19474 tasks      | elapsed: 88.5min\n",
      "[Parallel(n_jobs=-1)]: Done 20680 tasks      | elapsed: 93.8min\n",
      "[Parallel(n_jobs=-1)]: Done 21922 tasks      | elapsed: 99.4min\n",
      "[Parallel(n_jobs=-1)]: Done 23200 tasks      | elapsed: 104.9min\n",
      "[Parallel(n_jobs=-1)]: Done 24514 tasks      | elapsed: 110.6min\n",
      "[Parallel(n_jobs=-1)]: Done 25864 tasks      | elapsed: 116.5min\n",
      "[Parallel(n_jobs=-1)]: Done 27250 tasks      | elapsed: 122.6min\n",
      "[Parallel(n_jobs=-1)]: Done 28672 tasks      | elapsed: 128.7min\n",
      "[Parallel(n_jobs=-1)]: Done 30130 tasks      | elapsed: 135.0min\n",
      "[Parallel(n_jobs=-1)]: Done 31624 tasks      | elapsed: 141.6min\n",
      "[Parallel(n_jobs=-1)]: Done 33154 tasks      | elapsed: 148.2min\n",
      "[Parallel(n_jobs=-1)]: Done 34720 tasks      | elapsed: 155.0min\n",
      "[Parallel(n_jobs=-1)]: Done 36322 tasks      | elapsed: 162.1min\n",
      "[Parallel(n_jobs=-1)]: Done 37960 tasks      | elapsed: 169.4min\n",
      "[Parallel(n_jobs=-1)]: Done 39634 tasks      | elapsed: 177.0min\n",
      "[Parallel(n_jobs=-1)]: Done 41344 tasks      | elapsed: 184.6min\n",
      "[Parallel(n_jobs=-1)]: Done 43090 tasks      | elapsed: 192.9min\n",
      "[Parallel(n_jobs=-1)]: Done 44872 tasks      | elapsed: 201.2min\n",
      "[Parallel(n_jobs=-1)]: Done 46690 tasks      | elapsed: 209.6min\n",
      "[Parallel(n_jobs=-1)]: Done 48544 tasks      | elapsed: 218.1min\n",
      "[Parallel(n_jobs=-1)]: Done 50434 tasks      | elapsed: 226.4min\n",
      "[Parallel(n_jobs=-1)]: Done 52360 tasks      | elapsed: 234.7min\n",
      "[Parallel(n_jobs=-1)]: Done 54322 tasks      | elapsed: 243.2min\n",
      "[Parallel(n_jobs=-1)]: Done 56320 tasks      | elapsed: 251.8min\n",
      "[Parallel(n_jobs=-1)]: Done 58354 tasks      | elapsed: 260.7min\n",
      "[Parallel(n_jobs=-1)]: Done 60424 tasks      | elapsed: 270.0min\n",
      "[Parallel(n_jobs=-1)]: Done 62530 tasks      | elapsed: 279.7min\n",
      "[Parallel(n_jobs=-1)]: Done 64672 tasks      | elapsed: 289.4min\n",
      "[Parallel(n_jobs=-1)]: Done 66850 tasks      | elapsed: 299.4min\n",
      "[Parallel(n_jobs=-1)]: Done 69064 tasks      | elapsed: 309.3min\n",
      "[Parallel(n_jobs=-1)]: Done 71314 tasks      | elapsed: 319.5min\n",
      "[Parallel(n_jobs=-1)]: Done 73600 tasks      | elapsed: 329.7min\n",
      "[Parallel(n_jobs=-1)]: Done 75922 tasks      | elapsed: 340.2min\n",
      "[Parallel(n_jobs=-1)]: Done 78280 tasks      | elapsed: 350.6min\n",
      "[Parallel(n_jobs=-1)]: Done 80674 tasks      | elapsed: 361.1min\n",
      "[Parallel(n_jobs=-1)]: Done 83104 tasks      | elapsed: 372.3min\n",
      "[Parallel(n_jobs=-1)]: Done 85570 tasks      | elapsed: 383.7min\n",
      "[Parallel(n_jobs=-1)]: Done 88072 tasks      | elapsed: 394.6min\n",
      "[Parallel(n_jobs=-1)]: Done 90610 tasks      | elapsed: 406.0min\n",
      "[Parallel(n_jobs=-1)]: Done 93184 tasks      | elapsed: 417.4min\n",
      "[Parallel(n_jobs=-1)]: Done 95794 tasks      | elapsed: 429.0min\n",
      "[Parallel(n_jobs=-1)]: Done 97345 out of 97345 | elapsed: 435.8min finished\n"
     ]
    }
   ],
   "source": [
    "qnn = Parallel(n_jobs=-1, verbose=5)(delayed(get_dotp_closests_idxs)(qi,pe) for qi in qe)"
   ]
  },
  {
   "cell_type": "code",
   "execution_count": 17,
   "id": "1776c1b6-b718-4705-b549-7a4618d3a78b",
   "metadata": {},
   "outputs": [],
   "source": [
    "p.index = p.__index_level_0__"
   ]
  },
  {
   "cell_type": "code",
   "execution_count": 19,
   "id": "c402f19b-5c2d-4a9d-912e-43f9312136ba",
   "metadata": {},
   "outputs": [
    {
     "name": "stderr",
     "output_type": "stream",
     "text": [
      "100%|█████████████████████████████████████████████████████████████████████████████████████████████| 97345/97345 [00:00<00:00, 102032.28it/s]\n"
     ]
    }
   ],
   "source": [
    "q['top40_products'] = [list(p.index[qnni]) for qnni in tqdm(qnn)]"
   ]
  },
  {
   "cell_type": "code",
   "execution_count": 20,
   "id": "5675f1b3-c2ee-483e-8046-eef73df2d325",
   "metadata": {},
   "outputs": [
    {
     "name": "stderr",
     "output_type": "stream",
     "text": [
      "97345it [00:06, 13927.65it/s]\n"
     ]
    }
   ],
   "source": [
    "qr = []\n",
    "for query_id, qi in tqdm(q.iterrows()):\n",
    "    for product_id in qi.top40_products:\n",
    "        qr.append([query_id, product_id])\n",
    "    "
   ]
  },
  {
   "cell_type": "code",
   "execution_count": 21,
   "id": "f1775f3a-91f7-44db-8d3e-b3cf15975bd6",
   "metadata": {},
   "outputs": [],
   "source": [
    "pd.DataFrame(qr, columns = ['query_id', 'product_id']).to_csv(f'{model}/embeddings_dotp_ranking_{locale}.csv', index=False)"
   ]
  },
  {
   "cell_type": "code",
   "execution_count": 18,
   "id": "953da708-5c54-4cb1-a5a5-aaf2ca6a5fc4",
   "metadata": {},
   "outputs": [
    {
     "data": {
      "text/html": [
       "<div>\n",
       "<style scoped>\n",
       "    .dataframe tbody tr th:only-of-type {\n",
       "        vertical-align: middle;\n",
       "    }\n",
       "\n",
       "    .dataframe tbody tr th {\n",
       "        vertical-align: top;\n",
       "    }\n",
       "\n",
       "    .dataframe thead th {\n",
       "        text-align: right;\n",
       "    }\n",
       "</style>\n",
       "<table border=\"1\" class=\"dataframe\">\n",
       "  <thead>\n",
       "    <tr style=\"text-align: right;\">\n",
       "      <th></th>\n",
       "      <th>product</th>\n",
       "      <th>embeddings</th>\n",
       "      <th>__index_level_0__</th>\n",
       "    </tr>\n",
       "    <tr>\n",
       "      <th>__index_level_0__</th>\n",
       "      <th></th>\n",
       "      <th></th>\n",
       "      <th></th>\n",
       "    </tr>\n",
       "  </thead>\n",
       "  <tbody>\n",
       "    <tr>\n",
       "      <th>0000306045</th>\n",
       "      <td>&lt;TITLE&gt;WhiteCoat Clipboard- Pink - Respiratory...</td>\n",
       "      <td>[-0.027882717549800873, -0.021610360592603683,...</td>\n",
       "      <td>0000306045</td>\n",
       "    </tr>\n",
       "    <tr>\n",
       "      <th>0002159511</th>\n",
       "      <td>&lt;TITLE&gt;A Day in the Life of Ireland&lt;/TITLE&gt;\\n&lt;...</td>\n",
       "      <td>[0.03405754268169403, 0.005424880422651768, -0...</td>\n",
       "      <td>0002159511</td>\n",
       "    </tr>\n",
       "    <tr>\n",
       "      <th>0003002764</th>\n",
       "      <td>&lt;TITLE&gt;HENRY'S AWFUL MISTAKE&lt;/TITLE&gt;</td>\n",
       "      <td>[0.022827627137303352, -0.014154857955873013, ...</td>\n",
       "      <td>0003002764</td>\n",
       "    </tr>\n",
       "    <tr>\n",
       "      <th>0004126475</th>\n",
       "      <td>&lt;TITLE&gt;David Bellamy's Watercolour Landscape C...</td>\n",
       "      <td>[0.049933984875679016, 0.028047902509570122, -...</td>\n",
       "      <td>0004126475</td>\n",
       "    </tr>\n",
       "    <tr>\n",
       "      <th>0004127579</th>\n",
       "      <td>&lt;TITLE&gt;Developing Your Watercolours&lt;/TITLE&gt;\\n&lt;...</td>\n",
       "      <td>[0.030019331723451614, 0.031795453280210495, -...</td>\n",
       "      <td>0004127579</td>\n",
       "    </tr>\n",
       "    <tr>\n",
       "      <th>...</th>\n",
       "      <td>...</td>\n",
       "      <td>...</td>\n",
       "      <td>...</td>\n",
       "    </tr>\n",
       "    <tr>\n",
       "      <th>BT00CTOZCE</th>\n",
       "      <td>&lt;TITLE&gt;Amazon.com $100 Gift Card in a Greeting...</td>\n",
       "      <td>[-0.014043739065527916, -0.0016380960587412119...</td>\n",
       "      <td>BT00CTOZCE</td>\n",
       "    </tr>\n",
       "    <tr>\n",
       "      <th>BT00CTP2VW</th>\n",
       "      <td>&lt;TITLE&gt;Amazon.com $100 Gift Card in a Greeting...</td>\n",
       "      <td>[-0.013048318214714527, -0.017103096470236778,...</td>\n",
       "      <td>BT00CTP2VW</td>\n",
       "    </tr>\n",
       "    <tr>\n",
       "      <th>BT00KQVWMK</th>\n",
       "      <td>&lt;TITLE&gt;Clif Bar Energy White Chocolate Macadam...</td>\n",
       "      <td>[-0.0005861932877451181, -0.02896728552877903,...</td>\n",
       "      <td>BT00KQVWMK</td>\n",
       "    </tr>\n",
       "    <tr>\n",
       "      <th>BT00KRV6SO</th>\n",
       "      <td>&lt;TITLE&gt;Biokleen Bac Out Stain &amp; Odor Elliminat...</td>\n",
       "      <td>[-0.0028872599359601736, -0.013421856798231602...</td>\n",
       "      <td>BT00KRV6SO</td>\n",
       "    </tr>\n",
       "    <tr>\n",
       "      <th>BT00LN946S</th>\n",
       "      <td>&lt;TITLE&gt;Amazon Prime Rewards Visa Signature Car...</td>\n",
       "      <td>[-0.02357064001262188, 0.02685026451945305, -0...</td>\n",
       "      <td>BT00LN946S</td>\n",
       "    </tr>\n",
       "  </tbody>\n",
       "</table>\n",
       "<p>1215851 rows × 3 columns</p>\n",
       "</div>"
      ],
      "text/plain": [
       "                                                             product  \\\n",
       "__index_level_0__                                                      \n",
       "0000306045         <TITLE>WhiteCoat Clipboard- Pink - Respiratory...   \n",
       "0002159511         <TITLE>A Day in the Life of Ireland</TITLE>\\n<...   \n",
       "0003002764                      <TITLE>HENRY'S AWFUL MISTAKE</TITLE>   \n",
       "0004126475         <TITLE>David Bellamy's Watercolour Landscape C...   \n",
       "0004127579         <TITLE>Developing Your Watercolours</TITLE>\\n<...   \n",
       "...                                                              ...   \n",
       "BT00CTOZCE         <TITLE>Amazon.com $100 Gift Card in a Greeting...   \n",
       "BT00CTP2VW         <TITLE>Amazon.com $100 Gift Card in a Greeting...   \n",
       "BT00KQVWMK         <TITLE>Clif Bar Energy White Chocolate Macadam...   \n",
       "BT00KRV6SO         <TITLE>Biokleen Bac Out Stain & Odor Elliminat...   \n",
       "BT00LN946S         <TITLE>Amazon Prime Rewards Visa Signature Car...   \n",
       "\n",
       "                                                          embeddings  \\\n",
       "__index_level_0__                                                      \n",
       "0000306045         [-0.027882717549800873, -0.021610360592603683,...   \n",
       "0002159511         [0.03405754268169403, 0.005424880422651768, -0...   \n",
       "0003002764         [0.022827627137303352, -0.014154857955873013, ...   \n",
       "0004126475         [0.049933984875679016, 0.028047902509570122, -...   \n",
       "0004127579         [0.030019331723451614, 0.031795453280210495, -...   \n",
       "...                                                              ...   \n",
       "BT00CTOZCE         [-0.014043739065527916, -0.0016380960587412119...   \n",
       "BT00CTP2VW         [-0.013048318214714527, -0.017103096470236778,...   \n",
       "BT00KQVWMK         [-0.0005861932877451181, -0.02896728552877903,...   \n",
       "BT00KRV6SO         [-0.0028872599359601736, -0.013421856798231602...   \n",
       "BT00LN946S         [-0.02357064001262188, 0.02685026451945305, -0...   \n",
       "\n",
       "                  __index_level_0__  \n",
       "__index_level_0__                    \n",
       "0000306045               0000306045  \n",
       "0002159511               0002159511  \n",
       "0003002764               0003002764  \n",
       "0004126475               0004126475  \n",
       "0004127579               0004127579  \n",
       "...                             ...  \n",
       "BT00CTOZCE               BT00CTOZCE  \n",
       "BT00CTP2VW               BT00CTP2VW  \n",
       "BT00KQVWMK               BT00KQVWMK  \n",
       "BT00KRV6SO               BT00KRV6SO  \n",
       "BT00LN946S               BT00LN946S  \n",
       "\n",
       "[1215851 rows x 3 columns]"
      ]
     },
     "execution_count": 18,
     "metadata": {},
     "output_type": "execute_result"
    }
   ],
   "source": [
    "p"
   ]
  },
  {
   "cell_type": "code",
   "execution_count": null,
   "id": "dfbcf6b1-8134-48c5-b745-f21fbb882e7d",
   "metadata": {},
   "outputs": [],
   "source": []
  }
 ],
 "metadata": {
  "kernelspec": {
   "display_name": "p312",
   "language": "python",
   "name": "p312"
  },
  "language_info": {
   "codemirror_mode": {
    "name": "ipython",
    "version": 3
   },
   "file_extension": ".py",
   "mimetype": "text/x-python",
   "name": "python",
   "nbconvert_exporter": "python",
   "pygments_lexer": "ipython3",
   "version": "3.12.9"
  }
 },
 "nbformat": 4,
 "nbformat_minor": 5
}
