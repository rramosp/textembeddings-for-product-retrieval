{
 "cells": [
  {
   "cell_type": "code",
   "execution_count": 1,
   "id": "27ae0fd4-3b28-4ef0-9faa-764e075177a9",
   "metadata": {},
   "outputs": [],
   "source": [
    "import pandas as pd\n",
    "import numpy as np\n",
    "from tqdm import tqdm\n",
    "from joblib import Parallel, delayed\n",
    "import matplotlib.pyplot as plt\n",
    "import utils\n"
   ]
  },
  {
   "cell_type": "code",
   "execution_count": 2,
   "id": "48315180-abd6-4f1f-a94a-167ce7d84ee5",
   "metadata": {},
   "outputs": [
    {
     "data": {
      "text/plain": [
       "'/opt/conda/bin/python'"
      ]
     },
     "execution_count": 2,
     "metadata": {},
     "output_type": "execute_result"
    }
   ],
   "source": [
    "import sys\n",
    "sys.executable"
   ]
  },
  {
   "cell_type": "code",
   "execution_count": 3,
   "id": "783f4f25-bb87-466d-bf46-2ed20bff31e8",
   "metadata": {},
   "outputs": [],
   "source": [
    "model = 'gemini'\n",
    "locale = 'us'"
   ]
  },
  {
   "cell_type": "code",
   "execution_count": 4,
   "id": "40232554-f6ba-4b38-a34c-78d70deb20e9",
   "metadata": {},
   "outputs": [],
   "source": [
    "ESCI_DATASET_ROOT = '/usr/local/google/home/raulramos/projects/esci-data'\n",
    "\n",
    "dgt = utils.load_examples(ESCI_DATASET_ROOT=ESCI_DATASET_ROOT, locale=locale)"
   ]
  },
  {
   "cell_type": "code",
   "execution_count": 7,
   "id": "8eb3383a-4938-4ec0-8119-54daa541a0a5",
   "metadata": {},
   "outputs": [
    {
     "name": "stdout",
     "output_type": "stream",
     "text": [
      "<TITLE>Homewerks 7141-80 Bathroom Fan Integrated LED Light Ceiling Mount Exhaust Ventilation, 1.1 Sones, 80 CFM</TITLE>\n",
      "<BULLETS>OUTSTANDING PERFORMANCE: This Homewerk's bath fan ensures comfort in your home by quietly eliminating moisture and humidity in the bathroom. This exhaust fan is 1.1 sones at 80 CFM which means it’s able to manage spaces up to 80 square feet and is very quiet..\n",
      "BATH FANS HELPS REMOVE HARSH ODOR: When cleaning the bathroom or toilet, harsh chemicals are used and they can leave an obnoxious odor behind. Homewerk’s bathroom fans can help remove this odor with its powerful ventilation\n",
      "BUILD QUALITY: Designed to be corrosion resistant with its galvanized steel construction featuring a modern style round shape and has an 4000K Cool White Light LED Light. AC motor.\n",
      "EASY INSTALLATION: This exhaust bath fan is easy to install with its no-cut design and ceiling mount ventilation. Ceiling Opening (L) 7-1/2 in x Ceiling Opening (W) 7-1/4 x Ceiling Opening (H) 5-3/4 in. 13 in round grill and 4 in round duct connector.\n",
      "HOMEWERKS TRUSTED QUALITY: Be confident in the quality and construction of each and every one of our products. We ensure that all of our products are produced and certified to regional, national and international industry standards. We are proud of the products we sell, you will be too. 3 Year Limited</BULLETS>\n",
      "<BRAND>Homewerks</BRAND>\n",
      "<COLOR>80 CFM</COLOR>\n"
     ]
    }
   ],
   "source": [
    "print (utils.get_product_string(dgt.iloc[1]))"
   ]
  },
  {
   "cell_type": "code",
   "execution_count": 3,
   "id": "d2f61b2d-cf83-4b44-ae51-04fb3a36411e",
   "metadata": {},
   "outputs": [],
   "source": [
    "q = pd.read_parquet(f'{model}/queries-{locale}.parquet')"
   ]
  },
  {
   "cell_type": "code",
   "execution_count": 4,
   "id": "edc6e349-a8f0-4a78-bbf7-e1a5cf8b7a2b",
   "metadata": {},
   "outputs": [],
   "source": [
    "p = pd.read_parquet(f'{model}/products-{locale}.parquet')"
   ]
  },
  {
   "cell_type": "code",
   "execution_count": 5,
   "id": "8aca26de-6c79-4732-8d89-d5a82ab64ecf",
   "metadata": {},
   "outputs": [
    {
     "data": {
      "text/plain": [
       "((97345, 2), (1215851, 2))"
      ]
     },
     "execution_count": 5,
     "metadata": {},
     "output_type": "execute_result"
    }
   ],
   "source": [
    "q.shape, p.shape"
   ]
  },
  {
   "cell_type": "code",
   "execution_count": 6,
   "id": "a2e7381b-74ec-45be-b3b2-72bf23564fcd",
   "metadata": {},
   "outputs": [
    {
     "data": {
      "text/plain": [
       "((97345, 768), (1215851, 768))"
      ]
     },
     "execution_count": 6,
     "metadata": {},
     "output_type": "execute_result"
    }
   ],
   "source": [
    "qe = np.stack(q.embeddings.values)\n",
    "pe = np.stack(p.embeddings.values)\n",
    "qe.shape, pe.shape"
   ]
  },
  {
   "cell_type": "code",
   "execution_count": 8,
   "id": "40e27f77-d5d5-4c05-bd0a-88157e418cf3",
   "metadata": {},
   "outputs": [],
   "source": [
    "def get_dotp_closests_idxs(q_embedding,p_embeddings_matrix, topk=40):\n",
    "    return np.argsort( p_embeddings_matrix.dot(q_embedding) )[-topk:][::-1]\n"
   ]
  },
  {
   "cell_type": "markdown",
   "id": "0f39da0f-0172-4fb0-8aec-852db8a654a1",
   "metadata": {},
   "source": [
    "## select random query"
   ]
  },
  {
   "cell_type": "code",
   "execution_count": 82,
   "id": "b7f7900f-3b12-4619-bf4d-ce03e84359e6",
   "metadata": {},
   "outputs": [
    {
     "data": {
      "text/plain": [
       "query                                        case for galaxy s8\n",
       "embeddings    [0.003485163, -0.032386877, -0.016055238, -0.0...\n",
       "Name: 23535, dtype: object"
      ]
     },
     "execution_count": 82,
     "metadata": {},
     "output_type": "execute_result"
    }
   ],
   "source": [
    "qid = np.random.choice(q.index)\n",
    "q.loc[qid]"
   ]
  },
  {
   "cell_type": "code",
   "execution_count": 83,
   "id": "b0fc2477-1896-42a2-964f-afd18c92ee5c",
   "metadata": {},
   "outputs": [],
   "source": [
    "qgt = dgt[dgt.query_id == qid].copy()\n",
    "qgt['dotp_distance'] = np.stack(p.loc[qgt.product_id].embeddings).dot(q.loc[qid].embeddings)"
   ]
  },
  {
   "cell_type": "code",
   "execution_count": 84,
   "id": "1072c3e0-7186-422b-b67e-6053a57fa406",
   "metadata": {},
   "outputs": [
    {
     "data": {
      "text/plain": [
       "<matplotlib.collections.PathCollection at 0x7fa1979fb410>"
      ]
     },
     "execution_count": 84,
     "metadata": {},
     "output_type": "execute_result"
    },
    {
     "data": {
      "image/png": "[encoded data removed]",
      "text/plain": [
       "<Figure size 640x480 with 1 Axes>"
      ]
     },
     "metadata": {},
     "output_type": "display_data"
    }
   ],
   "source": [
    "plt.scatter(qgt.relevance, qgt.dotp_distance)"
   ]
  },
  {
   "cell_type": "markdown",
   "id": "ffcb6c85-efa8-4167-97d2-77070a0c7445",
   "metadata": {},
   "source": [
    "## get closest product embeddings"
   ]
  },
  {
   "cell_type": "code",
   "execution_count": 85,
   "id": "1bad9f0a-1c3e-4c79-81c5-19a3b2ccbaf0",
   "metadata": {},
   "outputs": [],
   "source": [
    "p_relevant = p.iloc[get_dotp_closests_idxs(q.loc[qid].embeddings, pe)].copy()\n",
    "p_relevant['dotp_similarity'] = np.stack(p_relevant.embeddings).dot(q.loc[qid].embeddings)"
   ]
  },
  {
   "cell_type": "code",
   "execution_count": 86,
   "id": "824101ff-da79-49ed-9933-2e4cd5bee3c0",
   "metadata": {},
   "outputs": [
    {
     "data": {
      "text/plain": [
       "'B07TZGTFVF'"
      ]
     },
     "execution_count": 86,
     "metadata": {},
     "output_type": "execute_result"
    }
   ],
   "source": [
    "pi.name"
   ]
  },
  {
   "cell_type": "code",
   "execution_count": 87,
   "id": "a2e4a0e1-4fe5-427d-91ee-fde8df0ab42a",
   "metadata": {},
   "outputs": [
    {
     "data": {
      "text/plain": [
       "False"
      ]
     },
     "execution_count": 87,
     "metadata": {},
     "output_type": "execute_result"
    }
   ],
   "source": [
    "'B00SGBM92C' in qgt.product_id.values"
   ]
  },
  {
   "cell_type": "code",
   "execution_count": 88,
   "id": "fde87641-cbfd-470f-9c55-e48c8869e635",
   "metadata": {},
   "outputs": [
    {
     "name": "stdout",
     "output_type": "stream",
     "text": [
      "query: case for galaxy s8\n",
      "\n",
      "------ text embeddings ranking (* indicates it is ground truth relevant)\n",
      " 0 B071YCHP8P   0.7662 BodyGuardz - Shock Case for Samsung Galaxy S8, TPU Ca\n",
      " 1 B07LD21GPH   0.7504 Hocase Galaxy S8 Case, Heavy Duty Protection Shock Ab\n",
      " 2 B072LLQWGF   0.7466 S8 Case, Galaxy S8 Case, iYCK Premium PU Leather Embo\n",
      " 3 B06XCT3FYJ * 0.7461 OTTERBOX Commuter Series for Samsung Galaxy S8 - Frus\n",
      " 4 B07792648P   0.7432 SUPCASE Full-Body Rugged Holster Case for Samsung Gal\n",
      " 5 B06XCSC1F4   0.7424 Otterbox Commuter Series for Samsung Galaxy s8 - Reta\n",
      " 6 B07DPDMVH6   0.7421 Hocase Galaxy S8 Case, Heavy Duty Shockproof Protecti\n",
      " 7 B071YCQ32X   0.7421 BodyGuardz Shock Case For Samsung Galaxy S8+ (ONLY) -\n",
      " 8 B06XY789RP   0.7419 ProCase Galaxy S8 Wallet Case, Flip Kickstand Case wi\n",
      " 9 B07W765C93   0.7415 Samsung Galaxy S8 Case,Samsung Galaxy S8 Wallet Case \n",
      "10 B06XD3W3WK   0.7413 OTTERBOX COMMUTER SERIES for Samsung Galaxy S8 - Frus\n",
      "11 B07QST39D8   0.7391 JETech Shockproof Case for Samsung Galaxy S8 (NOT for\n",
      "12 B06X9B5YRS   0.7391 Speck Products (90210-C085) CandyShell Cell Phone Cas\n",
      "13 B06XD1CYY2   0.7384 OTTERBOX COMMUTER SERIES for Samsung Galaxy S8 - Frus\n",
      "14 B0844QHRKH   0.7381 OtterBox Defender Series Case for Samsung Galaxy S8 (\n",
      "15 B076CQMJ5Z   0.7372 Magpul Cell Phone Case for Galaxy S8 Mobile Phones</T\n",
      "16 B08HKDKG92   0.7371 BENTOBEN Samsung Galaxy S8 Case, Slim Fit Glow in The\n",
      "17 B07796Q91N * 0.7370 SUPCASE Unicorn Beetle PRO Series Phone Case for Sams\n",
      "18 B06XCJM836   0.7367 OTTERBOX COMMUTER SERIES for Samsung Galaxy S8 - Frus\n",
      "19 B07794PFJ7   0.7365 SUPCASE Unicorn Beetle PRO Series Phone Case for Sams\n",
      "20 B073V59QX2   0.7362 Galaxy S8 Case, Crystal Clear Case with Design Rose F\n",
      "21 B0727WXWK4   0.7359 OCYCLONE Galaxy S8 Case, Glitter Luxury Cute Phone Ca\n",
      "22 B099MJ29DS   0.7350 DOMAVER for Samsung Galaxy S8 Case 360° Ring Holder K\n",
      "23 B07DJN6WD7   0.7349 Galaxy S8 Case for Girls Women Clear with Flowers Des\n",
      "24 B096RWMBZD   0.7346 CEUTUE for Samsung Galaxy S8 Phone Case, Cute Glitter\n",
      "25 B075394P5L   0.7344 Galaxy S8 Case, 3 in 1 Hybrid Hard Plastic Case Ultra\n",
      "26 B076DD8B4T   0.7344 OCYCLONE Galaxy S8 Case, Glitter Luxury Cute Phone Ca\n",
      "27 B07R4H7ZL7   0.7343 Galaxy S8 Case, Fingic Samsung Galaxy S8 Case 3 in 1 \n",
      "28 B07795YCMN   0.7339 SUPCASE Unicorn Beetle PRO Series Phone Case for Sams\n",
      "29 B07BFWGNMD   0.7338 Galaxy S8 Samsung Galaxy S8 case ISADENSER Wallet Cas\n",
      "30 B06XCZYXKK   0.7329 OtterBox STRADA SERIES for Samsung Galaxy S8 - Retail\n",
      "31 B07YDXLL5F   0.7327 Kitoo Designed for Samsung Galaxy S8 Case with Kickst\n",
      "32 B07H3595H4 * 0.7327 Samsung Galaxy S8 Case, Pakoyi Full Body Bumper Case \n",
      "33 B0779XLJBT   0.7324 WeLoveCase Galaxy S8 Wallet Case Defender Wallet Desi\n",
      "34 B0838XHGTL   0.7322 OtterBox Commuter Series Case for Samsung Galaxy S8 (\n",
      "35 B06XGYNKDL   0.7312 SUPCASE Unicorn Beetle Pro Series Case Designed for G\n",
      "36 B07KDWYZSQ   0.7300 Vaburs S8 Case Wallet with Card Holder, Premium PU Le\n",
      "37 B07Y75ZCKR   0.7300 VIVIBIN Samsung Galaxy S8 Plus Case,Oyster Green Shel\n",
      "38 B07WLXWVYY   0.7293 Galaxy S8 Case Ultra Crystal Clear with Cute Cat Desi\n",
      "39 B06X9DG1BF   0.7289 Speck Products (90211-B994) CandyShell Grip Cell Phon\n",
      "\n",
      "------ ground truth relevant\n",
      "B06XCT3FYJ 0.7461 OTTERBOX Commuter Series for Samsung Galaxy S8 - Frustration\n",
      "B07796Q91N 0.7370 SUPCASE Unicorn Beetle PRO Series Phone Case for Samsung Gal\n",
      "B07H3595H4 0.7327 Samsung Galaxy S8 Case, Pakoyi Full Body Bumper Case Built-i\n",
      "B06XDYV3CQ 0.7225 OTTERBOX SYMMETRY SERIES for Samsung Galaxy S8 - Retail Pack\n",
      "B07YD7BJQ4 0.7210 Samsung S8 Case,Galaxy S8 Case,Casewind Samsung Galaxy S8 Ca\n",
      "B00Z7TCISG 0.7204 OTTERBOX DEFENDER SERIES SCREENLESS EDITION for Samsung Gala\n",
      "B06XPQVDMH 0.7202 JETech Slim Fit Case Compatible with Samsung Galaxy S8 (NOT \n",
      "B06XXFKN4T 0.7195 Samsung Galaxy S8 Case, Zizo [Bolt Series] w/ [Galaxy S8 Scr\n",
      "B06Y2599HG 0.7150 PIXIU Compatible with Samsung Galaxy S8 case, Shockproof Hyb\n",
      "B06XP74MYV 0.7135 Spigen Tough Armor Designed for Samsung Galaxy S8 Case (2017\n"
     ]
    }
   ],
   "source": [
    "print (f'query: {q.loc[qid].query}')\n",
    "print ('\\n------ text embeddings ranking (* indicates it is ground truth relevant)')\n",
    "for i in range(len(p_relevant)):\n",
    "    pi = p_relevant.iloc[i]\n",
    "    print (f\"{i:2d} {pi.name:10s} {'*' if pi.name in qgt.product_id.values else ' '} {pi.dotp_similarity:.4f} {pi['product'][:60].replace('\\n',' ')\\\n",
    "                                                                                                           .replace('<TITLE>','')\\\n",
    "                                                                                                           .replace('</TITLE>','')}\")\n",
    "print ('\\n------ ground truth relevant')\n",
    "for _, gi in qgt[qgt.relevance==4].sort_values(by='dotp_distance', ascending=False).iloc[:10].iterrows():\n",
    "    print (f'{gi.product_id} {gi.dotp_distance:.4f} {gi.product_title[:60]}')\n",
    "    \n"
   ]
  },
  {
   "cell_type": "markdown",
   "id": "8be86ddb-d75d-4141-ad79-c2c920c74124",
   "metadata": {},
   "source": [
    "## show details of the top 3"
   ]
  },
  {
   "cell_type": "code",
   "execution_count": 20,
   "id": "c7784f20-eb37-4c1c-bc9b-4e69805016c0",
   "metadata": {},
   "outputs": [
    {
     "name": "stdout",
     "output_type": "stream",
     "text": [
      "query: gravacion laser\n"
     ]
    }
   ],
   "source": [
    "print ('query:', q.loc[qid].query)"
   ]
  },
  {
   "cell_type": "code",
   "execution_count": 25,
   "id": "c01a83cf-2cc7-4ced-8961-bddffcf02930",
   "metadata": {},
   "outputs": [
    {
     "name": "stdout",
     "output_type": "stream",
     "text": [
      "top 1 : B0012M9HOA\n",
      "<TITLE>Laser 2459 - Llave inglesa (100 mm)</TITLE>\n",
      "<BULLETS>Marca láser</BULLETS>\n",
      "<BRAND>Laser</BRAND>\n",
      "---------\n",
      "top 2 : B08TC354DX\n",
      "<TITLE>Máquina de grabado láser de 1,6 W con soporte de enfoque automático, cortadora láser láser láser láser con funda plegable y soporte eléctrico automático</TITLE>\n",
      "<DESCRIPTION><p>Especificaciones: </p><p>Tamaño base: 65 x 61 x 53 mm. </p><p>Tamaño del traje: 23 x 19 x 18,5 cm. </p><p>Peso: 190 g. </p><p>Peso del paquete: 2,4 kg. </p><p>Fuente de láser: 1500 MW 405 nm. Láser azul-violetter </p><p>Salida láser: 100 niveles ajustables. </p><p>Material: aluminio anodizado. </p><p>Color: gris. </p><p>Conexión de la aplicación: Bluetooth. </p><p>Formatos de archivo compatibles: JPG / BMP / PNG / G-Code </p><p>Compatible: iOS 10.0 + / Android 4.4 + </p><p>Windows 7/8/10/Vista / XP, Mac OS-10.10/11/12/13/14. </p><p>Conector de comunicación: Tipo C (5 V, 2 A) </p><p>Rango de temperatura de funcionamiento en Celsius: 0 65 – 65 ℃. </p><p>Rango de humedad: 5% a 80% (sin condensación). </p><p>Software: APP </p><p>Potencia láser: 1600 mW </p><p>Vida útil: 10000 horas. </p><p>Cabezal láser puede reemplazar: sí. </p><p>Certificación: CE, FCC, FDA, RoHS, CDRH, IEC 60825-1 (laserklasse 1), IEC 60825-1 (laserklasse 4) </p></DESCRIPTION>\n",
      "<BULLETS>Máquina de grabado mejorada: la máquina de grabado láser Taotuo está equipada con un soporte de enfoque automático, que ajusta automáticamente la distancia láser en cuestión de segundos, no es necesario ajustar el enfoque manualmente. 405 nm azul y púrpura láser, 0,1 mm de alta precisión. Es más ligera que la máquina de grabado tradicional, solo 190 g y el volumen es aproximadamente la mitad de la que una lata de cola. Es fácil de transportar y se puede grabar en cualquier momento\n",
      "☆【 ღ Protección múltiple, más seguro】La máquina de grabado láser LaserPecker tiene la función de control de movimiento y está equipada con un sensor G sensible. Si se produce un movimiento accidental durante el uso, los trabajos para proteger la seguridad se exponen inmediatamente. Ahora cuenta con varias funciones de seguridad como gafas de seguridad, bloqueo de contraseña, detección de movimiento, indicador láser y apagado en caso de sobrecalentamiento.\n",
      "☆【Ampliamente extendida】La máquina de grabado láser Pecker puede ser cartón, tela, fieltro, cuero, madera, acrílico no transparente, madera, bambú, papel, plástico, cuero, goma, esponja, peine, cartera u otros plásticos inflamables, etc. (materiales que no se pueden grabar: metal, piedra, joyas, plata). Material reflectante, material transparente, se recomienda pintar negro antes de tallar con un lápiz.\n",
      "Fácil de usar: pasos fáciles y seguros para principiantes: 1. Inserta el soporte y enciende la máquina de grabado. 2. Conecte la bandeja de grabado láser a la aplicación y luego elija un patrón en la aplicación o descargue su foto favorita para crear su propio diseño. 3. Empieza a tallar. LaserPecker - Máquina de grabado láser con aplicación de 5 modos: impresión, código G, blanco y negro, niveles de gris y sello.\n",
      "☆【 ღ Servicio postventa de alta calidad 】La fuente de alimentación es de 5 V 2 A (ordenador, batería externa, cargador USB) para el funcionamiento de la fuente de alimentación. Estamos abiertos 1 año de garantía si tienes alguna pregunta sobre el uso de la máquina de grabado láser, por favor, no dudes en contactarlo y te volverlo a ti durante 24 horas. El paquete incluye: 1 grabado; 1 soporte de enfoque automático; 1 cable tipo C; 1 cargador; 1 gafas; 1 trípode; 1 regla; 1 manua</BULLETS>\n",
      "<BRAND>Taotuo</BRAND>\n",
      "<COLOR>Máquina de Grabado de Lujo</COLOR>\n",
      "---------\n",
      "top 3 : B08K3GSH5P\n",
      "<TITLE>LaserPecker Pro de grabado láser portátil, máquina grabadora láser compacta con gafas protectoras, impresora láser cortador para bricolaje-Suit</TITLE>\n",
      "<DESCRIPTION><p>Esta mini máquina de grabado láser de escritorio es ideal para el uso de grabado láser amateur.</p> <p></p> <p>Tu idea, en tus manos, en minutos. Solo presiona el botón para crear regalos significativos para tus amigos, productos únicos para vender o algo personalizado solo para ti.</p> <p></p> <p>Perfecto para decorar, grabar o personalizar sus pequeñas y encantadoras pertenencias.</p> <p><br></p> <p></p> <p><b>Producto:</b></p> <p>Peso del artículo: 190G</p> <p></p> <p>Tamaño del paquete: 65 * 61 * 53 mm</p> <p></p> <p>Peso del paquete: 0.9 KG</p> <p></p> <p>Fuente láser: 450 nm bluelightlaser</p> <p></p> <p>Salida láser: 100 niveles ajustables</p> <p></p> <p>Material: aluminio anodizado</p> <p></p> <p>Color: rojo, negro, dorado, verde</p> <p></p> <p>Conexión de la aplicación: Bluetooth</p> <p></p> <p>Formatos de archivo compatibles: JPG / BMP / / PNG / G-code</p> <p></p> <p>Compatible: IOS 9.0+ / Android 5.0+</p> <p></p> <p>No es compatible con Windows-7/8/10 / Vista / XP, Mac OS-10.10 / 11/12/13/14</p> <p></p> <p>Puerto de comunicación: Tipo C (5v, 2A)</p> <p></p> <p>Rango de temperatura de funcionamiento Celsius: 0 ℃ - 65 ℃</p> <p></p> <p>Rango de humedad de funcionamiento: 5% a 80% (sin condensación)</p> <p></p> <p>Software: APLICACIÓN</p> <p></p> <p>Potencia del láser: 1,6 mW</p> <p></p> <p>Estimación de vida útil: 10000 horas</p> <p></p> <p>El cabezal láser puede reemplazar: Sí</p> <p></p> <p>Certificación: CE, FCC, FDA, RoHS, CDRH, IEC 60825-1 (clase de láser 1), IEC 60825-1 (clase de láser 4)</p> <p><br></p> <p></p> <p><b>Lista de paquetes:</b></p> <p></p> <p>1 * máquina de grabado láser</p> <p></p> <p>1 * gafas protectoras</p> <p></p> <p>1 * cable tipo C</p> <p></p> <p>1 * trípode</p> <p></p> <p>1 * adaptador</p> <p></p> <p>1 * Manual de usuario (inglés)</p></DESCRIPTION>\n",
      "<BULLETS>【Preciso y enfoque automático】: actualizado con soporte de enfoque automático que ajusta automáticamente la distancia del láser en segundos. El láser azul-violeta de 405 nm y el punto de alta precisión de 0,01 mm crean detalles dobles más que cualquier otro grabador láser azul normal. Viene con varias características de seguridad que incluyen gafas, bloqueo de contraseña, detección de movimiento, indicador láser y apagado por sobrecalentamiento.\n",
      "【Compacto y portátil】 - 6.7oz, 2.56 '' × 2.4 '' × 2.09 '' (L × W × H), este pequeño dispositivo cabe perfectamente en la palma de su mano y en la bolsa de la mochila, por sí mismo puede ser móvil a través de USB desde cualquier 5V Fuente de alimentación 2A, como banco de energía. Láser tus ideas y diviértete en cualquier momento y lugar.\n",
      "【Plug & play】 -Simplemente inicie la aplicación LaserPecker y conéctese con Bluetooth, puede crear grabados de hasta 3.9''x 3.9 '' (WxH) cargando una imagen, escribiendo texto o importando un archivo de código G. Ideal para grabar etiquetas y decoraciones en cosas como carteras, cuadernos, fundas de teléfonos, etc., en lugar de proyectos de grabado a gran escala\n",
      "【Funcional y práctico】: LaserPecker puede grabar cartón, tela, fieltro, cuero, madera, acrílico no transparente, bolsillos de pita, etc. Práctico bricolaje en casa o en el taller. Sin embargo, los metales, la piedra y los materiales reflectantes no están disponibles, baje la página y consulte más detalles.\n",
      "【Calidad y garantía】 -Dentro de 7 días de tiempo de envío. Se ha realizado la fuente láser con al menos 10000 h de tiempo de servicio y un control de calidad del 100%. Su compra está respaldada por una política de garantía de 24 meses. Comprenda bien antes de usarlo y contáctenos si tiene alguna pregunta o problema. El paquete incluye: 1 * Grabador; 1 * soporte de enfoque automático; 1 * cable tipo C; 1 * cargador; 1 * Gafas, 1 * Trípode, 1 * Regla, 1 * Manual de usuario.</BULLETS>\n",
      "<BRAND>LaserPecker</BRAND>\n",
      "---------\n"
     ]
    }
   ],
   "source": [
    "for i in range(3):\n",
    "    pi = p_relevant.iloc[i]\n",
    "    print ('top', i+1, ':', pi.name)\n",
    "    print (pi['product'])\n",
    "    print ('---------')\n",
    "    "
   ]
  },
  {
   "cell_type": "markdown",
   "id": "63781ad6-4cb0-4919-bdac-ad74b213a1a7",
   "metadata": {},
   "source": [
    "## show details of the bottom 3"
   ]
  },
  {
   "cell_type": "code",
   "execution_count": 26,
   "id": "238d88a3-bb70-4b96-a557-defc7faa770a",
   "metadata": {},
   "outputs": [
    {
     "name": "stdout",
     "output_type": "stream",
     "text": [
      "bottom -3 : B09G9C3BV2\n",
      "<TITLE>Máquina de grabado láser, cortadora láser función de enfoque de diseño de protección para los ojos, grabadora láser DIY CNC para metal, madera, cuero, vinilo (A5 Pro 40W)</TITLE>\n",
      "<DESCRIPTION><p>Especificaciones: </p><p>Modelo: ATOMSTACK A5 PRO 40W. </p><p>Tamaño: 410 x 400 mm. </p><p>Material de tallado: madera, bambú, cartón, plástico, cuero, placa de circuito, óxido de aluminio, revestimiento antirreflectante y metal lacado, cuchillo universal ennegrecido. </p><p>Material de corte: cartón, fieltro, chapa, acrílico, algunas placas de plástico delgadas. </p><p>Potencia del láser: 40 W. </p><p>Potencia óptica del láser: 5-5,5 W. </p><p>Longitud de onda láser: 455 ± 5 nm. </p><p>Precisión de grabado: 0,01 mm. </p><p>Método de enfoque: láser de enfoque fijo, enfoque libre. </p><p>Software operativo: LaserGRBL, LightBurn, compatible con Win XP / Win 7 / Win 8 / XP / Win 10. </p><p>Formatos de archivo compatibles: NC, BMP, JPG, PNG, DXF </p><p>Método de transferencia de datos: conexión USB. </p><p>Fuente de alimentación: entrada de corriente estándar internacional: 100-240 V CA, 50/60 Hz. Salida: 12 V, 5 A. </p><p>Peso neto del equipo: 3426 kg. </p><p>Peso del paquete: 5,072 kg. </p><p>Tamaño: 570 x 600 x 270 mm. </p><p>Tamaño del paquete: 620 x 345 x 130 mm. </p><p><br></p><p>Incluye: </p><p>Grupo de construcción de ejes X. </p><p>Perfil de 57 cm y 48 cm. </p><p>Caja de control. </p><p>Patas de apoyo. </p><p>Gafas láser. </p><p>Láser. </p><p>Placas acrílicas. </p><p>Accesorios necesarios. </p></DESCRIPTION>\n",
      "<BULLETS>Instalación muy precisa y práctica: la máquina de grabado láser CNC con cabezal láser de 40 W de alto rendimiento. Se puede grabar o cortar. Toda la estructura de metal está diseñada para un montaje rápido y la instalación se puede completar en 10-20 minutos.\n",
      "Innovador diseño de protección ocular: el grabado láser con cubierta protectora protege tus ojos perfectamente mientras grabas, filtra la luz UV en un 97%. Durante la función de grabado láser, no necesitas llevar gafas de protección.\n",
      "Eje de línea de escala preciso: en el eje X y Y hay líneas de escala precisas para facilitar la medición de la longitud. El gran intervalo de grabado de 410 x 400 mm puede satisfacer tus diferentes requisitos de grabado. Esta máquina de grabado láser A5 Pro puede combinar tanto el grabado de precisión como el corte de alta energía al mismo tiempo. La potencia del láser de enfoque fijo es más estable que la del láser con zoom.\n",
      "Ampliamente utilizado: este grabador de corte láser A5 Pro de 40 W puede satisfacer tus necesidades diarias. Adecuado para materiales como papel, bambú, madera, plástico, placas de cuero, óxido de aluminio, metal pintado, etc.\n",
      "Amplia compatibilidad: el grabador láser puede ser compatible con varios programas de grabado maduros como Laser GRBL, LightBurn, soporta Win XP/Win 7/Win 8/XP/Win 10 y también admite el sistema Mac (LightBurn), el formato de archivo de grabado es compatible con NC, BMP, JPG, PNG, DXF, etc.</BULLETS>\n",
      "<BRAND>Victool</BRAND>\n",
      "<COLOR>Plata</COLOR>\n",
      "---------\n",
      "bottom -2 : B089MCVZV4\n",
      "<TITLE>NEJE Master-2s 7 W Máquina de grabado láser portátil para escritorio, impresora láser para marcar láser para un grabado rápido y fácil corte, potencia de salida de 2,5 W</TITLE>\n",
      "<DESCRIPTION>🌻Nota (por favor, tenga en cuenta): 🌻 <br><br>Ofrecemos 2 años de garantía y un servicio al cliente de por vida. Si tu módulo láser tiene problemas, no lo desmonte sin nuestro permiso. Se destruirá el módulo láser. Si tiene alguna pregunta sobre esta máquina de grabado, por favor, póngase en contacto con nosotros, le responderemos dentro de las 24 horas. Gracias. <br><br>Especificaciones generales: <br>Modelo: NEJE Master 2 7 W. <br>Potencia óptica: 450 nm 2,5 W. <br>Placa de control: 2 MCU + control remoto + MEMS <br>Satety Protection: MEMS <br>Píxeles: 2266 x 2266 px. <br>Distancia de punto: 0,075 mm. <br>Software: NEJE APP para Android, NEJE Wireless App para iOS/MacOS, software NEJE para Windows, LaserGRBL con firmware GRBL1.1f. <br>Servicio de actualización de software NEJE: sí. <br>NEJE Cloud Gallery: sí. <br>Función de escáner: sí. <br>Material del marco: panel de compuestos de corte CNC, aleación de aluminio, acrílico. <br>Se puede grabar: MDF, balsa, papel, madera, tela, plástico, cuero, contrachapado, papel de espuma, aluminio anodizado. <br>No se puede grabar: metal, cristal, piedra, cerámica, PCB, acero inoxidable, material reflectante, material transparente. <br>Continuar trabajando: ilimitado. <br>Longitud de onda: 450 nm. <br>Forma del haz: punto (enfocable). <br>Unidad de disco: integrada. <br>Color luminoso: azul. <br>Voltaje de entrada: CA 100-240 V, 50/60 Hz. <br>Voltaje de salida: 12 V CC, 2 A. <br>Formato de imagen: .bmp \\ .jpg \\ .png \\ .nc \\ .dxf \\ etc.</DESCRIPTION>\n",
      "<BULLETS>Nueva versión de máquina de grabado láser: Master2s actualizada de 7 W con función de control inalámbrico y placa base de 32 bits. Grabado de alta velocidad (0,5 – 1,5 mm). Adecuado para marcar patrones y logotipos, así como para cortar bloques de madera con un grosor de 2,5 a 3 mm. Área de grabado: 150 x 150 mm en el controlador NEJE o 170 x 170 mm en el controlador GRBL.\n",
      "Los procesadores admiten 2 firmwares: Master 2 está equipado con 2 procesadores y puede soportar 2 firmware al mismo tiempo. Al arrancar el software, el dispositivo detecta automáticamente el software y establece una conexión. En modo NEJE, el software NEJE para Windows funciona con la aplicación NEJE ANDorid. Este modo es adecuado para principiantes y fácil y eficiente. Máquina de grabado láser profesional, kit de montaje para grabado láser Bluetooth\n",
      "Totalmente funcional y potente: la ejecución directa de archivos BMP, JPG, PNG y NEJE CLOUD ofrece miles de materiales y recursos de grabado para descargar y actualizar Tubo láser estándar de 450 nm. El segundo procesador Master 2s se actualiza a GRBL1.1f (no admite Benbox). Máquina de grabado láser sobre madera y cuero para grabado láser para piel Neje\n",
      "Diseño del interruptor final y del sensor de temperatura: la máquina de grabado se puede restablecer automáticamente. Función de memoria de punto de espera: puedes comprobar tu trabajo después de pausar y reiniciar el proceso en el que se detendrá. Con el software puedes ajustar la potencia del láser a tus propias necesidades. Cada láser ha sido sometido a una prueba de envejecimiento a largo plazo para garantizar que la disipación de calor se controla dentro de 70 grados Celsius.\n",
      "Función de protección: giroscopio integrado. Cuando la máquina de grabado láser está funcionando, el giroscopio integrado registra la posición de trabajo. En caso de contacto accidental o desplazamiento de la máquina, la máquina deja de funcionar automáticamente para evitar un accidente. Máquina de grabado láser láser de gravado de madera portátil</BULLETS>\n",
      "<BRAND>GOGOLUCK</BRAND>\n",
      "---------\n",
      "bottom -1 : B08R7DDPRX\n",
      "<TITLE>Orion Motor Tech 80W Máquina de Grabador Láser de CO2 600x1000mm Máquina de Grabador Láser con 2 Tubos Láser y 2 Cabezales Grabadora Láser Profesional con Software RDWorks (80W 600X1000mm)</TITLE>\n",
      "<DESCRIPTION><p><b> Descripción:</b></p> <p>Esta máquina de grabado láser de CO2 de class 1 de 80 W mantiene nuestros altos estándares actuales con su panel de control Ruida, que incluye RDWorks 8 y CorelLaser-Suite, la gran área de trabajo de 1000 x 600 mm.Para mejorar su eficiencia y flujo, esta máquina de corte y grabado láser utiliza dos tubos y cabezales láser industriales. Compatible con la mayoría de los programas gráficos de terceros, esta cortadora láser le permite convertir sus nuevas ideas en realidad a dos velocidades. </p> <p><b>Especifiaciones:</b></p> <p>Fuente de alimentación: 220 V / 50 Hz</p> <p>Potencia nominal: 80 W (máx. 115 W)</p> <p>Área de grabado: 60 x 100 cm</p> <p>Velocidad de grabado: 600 mm / s</p> <p>Profundidad de grabado: 0-20 mm (0-0,8 pulgadas)</p> <p>Relación de resolución: ≤ 4500 ppp</p> <p>Software incluido: RDWorks v8.0, CorelLaser</p> <p>Software compatible: CorelDRAW, AutoCAD, LightBurn (no incluido)</p> <p>Formato gráfico compatible: HPGL; BMP; GIF; JPG; JPEG; DXF; DST; AI; etc</p> <p>Sistema compatible Windows, Mac OS si utiliza el software LightBurn (no incluido)</p> <p>Interfaz de transferencia de datos USB a PC, Ethernet a PC</p> <p>Peso neto: 260 kg (573,2 libras)</p> <p>Certificaciones: CE, FDA</p> <p><b>La lista de paquete</b></p> <p>1 x Grabador láser</p> <p>1 x Cable de tierra</p> <p>1 x Cable USB</p> <p>1 x Cable Ethernet</p> <p>1 x Cable de alimentación</p> <p>1 x Bomba de agua</p> <p>1 x Cinta de doble cara</p> <p>1 x Tubo de escape</p> <p>2 x Mangueras de agua</p> <p>10 x Llaves hexagonales</p> <p>2 x Llaves</p> <p>1 x Abrazadera de acero inoxidable</p> <p>1 x Unidad flash USB (con software)</p> <p>1 x Caja de desechos</p> <p>1 x Bolsa de accesorios</p> <p>1 x Manual de instrucciones en inglés o en alemán</p></DESCRIPTION>\n",
      "<BULLETS>DOBLE EFICIENCIA: Esta máquina de grabado láser de CO2 viene con dos tubos láser de 80 W y dos cabezales láser para realizar doble velocidad. Para sus proyectos por lotes, esta operación simultánea es exactamente lo que está buscando, especialmente porque esta cortadora láser cubre el área de trabajo de 1000 x 600 mm y nuestras puertas de paso para piezas aún más grandes.\n",
      "CONTROL DIGITAL RUIDA: El panel de control Ruida de esta herramienta de corte láser ofrece funciones avanzadas que le permiten perfeccionar sus exigentes grabados. La práctica pantalla LCD ofrece un control total sobre el proceso de marcado láser.\n",
      "FUNCIONAMIENTO SENCILLO Y SEGURO: La protección mediante contraseña y clave evita el uso no autorizado. Un sensor asegura un apagado automático cuando se abre la cubierta protectora. Un actuador de aire incorporado elimina el humo, el polvo y las chispas. Se quita un contenedor de gran capacidad y recoge rápidamente la suciedad mientras trabaja.\n",
      "SOFTWARE INCLUIDO: Esta máquina de grabado láser viene con RDWorks v8 y CorelLaser para que pueda comenzar; También puede recibir archivos de imagen a través de Ethernet o USB de otros programas para comenzar inmediatamente a esculpir sus proyectos en madera, cuero, plástico, caucho y más.\n",
      "APLICACIÓN AMPLIA: La máquina puede procesar los siguientes materiales: madera, caucho, acrílico, delrin, tela, cuero, papel, fibra de vidrio, plexiglás, azulejos, plástico, mármol, cartón, melamina, mylar, aglomerado, madera contrachapada, corcho, corian etc. ¡NO talle ni corte metal!</BULLETS>\n",
      "<BRAND>Orion Motor Tech</BRAND>\n",
      "---------\n"
     ]
    }
   ],
   "source": [
    "for i in [-3,-2,-1]:\n",
    "    pi = p_relevant.iloc[i]\n",
    "    print ('bottom', i, ':', pi.name)\n",
    "    print (pi['product'])\n",
    "    print ('---------')\n",
    "    "
   ]
  },
  {
   "cell_type": "code",
   "execution_count": null,
   "id": "a64854de-cc44-45f8-84c9-023293349c81",
   "metadata": {},
   "outputs": [],
   "source": []
  }
 ],
 "metadata": {
  "kernelspec": {
   "display_name": "p312",
   "language": "python",
   "name": "p312"
  },
  "language_info": {
   "codemirror_mode": {
    "name": "ipython",
    "version": 3
   },
   "file_extension": ".py",
   "mimetype": "text/x-python",
   "name": "python",
   "nbconvert_exporter": "python",
   "pygments_lexer": "ipython3",
   "version": "3.12.7"
  }
 },
 "nbformat": 4,
 "nbformat_minor": 5
}
