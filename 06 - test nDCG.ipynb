{
 "cells": [
  {
   "cell_type": "code",
   "execution_count": 1,
   "id": "c8eb692b-010f-42a7-b915-8ff82c6bfe6b",
   "metadata": {},
   "outputs": [],
   "source": [
    "import utils\n",
    "import pandas as pd\n",
    "from tqdm import tqdm\n",
    "import numpy as np"
   ]
  },
  {
   "cell_type": "markdown",
   "id": "12686510-ecde-407b-9941-6dec8b4cec28",
   "metadata": {},
   "source": [
    "## according to [Wikipedia nDCG](https://en.wikipedia.org/wiki/Discounted_cumulative_gain) and  [this blog](https://medium.com/data-science/demystifying-ndcg-bee3be58cfe0)\n",
    "\n",
    "\n",
    "$$nDCG = \\frac{\\sum_{m \\in \\texttt{model\\_ranking}} \\frac{relevance_m}{\\log (m+1)}}{\\sum_{i \\in \\texttt{ideal\\_ranking}} \\frac{relevance_i}{\\log (i+1)}}$$\n"
   ]
  },
  {
   "cell_type": "code",
   "execution_count": 2,
   "id": "01c4910f-3bd9-48f4-8917-b1a94d6b12d9",
   "metadata": {},
   "outputs": [
    {
     "data": {
      "text/html": [
       "<div>\n",
       "<style scoped>\n",
       "    .dataframe tbody tr th:only-of-type {\n",
       "        vertical-align: middle;\n",
       "    }\n",
       "\n",
       "    .dataframe tbody tr th {\n",
       "        vertical-align: top;\n",
       "    }\n",
       "\n",
       "    .dataframe thead th {\n",
       "        text-align: right;\n",
       "    }\n",
       "</style>\n",
       "<table border=\"1\" class=\"dataframe\">\n",
       "  <thead>\n",
       "    <tr style=\"text-align: right;\">\n",
       "      <th></th>\n",
       "      <th>query_id</th>\n",
       "      <th>product_id</th>\n",
       "      <th>model_rank</th>\n",
       "      <th>relevance</th>\n",
       "    </tr>\n",
       "  </thead>\n",
       "  <tbody>\n",
       "    <tr>\n",
       "      <th>0</th>\n",
       "      <td>3</td>\n",
       "      <td>B008U89G36</td>\n",
       "      <td>1</td>\n",
       "      <td>0.0</td>\n",
       "    </tr>\n",
       "    <tr>\n",
       "      <th>1</th>\n",
       "      <td>3</td>\n",
       "      <td>B074CMNY95</td>\n",
       "      <td>2</td>\n",
       "      <td>0.0</td>\n",
       "    </tr>\n",
       "    <tr>\n",
       "      <th>2</th>\n",
       "      <td>3</td>\n",
       "      <td>B06X3RF36L</td>\n",
       "      <td>3</td>\n",
       "      <td>0.0</td>\n",
       "    </tr>\n",
       "    <tr>\n",
       "      <th>3</th>\n",
       "      <td>3</td>\n",
       "      <td>B07LFH3ML5</td>\n",
       "      <td>4</td>\n",
       "      <td>0.0</td>\n",
       "    </tr>\n",
       "    <tr>\n",
       "      <th>4</th>\n",
       "      <td>3</td>\n",
       "      <td>B081B99MF4</td>\n",
       "      <td>5</td>\n",
       "      <td>0.0</td>\n",
       "    </tr>\n",
       "    <tr>\n",
       "      <th>...</th>\n",
       "      <td>...</td>\n",
       "      <td>...</td>\n",
       "      <td>...</td>\n",
       "      <td>...</td>\n",
       "    </tr>\n",
       "    <tr>\n",
       "      <th>607195</th>\n",
       "      <td>115947</td>\n",
       "      <td>B008MXC73A</td>\n",
       "      <td>36</td>\n",
       "      <td>0.0</td>\n",
       "    </tr>\n",
       "    <tr>\n",
       "      <th>607196</th>\n",
       "      <td>115947</td>\n",
       "      <td>B07VSH8KRX</td>\n",
       "      <td>37</td>\n",
       "      <td>0.0</td>\n",
       "    </tr>\n",
       "    <tr>\n",
       "      <th>607197</th>\n",
       "      <td>115947</td>\n",
       "      <td>B07C8JJDRT</td>\n",
       "      <td>38</td>\n",
       "      <td>0.0</td>\n",
       "    </tr>\n",
       "    <tr>\n",
       "      <th>607198</th>\n",
       "      <td>115947</td>\n",
       "      <td>B07F9WJ7QM</td>\n",
       "      <td>39</td>\n",
       "      <td>0.0</td>\n",
       "    </tr>\n",
       "    <tr>\n",
       "      <th>607199</th>\n",
       "      <td>115947</td>\n",
       "      <td>B00DH76CL4</td>\n",
       "      <td>40</td>\n",
       "      <td>0.0</td>\n",
       "    </tr>\n",
       "  </tbody>\n",
       "</table>\n",
       "<p>607200 rows × 4 columns</p>\n",
       "</div>"
      ],
      "text/plain": [
       "        query_id  product_id  model_rank  relevance\n",
       "0              3  B008U89G36           1        0.0\n",
       "1              3  B074CMNY95           2        0.0\n",
       "2              3  B06X3RF36L           3        0.0\n",
       "3              3  B07LFH3ML5           4        0.0\n",
       "4              3  B081B99MF4           5        0.0\n",
       "...          ...         ...         ...        ...\n",
       "607195    115947  B008MXC73A          36        0.0\n",
       "607196    115947  B07VSH8KRX          37        0.0\n",
       "607197    115947  B07C8JJDRT          38        0.0\n",
       "607198    115947  B07F9WJ7QM          39        0.0\n",
       "607199    115947  B00DH76CL4          40        0.0\n",
       "\n",
       "[607200 rows x 4 columns]"
      ]
     },
     "execution_count": 2,
     "metadata": {},
     "output_type": "execute_result"
    }
   ],
   "source": [
    "r = pd.read_parquet('text-004/esci-es-ranking_with_relevance.parquet')\n",
    "r"
   ]
  },
  {
   "cell_type": "code",
   "execution_count": 12,
   "id": "61abae29-5ed3-4abb-b197-d57db9ad4884",
   "metadata": {},
   "outputs": [
    {
     "data": {
      "text/html": [
       "<div>\n",
       "<style scoped>\n",
       "    .dataframe tbody tr th:only-of-type {\n",
       "        vertical-align: middle;\n",
       "    }\n",
       "\n",
       "    .dataframe tbody tr th {\n",
       "        vertical-align: top;\n",
       "    }\n",
       "\n",
       "    .dataframe thead th {\n",
       "        text-align: right;\n",
       "    }\n",
       "</style>\n",
       "<table border=\"1\" class=\"dataframe\">\n",
       "  <thead>\n",
       "    <tr style=\"text-align: right;\">\n",
       "      <th></th>\n",
       "      <th>query_id</th>\n",
       "      <th>product_id</th>\n",
       "      <th>model_rank</th>\n",
       "      <th>relevance</th>\n",
       "    </tr>\n",
       "  </thead>\n",
       "  <tbody>\n",
       "    <tr>\n",
       "      <th>0</th>\n",
       "      <td>1</td>\n",
       "      <td>1</td>\n",
       "      <td>1</td>\n",
       "      <td>0.0</td>\n",
       "    </tr>\n",
       "    <tr>\n",
       "      <th>1</th>\n",
       "      <td>1</td>\n",
       "      <td>2</td>\n",
       "      <td>2</td>\n",
       "      <td>0.0</td>\n",
       "    </tr>\n",
       "    <tr>\n",
       "      <th>2</th>\n",
       "      <td>1</td>\n",
       "      <td>3</td>\n",
       "      <td>3</td>\n",
       "      <td>1.0</td>\n",
       "    </tr>\n",
       "    <tr>\n",
       "      <th>3</th>\n",
       "      <td>1</td>\n",
       "      <td>4</td>\n",
       "      <td>4</td>\n",
       "      <td>1.0</td>\n",
       "    </tr>\n",
       "    <tr>\n",
       "      <th>4</th>\n",
       "      <td>1</td>\n",
       "      <td>5</td>\n",
       "      <td>5</td>\n",
       "      <td>1.0</td>\n",
       "    </tr>\n",
       "    <tr>\n",
       "      <th>5</th>\n",
       "      <td>2</td>\n",
       "      <td>1</td>\n",
       "      <td>1</td>\n",
       "      <td>1.0</td>\n",
       "    </tr>\n",
       "    <tr>\n",
       "      <th>6</th>\n",
       "      <td>2</td>\n",
       "      <td>2</td>\n",
       "      <td>2</td>\n",
       "      <td>0.0</td>\n",
       "    </tr>\n",
       "    <tr>\n",
       "      <th>7</th>\n",
       "      <td>2</td>\n",
       "      <td>3</td>\n",
       "      <td>3</td>\n",
       "      <td>1.0</td>\n",
       "    </tr>\n",
       "    <tr>\n",
       "      <th>8</th>\n",
       "      <td>2</td>\n",
       "      <td>4</td>\n",
       "      <td>4</td>\n",
       "      <td>0.0</td>\n",
       "    </tr>\n",
       "    <tr>\n",
       "      <th>9</th>\n",
       "      <td>2</td>\n",
       "      <td>5</td>\n",
       "      <td>5</td>\n",
       "      <td>1.0</td>\n",
       "    </tr>\n",
       "    <tr>\n",
       "      <th>10</th>\n",
       "      <td>3</td>\n",
       "      <td>1</td>\n",
       "      <td>1</td>\n",
       "      <td>3.0</td>\n",
       "    </tr>\n",
       "    <tr>\n",
       "      <th>11</th>\n",
       "      <td>3</td>\n",
       "      <td>2</td>\n",
       "      <td>2</td>\n",
       "      <td>2.0</td>\n",
       "    </tr>\n",
       "    <tr>\n",
       "      <th>12</th>\n",
       "      <td>3</td>\n",
       "      <td>3</td>\n",
       "      <td>3</td>\n",
       "      <td>3.0</td>\n",
       "    </tr>\n",
       "    <tr>\n",
       "      <th>13</th>\n",
       "      <td>3</td>\n",
       "      <td>4</td>\n",
       "      <td>4</td>\n",
       "      <td>0.0</td>\n",
       "    </tr>\n",
       "    <tr>\n",
       "      <th>14</th>\n",
       "      <td>3</td>\n",
       "      <td>5</td>\n",
       "      <td>5</td>\n",
       "      <td>1.0</td>\n",
       "    </tr>\n",
       "    <tr>\n",
       "      <th>15</th>\n",
       "      <td>3</td>\n",
       "      <td>6</td>\n",
       "      <td>6</td>\n",
       "      <td>2.0</td>\n",
       "    </tr>\n",
       "  </tbody>\n",
       "</table>\n",
       "</div>"
      ],
      "text/plain": [
       "    query_id  product_id  model_rank  relevance\n",
       "0          1           1           1        0.0\n",
       "1          1           2           2        0.0\n",
       "2          1           3           3        1.0\n",
       "3          1           4           4        1.0\n",
       "4          1           5           5        1.0\n",
       "5          2           1           1        1.0\n",
       "6          2           2           2        0.0\n",
       "7          2           3           3        1.0\n",
       "8          2           4           4        0.0\n",
       "9          2           5           5        1.0\n",
       "10         3           1           1        3.0\n",
       "11         3           2           2        2.0\n",
       "12         3           3           3        3.0\n",
       "13         3           4           4        0.0\n",
       "14         3           5           5        1.0\n",
       "15         3           6           6        2.0"
      ]
     },
     "execution_count": 12,
     "metadata": {},
     "output_type": "execute_result"
    }
   ],
   "source": [
    "r = pd.DataFrame([ [1,1,1,0.0],\n",
    "               [1,2,2,0.0],\n",
    "               [1,3,3,1.0],\n",
    "               [1,4,4,1.0],\n",
    "               [1,5,5,1.0],\n",
    "               [2,1,1,1.0],\n",
    "               [2,2,2,0.0],\n",
    "               [2,3,3,1.0],\n",
    "               [2,4,4,0.0],\n",
    "               [2,5,5,1.0],\n",
    "               [3,1,1,3.0],\n",
    "               [3,2,2,2.0],\n",
    "               [3,3,3,3.0],\n",
    "               [3,4,4,0.0],\n",
    "               [3,5,5,1.0],\n",
    "               [3,6,6,2.0]                 \n",
    "                 \n",
    "                 ] , \n",
    "             columns = ['query_id', 'product_id', 'model_rank', 'relevance'])\n",
    "\n",
    "r"
   ]
  },
  {
   "cell_type": "code",
   "execution_count": 13,
   "id": "a3e5cd52-ecb0-409d-bb59-40d02d70405f",
   "metadata": {},
   "outputs": [
    {
     "name": "stderr",
     "output_type": "stream",
     "text": [
      "100%|████████████████████████████████████████████████████████████████████████████████████████████████████████████████████████████████████████████████████████████████| 3/3 [00:00<00:00, 11.46it/s]\n"
     ]
    }
   ],
   "source": [
    "qdcg, ndcg = utils.compute_ndcg(r)"
   ]
  },
  {
   "cell_type": "code",
   "execution_count": 14,
   "id": "dc1c89b9-92d1-43bd-8211-69791514f3ad",
   "metadata": {},
   "outputs": [
    {
     "data": {
      "text/html": [
       "<div>\n",
       "<style scoped>\n",
       "    .dataframe tbody tr th:only-of-type {\n",
       "        vertical-align: middle;\n",
       "    }\n",
       "\n",
       "    .dataframe tbody tr th {\n",
       "        vertical-align: top;\n",
       "    }\n",
       "\n",
       "    .dataframe thead th {\n",
       "        text-align: right;\n",
       "    }\n",
       "</style>\n",
       "<table border=\"1\" class=\"dataframe\">\n",
       "  <thead>\n",
       "    <tr style=\"text-align: right;\">\n",
       "      <th></th>\n",
       "      <th>dcg</th>\n",
       "      <th>idcg</th>\n",
       "      <th>ndcg</th>\n",
       "    </tr>\n",
       "    <tr>\n",
       "      <th>query_id</th>\n",
       "      <th></th>\n",
       "      <th></th>\n",
       "      <th></th>\n",
       "    </tr>\n",
       "  </thead>\n",
       "  <tbody>\n",
       "    <tr>\n",
       "      <th>1</th>\n",
       "      <td>1.317529</td>\n",
       "      <td>2.130930</td>\n",
       "      <td>0.618289</td>\n",
       "    </tr>\n",
       "    <tr>\n",
       "      <th>2</th>\n",
       "      <td>1.886853</td>\n",
       "      <td>2.130930</td>\n",
       "      <td>0.885460</td>\n",
       "    </tr>\n",
       "    <tr>\n",
       "      <th>3</th>\n",
       "      <td>6.861127</td>\n",
       "      <td>7.140995</td>\n",
       "      <td>0.960808</td>\n",
       "    </tr>\n",
       "  </tbody>\n",
       "</table>\n",
       "</div>"
      ],
      "text/plain": [
       "               dcg      idcg      ndcg\n",
       "query_id                              \n",
       "1         1.317529  2.130930  0.618289\n",
       "2         1.886853  2.130930  0.885460\n",
       "3         6.861127  7.140995  0.960808"
      ]
     },
     "execution_count": 14,
     "metadata": {},
     "output_type": "execute_result"
    }
   ],
   "source": [
    "ndcg"
   ]
  },
  {
   "cell_type": "code",
   "execution_count": null,
   "id": "96dd8a70-6bd7-482b-87ce-ed0a89566db4",
   "metadata": {},
   "outputs": [],
   "source": [
    "for qi in np.unique(r.query_id):"
   ]
  },
  {
   "cell_type": "code",
   "execution_count": 6,
   "id": "77afc480-fa62-4b19-a434-08fb78ffc2d0",
   "metadata": {},
   "outputs": [
    {
     "data": {
      "text/plain": [
       "np.float64(0.7518741918103828)"
      ]
     },
     "execution_count": 6,
     "metadata": {},
     "output_type": "execute_result"
    }
   ],
   "source": [
    "ndcg.ndcg.mean()"
   ]
  },
  {
   "cell_type": "markdown",
   "id": "2271055a-af82-41ed-a3d0-918658bcb5d1",
   "metadata": {},
   "source": [
    "# Sklearn implementation (only order maters)"
   ]
  },
  {
   "cell_type": "code",
   "execution_count": 3,
   "id": "2b5c739e-69b0-44cc-b5c2-9906608de5c2",
   "metadata": {},
   "outputs": [],
   "source": [
    "from sklearn.metrics import ndcg_score\n",
    "import numpy as np"
   ]
  },
  {
   "cell_type": "code",
   "execution_count": 4,
   "id": "666a4b41-c455-45ff-a5ae-f0f593702cbf",
   "metadata": {},
   "outputs": [
    {
     "data": {
      "text/plain": [
       "np.float64(0.6956940443813076)"
      ]
     },
     "execution_count": 4,
     "metadata": {},
     "output_type": "execute_result"
    }
   ],
   "source": [
    "# we have ground-truth relevance of some answers to a query:\n",
    "true_relevance = np.asarray([[10, 0, 0, 1, 5]])\n",
    "# we predict some scores (relevance) for the answers\n",
    "scores        = np.asarray([[.1, .2, .3, 4, 70]])\n",
    "ndcg_score(true_relevance, scores)"
   ]
  },
  {
   "cell_type": "code",
   "execution_count": 8,
   "id": "080d09c0-861b-48ef-acc9-19b8f5916254",
   "metadata": {},
   "outputs": [
    {
     "data": {
      "text/plain": [
       "np.float64(0.6956940443813076)"
      ]
     },
     "execution_count": 8,
     "metadata": {},
     "output_type": "execute_result"
    }
   ],
   "source": [
    "scores        = np.asarray([[10, 20, 39, 40, 70]])\n",
    "ndcg_score(true_relevance, scores)"
   ]
  },
  {
   "cell_type": "code",
   "execution_count": null,
   "id": "83b4c150-8d0b-4bce-a908-ccee2866574d",
   "metadata": {},
   "outputs": [],
   "source": [
    "true_relevance.dtype, scores.dtype, true_relevance.shape, scores.shape"
   ]
  },
  {
   "cell_type": "code",
   "execution_count": null,
   "id": "2895e805-348b-4319-b4b4-feaef52447c6",
   "metadata": {},
   "outputs": [],
   "source": [
    "true_r.shape, scores_r.shape"
   ]
  },
  {
   "cell_type": "code",
   "execution_count": null,
   "id": "2cfc037d-743d-4b15-870a-03c0c34be801",
   "metadata": {},
   "outputs": [],
   "source": []
  },
  {
   "cell_type": "code",
   "execution_count": 43,
   "id": "cd79530a-b320-4c0b-921d-3a946fa9debe",
   "metadata": {},
   "outputs": [
    {
     "data": {
      "text/plain": [
       "np.float64(0.6182885020492785)"
      ]
     },
     "execution_count": 43,
     "metadata": {},
     "output_type": "execute_result"
    }
   ],
   "source": [
    "true_r = r[r.query_id==1].relevance.values.astype(int).reshape(1,-1)\n",
    "scores_r = 1/r[r.query_id==1].model_rank.values.reshape(1,-1)\n",
    "ndcg_score(true_r, scores_r)"
   ]
  },
  {
   "cell_type": "code",
   "execution_count": 20,
   "id": "2233ab61-20e6-45c6-a9a1-e361052b6ed8",
   "metadata": {},
   "outputs": [
    {
     "data": {
      "text/plain": [
       "np.float64(1.0)"
      ]
     },
     "execution_count": 20,
     "metadata": {},
     "output_type": "execute_result"
    }
   ],
   "source": [
    "# we have ground-truth relevance of some answers to a query:\n",
    "true_relevance = np.asarray([[10, 0, 0, 1, 5]])\n",
    "# we predict some scores (relevance) for the answers\n",
    "scores        = np.asarray([[10, .2, .3, 1, 2]])\n",
    "ndcg_score(true_relevance, scores)"
   ]
  },
  {
   "cell_type": "code",
   "execution_count": null,
   "id": "62c9afc6-51e7-4411-8406-80d4bccb9ffe",
   "metadata": {},
   "outputs": [],
   "source": []
  }
 ],
 "metadata": {
  "kernelspec": {
   "display_name": "p312",
   "language": "python",
   "name": "p312"
  },
  "language_info": {
   "codemirror_mode": {
    "name": "ipython",
    "version": 3
   },
   "file_extension": ".py",
   "mimetype": "text/x-python",
   "name": "python",
   "nbconvert_exporter": "python",
   "pygments_lexer": "ipython3",
   "version": "3.12.9"
  }
 },
 "nbformat": 4,
 "nbformat_minor": 5
}
