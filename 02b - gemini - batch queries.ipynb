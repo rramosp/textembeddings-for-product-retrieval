{
 "cells": [
  {
   "cell_type": "markdown",
   "id": "9352b0bf-75be-4485-8c0a-56c97dfd3064",
   "metadata": {},
   "source": [
    "# batch makes all queries to get top 40 products relevant for each query"
   ]
  },
  {
   "cell_type": "code",
   "execution_count": 4,
   "id": "27ae0fd4-3b28-4ef0-9faa-764e075177a9",
   "metadata": {},
   "outputs": [],
   "source": [
    "import pandas as pd\n",
    "import numpy as np\n",
    "from tqdm import tqdm\n",
    "from joblib import Parallel, delayed"
   ]
  },
  {
   "cell_type": "code",
   "execution_count": 5,
   "id": "619516f1-8fc4-4814-9d74-35902a690852",
   "metadata": {},
   "outputs": [
    {
     "data": {
      "text/plain": [
       "'/opt/conda/envs/p312/bin/python'"
      ]
     },
     "execution_count": 5,
     "metadata": {},
     "output_type": "execute_result"
    }
   ],
   "source": [
    "import sys\n",
    "sys.executable"
   ]
  },
  {
   "cell_type": "code",
   "execution_count": 6,
   "id": "a95c9cd3-25c3-4816-b775-97c2c2d2aa48",
   "metadata": {},
   "outputs": [],
   "source": [
    "model = 'gemini'\n",
    "locale = 'us'"
   ]
  },
  {
   "cell_type": "code",
   "execution_count": 8,
   "id": "d2f61b2d-cf83-4b44-ae51-04fb3a36411e",
   "metadata": {},
   "outputs": [],
   "source": [
    "q = pd.read_parquet(f'{model}/queries-{locale}.parquet')"
   ]
  },
  {
   "cell_type": "code",
   "execution_count": 9,
   "id": "edc6e349-a8f0-4a78-bbf7-e1a5cf8b7a2b",
   "metadata": {},
   "outputs": [],
   "source": [
    "p = pd.read_parquet(f'{model}/products-{locale}.parquet')"
   ]
  },
  {
   "cell_type": "code",
   "execution_count": 10,
   "id": "8aca26de-6c79-4732-8d89-d5a82ab64ecf",
   "metadata": {},
   "outputs": [
    {
     "data": {
      "text/plain": [
       "((97345, 2), (1215851, 2))"
      ]
     },
     "execution_count": 10,
     "metadata": {},
     "output_type": "execute_result"
    }
   ],
   "source": [
    "q.shape, p.shape"
   ]
  },
  {
   "cell_type": "code",
   "execution_count": 11,
   "id": "a2e7381b-74ec-45be-b3b2-72bf23564fcd",
   "metadata": {},
   "outputs": [
    {
     "data": {
      "text/plain": [
       "((97345, 768), (1215851, 768))"
      ]
     },
     "execution_count": 11,
     "metadata": {},
     "output_type": "execute_result"
    }
   ],
   "source": [
    "qe = np.stack(q.embeddings.values)\n",
    "pe = np.stack(p.embeddings.values)\n",
    "qe.shape, pe.shape"
   ]
  },
  {
   "cell_type": "code",
   "execution_count": 12,
   "id": "40e27f77-d5d5-4c05-bd0a-88157e418cf3",
   "metadata": {},
   "outputs": [],
   "source": [
    "def get_dotp_closests_idxs(q_embedding,p_embeddings_matrix, topk=40):\n",
    "    return np.argsort( p_embeddings_matrix.dot(q_embedding) )[-topk:][::-1]\n"
   ]
  },
  {
   "cell_type": "code",
   "execution_count": 13,
   "id": "e9fc1661-5010-4f00-9d28-94d0498e9154",
   "metadata": {},
   "outputs": [
    {
     "data": {
      "text/plain": [
       "1"
      ]
     },
     "execution_count": 13,
     "metadata": {},
     "output_type": "execute_result"
    }
   ],
   "source": [
    "1"
   ]
  },
  {
   "cell_type": "code",
   "execution_count": null,
   "id": "d1d9268b-2654-4673-8cd4-637ad8cf9ddf",
   "metadata": {},
   "outputs": [
    {
     "name": "stderr",
     "output_type": "stream",
     "text": [
      "[Parallel(n_jobs=-1)]: Using backend ThreadingBackend with 64 concurrent workers.\n",
      "[Parallel(n_jobs=-1)]: Done  34 tasks      | elapsed:    5.5s\n",
      "[Parallel(n_jobs=-1)]: Done 160 tasks      | elapsed:   13.5s\n",
      "[Parallel(n_jobs=-1)]: Done 322 tasks      | elapsed:   22.8s\n",
      "[Parallel(n_jobs=-1)]: Done 520 tasks      | elapsed:   35.1s\n",
      "[Parallel(n_jobs=-1)]: Done 754 tasks      | elapsed:   48.6s\n",
      "[Parallel(n_jobs=-1)]: Done 1024 tasks      | elapsed:  1.1min\n",
      "[Parallel(n_jobs=-1)]: Done 1330 tasks      | elapsed:  1.4min\n",
      "[Parallel(n_jobs=-1)]: Done 1672 tasks      | elapsed:  1.7min\n",
      "[Parallel(n_jobs=-1)]: Done 2050 tasks      | elapsed:  2.1min\n",
      "[Parallel(n_jobs=-1)]: Done 2464 tasks      | elapsed:  2.5min\n",
      "[Parallel(n_jobs=-1)]: Done 2914 tasks      | elapsed:  3.0min\n",
      "[Parallel(n_jobs=-1)]: Done 3400 tasks      | elapsed:  3.5min\n",
      "[Parallel(n_jobs=-1)]: Done 3922 tasks      | elapsed:  4.0min\n",
      "[Parallel(n_jobs=-1)]: Done 4480 tasks      | elapsed:  4.6min\n",
      "[Parallel(n_jobs=-1)]: Done 5074 tasks      | elapsed:  5.2min\n",
      "[Parallel(n_jobs=-1)]: Done 5704 tasks      | elapsed:  5.8min\n",
      "[Parallel(n_jobs=-1)]: Done 6370 tasks      | elapsed:  6.5min\n",
      "[Parallel(n_jobs=-1)]: Done 7072 tasks      | elapsed:  7.2min\n",
      "[Parallel(n_jobs=-1)]: Done 7810 tasks      | elapsed:  7.9min\n",
      "[Parallel(n_jobs=-1)]: Done 8584 tasks      | elapsed:  8.8min\n",
      "[Parallel(n_jobs=-1)]: Done 9394 tasks      | elapsed:  9.6min\n",
      "[Parallel(n_jobs=-1)]: Done 10240 tasks      | elapsed: 10.4min\n",
      "[Parallel(n_jobs=-1)]: Done 11122 tasks      | elapsed: 11.4min\n",
      "[Parallel(n_jobs=-1)]: Done 12040 tasks      | elapsed: 12.4min\n",
      "[Parallel(n_jobs=-1)]: Done 12994 tasks      | elapsed: 13.3min\n",
      "[Parallel(n_jobs=-1)]: Done 13984 tasks      | elapsed: 14.3min\n",
      "[Parallel(n_jobs=-1)]: Done 15010 tasks      | elapsed: 15.4min\n",
      "[Parallel(n_jobs=-1)]: Done 16072 tasks      | elapsed: 16.6min\n",
      "[Parallel(n_jobs=-1)]: Done 17170 tasks      | elapsed: 17.7min\n",
      "[Parallel(n_jobs=-1)]: Done 18304 tasks      | elapsed: 18.9min\n"
     ]
    }
   ],
   "source": [
    "qnn = Parallel(n_jobs=-1, verbose=5, prefer='threads')(delayed(get_dotp_closests_idxs)(qi,pe) for qi in qe)"
   ]
  },
  {
   "cell_type": "code",
   "execution_count": null,
   "id": "c402f19b-5c2d-4a9d-912e-43f9312136ba",
   "metadata": {},
   "outputs": [],
   "source": [
    "q['top40_products'] = [list(p.index[qnni]) for qnni in tqdm(qnn)]"
   ]
  },
  {
   "cell_type": "code",
   "execution_count": null,
   "id": "5675f1b3-c2ee-483e-8046-eef73df2d325",
   "metadata": {},
   "outputs": [],
   "source": [
    "qr = []\n",
    "for query_id, qi in tqdm(q.iterrows()):\n",
    "    for product_id in qi.top40_products.values:\n",
    "        qr.append([query_id, product_id])\n",
    "    "
   ]
  },
  {
   "cell_type": "code",
   "execution_count": null,
   "id": "f1775f3a-91f7-44db-8d3e-b3cf15975bd6",
   "metadata": {},
   "outputs": [],
   "source": [
    "pd.DataFrame(qr, columns = ['query_id', 'product_id']).to_csv(f'{model}/embeddings_dotp_ranking_{locale}.csv', index=False)"
   ]
  },
  {
   "cell_type": "code",
   "execution_count": null,
   "id": "953da708-5c54-4cb1-a5a5-aaf2ca6a5fc4",
   "metadata": {},
   "outputs": [],
   "source": []
  }
 ],
 "metadata": {
  "kernelspec": {
   "display_name": "p312",
   "language": "python",
   "name": "p312"
  },
  "language_info": {
   "codemirror_mode": {
    "name": "ipython",
    "version": 3
   },
   "file_extension": ".py",
   "mimetype": "text/x-python",
   "name": "python",
   "nbconvert_exporter": "python",
   "pygments_lexer": "ipython3",
   "version": "3.12.9"
  }
 },
 "nbformat": 4,
 "nbformat_minor": 5
}
