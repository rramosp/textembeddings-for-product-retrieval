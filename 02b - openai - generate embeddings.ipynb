{
 "cells": [
  {
   "cell_type": "code",
   "execution_count": null,
   "id": "6df4dd23-4446-456e-8c64-eee95c1c0c88",
   "metadata": {},
   "outputs": [],
   "source": []
  },
  {
   "cell_type": "code",
   "execution_count": 1,
   "id": "b60cd778-1a6a-4d4b-8931-ba48e093a998",
   "metadata": {},
   "outputs": [],
   "source": [
    "import pandas as pd\n",
    "import wands\n",
    "from tqdm import tqdm\n",
    "import os\n",
    "import sys\n",
    "sys.path.append('..')\n",
    "\n",
    "import utils"
   ]
  },
  {
   "cell_type": "code",
   "execution_count": 5,
   "id": "0126ed57-d697-4668-ba8b-3e2990b2f2fd",
   "metadata": {},
   "outputs": [],
   "source": [
    "with open('../../../secrets/openai-key.txt') as f:\n",
    "    OPENAI_API_KEY = f.read().strip()\n"
   ]
  },
  {
   "cell_type": "code",
   "execution_count": 6,
   "id": "15d6128f-b4e0-45b0-b997-ea8aee323fe1",
   "metadata": {},
   "outputs": [],
   "source": [
    "dataset = 'wands'\n",
    "model_folder = 'openai'\n",
    "model_id = 'text-embedding-large-exp-03-07'"
   ]
  },
  {
   "cell_type": "markdown",
   "id": "b2031559-d2ad-4598-8a80-8da539f0c6f2",
   "metadata": {},
   "source": [
    "# load products and queries"
   ]
  },
  {
   "cell_type": "code",
   "execution_count": 7,
   "id": "e6288bbf-ecb7-45e4-a490-65c7dca2a836",
   "metadata": {},
   "outputs": [],
   "source": [
    "\n",
    "q = pd.read_parquet(f'{wands}/queries.parquet')\n",
    "p = pd.read_parquet(f'{wands}/products.parquet')"
   ]
  },
  {
   "cell_type": "code",
   "execution_count": 12,
   "id": "2270f06c-76c7-41f5-b2bd-4b3958d78fa4",
   "metadata": {},
   "outputs": [
    {
     "data": {
      "text/plain": [
       "((480, 2), (42994, 1))"
      ]
     },
     "execution_count": 12,
     "metadata": {},
     "output_type": "execute_result"
    }
   ],
   "source": [
    "q.shape, p.shape"
   ]
  },
  {
   "cell_type": "markdown",
   "id": "b9e46b23-bd59-485e-99e2-8432a6abe545",
   "metadata": {},
   "source": [
    "# generate embeddings"
   ]
  },
  {
   "cell_type": "code",
   "execution_count": 14,
   "id": "8636011a-ad8f-49f1-8771-a63bdb7d05eb",
   "metadata": {},
   "outputs": [
    {
     "name": "stderr",
     "output_type": "stream",
     "text": [
      "100%|████████████████████████████████████████████████████████████████████████████████████████████████████████████████████████████████████████████████████████████████| 1/1 [00:05<00:00,  5.68s/it]\n"
     ]
    }
   ],
   "source": [
    "queries = q\n",
    "queries['embeddings'] = utils.get_openai_batch_embeddings(queries['query'].values, OPENAI_API_KEY, chunk_size=500)"
   ]
  },
  {
   "cell_type": "code",
   "execution_count": 23,
   "id": "4f6bb99b-30e8-42f5-b61e-21f3a4ab47b8",
   "metadata": {},
   "outputs": [],
   "source": [
    "queries.to_parquet(f'{model_folder}/{dataset}-queries.parquet')"
   ]
  },
  {
   "cell_type": "code",
   "execution_count": 16,
   "id": "7dafd3c8-63a8-43df-8078-0026d38a7df4",
   "metadata": {},
   "outputs": [
    {
     "name": "stderr",
     "output_type": "stream",
     "text": [
      "100%|██████████████████████████████████████████████████████████████████████████████████████████████████████████████████████████████████████████████████████████████| 86/86 [07:09<00:00,  4.99s/it]\n"
     ]
    }
   ],
   "source": [
    "products = p\n",
    "products['embeddings'] = utils.get_openai_batch_embeddings(products['product'].values, OPENAI_API_KEY, chunk_size=500)"
   ]
  },
  {
   "cell_type": "code",
   "execution_count": 24,
   "id": "ee99e0b7-85de-4bdc-81d9-28a249a482a6",
   "metadata": {},
   "outputs": [],
   "source": [
    "products.to_parquet(f'{model_folder}/{dataset}-products.parquet')"
   ]
  },
  {
   "cell_type": "code",
   "execution_count": 25,
   "id": "e3d0d348-194a-469f-b4a6-8c1ab639d857",
   "metadata": {},
   "outputs": [
    {
     "data": {
      "text/html": [
       "<div>\n",
       "<style scoped>\n",
       "    .dataframe tbody tr th:only-of-type {\n",
       "        vertical-align: middle;\n",
       "    }\n",
       "\n",
       "    .dataframe tbody tr th {\n",
       "        vertical-align: top;\n",
       "    }\n",
       "\n",
       "    .dataframe thead th {\n",
       "        text-align: right;\n",
       "    }\n",
       "</style>\n",
       "<table border=\"1\" class=\"dataframe\">\n",
       "  <thead>\n",
       "    <tr style=\"text-align: right;\">\n",
       "      <th></th>\n",
       "      <th>product</th>\n",
       "      <th>embeddings</th>\n",
       "    </tr>\n",
       "    <tr>\n",
       "      <th>product_id</th>\n",
       "      <th></th>\n",
       "      <th></th>\n",
       "    </tr>\n",
       "  </thead>\n",
       "  <tbody>\n",
       "    <tr>\n",
       "      <th>0</th>\n",
       "      <td>&lt;NAME&gt;solid wood platform bed&lt;/NAME&gt;\\n&lt;CLASS&gt;B...</td>\n",
       "      <td>[-0.0035904874093830585, 0.014344983734190464,...</td>\n",
       "    </tr>\n",
       "    <tr>\n",
       "      <th>1</th>\n",
       "      <td>&lt;NAME&gt;all-clad 7 qt . slow cooker&lt;/NAME&gt;\\n&lt;CLA...</td>\n",
       "      <td>[-0.029108958318829536, -0.012914749793708324,...</td>\n",
       "    </tr>\n",
       "    <tr>\n",
       "      <th>2</th>\n",
       "      <td>&lt;NAME&gt;all-clad electrics 6.5 qt . slow cooker&lt;...</td>\n",
       "      <td>[-0.03348083049058914, -0.01323176734149456, -...</td>\n",
       "    </tr>\n",
       "    <tr>\n",
       "      <th>3</th>\n",
       "      <td>&lt;NAME&gt;all-clad all professional tools pizza cu...</td>\n",
       "      <td>[-0.05834043025970459, 0.006899776868522167, -...</td>\n",
       "    </tr>\n",
       "    <tr>\n",
       "      <th>4</th>\n",
       "      <td>&lt;NAME&gt;baldwin prestige alcott passage knob wit...</td>\n",
       "      <td>[-0.018509330227971077, -0.004584053065627813,...</td>\n",
       "    </tr>\n",
       "    <tr>\n",
       "      <th>...</th>\n",
       "      <td>...</td>\n",
       "      <td>...</td>\n",
       "    </tr>\n",
       "    <tr>\n",
       "      <th>42989</th>\n",
       "      <td>&lt;NAME&gt;malibu pressure balanced diverter fixed ...</td>\n",
       "      <td>[-0.02566009759902954, 0.012239639647305012, -...</td>\n",
       "    </tr>\n",
       "    <tr>\n",
       "      <th>42990</th>\n",
       "      <td>&lt;NAME&gt;emmeline 5 piece breakfast dining set&lt;/N...</td>\n",
       "      <td>[-0.021588196977972984, 0.0005717655876651406,...</td>\n",
       "    </tr>\n",
       "    <tr>\n",
       "      <th>42991</th>\n",
       "      <td>&lt;NAME&gt;maloney 3 piece pub table set&lt;/NAME&gt;\\n&lt;C...</td>\n",
       "      <td>[0.0040373532101511955, -0.03183027356863022, ...</td>\n",
       "    </tr>\n",
       "    <tr>\n",
       "      <th>42992</th>\n",
       "      <td>&lt;NAME&gt;fletcher 27.5 '' wide polyester armchair...</td>\n",
       "      <td>[-0.0252128466963768, -0.022768255323171616, -...</td>\n",
       "    </tr>\n",
       "    <tr>\n",
       "      <th>42993</th>\n",
       "      <td>&lt;NAME&gt;griffin 29 '' bar stool&lt;/NAME&gt;\\n&lt;CLASS&gt;B...</td>\n",
       "      <td>[0.01678426004946232, -0.03583192452788353, -0...</td>\n",
       "    </tr>\n",
       "  </tbody>\n",
       "</table>\n",
       "<p>42994 rows × 2 columns</p>\n",
       "</div>"
      ],
      "text/plain": [
       "                                                      product  \\\n",
       "product_id                                                      \n",
       "0           <NAME>solid wood platform bed</NAME>\\n<CLASS>B...   \n",
       "1           <NAME>all-clad 7 qt . slow cooker</NAME>\\n<CLA...   \n",
       "2           <NAME>all-clad electrics 6.5 qt . slow cooker<...   \n",
       "3           <NAME>all-clad all professional tools pizza cu...   \n",
       "4           <NAME>baldwin prestige alcott passage knob wit...   \n",
       "...                                                       ...   \n",
       "42989       <NAME>malibu pressure balanced diverter fixed ...   \n",
       "42990       <NAME>emmeline 5 piece breakfast dining set</N...   \n",
       "42991       <NAME>maloney 3 piece pub table set</NAME>\\n<C...   \n",
       "42992       <NAME>fletcher 27.5 '' wide polyester armchair...   \n",
       "42993       <NAME>griffin 29 '' bar stool</NAME>\\n<CLASS>B...   \n",
       "\n",
       "                                                   embeddings  \n",
       "product_id                                                     \n",
       "0           [-0.0035904874093830585, 0.014344983734190464,...  \n",
       "1           [-0.029108958318829536, -0.012914749793708324,...  \n",
       "2           [-0.03348083049058914, -0.01323176734149456, -...  \n",
       "3           [-0.05834043025970459, 0.006899776868522167, -...  \n",
       "4           [-0.018509330227971077, -0.004584053065627813,...  \n",
       "...                                                       ...  \n",
       "42989       [-0.02566009759902954, 0.012239639647305012, -...  \n",
       "42990       [-0.021588196977972984, 0.0005717655876651406,...  \n",
       "42991       [0.0040373532101511955, -0.03183027356863022, ...  \n",
       "42992       [-0.0252128466963768, -0.022768255323171616, -...  \n",
       "42993       [0.01678426004946232, -0.03583192452788353, -0...  \n",
       "\n",
       "[42994 rows x 2 columns]"
      ]
     },
     "execution_count": 25,
     "metadata": {},
     "output_type": "execute_result"
    }
   ],
   "source": [
    "products"
   ]
  },
  {
   "cell_type": "code",
   "execution_count": null,
   "id": "4fb06649-f6cf-4d04-a35b-7373fe4ce8f7",
   "metadata": {},
   "outputs": [],
   "source": []
  }
 ],
 "metadata": {
  "kernelspec": {
   "display_name": "p312",
   "language": "python",
   "name": "p312"
  },
  "language_info": {
   "codemirror_mode": {
    "name": "ipython",
    "version": 3
   },
   "file_extension": ".py",
   "mimetype": "text/x-python",
   "name": "python",
   "nbconvert_exporter": "python",
   "pygments_lexer": "ipython3",
   "version": "3.12.9"
  }
 },
 "nbformat": 4,
 "nbformat_minor": 5
}
