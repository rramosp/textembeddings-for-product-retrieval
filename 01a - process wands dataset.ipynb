{
 "cells": [
  {
   "cell_type": "code",
   "execution_count": 1,
   "id": "389e6a8f-1579-47ff-8af0-685479d1299a",
   "metadata": {},
   "outputs": [],
   "source": [
    "import pandas as pd\n",
    "import wands\n",
    "from tqdm import tqdm\n",
    "import os"
   ]
  },
  {
   "cell_type": "code",
   "execution_count": 2,
   "id": "7b7767e5-7cdf-4fda-8c0d-efe5eea3d0be",
   "metadata": {},
   "outputs": [],
   "source": [
    "WANDS_REPO = '/usr/local/google/home/raulramos/projects/WANDS'\n"
   ]
  },
  {
   "cell_type": "code",
   "execution_count": 3,
   "id": "f8f2d19b-ee15-41b2-a166-4fae5e5f6c0e",
   "metadata": {},
   "outputs": [],
   "source": [
    "pw = pd.read_csv(f'{WANDS_REPO}/dataset/product.csv', sep='\\t')\n",
    "pw.set_index('product_id', inplace=True)\n",
    "\n",
    "qw = pd.read_csv(f'{WANDS_REPO}/dataset/query.csv', sep='\\t')\n",
    "qw.set_index('query_id', inplace=True)\n",
    "\n",
    "lw = pd.read_csv(f'{WANDS_REPO}/dataset/label.csv', sep='\\t')\n",
    "\n"
   ]
  },
  {
   "cell_type": "code",
   "execution_count": 4,
   "id": "c896c928-aeee-494a-968b-5ca7a4a9b129",
   "metadata": {},
   "outputs": [
    {
     "data": {
      "text/html": [
       "<div>\n",
       "<style scoped>\n",
       "    .dataframe tbody tr th:only-of-type {\n",
       "        vertical-align: middle;\n",
       "    }\n",
       "\n",
       "    .dataframe tbody tr th {\n",
       "        vertical-align: top;\n",
       "    }\n",
       "\n",
       "    .dataframe thead th {\n",
       "        text-align: right;\n",
       "    }\n",
       "</style>\n",
       "<table border=\"1\" class=\"dataframe\">\n",
       "  <thead>\n",
       "    <tr style=\"text-align: right;\">\n",
       "      <th></th>\n",
       "      <th>query</th>\n",
       "      <th>query_class</th>\n",
       "    </tr>\n",
       "    <tr>\n",
       "      <th>query_id</th>\n",
       "      <th></th>\n",
       "      <th></th>\n",
       "    </tr>\n",
       "  </thead>\n",
       "  <tbody>\n",
       "    <tr>\n",
       "      <th>0</th>\n",
       "      <td>salon chair</td>\n",
       "      <td>Massage Chairs</td>\n",
       "    </tr>\n",
       "    <tr>\n",
       "      <th>1</th>\n",
       "      <td>smart coffee table</td>\n",
       "      <td>Coffee &amp; Cocktail Tables</td>\n",
       "    </tr>\n",
       "    <tr>\n",
       "      <th>2</th>\n",
       "      <td>dinosaur</td>\n",
       "      <td>Kids Wall Décor</td>\n",
       "    </tr>\n",
       "    <tr>\n",
       "      <th>3</th>\n",
       "      <td>turquoise pillows</td>\n",
       "      <td>Accent Pillows</td>\n",
       "    </tr>\n",
       "    <tr>\n",
       "      <th>4</th>\n",
       "      <td>chair and a half recliner</td>\n",
       "      <td>Recliners</td>\n",
       "    </tr>\n",
       "  </tbody>\n",
       "</table>\n",
       "</div>"
      ],
      "text/plain": [
       "                              query               query_class\n",
       "query_id                                                     \n",
       "0                       salon chair            Massage Chairs\n",
       "1                smart coffee table  Coffee & Cocktail Tables\n",
       "2                          dinosaur           Kids Wall Décor\n",
       "3                 turquoise pillows            Accent Pillows\n",
       "4         chair and a half recliner                 Recliners"
      ]
     },
     "execution_count": 4,
     "metadata": {},
     "output_type": "execute_result"
    }
   ],
   "source": [
    "# queries already come in cool format\n",
    "qw.to_parquet(f'wands/queries.parquet')\n",
    "qw.head()"
   ]
  },
  {
   "cell_type": "code",
   "execution_count": 5,
   "id": "cebff084-35e2-4e38-a799-32e4bbad9304",
   "metadata": {},
   "outputs": [
    {
     "name": "stderr",
     "output_type": "stream",
     "text": [
      "100%|█████████████████████████████████████████████████████████████████████████████████████████████████████████████████████████████████████████████████████| 42994/42994 [00:02<00:00, 16494.65it/s]\n"
     ]
    },
    {
     "data": {
      "text/html": [
       "<div>\n",
       "<style scoped>\n",
       "    .dataframe tbody tr th:only-of-type {\n",
       "        vertical-align: middle;\n",
       "    }\n",
       "\n",
       "    .dataframe tbody tr th {\n",
       "        vertical-align: top;\n",
       "    }\n",
       "\n",
       "    .dataframe thead th {\n",
       "        text-align: right;\n",
       "    }\n",
       "</style>\n",
       "<table border=\"1\" class=\"dataframe\">\n",
       "  <thead>\n",
       "    <tr style=\"text-align: right;\">\n",
       "      <th></th>\n",
       "      <th>product</th>\n",
       "    </tr>\n",
       "    <tr>\n",
       "      <th>product_id</th>\n",
       "      <th></th>\n",
       "    </tr>\n",
       "  </thead>\n",
       "  <tbody>\n",
       "    <tr>\n",
       "      <th>0</th>\n",
       "      <td>&lt;NAME&gt;solid wood platform bed&lt;/NAME&gt;\\n&lt;CLASS&gt;B...</td>\n",
       "    </tr>\n",
       "    <tr>\n",
       "      <th>1</th>\n",
       "      <td>&lt;NAME&gt;all-clad 7 qt . slow cooker&lt;/NAME&gt;\\n&lt;CLA...</td>\n",
       "    </tr>\n",
       "    <tr>\n",
       "      <th>2</th>\n",
       "      <td>&lt;NAME&gt;all-clad electrics 6.5 qt . slow cooker&lt;...</td>\n",
       "    </tr>\n",
       "    <tr>\n",
       "      <th>3</th>\n",
       "      <td>&lt;NAME&gt;all-clad all professional tools pizza cu...</td>\n",
       "    </tr>\n",
       "    <tr>\n",
       "      <th>4</th>\n",
       "      <td>&lt;NAME&gt;baldwin prestige alcott passage knob wit...</td>\n",
       "    </tr>\n",
       "  </tbody>\n",
       "</table>\n",
       "</div>"
      ],
      "text/plain": [
       "                                                      product\n",
       "product_id                                                   \n",
       "0           <NAME>solid wood platform bed</NAME>\\n<CLASS>B...\n",
       "1           <NAME>all-clad 7 qt . slow cooker</NAME>\\n<CLA...\n",
       "2           <NAME>all-clad electrics 6.5 qt . slow cooker<...\n",
       "3           <NAME>all-clad all professional tools pizza cu...\n",
       "4           <NAME>baldwin prestige alcott passage knob wit..."
      ]
     },
     "execution_count": 5,
     "metadata": {},
     "output_type": "execute_result"
    }
   ],
   "source": [
    "p = pw\n",
    "p = [ [product_id, utils.get_wands_product_string(row)] for product_id, row in tqdm(pw.iterrows(), total=len(p))]\n",
    "p = pd.DataFrame(p, columns=['product_id', 'product']).set_index('product_id')\n",
    "p.to_parquet(f'wands/products.parquet')\n",
    "p.head()"
   ]
  },
  {
   "cell_type": "code",
   "execution_count": 6,
   "id": "73da9356-4e71-4523-9a09-f75bfe8725d0",
   "metadata": {},
   "outputs": [
    {
     "data": {
      "text/plain": [
       "label\n",
       "Partial       146633\n",
       "Irrelevant     61201\n",
       "Exact          25614\n",
       "Name: count, dtype: int64"
      ]
     },
     "execution_count": 6,
     "metadata": {},
     "output_type": "execute_result"
    }
   ],
   "source": [
    "lw['label'].value_counts()"
   ]
  },
  {
   "cell_type": "code",
   "execution_count": 7,
   "id": "70e15065-85e1-4a37-b3d0-886ffb1512d2",
   "metadata": {},
   "outputs": [],
   "source": [
    "m = {'Exact': 2, 'Partial': 1, 'Irrelevant': 0}`\n",
    "lw['relevance'] = [m[i] for i in lw['label'].values]"
   ]
  },
  {
   "cell_type": "code",
   "execution_count": 8,
   "id": "b3435919-fc3a-49c0-bd05-ebdaa91a835b",
   "metadata": {},
   "outputs": [
    {
     "data": {
      "text/html": [
       "<div>\n",
       "<style scoped>\n",
       "    .dataframe tbody tr th:only-of-type {\n",
       "        vertical-align: middle;\n",
       "    }\n",
       "\n",
       "    .dataframe tbody tr th {\n",
       "        vertical-align: top;\n",
       "    }\n",
       "\n",
       "    .dataframe thead th {\n",
       "        text-align: right;\n",
       "    }\n",
       "</style>\n",
       "<table border=\"1\" class=\"dataframe\">\n",
       "  <thead>\n",
       "    <tr style=\"text-align: right;\">\n",
       "      <th></th>\n",
       "      <th>id</th>\n",
       "      <th>query_id</th>\n",
       "      <th>product_id</th>\n",
       "      <th>label</th>\n",
       "      <th>relevance</th>\n",
       "    </tr>\n",
       "  </thead>\n",
       "  <tbody>\n",
       "    <tr>\n",
       "      <th>0</th>\n",
       "      <td>0</td>\n",
       "      <td>0</td>\n",
       "      <td>25434</td>\n",
       "      <td>Exact</td>\n",
       "      <td>2</td>\n",
       "    </tr>\n",
       "    <tr>\n",
       "      <th>1</th>\n",
       "      <td>1</td>\n",
       "      <td>0</td>\n",
       "      <td>12088</td>\n",
       "      <td>Irrelevant</td>\n",
       "      <td>0</td>\n",
       "    </tr>\n",
       "    <tr>\n",
       "      <th>2</th>\n",
       "      <td>2</td>\n",
       "      <td>0</td>\n",
       "      <td>42931</td>\n",
       "      <td>Exact</td>\n",
       "      <td>2</td>\n",
       "    </tr>\n",
       "    <tr>\n",
       "      <th>3</th>\n",
       "      <td>3</td>\n",
       "      <td>0</td>\n",
       "      <td>2636</td>\n",
       "      <td>Exact</td>\n",
       "      <td>2</td>\n",
       "    </tr>\n",
       "    <tr>\n",
       "      <th>4</th>\n",
       "      <td>4</td>\n",
       "      <td>0</td>\n",
       "      <td>42923</td>\n",
       "      <td>Exact</td>\n",
       "      <td>2</td>\n",
       "    </tr>\n",
       "  </tbody>\n",
       "</table>\n",
       "</div>"
      ],
      "text/plain": [
       "   id  query_id  product_id       label  relevance\n",
       "0   0         0       25434       Exact          2\n",
       "1   1         0       12088  Irrelevant          0\n",
       "2   2         0       42931       Exact          2\n",
       "3   3         0        2636       Exact          2\n",
       "4   4         0       42923       Exact          2"
      ]
     },
     "execution_count": 8,
     "metadata": {},
     "output_type": "execute_result"
    }
   ],
   "source": [
    "lw.head()"
   ]
  },
  {
   "cell_type": "code",
   "execution_count": 9,
   "id": "179d20ac-4b76-42a5-854a-134e9da67833",
   "metadata": {},
   "outputs": [],
   "source": [
    "lw.to_parquet('wands/relevance.parquet')"
   ]
  },
  {
   "cell_type": "code",
   "execution_count": null,
   "id": "7d865a31-7a39-4685-9d27-b233e821c437",
   "metadata": {},
   "outputs": [],
   "source": []
  }
 ],
 "metadata": {
  "kernelspec": {
   "display_name": "Python 3 (ipykernel)",
   "language": "python",
   "name": "python3"
  },
  "language_info": {
   "codemirror_mode": {
    "name": "ipython",
    "version": 3
   },
   "file_extension": ".py",
   "mimetype": "text/x-python",
   "name": "python",
   "nbconvert_exporter": "python",
   "pygments_lexer": "ipython3",
   "version": "3.12.7"
  }
 },
 "nbformat": 4,
 "nbformat_minor": 5
}
