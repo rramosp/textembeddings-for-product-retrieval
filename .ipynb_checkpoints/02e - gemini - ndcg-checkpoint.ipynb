{
 "cells": [
  {
   "cell_type": "code",
   "execution_count": 1,
   "id": "9fa80260-93b7-4331-ad2e-39c36b4ca63a",
   "metadata": {},
   "outputs": [
    {
     "data": {
      "text/plain": [
       "<module 'utils' from '/usr/local/google/home/raulramos/projects/text-embeddings-benchmark/utils.py'>"
      ]
     },
     "execution_count": 1,
     "metadata": {},
     "output_type": "execute_result"
    }
   ],
   "source": [
    "import pandas as pd\n",
    "import numpy as np\n",
    "from tqdm import tqdm\n",
    "import utils\n",
    "\n",
    "from importlib import reload\n",
    "reload(utils)"
   ]
  },
  {
   "cell_type": "code",
   "execution_count": 3,
   "id": "369f0dd6-7594-4fd7-9766-3a7449b20944",
   "metadata": {},
   "outputs": [],
   "source": [
    "# clone repo https://github.com/amazon-science/esci-data\n",
    "# previously install git-lfs to download the data files when cloning\n",
    "\n",
    "ESCI_DATASET_ROOT = '/usr/local/google/home/raulramos/projects/esci-data'"
   ]
  },
  {
   "cell_type": "code",
   "execution_count": 14,
   "id": "de9e684e-d91a-4c7b-981d-ea5d6647dae4",
   "metadata": {},
   "outputs": [],
   "source": [
    "# load ground truth\n",
    "model = 'gemini'\n",
    "locale = 'us'\n",
    "mode = 'onlyannotated_'\n",
    "#mode = ''\n",
    "\n",
    "dgt = utils.load_examples(ESCI_DATASET_ROOT=ESCI_DATASET_ROOT, locale=locale)"
   ]
  },
  {
   "cell_type": "markdown",
   "id": "3786322d-feb5-457e-b9b8-806ba1e6bd93",
   "metadata": {},
   "source": [
    "## model results for locale"
   ]
  },
  {
   "cell_type": "code",
   "execution_count": 15,
   "id": "74a55ae8-20f5-4837-8fe9-6c027b4ef513",
   "metadata": {},
   "outputs": [
    {
     "name": "stderr",
     "output_type": "stream",
     "text": [
      "100%|████████████████████████████████████████████████████████████████████████████████████████████████| 97345/97345 [02:16<00:00, 713.50it/s]\n"
     ]
    },
    {
     "data": {
      "text/plain": [
       "(1818825, 16)"
      ]
     },
     "execution_count": 15,
     "metadata": {},
     "output_type": "execute_result"
    }
   ],
   "source": [
    "br = utils.get_model_ranking(f'{model}/embeddings_dotp_ranking_{mode}{locale}.csv', dgt)\n",
    "br.shape"
   ]
  },
  {
   "cell_type": "code",
   "execution_count": 16,
   "id": "3d5b99fe-0f38-41e9-b569-c40ca10ed6bc",
   "metadata": {},
   "outputs": [
    {
     "data": {
      "text/plain": [
       "1215851"
      ]
     },
     "execution_count": 16,
     "metadata": {},
     "output_type": "execute_result"
    }
   ],
   "source": [
    "prods = np.unique(br.product_id.values)\n",
    "len(prods)"
   ]
  },
  {
   "cell_type": "code",
   "execution_count": 17,
   "id": "e67f06b1-786e-43af-9992-cfce500f8347",
   "metadata": {},
   "outputs": [
    {
     "name": "stdout",
     "output_type": "stream",
     "text": [
      "number of queries: 97345\n"
     ]
    }
   ],
   "source": [
    "print(f'number of queries: {len(np.unique(br.query_id))}')"
   ]
  },
  {
   "cell_type": "code",
   "execution_count": 18,
   "id": "01e02a78-5764-4f6a-9511-4da18e9ac3c2",
   "metadata": {},
   "outputs": [
    {
     "name": "stderr",
     "output_type": "stream",
     "text": [
      "100%|████████████████████████████████████████████████████████████████████████████████████████████████| 97345/97345 [04:45<00:00, 340.68it/s]\n"
     ]
    }
   ],
   "source": [
    "df_dcg, ndgc = utils.compute_ndcg(br)"
   ]
  },
  {
   "cell_type": "code",
   "execution_count": 19,
   "id": "e888c1e1-7dac-4f8b-887e-cdcd8266e167",
   "metadata": {},
   "outputs": [
    {
     "name": "stdout",
     "output_type": "stream",
     "text": [
      "mean ndgc 0.9785\n"
     ]
    },
    {
     "data": {
      "text/html": [
       "<div>\n",
       "<style scoped>\n",
       "    .dataframe tbody tr th:only-of-type {\n",
       "        vertical-align: middle;\n",
       "    }\n",
       "\n",
       "    .dataframe tbody tr th {\n",
       "        vertical-align: top;\n",
       "    }\n",
       "\n",
       "    .dataframe thead th {\n",
       "        text-align: right;\n",
       "    }\n",
       "</style>\n",
       "<table border=\"1\" class=\"dataframe\">\n",
       "  <thead>\n",
       "    <tr style=\"text-align: right;\">\n",
       "      <th></th>\n",
       "      <th>dgc</th>\n",
       "      <th>idgc</th>\n",
       "      <th>ndgc</th>\n",
       "    </tr>\n",
       "    <tr>\n",
       "      <th>query_id</th>\n",
       "      <th></th>\n",
       "      <th></th>\n",
       "      <th></th>\n",
       "    </tr>\n",
       "  </thead>\n",
       "  <tbody>\n",
       "    <tr>\n",
       "      <th>0</th>\n",
       "      <td>33.095486</td>\n",
       "      <td>33.095486</td>\n",
       "      <td>1.000000</td>\n",
       "    </tr>\n",
       "    <tr>\n",
       "      <th>1</th>\n",
       "      <td>24.923569</td>\n",
       "      <td>26.718662</td>\n",
       "      <td>0.932815</td>\n",
       "    </tr>\n",
       "    <tr>\n",
       "      <th>2</th>\n",
       "      <td>34.008352</td>\n",
       "      <td>37.429119</td>\n",
       "      <td>0.908607</td>\n",
       "    </tr>\n",
       "    <tr>\n",
       "      <th>5</th>\n",
       "      <td>52.103356</td>\n",
       "      <td>53.821045</td>\n",
       "      <td>0.968085</td>\n",
       "    </tr>\n",
       "    <tr>\n",
       "      <th>6</th>\n",
       "      <td>45.835566</td>\n",
       "      <td>51.551158</td>\n",
       "      <td>0.889128</td>\n",
       "    </tr>\n",
       "    <tr>\n",
       "      <th>...</th>\n",
       "      <td>...</td>\n",
       "      <td>...</td>\n",
       "      <td>...</td>\n",
       "    </tr>\n",
       "    <tr>\n",
       "      <th>129275</th>\n",
       "      <td>37.978773</td>\n",
       "      <td>37.978773</td>\n",
       "      <td>1.000000</td>\n",
       "    </tr>\n",
       "    <tr>\n",
       "      <th>130378</th>\n",
       "      <td>28.121258</td>\n",
       "      <td>29.681294</td>\n",
       "      <td>0.947440</td>\n",
       "    </tr>\n",
       "    <tr>\n",
       "      <th>130537</th>\n",
       "      <td>14.829128</td>\n",
       "      <td>17.799278</td>\n",
       "      <td>0.833131</td>\n",
       "    </tr>\n",
       "    <tr>\n",
       "      <th>130538</th>\n",
       "      <td>32.381856</td>\n",
       "      <td>33.463877</td>\n",
       "      <td>0.967666</td>\n",
       "    </tr>\n",
       "    <tr>\n",
       "      <th>130539</th>\n",
       "      <td>14.521288</td>\n",
       "      <td>18.899120</td>\n",
       "      <td>0.768358</td>\n",
       "    </tr>\n",
       "  </tbody>\n",
       "</table>\n",
       "<p>97345 rows × 3 columns</p>\n",
       "</div>"
      ],
      "text/plain": [
       "                dgc       idgc      ndgc\n",
       "query_id                                \n",
       "0         33.095486  33.095486  1.000000\n",
       "1         24.923569  26.718662  0.932815\n",
       "2         34.008352  37.429119  0.908607\n",
       "5         52.103356  53.821045  0.968085\n",
       "6         45.835566  51.551158  0.889128\n",
       "...             ...        ...       ...\n",
       "129275    37.978773  37.978773  1.000000\n",
       "130378    28.121258  29.681294  0.947440\n",
       "130537    14.829128  17.799278  0.833131\n",
       "130538    32.381856  33.463877  0.967666\n",
       "130539    14.521288  18.899120  0.768358\n",
       "\n",
       "[97345 rows x 3 columns]"
      ]
     },
     "execution_count": 19,
     "metadata": {},
     "output_type": "execute_result"
    }
   ],
   "source": [
    "print (f'mean ndgc {ndgc.ndgc.mean():.4f}')\n",
    "ndgc"
   ]
  },
  {
   "cell_type": "code",
   "execution_count": 20,
   "id": "fcda6e52-74c0-486b-b4ce-76703d9aadf6",
   "metadata": {},
   "outputs": [
    {
     "data": {
      "image/png": "[encoded data removed]",
      "text/plain": [
       "<Figure size 640x480 with 1 Axes>"
      ]
     },
     "metadata": {},
     "output_type": "display_data"
    }
   ],
   "source": [
    "import matplotlib.pyplot as plt\n",
    "plt.hist(ndgc.ndgc, bins=100);"
   ]
  },
  {
   "cell_type": "markdown",
   "id": "0726a87a-f812-4dd4-a585-e314d8ac2f02",
   "metadata": {},
   "source": [
    "## inspect random query"
   ]
  },
  {
   "cell_type": "code",
   "execution_count": 34,
   "id": "f821e83a-6584-49ca-b73e-b51f5d368a35",
   "metadata": {},
   "outputs": [],
   "source": [
    "p = pd.read_parquet(f'{model}/products-{locale}.parquet')\n",
    "q = pd.read_parquet(f'{model}/queries-{locale}.parquet')"
   ]
  },
  {
   "cell_type": "code",
   "execution_count": 60,
   "id": "2bd090b0-0e02-4095-a529-c2f76f7f5c6f",
   "metadata": {},
   "outputs": [
    {
     "name": "stdout",
     "output_type": "stream",
     "text": [
      "dgc     2.396826\n",
      "idgc    9.411737\n",
      "ndgc    0.254663\n",
      "Name: 9541, dtype: float64\n"
     ]
    },
    {
     "data": {
      "text/plain": [
       "'aparato corrientes fisioterapia'"
      ]
     },
     "execution_count": 60,
     "metadata": {},
     "output_type": "execute_result"
    }
   ],
   "source": [
    "# inspect random query\n",
    "\n",
    "#qid = np.random.choice(np.unique(df_dcg.query_id.values))\n",
    "qid = np.random.choice(ndgc[ndgc.ndgc<.3].index)\n",
    "print (ndgc.loc[qid])\n",
    "bq = df_dcg[df_dcg.query_id==qid]\n",
    "#bq[['query_id', 'query', 'product_id', 'relevance', 'model_rank', 'ideal_rank', 'dgc', 'idgc','product_title']].iloc[:15]\n",
    "q.loc[qid].query"
   ]
  },
  {
   "cell_type": "code",
   "execution_count": 61,
   "id": "e7ef070a-947f-422c-b054-8e5a18721bc6",
   "metadata": {},
   "outputs": [
    {
     "name": "stdout",
     "output_type": "stream",
     "text": [
      "B08SCFNHQ5   <TITLE>Instrumento de fisioterapia, dispositivo de terapia de ondas de choque profesional ED Disposi\n",
      "B08H23JXZN   <TITLE>Instrumento de terapia de ondas de choque extracorpóreo, Máquina de masaje muscular de tejido\n",
      "B093QD9B2Z   <TITLE>Masajeador de ondas de choque ZJchao para aliviar el dolor Máquina de terapia de ondas de cho\n",
      "B08X22TJN9   <TITLE>Instrumento de fisioterapia de ondas de choque ED, máquina de terapia de masajeador de alivio\n",
      "B08BHY62CJ   <TITLE>Máquina de terapia de ondas de choque, tratamiento de alivio del dolor, máquina de terapia po\n",
      "B082DHLXGP   <TITLE>Máquina extracorpórea de terapia de ondas de choque, fisioterapia de tejidos profundos ED Dis\n",
      "B08X4L3DFK   <TITLE>Instrumento de fisioterapia de ondas de choque, dispositivo de terapia de ondas de choque ext\n",
      "B087RLCSVZ   <TITLE>Máquina de Terapia de Ondas de Choque Extracorpórea Electromagnética Masajeador Muscular para\n",
      "B08SVN78H2   <TITLE>Máquina de terapia de ondas de choque, Instrumento de fisioterapia de ondas de choque Máquina\n",
      "B08J7MT1S4   <TITLE>4YANG Máquina de terapia de ondas de choque Masajeador corporal ShockWave, uso para tratamien\n",
      "B098QJWYYC   <TITLE>Máquina de ondas de choque, Máquina de terapia de ondas de choque extracorpóreas, Terapia de \n",
      "B08YK29TM5   <TITLE>Dispositivo de terapia de ondas de choque, tratamiento de disfunción eréctil profesional aliv\n",
      "B097RB2ZKK   <TITLE>Masajeador De Piernas De Compresión De Aire Eléctrico Envolturas De Piernas Tobillos De Pies \n",
      "B08315XQW6   <TITLE>Máquina de Terapia de Ondas de Choque 19ED Máquina de Terapia de Ondas de Choque extracorpóre\n",
      "B08FY27K1W   <TITLE>Máquina de terapia de ondas de choque, pistola de masaje de fisioterapia instrumento alivio d\n",
      "B08PFXBR1S   <TITLE>BHDD Ondas de Choque extracorpóreas, ED Máquina de Terapia de Ondas de Choque Dispositivo de \n",
      "B08C5FG2BV   <TITLE>ZMIN Equipo de Fisioterapia de Ondas de Choque Radial Shock Wave Equipo de Fisioterapia con 7\n",
      "B08QJCHB38   <TITLE>Máquina Terapia Ondas Choque, Multifuncional Onda Sonido Vibrante Máquina Fisioterapia Masaje\n",
      "B08V8MH3HB   <TITLE>Instrumento de Tratamiento de Ondas de Choque Ed, Máquina de Fisioterapia de Ondas de Choque \n",
      "B09FPZSGBJ   <TITLE>Máquina de Terapia de Ondas de Choque ED, Sistema Terapia Dolor, para Tratamiento de Disfunci\n",
      "B07N6GD6PC   <TITLE>Presoterapia Portatil nuevo modelo más completo</TITLE> <DESCRIPTION>Nuevo Modelo de Equipo d\n",
      "B08L63WZC9   <TITLE>S SMAUTOP Máquina De Terapia De Ondas De Choque, Máquina De Terapia De Ondas Corporal De Onda\n",
      "B08QJG3JXR   <TITLE>WRQ Máquina Terapia Ondas Choque Multifuncional Onda Sonido Vibrante Máquina Fisioterapia con\n",
      "B07WJK7CFN * <TITLE>Dispositivo de Terapia de Máquina Decenas de Doble Canal JUMPER para el Manejo del Dolor con \n",
      "B09DT12DJ7   <TITLE>Joyfitness Máquina Masajeadora De Compresión De Aire para Cintura, Pierna, Brazo, Presoterapi\n",
      "B08RZ4HC6K   <TITLE>WRQ Máquina Terapia Ondas Choque Multifuncional Onda Sonido Vibrante Máquina Fisioterapia par\n",
      "B09CFRCRMW   <TITLE>Electroestimulador digital,para aliviar el dolor muscular y el fortalecimiento muscular, masa\n",
      "B0851FV8VV   <TITLE>Denshine Máquina de terapia de ondas de choque para el tratamiento del dolor articular y la d\n",
      "B08CXY7FM6   <TITLE>Máquina extracorpórea de terapia de ondas de choque Tejido profundo ED Tratamiento para el al\n",
      "B0963RWMCL   <TITLE>Masajeador De Ondas De Presión Para Pantorrillas,piernas Y Pies, Masajeador De Piernas,masaje\n",
      "B07JBXX9PH * <TITLE>Laluztop Electroestimulador Digital Masaje Recargable 24 Modes 8 Almohadillas EMS TENS Pantal\n",
      "B089SX64PK   <TITLE>Sonda de terapia de ondas de choque, ED Terapia de ondas de choque extracorpóreas Alivio del \n",
      "B0757X4PDT   <TITLE>Maquina de Presoterapia Profesional Completa - Altas Prestaciones con Procesador Inteligente<\n",
      "B089QP19ZF   <TITLE>ED Terapia de ondas de choque extracorpóreas Masajeador de alivio del dolor Instrumento de fi\n",
      "B082G8TWHQ   <TITLE>Presión del aire Máquina de adelgazamiento con presoterapia con equipo de drenaje linfático P\n",
      "B09532N94Z   <TITLE>Electroestimulador Digital Portatil, 8 Modos Masaje Estimulador Muscular Masajeador Electro, \n",
      "B09GVHK7SX   <TITLE>YUXINCAI Botas De Compresión De Aire De 4 Cavidades Masajeador De Piernas Y Pies, Masajeador \n",
      "B08FQSHVHS   <TITLE>ROOTOK Electroestimulador Muscular Abdominales, Masajeador Eléctrico Cinturón con USB， Estimu\n",
      "B094JCLRDD   <TITLE>Masajeador de Pies, OSITO EMS Maquina de Circulación Sanguínea para Músculos de Pie Pierna Cu\n",
      "B06XC465DS   <TITLE>TRÉBOL ADVANCE Cinta de Correr Semi Profesional 2 HP. 20 Programas con Masaje, Plegable Funci\n"
     ]
    }
   ],
   "source": [
    "for i in range(len(bq)):\n",
    "    pi = p.loc[bq.iloc[i].product_id]\n",
    "    print (pi.name, ('*' if not pd.isna(bq.iloc[i].dgc) else ' '), (pi['product'].replace('\\n',' '))[:100])"
   ]
  },
  {
   "cell_type": "code",
   "execution_count": null,
   "id": "3a4c0371-cfb3-4f9e-95e6-d9dc6bbf80e8",
   "metadata": {},
   "outputs": [],
   "source": []
  }
 ],
 "metadata": {
  "kernelspec": {
   "display_name": "p312",
   "language": "python",
   "name": "p312"
  },
  "language_info": {
   "codemirror_mode": {
    "name": "ipython",
    "version": 3
   },
   "file_extension": ".py",
   "mimetype": "text/x-python",
   "name": "python",
   "nbconvert_exporter": "python",
   "pygments_lexer": "ipython3",
   "version": "3.12.9"
  }
 },
 "nbformat": 4,
 "nbformat_minor": 5
}
