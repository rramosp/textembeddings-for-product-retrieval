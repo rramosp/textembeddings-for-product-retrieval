{
 "cells": [
  {
   "cell_type": "code",
   "execution_count": 1,
   "id": "0ec80c36-03cb-45a5-b6b1-d9146ecef403",
   "metadata": {},
   "outputs": [],
   "source": [
    "import pandas as pd\n",
    "import numpy as np\n",
    "from tqdm import tqdm\n",
    "import utils\n",
    "import json\n",
    "from joblib import Parallel, delayed\n",
    "from time import sleep"
   ]
  },
  {
   "cell_type": "code",
   "execution_count": 2,
   "id": "ab4ee6e2-6620-4e49-bf5c-e525bfbe6727",
   "metadata": {},
   "outputs": [],
   "source": [
    "# clone repo https://github.com/amazon-science/esci-data\n",
    "# previously install git-lfs to download the data files when cloning\n",
    "\n",
    "ESCI_DATASET_ROOT = '/usr/local/google/home/raulramos/projects/esci-data'"
   ]
  },
  {
   "cell_type": "code",
   "execution_count": 3,
   "id": "d04d8818-e9ef-4469-a896-f327a8fdd16f",
   "metadata": {},
   "outputs": [],
   "source": [
    "with open('../../secrets/apikeys.json') as f:\n",
    "    GEMINI_API_KEY = json.load(f)['GEMINI_API_KEY']"
   ]
  },
  {
   "cell_type": "code",
   "execution_count": 4,
   "id": "cb12254e-9cf7-409a-b52a-bfe304424d9c",
   "metadata": {},
   "outputs": [],
   "source": [
    "# set locale\n",
    "\n",
    "locale = 'es'"
   ]
  },
  {
   "cell_type": "code",
   "execution_count": 5,
   "id": "6679689e-ab3d-4f48-8a25-6115a8cf5bc4",
   "metadata": {},
   "outputs": [],
   "source": [
    "# load ground truth\n",
    "dgt = utils.load_examples(ESCI_DATASET_ROOT=ESCI_DATASET_ROOT, locale=locale)"
   ]
  },
  {
   "cell_type": "code",
   "execution_count": null,
   "id": "942cd561-d86e-4d02-b69f-f5474a0b45bc",
   "metadata": {},
   "outputs": [],
   "source": []
  },
  {
   "cell_type": "code",
   "execution_count": 6,
   "id": "eb1f225d-f1f7-41bd-826f-4abe66f5fd4a",
   "metadata": {},
   "outputs": [],
   "source": [
    "queries = dgt.groupby('query_id').first()[['query']]"
   ]
  },
  {
   "cell_type": "code",
   "execution_count": 7,
   "id": "7aaf37b9-cb6b-40ab-820f-ceca640f3b8a",
   "metadata": {},
   "outputs": [
    {
     "name": "stderr",
     "output_type": "stream",
     "text": [
      "259973it [00:15, 16275.91it/s]\n"
     ]
    }
   ],
   "source": [
    "products = dgt.groupby('product_id').first()[['product_title', 'product_description', 'product_bullet_point', 'product_brand', 'product_color']]\n",
    "products = pd.DataFrame([{product_id: utils.get_product_string(pi) for product_id,pi in tqdm(products.iterrows())}], index=['product']).T"
   ]
  },
  {
   "cell_type": "code",
   "execution_count": 8,
   "id": "465e0ec6-4aeb-4a97-a8b6-ec8eaffc6e5c",
   "metadata": {},
   "outputs": [
    {
     "data": {
      "text/plain": [
       "<module 'utils' from '/usr/local/google/home/raulramos/projects/text-embeddings-benchmark/utils.py'>"
      ]
     },
     "execution_count": 8,
     "metadata": {},
     "output_type": "execute_result"
    }
   ],
   "source": [
    "from importlib import reload\n",
    "reload(utils)"
   ]
  },
  {
   "cell_type": "code",
   "execution_count": null,
   "id": "1deb6cfe-d468-4a98-8050-c6d2590eaa76",
   "metadata": {},
   "outputs": [
    {
     "name": "stderr",
     "output_type": "stream",
     "text": [
      " 78%|████████████████████████████████████████████████████████████████████████████████████████████████████████                              | 118/152 [01:58<00:30,  1.11it/s]"
     ]
    }
   ],
   "source": [
    "queries['embeddings'] = utils.get_gemini_batch_embeddings(queries['query'].values, GEMINI_API_KEY)"
   ]
  },
  {
   "cell_type": "code",
   "execution_count": 13,
   "id": "3d19e6e2-d0c7-48bb-9c33-704fb148892f",
   "metadata": {},
   "outputs": [],
   "source": [
    "queries.to_parquet(f'gemini/queries-{locale}.parquet')"
   ]
  },
  {
   "cell_type": "code",
   "execution_count": 15,
   "id": "f29b821b-607d-4073-9d63-edf72b1ca1ae",
   "metadata": {},
   "outputs": [
    {
     "name": "stderr",
     "output_type": "stream",
     "text": [
      "100%|████████████████████████████████████████████████████████████████████████████████████████████████████████████████████████████████████| 1678/1678 [25:16<00:00,  1.11it/s]\n"
     ]
    }
   ],
   "source": [
    "products['embeddings'] = utils.get_gemini_batch_embeddings(products['product'].values, GEMINI_API_KEY)"
   ]
  },
  {
   "cell_type": "code",
   "execution_count": 16,
   "id": "3d0abb4b-13e4-4d19-ac8c-9ad1b743ca9c",
   "metadata": {},
   "outputs": [],
   "source": [
    "products.to_parquet(f'gemini/products-{locale}.parquet')"
   ]
  },
  {
   "cell_type": "code",
   "execution_count": null,
   "id": "472089da-38e0-4869-b98a-cf857d087d2f",
   "metadata": {},
   "outputs": [],
   "source": []
  }
 ],
 "metadata": {
  "kernelspec": {
   "display_name": "p312",
   "language": "python",
   "name": "p312"
  },
  "language_info": {
   "codemirror_mode": {
    "name": "ipython",
    "version": 3
   },
   "file_extension": ".py",
   "mimetype": "text/x-python",
   "name": "python",
   "nbconvert_exporter": "python",
   "pygments_lexer": "ipython3",
   "version": "3.12.5"
  }
 },
 "nbformat": 4,
 "nbformat_minor": 5
}
