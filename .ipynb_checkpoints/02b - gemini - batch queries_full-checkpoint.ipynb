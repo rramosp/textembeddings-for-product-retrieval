{
 "cells": [
  {
   "cell_type": "markdown",
   "id": "9352b0bf-75be-4485-8c0a-56c97dfd3064",
   "metadata": {},
   "source": [
    "# batch makes all queries to get top 40 products relevant for each query"
   ]
  },
  {
   "cell_type": "code",
   "execution_count": 1,
   "id": "27ae0fd4-3b28-4ef0-9faa-764e075177a9",
   "metadata": {},
   "outputs": [],
   "source": [
    "import pandas as pd\n",
    "import numpy as np\n",
    "from tqdm import tqdm\n",
    "from joblib import Parallel, delayed"
   ]
  },
  {
   "cell_type": "code",
   "execution_count": 4,
   "id": "a95c9cd3-25c3-4816-b775-97c2c2d2aa48",
   "metadata": {},
   "outputs": [],
   "source": [
    "model = 'gemini'\n",
    "locale = 'es'"
   ]
  },
  {
   "cell_type": "code",
   "execution_count": 5,
   "id": "d2f61b2d-cf83-4b44-ae51-04fb3a36411e",
   "metadata": {},
   "outputs": [],
   "source": [
    "q = pd.read_parquet(f'{model}/queries-{locale}.parquet')"
   ]
  },
  {
   "cell_type": "code",
   "execution_count": 6,
   "id": "edc6e349-a8f0-4a78-bbf7-e1a5cf8b7a2b",
   "metadata": {},
   "outputs": [],
   "source": [
    "p = pd.read_parquet(f'{model}/products-{locale}.parquet')"
   ]
  },
  {
   "cell_type": "code",
   "execution_count": 7,
   "id": "8aca26de-6c79-4732-8d89-d5a82ab64ecf",
   "metadata": {},
   "outputs": [
    {
     "data": {
      "text/plain": [
       "((15180, 2), (259973, 2))"
      ]
     },
     "execution_count": 7,
     "metadata": {},
     "output_type": "execute_result"
    }
   ],
   "source": [
    "q.shape, p.shape"
   ]
  },
  {
   "cell_type": "code",
   "execution_count": 8,
   "id": "a2e7381b-74ec-45be-b3b2-72bf23564fcd",
   "metadata": {},
   "outputs": [
    {
     "data": {
      "text/plain": [
       "((15180, 768), (259973, 768))"
      ]
     },
     "execution_count": 8,
     "metadata": {},
     "output_type": "execute_result"
    }
   ],
   "source": [
    "qe = np.stack(q.embeddings.values)\n",
    "pe = np.stack(p.embeddings.values)\n",
    "qe.shape, pe.shape"
   ]
  },
  {
   "cell_type": "code",
   "execution_count": 7,
   "id": "74d34289-8720-4b5d-9fe3-e9ebd963cd37",
   "metadata": {},
   "outputs": [],
   "source": [
    "qi = qe[0]"
   ]
  },
  {
   "cell_type": "code",
   "execution_count": 9,
   "id": "40e27f77-d5d5-4c05-bd0a-88157e418cf3",
   "metadata": {},
   "outputs": [],
   "source": [
    "def get_dotp_closests_idxs(q_embedding,p_embeddings_matrix, topk=40):\n",
    "    return np.argsort( p_embeddings_matrix.dot(q_embedding) )[-topk:][::-1]\n"
   ]
  },
  {
   "cell_type": "code",
   "execution_count": null,
   "id": "e9fc1661-5010-4f00-9d28-94d0498e9154",
   "metadata": {},
   "outputs": [],
   "source": []
  },
  {
   "cell_type": "code",
   "execution_count": null,
   "id": "d1d9268b-2654-4673-8cd4-637ad8cf9ddf",
   "metadata": {},
   "outputs": [
    {
     "name": "stderr",
     "output_type": "stream",
     "text": [
      "[Parallel(n_jobs=-1)]: Using backend ThreadingBackend with 8 concurrent workers.\n",
      "[Parallel(n_jobs=-1)]: Done   2 tasks      | elapsed:    0.3s\n",
      "[Parallel(n_jobs=-1)]: Done  56 tasks      | elapsed:    2.2s\n",
      "[Parallel(n_jobs=-1)]: Done 146 tasks      | elapsed:    5.0s\n",
      "[Parallel(n_jobs=-1)]: Done 272 tasks      | elapsed:    9.1s\n",
      "[Parallel(n_jobs=-1)]: Done 434 tasks      | elapsed:   14.2s\n",
      "[Parallel(n_jobs=-1)]: Done 632 tasks      | elapsed:   20.4s\n",
      "[Parallel(n_jobs=-1)]: Done 866 tasks      | elapsed:   27.6s\n",
      "[Parallel(n_jobs=-1)]: Done 1136 tasks      | elapsed:   36.3s\n",
      "[Parallel(n_jobs=-1)]: Done 1442 tasks      | elapsed:   46.5s\n",
      "[Parallel(n_jobs=-1)]: Done 1784 tasks      | elapsed:   57.9s\n",
      "[Parallel(n_jobs=-1)]: Done 2162 tasks      | elapsed:  1.2min\n",
      "[Parallel(n_jobs=-1)]: Done 2576 tasks      | elapsed:  1.4min\n",
      "[Parallel(n_jobs=-1)]: Done 3026 tasks      | elapsed:  1.7min\n",
      "[Parallel(n_jobs=-1)]: Done 3512 tasks      | elapsed:  2.0min\n",
      "[Parallel(n_jobs=-1)]: Done 4034 tasks      | elapsed:  2.3min\n",
      "[Parallel(n_jobs=-1)]: Done 4592 tasks      | elapsed:  2.6min\n",
      "[Parallel(n_jobs=-1)]: Done 5186 tasks      | elapsed:  2.9min\n",
      "[Parallel(n_jobs=-1)]: Done 5816 tasks      | elapsed:  3.3min\n",
      "[Parallel(n_jobs=-1)]: Done 6482 tasks      | elapsed:  3.6min\n",
      "[Parallel(n_jobs=-1)]: Done 7184 tasks      | elapsed:  4.0min\n",
      "[Parallel(n_jobs=-1)]: Done 7922 tasks      | elapsed:  4.4min\n",
      "[Parallel(n_jobs=-1)]: Done 8696 tasks      | elapsed:  4.8min\n",
      "[Parallel(n_jobs=-1)]: Done 9506 tasks      | elapsed:  5.3min\n",
      "[Parallel(n_jobs=-1)]: Done 10352 tasks      | elapsed:  5.7min\n",
      "[Parallel(n_jobs=-1)]: Done 11234 tasks      | elapsed:  6.2min\n",
      "[Parallel(n_jobs=-1)]: Done 12152 tasks      | elapsed:  6.9min\n",
      "[Parallel(n_jobs=-1)]: Done 13106 tasks      | elapsed:  7.7min\n"
     ]
    }
   ],
   "source": [
    "qnn = Parallel(n_jobs=-1, verbose=5, prefer='threads')(delayed(get_dotp_closests_idxs)(qi,pe) for qi in qe)"
   ]
  },
  {
   "cell_type": "code",
   "execution_count": 21,
   "id": "b258a2ed-a39c-4fcd-9303-267b6448a475",
   "metadata": {},
   "outputs": [
    {
     "data": {
      "text/plain": [
       "array([ 15656,  52031,  45378, 101655,  52855,  95519,  81247,  78573,\n",
       "        76855,  45839, 106639,  45927,  36356, 119329,  69711,  31470,\n",
       "       114362, 112287, 111813, 141540,  72882, 114055, 114053,  84736,\n",
       "        91571,  91570, 152210, 165589, 101158,  73089,  81492, 108548,\n",
       "        44015, 133191,  48123,  84020,  54317,  41387,  39492,  82285])"
      ]
     },
     "execution_count": 21,
     "metadata": {},
     "output_type": "execute_result"
    }
   ],
   "source": [
    "qnn[0]"
   ]
  },
  {
   "cell_type": "code",
   "execution_count": 11,
   "id": "7f631a25-80f6-4978-a327-6bab22254386",
   "metadata": {},
   "outputs": [
    {
     "data": {
      "text/plain": [
       "array([ 82285,  39492,  41387,  54317,  84020,  48123, 133191,  44015,\n",
       "       108548,  81492,  73089, 101158, 165589, 152210,  91570,  91571,\n",
       "        84736, 114053, 114055,  72882, 141540, 111813, 112287, 114362,\n",
       "        31470,  69711, 119329,  36356,  45927, 106639,  45839,  76855,\n",
       "        78573,  81247,  95519,  52855, 101655,  45378,  52031,  15656])"
      ]
     },
     "execution_count": 11,
     "metadata": {},
     "output_type": "execute_result"
    }
   ],
   "source": [
    "qnn[0]"
   ]
  },
  {
   "cell_type": "code",
   "execution_count": 22,
   "id": "c402f19b-5c2d-4a9d-912e-43f9312136ba",
   "metadata": {},
   "outputs": [],
   "source": [
    "q['top40_products'] = [p.index[qnni] for qnni in qnn]"
   ]
  },
  {
   "cell_type": "code",
   "execution_count": 23,
   "id": "5675f1b3-c2ee-483e-8046-eef73df2d325",
   "metadata": {},
   "outputs": [
    {
     "name": "stderr",
     "output_type": "stream",
     "text": [
      "8049it [00:11, 725.28it/s] \n"
     ]
    }
   ],
   "source": [
    "qr = []\n",
    "for query_id, qi in tqdm(q.iterrows()):\n",
    "    for product_id in qi.top40_products.values:\n",
    "        qr.append([query_id, product_id])\n",
    "    "
   ]
  },
  {
   "cell_type": "code",
   "execution_count": 24,
   "id": "f1775f3a-91f7-44db-8d3e-b3cf15975bd6",
   "metadata": {},
   "outputs": [],
   "source": [
    "pd.DataFrame(qr, columns = ['query_id', 'product_id']).to_csv(f'{model}/embeddings_dotp_ranking_{locale}.csv', index=False)"
   ]
  },
  {
   "cell_type": "code",
   "execution_count": null,
   "id": "a64854de-cc44-45f8-84c9-023293349c81",
   "metadata": {},
   "outputs": [],
   "source": []
  }
 ],
 "metadata": {
  "kernelspec": {
   "display_name": "p312",
   "language": "python",
   "name": "p312"
  },
  "language_info": {
   "codemirror_mode": {
    "name": "ipython",
    "version": 3
   },
   "file_extension": ".py",
   "mimetype": "text/x-python",
   "name": "python",
   "nbconvert_exporter": "python",
   "pygments_lexer": "ipython3",
   "version": "3.12.5"
  }
 },
 "nbformat": 4,
 "nbformat_minor": 5
}
