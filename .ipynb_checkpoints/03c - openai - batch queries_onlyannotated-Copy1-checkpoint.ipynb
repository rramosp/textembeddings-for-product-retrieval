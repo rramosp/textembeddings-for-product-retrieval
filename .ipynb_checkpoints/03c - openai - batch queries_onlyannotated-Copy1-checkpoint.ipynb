{
 "cells": [
  {
   "cell_type": "markdown",
   "id": "9352b0bf-75be-4485-8c0a-56c97dfd3064",
   "metadata": {},
   "source": [
    "# batch makes all queries to get top 40 products relevant for each query"
   ]
  },
  {
   "cell_type": "code",
   "execution_count": 1,
   "id": "27ae0fd4-3b28-4ef0-9faa-764e075177a9",
   "metadata": {},
   "outputs": [],
   "source": [
    "import pandas as pd\n",
    "import numpy as np\n",
    "from tqdm import tqdm\n",
    "from joblib import Parallel, delayed\n",
    "import utils"
   ]
  },
  {
   "cell_type": "code",
   "execution_count": 2,
   "id": "619516f1-8fc4-4814-9d74-35902a690852",
   "metadata": {},
   "outputs": [
    {
     "data": {
      "text/plain": [
       "'/opt/conda/envs/p312/bin/python'"
      ]
     },
     "execution_count": 2,
     "metadata": {},
     "output_type": "execute_result"
    }
   ],
   "source": [
    "import sys\n",
    "sys.executable"
   ]
  },
  {
   "cell_type": "code",
   "execution_count": 3,
   "id": "a95c9cd3-25c3-4816-b775-97c2c2d2aa48",
   "metadata": {},
   "outputs": [],
   "source": [
    "model = 'gemini'\n",
    "locale = 'es'"
   ]
  },
  {
   "cell_type": "code",
   "execution_count": 4,
   "id": "25f3efbd-ce45-4213-972a-433fb9929cd3",
   "metadata": {},
   "outputs": [],
   "source": [
    "ESCI_DATASET_ROOT = '/usr/local/google/home/raulramos/projects/esci-data'\n",
    "\n",
    "dgt = utils.load_examples(ESCI_DATASET_ROOT=ESCI_DATASET_ROOT, locale=locale)"
   ]
  },
  {
   "cell_type": "code",
   "execution_count": 5,
   "id": "d2f61b2d-cf83-4b44-ae51-04fb3a36411e",
   "metadata": {},
   "outputs": [],
   "source": [
    "q = pd.read_parquet(f'{model}/queries-{locale}.parquet')"
   ]
  },
  {
   "cell_type": "code",
   "execution_count": 6,
   "id": "edc6e349-a8f0-4a78-bbf7-e1a5cf8b7a2b",
   "metadata": {},
   "outputs": [],
   "source": [
    "p = pd.read_parquet(f'{model}/products-{locale}.parquet')"
   ]
  },
  {
   "cell_type": "code",
   "execution_count": 7,
   "id": "8aca26de-6c79-4732-8d89-d5a82ab64ecf",
   "metadata": {},
   "outputs": [
    {
     "data": {
      "text/plain": [
       "((15180, 2), (259973, 2))"
      ]
     },
     "execution_count": 7,
     "metadata": {},
     "output_type": "execute_result"
    }
   ],
   "source": [
    "q.shape, p.shape"
   ]
  },
  {
   "cell_type": "code",
   "execution_count": 8,
   "id": "a2e7381b-74ec-45be-b3b2-72bf23564fcd",
   "metadata": {},
   "outputs": [
    {
     "data": {
      "text/plain": [
       "((15180, 768), (259973, 768))"
      ]
     },
     "execution_count": 8,
     "metadata": {},
     "output_type": "execute_result"
    }
   ],
   "source": [
    "qe = np.stack(q.embeddings.values.copy())\n",
    "pe = np.stack(p.embeddings.values.copy())\n",
    "qe.shape, pe.shape"
   ]
  },
  {
   "cell_type": "code",
   "execution_count": 9,
   "id": "40e27f77-d5d5-4c05-bd0a-88157e418cf3",
   "metadata": {},
   "outputs": [],
   "source": [
    "def get_dotp_closests_idxs_onlyannotated(query_id):\n",
    "\n",
    "    q_embeddings = q.loc[query_id].embeddings\n",
    "\n",
    "    prod_ids = dgt[dgt.query_id == query_id].product_id.values\n",
    "    pq = p.loc[prod_ids]\n",
    "    p_embeddings = np.stack(pq.embeddings.values)\n",
    "    return list(pq.index[np.argsort(p_embeddings.dot(q_embeddings))[::-1]])\n"
   ]
  },
  {
   "cell_type": "code",
   "execution_count": 11,
   "id": "d1d9268b-2654-4673-8cd4-637ad8cf9ddf",
   "metadata": {},
   "outputs": [
    {
     "name": "stderr",
     "output_type": "stream",
     "text": [
      "[Parallel(n_jobs=-1)]: Using backend ThreadingBackend with 64 concurrent workers.\n",
      "[Parallel(n_jobs=-1)]: Done  34 tasks      | elapsed:    0.1s\n",
      "[Parallel(n_jobs=-1)]: Done 160 tasks      | elapsed:    0.4s\n",
      "[Parallel(n_jobs=-1)]: Done 322 tasks      | elapsed:    0.7s\n",
      "[Parallel(n_jobs=-1)]: Done 520 tasks      | elapsed:    1.0s\n",
      "[Parallel(n_jobs=-1)]: Done 754 tasks      | elapsed:    1.3s\n",
      "[Parallel(n_jobs=-1)]: Done 1024 tasks      | elapsed:    1.7s\n",
      "[Parallel(n_jobs=-1)]: Done 1330 tasks      | elapsed:    2.1s\n",
      "[Parallel(n_jobs=-1)]: Done 1672 tasks      | elapsed:    2.7s\n",
      "[Parallel(n_jobs=-1)]: Done 2050 tasks      | elapsed:    3.2s\n",
      "[Parallel(n_jobs=-1)]: Done 2464 tasks      | elapsed:    3.8s\n",
      "[Parallel(n_jobs=-1)]: Done 2914 tasks      | elapsed:    4.5s\n",
      "[Parallel(n_jobs=-1)]: Done 3400 tasks      | elapsed:    5.1s\n",
      "[Parallel(n_jobs=-1)]: Done 3922 tasks      | elapsed:    5.9s\n",
      "[Parallel(n_jobs=-1)]: Done 4480 tasks      | elapsed:    6.7s\n",
      "[Parallel(n_jobs=-1)]: Done 5074 tasks      | elapsed:    7.5s\n",
      "[Parallel(n_jobs=-1)]: Done 5704 tasks      | elapsed:    8.5s\n",
      "[Parallel(n_jobs=-1)]: Done 6370 tasks      | elapsed:    9.4s\n",
      "[Parallel(n_jobs=-1)]: Done 7072 tasks      | elapsed:   10.5s\n",
      "[Parallel(n_jobs=-1)]: Done 7810 tasks      | elapsed:   11.6s\n",
      "[Parallel(n_jobs=-1)]: Done 8584 tasks      | elapsed:   12.8s\n",
      "[Parallel(n_jobs=-1)]: Done 9394 tasks      | elapsed:   13.9s\n",
      "[Parallel(n_jobs=-1)]: Done 10240 tasks      | elapsed:   15.1s\n",
      "[Parallel(n_jobs=-1)]: Done 11122 tasks      | elapsed:   16.4s\n",
      "[Parallel(n_jobs=-1)]: Done 12040 tasks      | elapsed:   17.7s\n",
      "[Parallel(n_jobs=-1)]: Done 12994 tasks      | elapsed:   19.1s\n",
      "[Parallel(n_jobs=-1)]: Done 13984 tasks      | elapsed:   20.6s\n",
      "[Parallel(n_jobs=-1)]: Done 15010 tasks      | elapsed:   22.1s\n",
      "[Parallel(n_jobs=-1)]: Done 15180 out of 15180 | elapsed:   22.3s finished\n"
     ]
    }
   ],
   "source": [
    "qnn = Parallel(n_jobs=-1, verbose=5, prefer='threads')(delayed(get_dotp_closests_idxs_onlyannotated)(qi) for qi in q.index)"
   ]
  },
  {
   "cell_type": "code",
   "execution_count": 12,
   "id": "c402f19b-5c2d-4a9d-912e-43f9312136ba",
   "metadata": {},
   "outputs": [],
   "source": [
    "q['top40_products'] = qnn"
   ]
  },
  {
   "cell_type": "code",
   "execution_count": 13,
   "id": "3cc7305c-e5c7-4817-ba5d-036276f10884",
   "metadata": {},
   "outputs": [
    {
     "data": {
      "text/html": [
       "<div>\n",
       "<style scoped>\n",
       "    .dataframe tbody tr th:only-of-type {\n",
       "        vertical-align: middle;\n",
       "    }\n",
       "\n",
       "    .dataframe tbody tr th {\n",
       "        vertical-align: top;\n",
       "    }\n",
       "\n",
       "    .dataframe thead th {\n",
       "        text-align: right;\n",
       "    }\n",
       "</style>\n",
       "<table border=\"1\" class=\"dataframe\">\n",
       "  <thead>\n",
       "    <tr style=\"text-align: right;\">\n",
       "      <th></th>\n",
       "      <th>query</th>\n",
       "      <th>embeddings</th>\n",
       "      <th>top40_products</th>\n",
       "    </tr>\n",
       "    <tr>\n",
       "      <th>query_id</th>\n",
       "      <th></th>\n",
       "      <th></th>\n",
       "      <th></th>\n",
       "    </tr>\n",
       "  </thead>\n",
       "  <tbody>\n",
       "    <tr>\n",
       "      <th>3</th>\n",
       "      <td>!solid camiseta sin manga</td>\n",
       "      <td>[-0.04055759, 0.0099594435, 0.020765519, 0.002...</td>\n",
       "      <td>[B07Q3251CF, B088SR4RS3, B07W5H99YX, B095G3N3X...</td>\n",
       "    </tr>\n",
       "    <tr>\n",
       "      <th>4</th>\n",
       "      <td>\"vitamina c\"</td>\n",
       "      <td>[0.012071465, 0.002740369, -0.014514849, -0.03...</td>\n",
       "      <td>[B073Q4Z7XL, B073GSMPNW, B08QZ78HGB, B08CZ7F6N...</td>\n",
       "    </tr>\n",
       "    <tr>\n",
       "      <th>31</th>\n",
       "      <td>#27 rubio oscuro extensiones sin clip</td>\n",
       "      <td>[-0.039591387, 0.015862327, -0.01659879, -0.03...</td>\n",
       "      <td>[B08X6M87Y5, B087FWY7LW, B08R17MCP9, B08M8PDX3...</td>\n",
       "    </tr>\n",
       "    <tr>\n",
       "      <th>110</th>\n",
       "      <td>% pura manteca de karite sin aditivos sin olor</td>\n",
       "      <td>[0.012794739, 0.01580022, 0.0056419247, -0.040...</td>\n",
       "      <td>[B08V4TTSFG, B08V1ZZY32, B00X1JJLJ8, B00MY7O91...</td>\n",
       "    </tr>\n",
       "    <tr>\n",
       "      <th>130</th>\n",
       "      <td>'el verano sin hombres'</td>\n",
       "      <td>[-0.035371274, -0.020628797, 0.032183185, 0.03...</td>\n",
       "      <td>[8432236950, B098899B4X, 8491819959, B094DQFQX...</td>\n",
       "    </tr>\n",
       "    <tr>\n",
       "      <th>...</th>\n",
       "      <td>...</td>\n",
       "      <td>...</td>\n",
       "      <td>...</td>\n",
       "    </tr>\n",
       "    <tr>\n",
       "      <th>115942</th>\n",
       "      <td>árbol navidad</td>\n",
       "      <td>[-0.024797823, 0.022182858, 0.00029902192, 0.0...</td>\n",
       "      <td>[B07XC16LJ5, B07Z3P86DP, B07GF5VLV1, B07X9182W...</td>\n",
       "    </tr>\n",
       "    <tr>\n",
       "      <th>115943</th>\n",
       "      <td>árbol navidad infantil</td>\n",
       "      <td>[-0.0296712, 0.003702432, -0.01044168, -0.0066...</td>\n",
       "      <td>[B07Z3P86DP, B07GF5VLV1, B07YKHMF9Y, B07WC578H...</td>\n",
       "    </tr>\n",
       "    <tr>\n",
       "      <th>115944</th>\n",
       "      <td>árbol navidad madera</td>\n",
       "      <td>[-0.030937139, 0.05824799, 0.0020262604, -0.01...</td>\n",
       "      <td>[B07K2K9JTF, B07L9ZLNVS, B077Q8L3JX, B07ZNQL76...</td>\n",
       "    </tr>\n",
       "    <tr>\n",
       "      <th>115946</th>\n",
       "      <td>árvore de natal</td>\n",
       "      <td>[-0.0084783295, 0.023883473, 0.0031354125, -0....</td>\n",
       "      <td>[B08GG5GZ9P, B09HRNH652, B01N4HT4UX, B09DXKZ7T...</td>\n",
       "    </tr>\n",
       "    <tr>\n",
       "      <th>115947</th>\n",
       "      <td>óxido nítrico amix</td>\n",
       "      <td>[-0.030400475, 0.013427394, -0.00073777116, -0...</td>\n",
       "      <td>[B01GLW8L1U, B00BUILMIK, B017UW5TKG, B00JU9UK3...</td>\n",
       "    </tr>\n",
       "  </tbody>\n",
       "</table>\n",
       "<p>15180 rows × 3 columns</p>\n",
       "</div>"
      ],
      "text/plain": [
       "                                                   query  \\\n",
       "query_id                                                   \n",
       "3                              !solid camiseta sin manga   \n",
       "4                                           \"vitamina c\"   \n",
       "31                 #27 rubio oscuro extensiones sin clip   \n",
       "110       % pura manteca de karite sin aditivos sin olor   \n",
       "130                              'el verano sin hombres'   \n",
       "...                                                  ...   \n",
       "115942                                     árbol navidad   \n",
       "115943                            árbol navidad infantil   \n",
       "115944                              árbol navidad madera   \n",
       "115946                                   árvore de natal   \n",
       "115947                                óxido nítrico amix   \n",
       "\n",
       "                                                 embeddings  \\\n",
       "query_id                                                      \n",
       "3         [-0.04055759, 0.0099594435, 0.020765519, 0.002...   \n",
       "4         [0.012071465, 0.002740369, -0.014514849, -0.03...   \n",
       "31        [-0.039591387, 0.015862327, -0.01659879, -0.03...   \n",
       "110       [0.012794739, 0.01580022, 0.0056419247, -0.040...   \n",
       "130       [-0.035371274, -0.020628797, 0.032183185, 0.03...   \n",
       "...                                                     ...   \n",
       "115942    [-0.024797823, 0.022182858, 0.00029902192, 0.0...   \n",
       "115943    [-0.0296712, 0.003702432, -0.01044168, -0.0066...   \n",
       "115944    [-0.030937139, 0.05824799, 0.0020262604, -0.01...   \n",
       "115946    [-0.0084783295, 0.023883473, 0.0031354125, -0....   \n",
       "115947    [-0.030400475, 0.013427394, -0.00073777116, -0...   \n",
       "\n",
       "                                             top40_products  \n",
       "query_id                                                     \n",
       "3         [B07Q3251CF, B088SR4RS3, B07W5H99YX, B095G3N3X...  \n",
       "4         [B073Q4Z7XL, B073GSMPNW, B08QZ78HGB, B08CZ7F6N...  \n",
       "31        [B08X6M87Y5, B087FWY7LW, B08R17MCP9, B08M8PDX3...  \n",
       "110       [B08V4TTSFG, B08V1ZZY32, B00X1JJLJ8, B00MY7O91...  \n",
       "130       [8432236950, B098899B4X, 8491819959, B094DQFQX...  \n",
       "...                                                     ...  \n",
       "115942    [B07XC16LJ5, B07Z3P86DP, B07GF5VLV1, B07X9182W...  \n",
       "115943    [B07Z3P86DP, B07GF5VLV1, B07YKHMF9Y, B07WC578H...  \n",
       "115944    [B07K2K9JTF, B07L9ZLNVS, B077Q8L3JX, B07ZNQL76...  \n",
       "115946    [B08GG5GZ9P, B09HRNH652, B01N4HT4UX, B09DXKZ7T...  \n",
       "115947    [B01GLW8L1U, B00BUILMIK, B017UW5TKG, B00JU9UK3...  \n",
       "\n",
       "[15180 rows x 3 columns]"
      ]
     },
     "execution_count": 13,
     "metadata": {},
     "output_type": "execute_result"
    }
   ],
   "source": [
    "q"
   ]
  },
  {
   "cell_type": "code",
   "execution_count": 14,
   "id": "5675f1b3-c2ee-483e-8046-eef73df2d325",
   "metadata": {},
   "outputs": [
    {
     "name": "stderr",
     "output_type": "stream",
     "text": [
      "15180it [00:01, 13174.56it/s]\n"
     ]
    }
   ],
   "source": [
    "qr = []\n",
    "for query_id, qi in tqdm(q.iterrows()):\n",
    "    for product_id in qi.top40_products:\n",
    "        qr.append([query_id, product_id])\n",
    "    "
   ]
  },
  {
   "cell_type": "code",
   "execution_count": 15,
   "id": "f1775f3a-91f7-44db-8d3e-b3cf15975bd6",
   "metadata": {},
   "outputs": [],
   "source": [
    "pd.DataFrame(qr, columns = ['query_id', 'product_id']).to_csv(f'{model}/embeddings_dotp_ranking_onlyannotated_{locale}.csv', index=False)"
   ]
  },
  {
   "cell_type": "code",
   "execution_count": null,
   "id": "953da708-5c54-4cb1-a5a5-aaf2ca6a5fc4",
   "metadata": {},
   "outputs": [],
   "source": []
  }
 ],
 "metadata": {
  "kernelspec": {
   "display_name": "p312",
   "language": "python",
   "name": "p312"
  },
  "language_info": {
   "codemirror_mode": {
    "name": "ipython",
    "version": 3
   },
   "file_extension": ".py",
   "mimetype": "text/x-python",
   "name": "python",
   "nbconvert_exporter": "python",
   "pygments_lexer": "ipython3",
   "version": "3.12.9"
  }
 },
 "nbformat": 4,
 "nbformat_minor": 5
}
