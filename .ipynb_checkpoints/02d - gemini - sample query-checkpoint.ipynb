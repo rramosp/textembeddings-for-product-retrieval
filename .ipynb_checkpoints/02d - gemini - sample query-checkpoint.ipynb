{
 "cells": [
  {
   "cell_type": "code",
   "execution_count": 45,
   "id": "27ae0fd4-3b28-4ef0-9faa-764e075177a9",
   "metadata": {},
   "outputs": [],
   "source": [
    "import pandas as pd\n",
    "import numpy as np\n",
    "from tqdm import tqdm\n",
    "from joblib import Parallel, delayed"
   ]
  },
  {
   "cell_type": "code",
   "execution_count": 2,
   "id": "d2f61b2d-cf83-4b44-ae51-04fb3a36411e",
   "metadata": {},
   "outputs": [],
   "source": [
    "q = pd.read_parquet('gemini/queries.parquet')"
   ]
  },
  {
   "cell_type": "code",
   "execution_count": 3,
   "id": "edc6e349-a8f0-4a78-bbf7-e1a5cf8b7a2b",
   "metadata": {},
   "outputs": [],
   "source": [
    "p = pd.read_parquet('gemini/products.parquet')"
   ]
  },
  {
   "cell_type": "code",
   "execution_count": 4,
   "id": "8aca26de-6c79-4732-8d89-d5a82ab64ecf",
   "metadata": {},
   "outputs": [
    {
     "data": {
      "text/plain": [
       "((8049, 2), (167761, 2))"
      ]
     },
     "execution_count": 4,
     "metadata": {},
     "output_type": "execute_result"
    }
   ],
   "source": [
    "q.shape, p.shape"
   ]
  },
  {
   "cell_type": "code",
   "execution_count": 18,
   "id": "a2e7381b-74ec-45be-b3b2-72bf23564fcd",
   "metadata": {},
   "outputs": [
    {
     "data": {
      "text/plain": [
       "((8049, 768), (167761, 768))"
      ]
     },
     "execution_count": 18,
     "metadata": {},
     "output_type": "execute_result"
    }
   ],
   "source": [
    "qe = np.stack(q.embeddings.values)\n",
    "pe = np.stack(p.embeddings.values)\n",
    "qe.shape, pe.shape"
   ]
  },
  {
   "cell_type": "code",
   "execution_count": 19,
   "id": "74d34289-8720-4b5d-9fe3-e9ebd963cd37",
   "metadata": {},
   "outputs": [],
   "source": [
    "qi = qe[0]"
   ]
  },
  {
   "cell_type": "code",
   "execution_count": 35,
   "id": "40e27f77-d5d5-4c05-bd0a-88157e418cf3",
   "metadata": {},
   "outputs": [],
   "source": [
    "def get_euclid_closests_idxs(qi,pe):\n",
    "    return np.argsort(((pe-qi) ** 2 ).sum(axis=0))[:40]"
   ]
  },
  {
   "cell_type": "code",
   "execution_count": 62,
   "id": "5c4cd5a4-c038-4ff4-b291-739617e27e44",
   "metadata": {},
   "outputs": [
    {
     "data": {
      "text/plain": [
       "array([1, 3, 0, 2])"
      ]
     },
     "execution_count": 62,
     "metadata": {},
     "output_type": "execute_result"
    }
   ],
   "source": [
    "np.argsort([10,0,20,5])"
   ]
  },
  {
   "cell_type": "code",
   "execution_count": null,
   "id": "7c7fda98-ed4e-448d-9b69-41e55034c819",
   "metadata": {},
   "outputs": [],
   "source": []
  },
  {
   "cell_type": "code",
   "execution_count": null,
   "id": "e9fc1661-5010-4f00-9d28-94d0498e9154",
   "metadata": {},
   "outputs": [],
   "source": []
  },
  {
   "cell_type": "code",
   "execution_count": 38,
   "id": "d1d9268b-2654-4673-8cd4-637ad8cf9ddf",
   "metadata": {},
   "outputs": [
    {
     "name": "stderr",
     "output_type": "stream",
     "text": [
      "[Parallel(n_jobs=-1)]: Using backend ThreadingBackend with 8 concurrent workers.\n",
      "[Parallel(n_jobs=-1)]: Done   2 tasks      | elapsed:    0.6s\n",
      "[Parallel(n_jobs=-1)]: Done  56 tasks      | elapsed:    5.0s\n",
      "[Parallel(n_jobs=-1)]: Done 146 tasks      | elapsed:   12.3s\n",
      "[Parallel(n_jobs=-1)]: Done 272 tasks      | elapsed:   23.1s\n",
      "[Parallel(n_jobs=-1)]: Done 434 tasks      | elapsed:   36.4s\n",
      "[Parallel(n_jobs=-1)]: Done 632 tasks      | elapsed:   52.1s\n",
      "[Parallel(n_jobs=-1)]: Done 866 tasks      | elapsed:  1.2min\n",
      "[Parallel(n_jobs=-1)]: Done 1136 tasks      | elapsed:  1.5min\n",
      "[Parallel(n_jobs=-1)]: Done 1442 tasks      | elapsed:  1.9min\n",
      "[Parallel(n_jobs=-1)]: Done 1784 tasks      | elapsed:  2.4min\n",
      "[Parallel(n_jobs=-1)]: Done 2162 tasks      | elapsed:  2.9min\n",
      "[Parallel(n_jobs=-1)]: Done 2576 tasks      | elapsed:  3.5min\n",
      "[Parallel(n_jobs=-1)]: Done 3026 tasks      | elapsed:  4.1min\n",
      "[Parallel(n_jobs=-1)]: Done 3512 tasks      | elapsed:  4.8min\n",
      "[Parallel(n_jobs=-1)]: Done 4034 tasks      | elapsed:  5.5min\n",
      "[Parallel(n_jobs=-1)]: Done 4592 tasks      | elapsed:  6.3min\n",
      "[Parallel(n_jobs=-1)]: Done 5186 tasks      | elapsed:  7.1min\n",
      "[Parallel(n_jobs=-1)]: Done 5816 tasks      | elapsed:  7.9min\n",
      "[Parallel(n_jobs=-1)]: Done 6482 tasks      | elapsed:  8.9min\n",
      "[Parallel(n_jobs=-1)]: Done 7184 tasks      | elapsed:  9.8min\n",
      "[Parallel(n_jobs=-1)]: Done 7922 tasks      | elapsed: 10.8min\n",
      "[Parallel(n_jobs=-1)]: Done 8049 out of 8049 | elapsed: 11.0min finished\n"
     ]
    }
   ],
   "source": [
    "qnn = Parallel(n_jobs=-1, verbose=5, prefer='threads')(delayed(get_euclid_closests_idxs)(qi,pe) for qi in qe)"
   ]
  },
  {
   "cell_type": "code",
   "execution_count": 39,
   "id": "7f631a25-80f6-4978-a327-6bab22254386",
   "metadata": {},
   "outputs": [
    {
     "data": {
      "text/plain": [
       "array([577, 637, 513, 340, 475, 420, 497, 354, 543, 448, 636, 620, 398,\n",
       "       290, 369, 640, 478, 356, 269, 342, 689, 710, 267, 547, 668, 684,\n",
       "       683, 370, 554, 329, 674, 596, 485, 289, 734, 680, 141, 377, 436,\n",
       "       714])"
      ]
     },
     "execution_count": 39,
     "metadata": {},
     "output_type": "execute_result"
    }
   ],
   "source": [
    "qnn[0]"
   ]
  },
  {
   "cell_type": "code",
   "execution_count": 49,
   "id": "c402f19b-5c2d-4a9d-912e-43f9312136ba",
   "metadata": {},
   "outputs": [],
   "source": [
    "q['top40_products'] = [p.index[qnni] for qnni in qnn]"
   ]
  },
  {
   "cell_type": "code",
   "execution_count": 59,
   "id": "5675f1b3-c2ee-483e-8046-eef73df2d325",
   "metadata": {},
   "outputs": [
    {
     "name": "stderr",
     "output_type": "stream",
     "text": [
      "8049it [00:01, 7132.33it/s]\n"
     ]
    }
   ],
   "source": [
    "qr = []\n",
    "for query_id, qi in tqdm(q.iterrows()):\n",
    "    for product_id in qi.top40_products.values:\n",
    "        qr.append([query_id, product_id])\n",
    "    "
   ]
  },
  {
   "cell_type": "code",
   "execution_count": 63,
   "id": "f1775f3a-91f7-44db-8d3e-b3cf15975bd6",
   "metadata": {},
   "outputs": [],
   "source": [
    "pd.DataFrame(qr, columns = ['query_id', 'product_id']).to_csv('gemini/gemini_embeddings_euclidean_ranking_es.csv', index=False)"
   ]
  },
  {
   "cell_type": "code",
   "execution_count": 57,
   "id": "dcedba6c-366f-41df-8ac1-4da15552a689",
   "metadata": {},
   "outputs": [
    {
     "data": {
      "text/plain": [
       "query                                     !solid camiseta sin manga\n",
       "embeddings        [-0.04055759, 0.0099594435, 0.020765519, 0.002...\n",
       "top40_products    Index(['1095479849', '125083001X', '1073714357...\n",
       "Name: 3, dtype: object"
      ]
     },
     "execution_count": 57,
     "metadata": {},
     "output_type": "execute_result"
    }
   ],
   "source": [
    "qi"
   ]
  },
  {
   "cell_type": "code",
   "execution_count": 58,
   "id": "174ce366-6602-4972-a7fb-ef86f3cdf9c5",
   "metadata": {},
   "outputs": [
    {
     "data": {
      "text/plain": [
       "'1095479849'"
      ]
     },
     "execution_count": 58,
     "metadata": {},
     "output_type": "execute_result"
    }
   ],
   "source": [
    "pi"
   ]
  },
  {
   "cell_type": "code",
   "execution_count": null,
   "id": "a64854de-cc44-45f8-84c9-023293349c81",
   "metadata": {},
   "outputs": [],
   "source": []
  }
 ],
 "metadata": {
  "kernelspec": {
   "display_name": "p312",
   "language": "python",
   "name": "p312"
  },
  "language_info": {
   "codemirror_mode": {
    "name": "ipython",
    "version": 3
   },
   "file_extension": ".py",
   "mimetype": "text/x-python",
   "name": "python",
   "nbconvert_exporter": "python",
   "pygments_lexer": "ipython3",
   "version": "3.12.5"
  }
 },
 "nbformat": 4,
 "nbformat_minor": 5
}
