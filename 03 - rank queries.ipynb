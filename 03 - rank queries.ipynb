{
 "cells": [
  {
   "cell_type": "code",
   "execution_count": 1,
   "id": "b0b4d1c9-5b14-474e-893a-88a23c1fc40c",
   "metadata": {},
   "outputs": [],
   "source": [
    "import pandas as pd\n",
    "import numpy as np\n",
    "from tqdm import tqdm\n",
    "from joblib import Parallel, delayed\n",
    "import polars as pl\n",
    "import os\n",
    "import utils"
   ]
  },
  {
   "cell_type": "markdown",
   "id": "ee46a41f-da96-40a4-b1b1-3bd5dd4279dc",
   "metadata": {},
   "source": [
    "# select model and dataset"
   ]
  },
  {
   "cell_type": "code",
   "execution_count": 2,
   "id": "268bd28a-f35f-4520-9257-38cdf9c184eb",
   "metadata": {},
   "outputs": [],
   "source": [
    "model_folder = 'openai'\n",
    "#model_folder = 'text-exp0307'\n",
    "#model_folder = 'text-004'\n",
    "\n",
    "#dataset = 'wands'\n",
    "dataset = 'esci-us'\n"
   ]
  },
  {
   "cell_type": "markdown",
   "id": "9bf4b98a-493b-4d38-a47f-3246c688ef63",
   "metadata": {},
   "source": [
    "# load embeddings and ground truth"
   ]
  },
  {
   "cell_type": "code",
   "execution_count": 3,
   "id": "14ef46c8-8231-491f-95e2-72cddb0b0a5f",
   "metadata": {},
   "outputs": [
    {
     "name": "stderr",
     "output_type": "stream",
     "text": [
      "100%|█████████████████████████████████████████████████████████████████████████████████████████████████████████████████████████████████████████████████| 1818825/1818825 [01:00<00:00, 30143.01it/s]\n"
     ]
    }
   ],
   "source": [
    "q = pd.read_parquet(f'{model_folder}/{dataset}-queries.parquet')\n",
    "\n",
    "p = pl.read_parquet(f'{model_folder}/{dataset}-products.parquet').to_pandas()\n",
    "p.set_index('__index_level_0__', inplace=True)\n",
    "\n",
    "r = pd.read_parquet(f'{dataset}/relevance.parquet')\n",
    "\n",
    "# index ground truth with query and product ids\n",
    "r.index = [f'{row.query_id}|{row.product_id}' for _,row in tqdm(r.iterrows(), total=len(r))]"
   ]
  },
  {
   "cell_type": "code",
   "execution_count": 4,
   "id": "c07fecc8-6269-4435-b6b3-d2ef11b10f53",
   "metadata": {},
   "outputs": [
    {
     "data": {
      "text/plain": [
       "((97345, 2), (1215851, 2), (1818825, 5))"
      ]
     },
     "execution_count": 4,
     "metadata": {},
     "output_type": "execute_result"
    }
   ],
   "source": [
    "q.shape, p.shape, r.shape"
   ]
  },
  {
   "cell_type": "code",
   "execution_count": 5,
   "id": "92e2eea1-aa7e-419a-931a-8b200c7359c7",
   "metadata": {},
   "outputs": [
    {
     "data": {
      "text/html": [
       "<div>\n",
       "<style scoped>\n",
       "    .dataframe tbody tr th:only-of-type {\n",
       "        vertical-align: middle;\n",
       "    }\n",
       "\n",
       "    .dataframe tbody tr th {\n",
       "        vertical-align: top;\n",
       "    }\n",
       "\n",
       "    .dataframe thead th {\n",
       "        text-align: right;\n",
       "    }\n",
       "</style>\n",
       "<table border=\"1\" class=\"dataframe\">\n",
       "  <thead>\n",
       "    <tr style=\"text-align: right;\">\n",
       "      <th></th>\n",
       "      <th>example_id</th>\n",
       "      <th>query_id</th>\n",
       "      <th>product_id</th>\n",
       "      <th>esci_label</th>\n",
       "      <th>relevance</th>\n",
       "    </tr>\n",
       "  </thead>\n",
       "  <tbody>\n",
       "    <tr>\n",
       "      <th>0|B000MOO21W</th>\n",
       "      <td>0</td>\n",
       "      <td>0</td>\n",
       "      <td>B000MOO21W</td>\n",
       "      <td>I</td>\n",
       "      <td>1</td>\n",
       "    </tr>\n",
       "    <tr>\n",
       "      <th>0|B07X3Y6B1V</th>\n",
       "      <td>1</td>\n",
       "      <td>0</td>\n",
       "      <td>B07X3Y6B1V</td>\n",
       "      <td>E</td>\n",
       "      <td>4</td>\n",
       "    </tr>\n",
       "    <tr>\n",
       "      <th>0|B07WDM7MQQ</th>\n",
       "      <td>2</td>\n",
       "      <td>0</td>\n",
       "      <td>B07WDM7MQQ</td>\n",
       "      <td>E</td>\n",
       "      <td>4</td>\n",
       "    </tr>\n",
       "    <tr>\n",
       "      <th>0|B07RH6Z8KW</th>\n",
       "      <td>3</td>\n",
       "      <td>0</td>\n",
       "      <td>B07RH6Z8KW</td>\n",
       "      <td>E</td>\n",
       "      <td>4</td>\n",
       "    </tr>\n",
       "    <tr>\n",
       "      <th>0|B07QJ7WYFQ</th>\n",
       "      <td>4</td>\n",
       "      <td>0</td>\n",
       "      <td>B07QJ7WYFQ</td>\n",
       "      <td>E</td>\n",
       "      <td>4</td>\n",
       "    </tr>\n",
       "  </tbody>\n",
       "</table>\n",
       "</div>"
      ],
      "text/plain": [
       "              example_id  query_id  product_id esci_label  relevance\n",
       "0|B000MOO21W           0         0  B000MOO21W          I          1\n",
       "0|B07X3Y6B1V           1         0  B07X3Y6B1V          E          4\n",
       "0|B07WDM7MQQ           2         0  B07WDM7MQQ          E          4\n",
       "0|B07RH6Z8KW           3         0  B07RH6Z8KW          E          4\n",
       "0|B07QJ7WYFQ           4         0  B07QJ7WYFQ          E          4"
      ]
     },
     "execution_count": 5,
     "metadata": {},
     "output_type": "execute_result"
    }
   ],
   "source": [
    "r.head()"
   ]
  },
  {
   "cell_type": "code",
   "execution_count": 6,
   "id": "5cc3fef5-c312-451f-bc40-7252202c5028",
   "metadata": {},
   "outputs": [
    {
     "data": {
      "text/html": [
       "<div>\n",
       "<style scoped>\n",
       "    .dataframe tbody tr th:only-of-type {\n",
       "        vertical-align: middle;\n",
       "    }\n",
       "\n",
       "    .dataframe tbody tr th {\n",
       "        vertical-align: top;\n",
       "    }\n",
       "\n",
       "    .dataframe thead th {\n",
       "        text-align: right;\n",
       "    }\n",
       "</style>\n",
       "<table border=\"1\" class=\"dataframe\">\n",
       "  <thead>\n",
       "    <tr style=\"text-align: right;\">\n",
       "      <th></th>\n",
       "      <th>query</th>\n",
       "      <th>embeddings</th>\n",
       "    </tr>\n",
       "    <tr>\n",
       "      <th>query_id</th>\n",
       "      <th></th>\n",
       "      <th></th>\n",
       "    </tr>\n",
       "  </thead>\n",
       "  <tbody>\n",
       "    <tr>\n",
       "      <th>0</th>\n",
       "      <td>revent 80 cfm</td>\n",
       "      <td>[-0.05282729119062424, 0.0162424948066473, -0....</td>\n",
       "    </tr>\n",
       "    <tr>\n",
       "      <th>1</th>\n",
       "      <td>!awnmower tires without rims</td>\n",
       "      <td>[-0.015263666398823261, -0.023168815299868584,...</td>\n",
       "    </tr>\n",
       "    <tr>\n",
       "      <th>2</th>\n",
       "      <td>!qscreen fence without holes</td>\n",
       "      <td>[0.019541103392839432, 0.025528443977236748, -...</td>\n",
       "    </tr>\n",
       "    <tr>\n",
       "      <th>5</th>\n",
       "      <td># 10 self-seal envelopes without window</td>\n",
       "      <td>[-0.010724861174821854, 0.0026416631881147623,...</td>\n",
       "    </tr>\n",
       "    <tr>\n",
       "      <th>6</th>\n",
       "      <td># 2 pencils not sharpened</td>\n",
       "      <td>[-0.013498208485543728, -0.011514219455420971,...</td>\n",
       "    </tr>\n",
       "  </tbody>\n",
       "</table>\n",
       "</div>"
      ],
      "text/plain": [
       "                                            query  \\\n",
       "query_id                                            \n",
       "0                                   revent 80 cfm   \n",
       "1                    !awnmower tires without rims   \n",
       "2                    !qscreen fence without holes   \n",
       "5         # 10 self-seal envelopes without window   \n",
       "6                       # 2 pencils not sharpened   \n",
       "\n",
       "                                                 embeddings  \n",
       "query_id                                                     \n",
       "0         [-0.05282729119062424, 0.0162424948066473, -0....  \n",
       "1         [-0.015263666398823261, -0.023168815299868584,...  \n",
       "2         [0.019541103392839432, 0.025528443977236748, -...  \n",
       "5         [-0.010724861174821854, 0.0026416631881147623,...  \n",
       "6         [-0.013498208485543728, -0.011514219455420971,...  "
      ]
     },
     "execution_count": 6,
     "metadata": {},
     "output_type": "execute_result"
    }
   ],
   "source": [
    "q.head()"
   ]
  },
  {
   "cell_type": "code",
   "execution_count": 7,
   "id": "1edb97e6-e9d9-4c1c-b050-83d231e840fa",
   "metadata": {},
   "outputs": [
    {
     "data": {
      "text/html": [
       "<div>\n",
       "<style scoped>\n",
       "    .dataframe tbody tr th:only-of-type {\n",
       "        vertical-align: middle;\n",
       "    }\n",
       "\n",
       "    .dataframe tbody tr th {\n",
       "        vertical-align: top;\n",
       "    }\n",
       "\n",
       "    .dataframe thead th {\n",
       "        text-align: right;\n",
       "    }\n",
       "</style>\n",
       "<table border=\"1\" class=\"dataframe\">\n",
       "  <thead>\n",
       "    <tr style=\"text-align: right;\">\n",
       "      <th></th>\n",
       "      <th>product</th>\n",
       "      <th>embeddings</th>\n",
       "    </tr>\n",
       "    <tr>\n",
       "      <th>__index_level_0__</th>\n",
       "      <th></th>\n",
       "      <th></th>\n",
       "    </tr>\n",
       "  </thead>\n",
       "  <tbody>\n",
       "    <tr>\n",
       "      <th>0000306045</th>\n",
       "      <td>&lt;TITLE&gt;WhiteCoat Clipboard- Pink - Respiratory...</td>\n",
       "      <td>[-0.027882717549800873, -0.021610360592603683,...</td>\n",
       "    </tr>\n",
       "    <tr>\n",
       "      <th>0002159511</th>\n",
       "      <td>&lt;TITLE&gt;A Day in the Life of Ireland&lt;/TITLE&gt;\\n&lt;...</td>\n",
       "      <td>[0.03405754268169403, 0.005424880422651768, -0...</td>\n",
       "    </tr>\n",
       "    <tr>\n",
       "      <th>0003002764</th>\n",
       "      <td>&lt;TITLE&gt;HENRY'S AWFUL MISTAKE&lt;/TITLE&gt;</td>\n",
       "      <td>[0.022827627137303352, -0.014154857955873013, ...</td>\n",
       "    </tr>\n",
       "    <tr>\n",
       "      <th>0004126475</th>\n",
       "      <td>&lt;TITLE&gt;David Bellamy's Watercolour Landscape C...</td>\n",
       "      <td>[0.049933984875679016, 0.028047902509570122, -...</td>\n",
       "    </tr>\n",
       "    <tr>\n",
       "      <th>0004127579</th>\n",
       "      <td>&lt;TITLE&gt;Developing Your Watercolours&lt;/TITLE&gt;\\n&lt;...</td>\n",
       "      <td>[0.030019331723451614, 0.031795453280210495, -...</td>\n",
       "    </tr>\n",
       "  </tbody>\n",
       "</table>\n",
       "</div>"
      ],
      "text/plain": [
       "                                                             product  \\\n",
       "__index_level_0__                                                      \n",
       "0000306045         <TITLE>WhiteCoat Clipboard- Pink - Respiratory...   \n",
       "0002159511         <TITLE>A Day in the Life of Ireland</TITLE>\\n<...   \n",
       "0003002764                      <TITLE>HENRY'S AWFUL MISTAKE</TITLE>   \n",
       "0004126475         <TITLE>David Bellamy's Watercolour Landscape C...   \n",
       "0004127579         <TITLE>Developing Your Watercolours</TITLE>\\n<...   \n",
       "\n",
       "                                                          embeddings  \n",
       "__index_level_0__                                                     \n",
       "0000306045         [-0.027882717549800873, -0.021610360592603683,...  \n",
       "0002159511         [0.03405754268169403, 0.005424880422651768, -0...  \n",
       "0003002764         [0.022827627137303352, -0.014154857955873013, ...  \n",
       "0004126475         [0.049933984875679016, 0.028047902509570122, -...  \n",
       "0004127579         [0.030019331723451614, 0.031795453280210495, -...  "
      ]
     },
     "execution_count": 7,
     "metadata": {},
     "output_type": "execute_result"
    }
   ],
   "source": [
    "p.head()"
   ]
  },
  {
   "cell_type": "markdown",
   "id": "d5e1dba5-e2a8-41e8-9ad4-b2930ce808a6",
   "metadata": {},
   "source": [
    "# rank topn according dot product on embeddings"
   ]
  },
  {
   "cell_type": "code",
   "execution_count": 8,
   "id": "1225c0c1-c259-40be-ad49-1919b87bf1e3",
   "metadata": {},
   "outputs": [
    {
     "data": {
      "text/plain": [
       "((97345, 3072), (1215851, 3072))"
      ]
     },
     "execution_count": 8,
     "metadata": {},
     "output_type": "execute_result"
    }
   ],
   "source": [
    "qe = np.stack(q.embeddings.values.copy())\n",
    "pe = np.stack(p.embeddings.values.copy())\n",
    "\n",
    "qe.shape, pe.shape"
   ]
  },
  {
   "cell_type": "markdown",
   "id": "007c3a87-60e0-43af-b393-38df67ed6e30",
   "metadata": {},
   "source": [
    "## vector search using `faiss`"
   ]
  },
  {
   "cell_type": "code",
   "execution_count": 9,
   "id": "95ea9bfa-52b2-4e91-b22d-2935c7d4493a",
   "metadata": {},
   "outputs": [],
   "source": [
    "import faiss"
   ]
  },
  {
   "cell_type": "code",
   "execution_count": 10,
   "id": "f7c32f4a-5925-4490-bfb6-a34f13cc1168",
   "metadata": {},
   "outputs": [],
   "source": [
    "# search in normalized vector space is equivalent to dot product\n",
    "kqe = qe / np.linalg.norm(qe, axis=1).reshape(-1,1)\n",
    "kpe = pe / np.linalg.norm(pe, axis=1).reshape(-1,1)"
   ]
  },
  {
   "cell_type": "code",
   "execution_count": 11,
   "id": "86cbd96a-cd97-467d-b2e6-cea727debef0",
   "metadata": {},
   "outputs": [
    {
     "name": "stdout",
     "output_type": "stream",
     "text": [
      "True 1215851\n"
     ]
    }
   ],
   "source": [
    "index = faiss.IndexFlatL2(kqe.shape[1])   # build the index\n",
    "index.add(kpe)\n",
    "print(index.is_trained, index.ntotal)"
   ]
  },
  {
   "cell_type": "code",
   "execution_count": 12,
   "id": "7e2b92f6-02e0-4cb3-842a-5bc91029e3fc",
   "metadata": {},
   "outputs": [
    {
     "name": "stderr",
     "output_type": "stream",
     "text": [
      "100%|███████████████████████████████████████████████████████████████████████████████████████████████████████████████████████████████████████████████████████████| 48/48 [2:14:04<00:00, 167.59s/it]\n"
     ]
    }
   ],
   "source": [
    "chunk_size = 2048\n",
    "qnn = []\n",
    "for i in tqdm(range(0,len(qe), chunk_size)):\n",
    "    _,idxs = index.search(kqe[i:i+chunk_size], 40) # sanity check\n",
    "    for ii in idxs:\n",
    "        qnn.append(ii)"
   ]
  },
  {
   "cell_type": "code",
   "execution_count": 13,
   "id": "6f3f96b3-10af-45e5-9901-61e2a4dfa85d",
   "metadata": {},
   "outputs": [
    {
     "name": "stderr",
     "output_type": "stream",
     "text": [
      "100%|█████████████████████████████████████████████████████████████████████████████████████████████████████████████████████████████████████████████████████| 97345/97345 [00:03<00:00, 31283.33it/s]\n"
     ]
    }
   ],
   "source": [
    "q['topn'] = [list(p.index[qnni]) for qnni in tqdm(qnn)]"
   ]
  },
  {
   "cell_type": "markdown",
   "id": "290344ad-fb2c-48a4-9523-356dde710131",
   "metadata": {},
   "source": [
    "## brute force approach with numpy dotproduct and `numpy.argsort`\n"
   ]
  },
  {
   "cell_type": "code",
   "execution_count": null,
   "id": "1fe9a9dd-7328-478a-8701-1944b7f3ed48",
   "metadata": {},
   "outputs": [],
   "source": [
    "# brute force approach with numpy dotproduct and argsort\n",
    "\n",
    "def get_dotp_closests_idxs(q_embedding,p_embeddings_matrix, topn=40):\n",
    "    return np.argsort( p_embeddings_matrix.dot(q_embedding) )[-topn:][::-1]\n",
    "\n",
    "#qnn = Parallel(n_jobs=-1, verbose=5)(delayed(get_dotp_closests_idxs)(qi,pe, topn=40) for qi in qe)\n",
    "#q['topn'] = [list(p.index[qnni]) for qnni in tqdm(qnn)]"
   ]
  },
  {
   "cell_type": "code",
   "execution_count": 1,
   "id": "97c19b26-48b7-40bb-aa6e-0928695113c9",
   "metadata": {},
   "outputs": [
    {
     "data": {
      "text/plain": [
       "1"
      ]
     },
     "execution_count": 1,
     "metadata": {},
     "output_type": "execute_result"
    }
   ],
   "source": [
    "1"
   ]
  },
  {
   "cell_type": "markdown",
   "id": "5e523ee7-4127-4fc4-b7e8-a23e1f9a2b5e",
   "metadata": {},
   "source": [
    "# create rankings file together with ground truth"
   ]
  },
  {
   "cell_type": "code",
   "execution_count": 14,
   "id": "d7ce4078-1197-45c4-b34c-2681bc0f86ec",
   "metadata": {},
   "outputs": [
    {
     "name": "stderr",
     "output_type": "stream",
     "text": [
      "97345it [00:08, 11493.23it/s]\n",
      "100%|█████████████████████████████████████████████████████████████████████████████████████████████████████████████████████████████████████████████████| 3893800/3893800 [02:08<00:00, 30260.06it/s]\n"
     ]
    },
    {
     "data": {
      "text/plain": [
       "(3893800, 4)"
      ]
     },
     "execution_count": 14,
     "metadata": {},
     "output_type": "execute_result"
    }
   ],
   "source": [
    "qr = []\n",
    "for query_id, qi in tqdm(q.iterrows()):\n",
    "    for i, product_id in enumerate(qi.topn):\n",
    "        qr.append([query_id, product_id, i+1])\n",
    "qr = pd.DataFrame(qr, columns = ['query_id', 'product_id', 'model_rank'])\n",
    "qr.index = [f'{row.query_id}|{row.product_id}' for _,row in tqdm(qr.iterrows(), total=len(qr))]\n",
    "qr = pd.merge(qr, r[['relevance']], how='left', left_index=True, right_index=True).fillna(0)\n",
    "qr.shape"
   ]
  },
  {
   "cell_type": "code",
   "execution_count": 15,
   "id": "6ca648b8-c3a1-4ad9-8541-19df64217cff",
   "metadata": {},
   "outputs": [
    {
     "data": {
      "text/html": [
       "<div>\n",
       "<style scoped>\n",
       "    .dataframe tbody tr th:only-of-type {\n",
       "        vertical-align: middle;\n",
       "    }\n",
       "\n",
       "    .dataframe tbody tr th {\n",
       "        vertical-align: top;\n",
       "    }\n",
       "\n",
       "    .dataframe thead th {\n",
       "        text-align: right;\n",
       "    }\n",
       "</style>\n",
       "<table border=\"1\" class=\"dataframe\">\n",
       "  <thead>\n",
       "    <tr style=\"text-align: right;\">\n",
       "      <th></th>\n",
       "      <th>query_id</th>\n",
       "      <th>product_id</th>\n",
       "      <th>model_rank</th>\n",
       "      <th>relevance</th>\n",
       "    </tr>\n",
       "  </thead>\n",
       "  <tbody>\n",
       "    <tr>\n",
       "      <th>0|B016UQ2YQ0</th>\n",
       "      <td>0</td>\n",
       "      <td>B016UQ2YQ0</td>\n",
       "      <td>1</td>\n",
       "      <td>0.0</td>\n",
       "    </tr>\n",
       "    <tr>\n",
       "      <th>0|B078W573T9</th>\n",
       "      <td>0</td>\n",
       "      <td>B078W573T9</td>\n",
       "      <td>2</td>\n",
       "      <td>0.0</td>\n",
       "    </tr>\n",
       "    <tr>\n",
       "      <th>0|B016UQ2YLK</th>\n",
       "      <td>0</td>\n",
       "      <td>B016UQ2YLK</td>\n",
       "      <td>3</td>\n",
       "      <td>0.0</td>\n",
       "    </tr>\n",
       "    <tr>\n",
       "      <th>0|B007PD7WOW</th>\n",
       "      <td>0</td>\n",
       "      <td>B007PD7WOW</td>\n",
       "      <td>4</td>\n",
       "      <td>0.0</td>\n",
       "    </tr>\n",
       "    <tr>\n",
       "      <th>0|B07613VSB4</th>\n",
       "      <td>0</td>\n",
       "      <td>B07613VSB4</td>\n",
       "      <td>5</td>\n",
       "      <td>0.0</td>\n",
       "    </tr>\n",
       "  </tbody>\n",
       "</table>\n",
       "</div>"
      ],
      "text/plain": [
       "              query_id  product_id  model_rank  relevance\n",
       "0|B016UQ2YQ0         0  B016UQ2YQ0           1        0.0\n",
       "0|B078W573T9         0  B078W573T9           2        0.0\n",
       "0|B016UQ2YLK         0  B016UQ2YLK           3        0.0\n",
       "0|B007PD7WOW         0  B007PD7WOW           4        0.0\n",
       "0|B07613VSB4         0  B07613VSB4           5        0.0"
      ]
     },
     "execution_count": 15,
     "metadata": {},
     "output_type": "execute_result"
    }
   ],
   "source": [
    "qr.head()"
   ]
  },
  {
   "cell_type": "code",
   "execution_count": 16,
   "id": "a6835570-f5db-4db9-888d-6e78e26e1a98",
   "metadata": {},
   "outputs": [
    {
     "data": {
      "text/plain": [
       "relevance\n",
       "0.0    3100859\n",
       "4.0     638877\n",
       "2.0     118518\n",
       "1.0      24187\n",
       "3.0      11359\n",
       "Name: count, dtype: int64"
      ]
     },
     "execution_count": 16,
     "metadata": {},
     "output_type": "execute_result"
    }
   ],
   "source": [
    "qr.relevance.value_counts()"
   ]
  },
  {
   "cell_type": "code",
   "execution_count": 17,
   "id": "10c7c276-382f-4143-98d0-6bae2ca6478e",
   "metadata": {},
   "outputs": [],
   "source": [
    "qr.to_parquet(f'{model_folder}/{dataset}-ranking_with_relevance.parquet', index=False)"
   ]
  },
  {
   "cell_type": "code",
   "execution_count": null,
   "id": "c8196104-2322-4451-a341-0851a85aa3e2",
   "metadata": {},
   "outputs": [],
   "source": [
    "qr[qr.product_id=='B000MOO21W']"
   ]
  },
  {
   "cell_type": "code",
   "execution_count": null,
   "id": "d6b1fa06-5544-46c6-8f83-eb69aafd22cd",
   "metadata": {},
   "outputs": [],
   "source": [
    "q"
   ]
  }
 ],
 "metadata": {
  "kernelspec": {
   "display_name": "p312",
   "language": "python",
   "name": "p312"
  },
  "language_info": {
   "codemirror_mode": {
    "name": "ipython",
    "version": 3
   },
   "file_extension": ".py",
   "mimetype": "text/x-python",
   "name": "python",
   "nbconvert_exporter": "python",
   "pygments_lexer": "ipython3",
   "version": "3.12.9"
  }
 },
 "nbformat": 4,
 "nbformat_minor": 5
}
