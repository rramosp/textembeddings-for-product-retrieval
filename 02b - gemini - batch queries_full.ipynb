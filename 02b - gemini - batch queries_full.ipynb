{
 "cells": [
  {
   "cell_type": "markdown",
   "id": "9352b0bf-75be-4485-8c0a-56c97dfd3064",
   "metadata": {},
   "source": [
    "# batch makes all queries to get top 40 products relevant for each query"
   ]
  },
  {
   "cell_type": "code",
   "execution_count": 1,
   "id": "27ae0fd4-3b28-4ef0-9faa-764e075177a9",
   "metadata": {},
   "outputs": [],
   "source": [
    "import pandas as pd\n",
    "import numpy as np\n",
    "from tqdm import tqdm\n",
    "from joblib import Parallel, delayed"
   ]
  },
  {
   "cell_type": "code",
   "execution_count": 2,
   "id": "619516f1-8fc4-4814-9d74-35902a690852",
   "metadata": {},
   "outputs": [
    {
     "data": {
      "text/plain": [
       "'/opt/conda/envs/p312/bin/python'"
      ]
     },
     "execution_count": 2,
     "metadata": {},
     "output_type": "execute_result"
    }
   ],
   "source": [
    "import sys\n",
    "sys.executable"
   ]
  },
  {
   "cell_type": "code",
   "execution_count": 3,
   "id": "a95c9cd3-25c3-4816-b775-97c2c2d2aa48",
   "metadata": {},
   "outputs": [],
   "source": [
    "model = 'gemini'\n",
    "locale = 'us'"
   ]
  },
  {
   "cell_type": "code",
   "execution_count": 4,
   "id": "d2f61b2d-cf83-4b44-ae51-04fb3a36411e",
   "metadata": {},
   "outputs": [],
   "source": [
    "q = pd.read_parquet(f'{model}/queries-{locale}.parquet')"
   ]
  },
  {
   "cell_type": "code",
   "execution_count": 5,
   "id": "edc6e349-a8f0-4a78-bbf7-e1a5cf8b7a2b",
   "metadata": {},
   "outputs": [],
   "source": [
    "p = pd.read_parquet(f'{model}/products-{locale}.parquet')"
   ]
  },
  {
   "cell_type": "code",
   "execution_count": 6,
   "id": "8aca26de-6c79-4732-8d89-d5a82ab64ecf",
   "metadata": {},
   "outputs": [
    {
     "data": {
      "text/plain": [
       "((97345, 2), (1215851, 2))"
      ]
     },
     "execution_count": 6,
     "metadata": {},
     "output_type": "execute_result"
    }
   ],
   "source": [
    "q.shape, p.shape"
   ]
  },
  {
   "cell_type": "code",
   "execution_count": 7,
   "id": "a2e7381b-74ec-45be-b3b2-72bf23564fcd",
   "metadata": {},
   "outputs": [
    {
     "data": {
      "text/plain": [
       "((97345, 768), (1215851, 768))"
      ]
     },
     "execution_count": 7,
     "metadata": {},
     "output_type": "execute_result"
    }
   ],
   "source": [
    "qe = np.stack(q.embeddings.values.copy())\n",
    "pe = np.stack(p.embeddings.values.copy())\n",
    "qe.shape, pe.shape"
   ]
  },
  {
   "cell_type": "code",
   "execution_count": 8,
   "id": "40e27f77-d5d5-4c05-bd0a-88157e418cf3",
   "metadata": {},
   "outputs": [],
   "source": [
    "def get_dotp_closests_idxs(q_embedding,p_embeddings_matrix, topk=40):\n",
    "    return np.argsort( p_embeddings_matrix.dot(q_embedding) )[-topk:][::-1]\n"
   ]
  },
  {
   "cell_type": "code",
   "execution_count": 9,
   "id": "e9fc1661-5010-4f00-9d28-94d0498e9154",
   "metadata": {},
   "outputs": [
    {
     "data": {
      "text/plain": [
       "1"
      ]
     },
     "execution_count": 9,
     "metadata": {},
     "output_type": "execute_result"
    }
   ],
   "source": [
    "1"
   ]
  },
  {
   "cell_type": "code",
   "execution_count": 10,
   "id": "d1d9268b-2654-4673-8cd4-637ad8cf9ddf",
   "metadata": {},
   "outputs": [
    {
     "name": "stderr",
     "output_type": "stream",
     "text": [
      "[Parallel(n_jobs=-1)]: Using backend LokyBackend with 64 concurrent workers.\n",
      "[Parallel(n_jobs=-1)]: Done  34 tasks      | elapsed:   14.5s\n",
      "[Parallel(n_jobs=-1)]: Done 160 tasks      | elapsed:   23.3s\n",
      "[Parallel(n_jobs=-1)]: Done 322 tasks      | elapsed:   33.8s\n",
      "[Parallel(n_jobs=-1)]: Done 520 tasks      | elapsed:   46.5s\n",
      "[Parallel(n_jobs=-1)]: Done 754 tasks      | elapsed:  1.0min\n",
      "[Parallel(n_jobs=-1)]: Done 1024 tasks      | elapsed:  1.3min\n",
      "[Parallel(n_jobs=-1)]: Done 1330 tasks      | elapsed:  1.6min\n",
      "[Parallel(n_jobs=-1)]: Done 1672 tasks      | elapsed:  2.0min\n",
      "[Parallel(n_jobs=-1)]: Done 2050 tasks      | elapsed:  2.4min\n",
      "[Parallel(n_jobs=-1)]: Done 2464 tasks      | elapsed:  2.8min\n",
      "[Parallel(n_jobs=-1)]: Done 2914 tasks      | elapsed:  3.3min\n",
      "[Parallel(n_jobs=-1)]: Done 3400 tasks      | elapsed:  3.9min\n",
      "[Parallel(n_jobs=-1)]: Done 3922 tasks      | elapsed:  4.4min\n",
      "[Parallel(n_jobs=-1)]: Done 4480 tasks      | elapsed:  5.0min\n",
      "[Parallel(n_jobs=-1)]: Done 5074 tasks      | elapsed:  5.6min\n",
      "[Parallel(n_jobs=-1)]: Done 5704 tasks      | elapsed:  6.3min\n",
      "[Parallel(n_jobs=-1)]: Done 6370 tasks      | elapsed:  7.0min\n",
      "[Parallel(n_jobs=-1)]: Done 7072 tasks      | elapsed:  7.8min\n",
      "[Parallel(n_jobs=-1)]: Done 7810 tasks      | elapsed:  8.6min\n",
      "[Parallel(n_jobs=-1)]: Done 8584 tasks      | elapsed:  9.4min\n",
      "[Parallel(n_jobs=-1)]: Done 9394 tasks      | elapsed: 10.2min\n",
      "[Parallel(n_jobs=-1)]: Done 10240 tasks      | elapsed: 11.1min\n",
      "[Parallel(n_jobs=-1)]: Done 11122 tasks      | elapsed: 12.1min\n",
      "[Parallel(n_jobs=-1)]: Done 12040 tasks      | elapsed: 13.0min\n",
      "[Parallel(n_jobs=-1)]: Done 12994 tasks      | elapsed: 14.0min\n",
      "[Parallel(n_jobs=-1)]: Done 13984 tasks      | elapsed: 15.1min\n",
      "[Parallel(n_jobs=-1)]: Done 15010 tasks      | elapsed: 16.2min\n",
      "[Parallel(n_jobs=-1)]: Done 16072 tasks      | elapsed: 17.3min\n",
      "[Parallel(n_jobs=-1)]: Done 17170 tasks      | elapsed: 18.5min\n",
      "[Parallel(n_jobs=-1)]: Done 18304 tasks      | elapsed: 19.7min\n",
      "[Parallel(n_jobs=-1)]: Done 19474 tasks      | elapsed: 21.0min\n",
      "[Parallel(n_jobs=-1)]: Done 20680 tasks      | elapsed: 22.2min\n",
      "[Parallel(n_jobs=-1)]: Done 21922 tasks      | elapsed: 23.6min\n",
      "[Parallel(n_jobs=-1)]: Done 23200 tasks      | elapsed: 24.9min\n",
      "[Parallel(n_jobs=-1)]: Done 24514 tasks      | elapsed: 26.3min\n",
      "[Parallel(n_jobs=-1)]: Done 25864 tasks      | elapsed: 27.7min\n",
      "[Parallel(n_jobs=-1)]: Done 27250 tasks      | elapsed: 29.2min\n",
      "[Parallel(n_jobs=-1)]: Done 28672 tasks      | elapsed: 30.7min\n",
      "[Parallel(n_jobs=-1)]: Done 30130 tasks      | elapsed: 32.2min\n",
      "[Parallel(n_jobs=-1)]: Done 31624 tasks      | elapsed: 33.8min\n",
      "[Parallel(n_jobs=-1)]: Done 33154 tasks      | elapsed: 35.4min\n",
      "[Parallel(n_jobs=-1)]: Done 34720 tasks      | elapsed: 37.0min\n",
      "[Parallel(n_jobs=-1)]: Done 36322 tasks      | elapsed: 38.7min\n",
      "[Parallel(n_jobs=-1)]: Done 37960 tasks      | elapsed: 40.5min\n",
      "[Parallel(n_jobs=-1)]: Done 39634 tasks      | elapsed: 42.3min\n",
      "[Parallel(n_jobs=-1)]: Done 41344 tasks      | elapsed: 44.1min\n",
      "[Parallel(n_jobs=-1)]: Done 43090 tasks      | elapsed: 45.9min\n",
      "[Parallel(n_jobs=-1)]: Done 44872 tasks      | elapsed: 47.8min\n",
      "[Parallel(n_jobs=-1)]: Done 46690 tasks      | elapsed: 49.7min\n",
      "[Parallel(n_jobs=-1)]: Done 48544 tasks      | elapsed: 51.7min\n",
      "[Parallel(n_jobs=-1)]: Done 50434 tasks      | elapsed: 53.7min\n",
      "[Parallel(n_jobs=-1)]: Done 52360 tasks      | elapsed: 55.7min\n",
      "[Parallel(n_jobs=-1)]: Done 54322 tasks      | elapsed: 57.8min\n",
      "[Parallel(n_jobs=-1)]: Done 56320 tasks      | elapsed: 59.9min\n",
      "[Parallel(n_jobs=-1)]: Done 58354 tasks      | elapsed: 62.1min\n",
      "[Parallel(n_jobs=-1)]: Done 60424 tasks      | elapsed: 64.4min\n",
      "[Parallel(n_jobs=-1)]: Done 62530 tasks      | elapsed: 66.6min\n",
      "[Parallel(n_jobs=-1)]: Done 64672 tasks      | elapsed: 68.9min\n",
      "[Parallel(n_jobs=-1)]: Done 66850 tasks      | elapsed: 71.3min\n",
      "[Parallel(n_jobs=-1)]: Done 69064 tasks      | elapsed: 73.7min\n",
      "[Parallel(n_jobs=-1)]: Done 71314 tasks      | elapsed: 76.1min\n",
      "[Parallel(n_jobs=-1)]: Done 73600 tasks      | elapsed: 78.6min\n",
      "[Parallel(n_jobs=-1)]: Done 75922 tasks      | elapsed: 81.1min\n",
      "[Parallel(n_jobs=-1)]: Done 78280 tasks      | elapsed: 83.7min\n",
      "[Parallel(n_jobs=-1)]: Done 80674 tasks      | elapsed: 86.3min\n",
      "[Parallel(n_jobs=-1)]: Done 83104 tasks      | elapsed: 88.8min\n",
      "[Parallel(n_jobs=-1)]: Done 85570 tasks      | elapsed: 91.4min\n",
      "[Parallel(n_jobs=-1)]: Done 88072 tasks      | elapsed: 94.1min\n",
      "[Parallel(n_jobs=-1)]: Done 90610 tasks      | elapsed: 96.8min\n",
      "[Parallel(n_jobs=-1)]: Done 93184 tasks      | elapsed: 99.5min\n",
      "[Parallel(n_jobs=-1)]: Done 95794 tasks      | elapsed: 102.2min\n",
      "[Parallel(n_jobs=-1)]: Done 97345 out of 97345 | elapsed: 103.8min finished\n"
     ]
    }
   ],
   "source": [
    "qnn = Parallel(n_jobs=-1, verbose=5)(delayed(get_dotp_closests_idxs)(qi,pe) for qi in qe)"
   ]
  },
  {
   "cell_type": "code",
   "execution_count": 11,
   "id": "c402f19b-5c2d-4a9d-912e-43f9312136ba",
   "metadata": {},
   "outputs": [
    {
     "name": "stderr",
     "output_type": "stream",
     "text": [
      "100%|██████████████████████████████████████████████████████████████████████████████████████████████| 97345/97345 [00:01<00:00, 91154.99it/s]\n"
     ]
    }
   ],
   "source": [
    "q['top40_products'] = [list(p.index[qnni]) for qnni in tqdm(qnn)]"
   ]
  },
  {
   "cell_type": "code",
   "execution_count": 17,
   "id": "2c851304-aefa-4b31-afa0-416a53f6f2bb",
   "metadata": {},
   "outputs": [
    {
     "data": {
      "text/html": [
       "<div>\n",
       "<style scoped>\n",
       "    .dataframe tbody tr th:only-of-type {\n",
       "        vertical-align: middle;\n",
       "    }\n",
       "\n",
       "    .dataframe tbody tr th {\n",
       "        vertical-align: top;\n",
       "    }\n",
       "\n",
       "    .dataframe thead th {\n",
       "        text-align: right;\n",
       "    }\n",
       "</style>\n",
       "<table border=\"1\" class=\"dataframe\">\n",
       "  <thead>\n",
       "    <tr style=\"text-align: right;\">\n",
       "      <th></th>\n",
       "      <th>query</th>\n",
       "      <th>embeddings</th>\n",
       "      <th>top40_products</th>\n",
       "    </tr>\n",
       "    <tr>\n",
       "      <th>query_id</th>\n",
       "      <th></th>\n",
       "      <th></th>\n",
       "      <th></th>\n",
       "    </tr>\n",
       "  </thead>\n",
       "  <tbody>\n",
       "    <tr>\n",
       "      <th>0</th>\n",
       "      <td>revent 80 cfm</td>\n",
       "      <td>[-0.01598229, -0.046302106, -0.013507076, -0.0...</td>\n",
       "      <td>[B074RDGKH4, B008OHPUYM, B004KLWPI0, B0057GS2W...</td>\n",
       "    </tr>\n",
       "    <tr>\n",
       "      <th>1</th>\n",
       "      <td>!awnmower tires without rims</td>\n",
       "      <td>[-0.030829305, -0.08287808, 0.04729122, 0.0214...</td>\n",
       "      <td>[B084MBY16Z, B0752SYKVX, B077QMNXTS, B076BQCV3...</td>\n",
       "    </tr>\n",
       "    <tr>\n",
       "      <th>2</th>\n",
       "      <td>!qscreen fence without holes</td>\n",
       "      <td>[-0.028439859, -0.023042167, -0.051055882, 0.0...</td>\n",
       "      <td>[B01N1P9MYW, B01DYR0XAC, B07GXPTGVX, B07BR5HYW...</td>\n",
       "    </tr>\n",
       "    <tr>\n",
       "      <th>5</th>\n",
       "      <td># 10 self-seal envelopes without window</td>\n",
       "      <td>[0.04445911, -0.056469392, -0.0016481074, -0.0...</td>\n",
       "      <td>[B07CXXVXLC, B071R9SBXJ, B01N175R8R, B078HHGY2...</td>\n",
       "    </tr>\n",
       "    <tr>\n",
       "      <th>6</th>\n",
       "      <td># 2 pencils not sharpened</td>\n",
       "      <td>[0.0021929916, 0.0144573795, 0.00267528, -0.04...</td>\n",
       "      <td>[B07GJQJFG6, B07G2RYY6H, B07JZJLHCF, B07G7F6JZ...</td>\n",
       "    </tr>\n",
       "    <tr>\n",
       "      <th>...</th>\n",
       "      <td>...</td>\n",
       "      <td>...</td>\n",
       "      <td>...</td>\n",
       "    </tr>\n",
       "    <tr>\n",
       "      <th>129275</th>\n",
       "      <td>茶叶</td>\n",
       "      <td>[-0.010790561, 0.037765387, 0.00715581, 0.0184...</td>\n",
       "      <td>[4794217048, B0893CKBJL, B0893T4GDX, B07WSFFH7...</td>\n",
       "    </tr>\n",
       "    <tr>\n",
       "      <th>130378</th>\n",
       "      <td>香奈儿</td>\n",
       "      <td>[-0.010790561, 0.037765387, 0.00715581, 0.0184...</td>\n",
       "      <td>[4794217048, B0893CKBJL, B0893T4GDX, B07WSFFH7...</td>\n",
       "    </tr>\n",
       "    <tr>\n",
       "      <th>130537</th>\n",
       "      <td>가마솥</td>\n",
       "      <td>[-0.010790561, 0.037765387, 0.00715581, 0.0184...</td>\n",
       "      <td>[4794217048, B0893CKBJL, B0893T4GDX, B07WSFFH7...</td>\n",
       "    </tr>\n",
       "    <tr>\n",
       "      <th>130538</th>\n",
       "      <td>골프공</td>\n",
       "      <td>[-0.010790561, 0.037765387, 0.00715581, 0.0184...</td>\n",
       "      <td>[4794217048, B0893CKBJL, B0893T4GDX, B07WSFFH7...</td>\n",
       "    </tr>\n",
       "    <tr>\n",
       "      <th>130539</th>\n",
       "      <td>자전거트레일러</td>\n",
       "      <td>[-0.010790561, 0.037765387, 0.00715581, 0.0184...</td>\n",
       "      <td>[4794217048, B0893CKBJL, B0893T4GDX, B07WSFFH7...</td>\n",
       "    </tr>\n",
       "  </tbody>\n",
       "</table>\n",
       "<p>97345 rows × 3 columns</p>\n",
       "</div>"
      ],
      "text/plain": [
       "                                            query  \\\n",
       "query_id                                            \n",
       "0                                   revent 80 cfm   \n",
       "1                    !awnmower tires without rims   \n",
       "2                    !qscreen fence without holes   \n",
       "5         # 10 self-seal envelopes without window   \n",
       "6                       # 2 pencils not sharpened   \n",
       "...                                           ...   \n",
       "129275                                         茶叶   \n",
       "130378                                        香奈儿   \n",
       "130537                                        가마솥   \n",
       "130538                                        골프공   \n",
       "130539                                    자전거트레일러   \n",
       "\n",
       "                                                 embeddings  \\\n",
       "query_id                                                      \n",
       "0         [-0.01598229, -0.046302106, -0.013507076, -0.0...   \n",
       "1         [-0.030829305, -0.08287808, 0.04729122, 0.0214...   \n",
       "2         [-0.028439859, -0.023042167, -0.051055882, 0.0...   \n",
       "5         [0.04445911, -0.056469392, -0.0016481074, -0.0...   \n",
       "6         [0.0021929916, 0.0144573795, 0.00267528, -0.04...   \n",
       "...                                                     ...   \n",
       "129275    [-0.010790561, 0.037765387, 0.00715581, 0.0184...   \n",
       "130378    [-0.010790561, 0.037765387, 0.00715581, 0.0184...   \n",
       "130537    [-0.010790561, 0.037765387, 0.00715581, 0.0184...   \n",
       "130538    [-0.010790561, 0.037765387, 0.00715581, 0.0184...   \n",
       "130539    [-0.010790561, 0.037765387, 0.00715581, 0.0184...   \n",
       "\n",
       "                                             top40_products  \n",
       "query_id                                                     \n",
       "0         [B074RDGKH4, B008OHPUYM, B004KLWPI0, B0057GS2W...  \n",
       "1         [B084MBY16Z, B0752SYKVX, B077QMNXTS, B076BQCV3...  \n",
       "2         [B01N1P9MYW, B01DYR0XAC, B07GXPTGVX, B07BR5HYW...  \n",
       "5         [B07CXXVXLC, B071R9SBXJ, B01N175R8R, B078HHGY2...  \n",
       "6         [B07GJQJFG6, B07G2RYY6H, B07JZJLHCF, B07G7F6JZ...  \n",
       "...                                                     ...  \n",
       "129275    [4794217048, B0893CKBJL, B0893T4GDX, B07WSFFH7...  \n",
       "130378    [4794217048, B0893CKBJL, B0893T4GDX, B07WSFFH7...  \n",
       "130537    [4794217048, B0893CKBJL, B0893T4GDX, B07WSFFH7...  \n",
       "130538    [4794217048, B0893CKBJL, B0893T4GDX, B07WSFFH7...  \n",
       "130539    [4794217048, B0893CKBJL, B0893T4GDX, B07WSFFH7...  \n",
       "\n",
       "[97345 rows x 3 columns]"
      ]
     },
     "execution_count": 17,
     "metadata": {},
     "output_type": "execute_result"
    }
   ],
   "source": [
    "q"
   ]
  },
  {
   "cell_type": "code",
   "execution_count": 15,
   "id": "5675f1b3-c2ee-483e-8046-eef73df2d325",
   "metadata": {},
   "outputs": [
    {
     "name": "stderr",
     "output_type": "stream",
     "text": [
      "97345it [00:07, 13516.94it/s]\n"
     ]
    }
   ],
   "source": [
    "qr = []\n",
    "for query_id, qi in tqdm(q.iterrows()):\n",
    "    for product_id in qi.top40_products:\n",
    "        qr.append([query_id, product_id])\n",
    "    "
   ]
  },
  {
   "cell_type": "code",
   "execution_count": 16,
   "id": "f1775f3a-91f7-44db-8d3e-b3cf15975bd6",
   "metadata": {},
   "outputs": [],
   "source": [
    "pd.DataFrame(qr, columns = ['query_id', 'product_id']).to_csv(f'{model}/embeddings_dotp_ranking_{locale}.csv', index=False)"
   ]
  },
  {
   "cell_type": "code",
   "execution_count": null,
   "id": "953da708-5c54-4cb1-a5a5-aaf2ca6a5fc4",
   "metadata": {},
   "outputs": [],
   "source": []
  }
 ],
 "metadata": {
  "kernelspec": {
   "display_name": "p312",
   "language": "python",
   "name": "p312"
  },
  "language_info": {
   "codemirror_mode": {
    "name": "ipython",
    "version": 3
   },
   "file_extension": ".py",
   "mimetype": "text/x-python",
   "name": "python",
   "nbconvert_exporter": "python",
   "pygments_lexer": "ipython3",
   "version": "3.12.9"
  }
 },
 "nbformat": 4,
 "nbformat_minor": 5
}
