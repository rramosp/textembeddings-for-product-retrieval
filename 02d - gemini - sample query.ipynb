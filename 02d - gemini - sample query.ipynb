{
 "cells": [
  {
   "cell_type": "code",
   "execution_count": 1,
   "id": "27ae0fd4-3b28-4ef0-9faa-764e075177a9",
   "metadata": {},
   "outputs": [],
   "source": [
    "import pandas as pd\n",
    "import numpy as np\n",
    "from tqdm import tqdm\n",
    "from joblib import Parallel, delayed\n",
    "import matplotlib.pyplot as plt\n",
    "import utils\n"
   ]
  },
  {
   "cell_type": "code",
   "execution_count": 2,
   "id": "48315180-abd6-4f1f-a94a-167ce7d84ee5",
   "metadata": {},
   "outputs": [
    {
     "data": {
      "text/plain": [
       "'/opt/conda/envs/p312/bin/python'"
      ]
     },
     "execution_count": 2,
     "metadata": {},
     "output_type": "execute_result"
    }
   ],
   "source": [
    "import sys\n",
    "sys.executable"
   ]
  },
  {
   "cell_type": "code",
   "execution_count": 3,
   "id": "783f4f25-bb87-466d-bf46-2ed20bff31e8",
   "metadata": {},
   "outputs": [],
   "source": [
    "model = 'gemini'\n",
    "locale = 'es'"
   ]
  },
  {
   "cell_type": "code",
   "execution_count": 4,
   "id": "40232554-f6ba-4b38-a34c-78d70deb20e9",
   "metadata": {},
   "outputs": [],
   "source": [
    "ESCI_DATASET_ROOT = '/usr/local/google/home/raulramos/projects/esci-data'\n",
    "\n",
    "dgt = utils.load_examples(ESCI_DATASET_ROOT=ESCI_DATASET_ROOT, locale=locale)"
   ]
  },
  {
   "cell_type": "code",
   "execution_count": 5,
   "id": "d2f61b2d-cf83-4b44-ae51-04fb3a36411e",
   "metadata": {},
   "outputs": [],
   "source": [
    "q = pd.read_parquet(f'{model}/queries-{locale}.parquet')"
   ]
  },
  {
   "cell_type": "code",
   "execution_count": 6,
   "id": "edc6e349-a8f0-4a78-bbf7-e1a5cf8b7a2b",
   "metadata": {},
   "outputs": [],
   "source": [
    "p = pd.read_parquet(f'{model}/products-{locale}.parquet')"
   ]
  },
  {
   "cell_type": "code",
   "execution_count": 7,
   "id": "8aca26de-6c79-4732-8d89-d5a82ab64ecf",
   "metadata": {},
   "outputs": [
    {
     "data": {
      "text/plain": [
       "((15180, 2), (259973, 2))"
      ]
     },
     "execution_count": 7,
     "metadata": {},
     "output_type": "execute_result"
    }
   ],
   "source": [
    "q.shape, p.shape"
   ]
  },
  {
   "cell_type": "code",
   "execution_count": 8,
   "id": "a2e7381b-74ec-45be-b3b2-72bf23564fcd",
   "metadata": {},
   "outputs": [
    {
     "data": {
      "text/plain": [
       "((15180, 768), (259973, 768))"
      ]
     },
     "execution_count": 8,
     "metadata": {},
     "output_type": "execute_result"
    }
   ],
   "source": [
    "qe = np.stack(q.embeddings.values)\n",
    "pe = np.stack(p.embeddings.values)\n",
    "qe.shape, pe.shape"
   ]
  },
  {
   "cell_type": "code",
   "execution_count": 9,
   "id": "40e27f77-d5d5-4c05-bd0a-88157e418cf3",
   "metadata": {},
   "outputs": [],
   "source": [
    "def get_dotp_closests_idxs(q_embedding,p_embeddings_matrix, topk=40):\n",
    "    return np.argsort( p_embeddings_matrix.dot(q_embedding) )[-topk:][::-1]\n"
   ]
  },
  {
   "cell_type": "code",
   "execution_count": 30,
   "id": "07587aea-5761-4675-b6ae-22b16089d01b",
   "metadata": {},
   "outputs": [],
   "source": [
    "def get_dotp_closests_idxs_restricted(query_id):\n",
    "\n",
    "    query_id = qid\n",
    "    q_embeddings = q.loc[query_id].embeddings\n",
    "\n",
    "    prod_ids = dgt[dgt.query_id == query_id].product_id.values\n",
    "    pq = p.loc[prod_ids]\n",
    "    p_embeddings = np.stack(pq.embeddings.values)\n",
    "    return list(pq.index[np.argsort(p_embeddings.dot(q_embeddings))[::-1]])\n"
   ]
  },
  {
   "cell_type": "markdown",
   "id": "0f39da0f-0172-4fb0-8aec-852db8a654a1",
   "metadata": {},
   "source": [
    "## select random query"
   ]
  },
  {
   "cell_type": "code",
   "execution_count": 10,
   "id": "b7f7900f-3b12-4619-bf4d-ce03e84359e6",
   "metadata": {},
   "outputs": [
    {
     "data": {
      "text/plain": [
       "query                                            sudadera guess\n",
       "embeddings    [-0.050236132, 0.008841239, -0.033427663, -0.0...\n",
       "Name: 98881, dtype: object"
      ]
     },
     "execution_count": 10,
     "metadata": {},
     "output_type": "execute_result"
    }
   ],
   "source": [
    "qid = np.random.choice(q.index)\n",
    "q.loc[qid]"
   ]
  },
  {
   "cell_type": "code",
   "execution_count": 38,
   "id": "08843477-1885-46f5-a952-9054c006c858",
   "metadata": {},
   "outputs": [
    {
     "name": "stdout",
     "output_type": "stream",
     "text": [
      "364 μs ± 3.21 μs per loop (mean ± std. dev. of 7 runs, 1,000 loops each)\n"
     ]
    }
   ],
   "source": [
    "%%timeit\n",
    "prod_ids = dgt[dgt.query_id == qid].product_id.values\n"
   ]
  },
  {
   "cell_type": "code",
   "execution_count": 39,
   "id": "e9e647d5-8799-4136-aef7-11ed5b38ef08",
   "metadata": {},
   "outputs": [
    {
     "name": "stdout",
     "output_type": "stream",
     "text": [
      "695 μs ± 9.57 μs per loop (mean ± std. dev. of 7 runs, 1,000 loops each)\n"
     ]
    }
   ],
   "source": [
    "%%timeit\n",
    "prod_ids = get_dotp_closests_idxs_restricted(qid)\n"
   ]
  },
  {
   "cell_type": "code",
   "execution_count": 37,
   "id": "fdc75dd3-fc06-434b-b7fc-126a8ef154d4",
   "metadata": {},
   "outputs": [
    {
     "data": {
      "text/plain": [
       "['B07FKMBXC8',\n",
       " 'B07Z85MD7D',\n",
       " 'B07N65JCZ1',\n",
       " 'B07D7QGRJW',\n",
       " 'B07RQSFVVZ',\n",
       " 'B081K1FMPH',\n",
       " 'B07RL3GKF2',\n",
       " 'B07TQMC6KG',\n",
       " 'B07V7141CK',\n",
       " 'B07V3TJV5T',\n",
       " 'B07RM49KRC',\n",
       " 'B07MQFPWPN',\n",
       " 'B07RV4S6ZD',\n",
       " 'B07RJYNY4C',\n",
       " 'B07GWN8S3C',\n",
       " 'B07RSYLMP9']"
      ]
     },
     "execution_count": 37,
     "metadata": {},
     "output_type": "execute_result"
    }
   ],
   "source": [
    "#prod_ids = dgt[dgt.query_id == qid].product_id.values\n",
    "prod_ids = get_dotp_closests_idxs_restricted(qid)\n",
    "prod_ids"
   ]
  },
  {
   "cell_type": "code",
   "execution_count": 32,
   "id": "d7345db6-5fc1-4659-ace2-ab19d95f9b12",
   "metadata": {},
   "outputs": [
    {
     "data": {
      "text/html": [
       "<div>\n",
       "<style scoped>\n",
       "    .dataframe tbody tr th:only-of-type {\n",
       "        vertical-align: middle;\n",
       "    }\n",
       "\n",
       "    .dataframe tbody tr th {\n",
       "        vertical-align: top;\n",
       "    }\n",
       "\n",
       "    .dataframe thead th {\n",
       "        text-align: right;\n",
       "    }\n",
       "</style>\n",
       "<table border=\"1\" class=\"dataframe\">\n",
       "  <thead>\n",
       "    <tr style=\"text-align: right;\">\n",
       "      <th></th>\n",
       "      <th>product</th>\n",
       "      <th>embeddings</th>\n",
       "    </tr>\n",
       "  </thead>\n",
       "  <tbody>\n",
       "    <tr>\n",
       "      <th>B07FKMBXC8</th>\n",
       "      <td>&lt;TITLE&gt;GUESS Sudadera M84Q08 K7ON0 JBLK M Negr...</td>\n",
       "      <td>[-0.027357833, 0.058028497, 0.02717828, 0.0017...</td>\n",
       "    </tr>\n",
       "    <tr>\n",
       "      <th>B07Z85MD7D</th>\n",
       "      <td>&lt;TITLE&gt;Guess O94A60 FL01H A996 - Sudadera con ...</td>\n",
       "      <td>[-0.019992368, 0.029788049, 0.013032069, -0.00...</td>\n",
       "    </tr>\n",
       "    <tr>\n",
       "      <th>B07N65JCZ1</th>\n",
       "      <td>&lt;TITLE&gt;Guess M92Q08 K6ZS0 Jared Sudadera Hombr...</td>\n",
       "      <td>[-0.01652579, 0.05671167, 0.034548294, 0.00454...</td>\n",
       "    </tr>\n",
       "    <tr>\n",
       "      <th>B07D7QGRJW</th>\n",
       "      <td>&lt;TITLE&gt;Guess W83q21k7g20 Sudadera, Negro (Jet ...</td>\n",
       "      <td>[-0.03795362, 0.023713794, 0.025264135, -0.013...</td>\n",
       "    </tr>\n",
       "    <tr>\n",
       "      <th>B07RQSFVVZ</th>\n",
       "      <td>&lt;TITLE&gt;Guess W94Q72K68I0 Sudadera, Negro (Jet ...</td>\n",
       "      <td>[-0.022327296, 0.04194075, 0.031697597, -0.020...</td>\n",
       "    </tr>\n",
       "    <tr>\n",
       "      <th>B081K1FMPH</th>\n",
       "      <td>&lt;TITLE&gt;Guess Alvar Cn Fleece Sudadera con Capu...</td>\n",
       "      <td>[-0.03225505, 0.026888812, 0.014854317, 0.0216...</td>\n",
       "    </tr>\n",
       "    <tr>\n",
       "      <th>B07RL3GKF2</th>\n",
       "      <td>&lt;TITLE&gt;Guess Giulia Fleece Sudadera, Gris (Med...</td>\n",
       "      <td>[-0.03814244, 0.04164715, -0.00042274938, -0.0...</td>\n",
       "    </tr>\n",
       "    <tr>\n",
       "      <th>B07TQMC6KG</th>\n",
       "      <td>&lt;TITLE&gt;Guess M93Q23 K6ZS0 Sudadera Hombre Red ...</td>\n",
       "      <td>[-0.014460574, 0.05953961, 0.017886693, 0.0157...</td>\n",
       "    </tr>\n",
       "    <tr>\n",
       "      <th>B07V7141CK</th>\n",
       "      <td>&lt;TITLE&gt;Guess M93Q33 K8S40 Sudadera Hombre Whit...</td>\n",
       "      <td>[-0.02639148, 0.042331327, 0.005314218, -0.000...</td>\n",
       "    </tr>\n",
       "    <tr>\n",
       "      <th>B07V3TJV5T</th>\n",
       "      <td>&lt;TITLE&gt;Guess M93Q33 K8S40 Sudadera Hombre Whit...</td>\n",
       "      <td>[-0.028388493, 0.043206964, 0.0044925003, -0.0...</td>\n",
       "    </tr>\n",
       "    <tr>\n",
       "      <th>B07RM49KRC</th>\n",
       "      <td>&lt;TITLE&gt;Guess Iconic Fleece Sudadera, Blanco (T...</td>\n",
       "      <td>[-0.04288908, 0.022443086, 0.0126164965, -0.00...</td>\n",
       "    </tr>\n",
       "    <tr>\n",
       "      <th>B07MQFPWPN</th>\n",
       "      <td>&lt;TITLE&gt;guess jeans Hombre Sudaderas&lt;/TITLE&gt;\\n&lt;...</td>\n",
       "      <td>[-0.013541841, 0.026719382, 0.035871916, -0.02...</td>\n",
       "    </tr>\n",
       "    <tr>\n",
       "      <th>B07RV4S6ZD</th>\n",
       "      <td>&lt;TITLE&gt;Guess Vin Cn Fleece Jersey, Negro (Jet ...</td>\n",
       "      <td>[-0.018395444, 0.06317022, 0.057651956, 0.0025...</td>\n",
       "    </tr>\n",
       "    <tr>\n",
       "      <th>B07RJYNY4C</th>\n",
       "      <td>&lt;TITLE&gt;Guess Kelly Fleece Sudadera, Negro (Jet...</td>\n",
       "      <td>[-0.026279127, 0.040362455, 0.02082146, 0.0005...</td>\n",
       "    </tr>\n",
       "    <tr>\n",
       "      <th>B07GWN8S3C</th>\n",
       "      <td>&lt;TITLE&gt;ZODOF Sudaderas Cortas con Capucha para...</td>\n",
       "      <td>[-0.028337244, 0.014865935, -0.022472322, 0.01...</td>\n",
       "    </tr>\n",
       "    <tr>\n",
       "      <th>B07RSYLMP9</th>\n",
       "      <td>&lt;TITLE&gt;Guess Hoody Icon Fleece Sudadera, Gris ...</td>\n",
       "      <td>[-0.03074346, 0.040952984, -0.011106963, -0.01...</td>\n",
       "    </tr>\n",
       "  </tbody>\n",
       "</table>\n",
       "</div>"
      ],
      "text/plain": [
       "                                                      product  \\\n",
       "B07FKMBXC8  <TITLE>GUESS Sudadera M84Q08 K7ON0 JBLK M Negr...   \n",
       "B07Z85MD7D  <TITLE>Guess O94A60 FL01H A996 - Sudadera con ...   \n",
       "B07N65JCZ1  <TITLE>Guess M92Q08 K6ZS0 Jared Sudadera Hombr...   \n",
       "B07D7QGRJW  <TITLE>Guess W83q21k7g20 Sudadera, Negro (Jet ...   \n",
       "B07RQSFVVZ  <TITLE>Guess W94Q72K68I0 Sudadera, Negro (Jet ...   \n",
       "B081K1FMPH  <TITLE>Guess Alvar Cn Fleece Sudadera con Capu...   \n",
       "B07RL3GKF2  <TITLE>Guess Giulia Fleece Sudadera, Gris (Med...   \n",
       "B07TQMC6KG  <TITLE>Guess M93Q23 K6ZS0 Sudadera Hombre Red ...   \n",
       "B07V7141CK  <TITLE>Guess M93Q33 K8S40 Sudadera Hombre Whit...   \n",
       "B07V3TJV5T  <TITLE>Guess M93Q33 K8S40 Sudadera Hombre Whit...   \n",
       "B07RM49KRC  <TITLE>Guess Iconic Fleece Sudadera, Blanco (T...   \n",
       "B07MQFPWPN  <TITLE>guess jeans Hombre Sudaderas</TITLE>\\n<...   \n",
       "B07RV4S6ZD  <TITLE>Guess Vin Cn Fleece Jersey, Negro (Jet ...   \n",
       "B07RJYNY4C  <TITLE>Guess Kelly Fleece Sudadera, Negro (Jet...   \n",
       "B07GWN8S3C  <TITLE>ZODOF Sudaderas Cortas con Capucha para...   \n",
       "B07RSYLMP9  <TITLE>Guess Hoody Icon Fleece Sudadera, Gris ...   \n",
       "\n",
       "                                                   embeddings  \n",
       "B07FKMBXC8  [-0.027357833, 0.058028497, 0.02717828, 0.0017...  \n",
       "B07Z85MD7D  [-0.019992368, 0.029788049, 0.013032069, -0.00...  \n",
       "B07N65JCZ1  [-0.01652579, 0.05671167, 0.034548294, 0.00454...  \n",
       "B07D7QGRJW  [-0.03795362, 0.023713794, 0.025264135, -0.013...  \n",
       "B07RQSFVVZ  [-0.022327296, 0.04194075, 0.031697597, -0.020...  \n",
       "B081K1FMPH  [-0.03225505, 0.026888812, 0.014854317, 0.0216...  \n",
       "B07RL3GKF2  [-0.03814244, 0.04164715, -0.00042274938, -0.0...  \n",
       "B07TQMC6KG  [-0.014460574, 0.05953961, 0.017886693, 0.0157...  \n",
       "B07V7141CK  [-0.02639148, 0.042331327, 0.005314218, -0.000...  \n",
       "B07V3TJV5T  [-0.028388493, 0.043206964, 0.0044925003, -0.0...  \n",
       "B07RM49KRC  [-0.04288908, 0.022443086, 0.0126164965, -0.00...  \n",
       "B07MQFPWPN  [-0.013541841, 0.026719382, 0.035871916, -0.02...  \n",
       "B07RV4S6ZD  [-0.018395444, 0.06317022, 0.057651956, 0.0025...  \n",
       "B07RJYNY4C  [-0.026279127, 0.040362455, 0.02082146, 0.0005...  \n",
       "B07GWN8S3C  [-0.028337244, 0.014865935, -0.022472322, 0.01...  \n",
       "B07RSYLMP9  [-0.03074346, 0.040952984, -0.011106963, -0.01...  "
      ]
     },
     "execution_count": 32,
     "metadata": {},
     "output_type": "execute_result"
    }
   ],
   "source": [
    "p.loc[prod_ids]"
   ]
  },
  {
   "cell_type": "code",
   "execution_count": 33,
   "id": "b0fc2477-1896-42a2-964f-afd18c92ee5c",
   "metadata": {},
   "outputs": [],
   "source": [
    "qgt = dgt[dgt.query_id == qid].copy()\n",
    "qgt['dotp_distance'] = np.stack(p.loc[qgt.product_id].embeddings).dot(q.loc[qid].embeddings)"
   ]
  },
  {
   "cell_type": "code",
   "execution_count": 34,
   "id": "1072c3e0-7186-422b-b67e-6053a57fa406",
   "metadata": {},
   "outputs": [
    {
     "data": {
      "text/plain": [
       "<matplotlib.collections.PathCollection at 0x7fb9345668a0>"
      ]
     },
     "execution_count": 34,
     "metadata": {},
     "output_type": "execute_result"
    },
    {
     "data": {
      "image/png": "[encoded data removed]",
      "text/plain": [
       "<Figure size 640x480 with 1 Axes>"
      ]
     },
     "metadata": {},
     "output_type": "display_data"
    }
   ],
   "source": [
    "plt.scatter(qgt.relevance, qgt.dotp_distance)"
   ]
  },
  {
   "cell_type": "markdown",
   "id": "ffcb6c85-efa8-4167-97d2-77070a0c7445",
   "metadata": {},
   "source": [
    "## get closest product embeddings"
   ]
  },
  {
   "cell_type": "code",
   "execution_count": 35,
   "id": "1bad9f0a-1c3e-4c79-81c5-19a3b2ccbaf0",
   "metadata": {},
   "outputs": [],
   "source": [
    "#p_relevant = p.iloc[get_dotp_closests_idxs(q.loc[qid].embeddings, pe)].copy()\n",
    "p_relevant = p.loc[get_dotp_closests_idxs_restricted(qid)].copy()\n",
    "\n",
    "p_relevant['dotp_similarity'] = np.stack(p_relevant.embeddings).dot(q.loc[qid].embeddings)"
   ]
  },
  {
   "cell_type": "code",
   "execution_count": 36,
   "id": "fde87641-cbfd-470f-9c55-e48c8869e635",
   "metadata": {},
   "outputs": [
    {
     "name": "stdout",
     "output_type": "stream",
     "text": [
      "query: sudadera guess\n",
      "\n",
      "------ text embeddings ranking (* indicates it is ground truth relevant)\n",
      " 0 B07FKMBXC8 * 0.6167 GUESS Sudadera M84Q08 K7ON0 JBLK M Negro <DES\n",
      " 1 B07Z85MD7D * 0.6034 Guess O94A60 FL01H A996 - Sudadera con capucha para m\n",
      " 2 B07N65JCZ1 * 0.5945 Guess M92Q08 K6ZS0 Jared Sudadera Hombre Blue Navy L<\n",
      " 3 B07D7QGRJW * 0.5722 Guess W83q21k7g20 Sudadera, Negro (Jet Black A996 Jbl\n",
      " 4 B07RQSFVVZ * 0.5545 Guess W94Q72K68I0 Sudadera, Negro (Jet Black A996 Jbl\n",
      " 5 B081K1FMPH * 0.5544 Guess Alvar Cn Fleece Sudadera con Capucha, Bianco, S\n",
      " 6 B07RL3GKF2 * 0.5503 Guess Giulia Fleece Sudadera, Gris (Medium Charcoal H\n",
      " 7 B07TQMC6KG * 0.5371 Guess M93Q23 K6ZS0 Sudadera Hombre Red M <DES\n",
      " 8 B07V7141CK * 0.5311 Guess M93Q33 K8S40 Sudadera Hombre White S <D\n",
      " 9 B07V3TJV5T * 0.5288 Guess M93Q33 K8S40 Sudadera Hombre White M <D\n",
      "10 B07RM49KRC * 0.5048 Guess Iconic Fleece Sudadera, Blanco (True White A000\n",
      "11 B07MQFPWPN * 0.5013 guess jeans Hombre Sudaderas <DESCRIPTION>Fel\n",
      "12 B07RV4S6ZD * 0.5003 Guess Vin Cn Fleece Jersey, Negro (Jet Black A996 Jbl\n",
      "13 B07RJYNY4C * 0.4992 Guess Kelly Fleece Sudadera, Negro (Jet Black A996 Jb\n",
      "14 B07GWN8S3C * 0.4779 ZODOF Sudaderas Cortas con Capucha para Mujer, Hoodie\n",
      "15 B07RSYLMP9 * 0.4677 Guess Hoody Icon Fleece Sudadera, Gris (Dark Coal Hea\n",
      "\n",
      "------ ground truth relevant\n",
      "B07FKMBXC8 0.6167 GUESS Sudadera M84Q08 K7ON0 JBLK M Negro\n",
      "B07N65JCZ1 0.5945 Guess M92Q08 K6ZS0 Jared Sudadera Hombre Blue Navy L\n",
      "B07RQSFVVZ 0.5545 Guess W94Q72K68I0 Sudadera, Negro (Jet Black A996 Jblk), M p\n",
      "B081K1FMPH 0.5544 Guess Alvar Cn Fleece Sudadera con Capucha, Bianco, S para H\n",
      "B07RL3GKF2 0.5503 Guess Giulia Fleece Sudadera, Gris (Medium Charcoal Heat Mch\n",
      "B07TQMC6KG 0.5371 Guess M93Q23 K6ZS0 Sudadera Hombre Red M\n",
      "B07V7141CK 0.5311 Guess M93Q33 K8S40 Sudadera Hombre White S\n",
      "B07V3TJV5T 0.5288 Guess M93Q33 K8S40 Sudadera Hombre White M\n",
      "B07RM49KRC 0.5048 Guess Iconic Fleece Sudadera, Blanco (True White A000 Twht),\n",
      "B07MQFPWPN 0.5013 guess jeans Hombre Sudaderas\n"
     ]
    }
   ],
   "source": [
    "print (f'query: {q.loc[qid].query}')\n",
    "print ('\\n------ text embeddings ranking (* indicates it is ground truth relevant)')\n",
    "for i in range(len(p_relevant)):\n",
    "    pi = p_relevant.iloc[i]\n",
    "    print (f\"{i:2d} {pi.name:10s} {'*' if pi.name in qgt.product_id.values else ' '} {pi.dotp_similarity:.4f} {pi['product'][:60].replace('\\n',' ')\\\n",
    "                                                                                                           .replace('<TITLE>','')\\\n",
    "                                                                                                           .replace('</TITLE>','')}\")\n",
    "print ('\\n------ ground truth relevant')\n",
    "for _, gi in qgt[qgt.relevance==4].sort_values(by='dotp_distance', ascending=False).iloc[:10].iterrows():\n",
    "    print (f'{gi.product_id} {gi.dotp_distance:.4f} {gi.product_title[:60]}')\n",
    "    \n"
   ]
  },
  {
   "cell_type": "markdown",
   "id": "8be86ddb-d75d-4141-ad79-c2c920c74124",
   "metadata": {},
   "source": [
    "## show details of the top 3"
   ]
  },
  {
   "cell_type": "code",
   "execution_count": 20,
   "id": "c7784f20-eb37-4c1c-bc9b-4e69805016c0",
   "metadata": {},
   "outputs": [
    {
     "name": "stdout",
     "output_type": "stream",
     "text": [
      "query: gravacion laser\n"
     ]
    }
   ],
   "source": [
    "print ('query:', q.loc[qid].query)"
   ]
  },
  {
   "cell_type": "code",
   "execution_count": 25,
   "id": "c01a83cf-2cc7-4ced-8961-bddffcf02930",
   "metadata": {},
   "outputs": [
    {
     "name": "stdout",
     "output_type": "stream",
     "text": [
      "top 1 : B0012M9HOA\n",
      "<TITLE>Laser 2459 - Llave inglesa (100 mm)</TITLE>\n",
      "<BULLETS>Marca láser</BULLETS>\n",
      "<BRAND>Laser</BRAND>\n",
      "---------\n",
      "top 2 : B08TC354DX\n",
      "<TITLE>Máquina de grabado láser de 1,6 W con soporte de enfoque automático, cortadora láser láser láser láser con funda plegable y soporte eléctrico automático</TITLE>\n",
      "<DESCRIPTION><p>Especificaciones: </p><p>Tamaño base: 65 x 61 x 53 mm. </p><p>Tamaño del traje: 23 x 19 x 18,5 cm. </p><p>Peso: 190 g. </p><p>Peso del paquete: 2,4 kg. </p><p>Fuente de láser: 1500 MW 405 nm. Láser azul-violetter </p><p>Salida láser: 100 niveles ajustables. </p><p>Material: aluminio anodizado. </p><p>Color: gris. </p><p>Conexión de la aplicación: Bluetooth. </p><p>Formatos de archivo compatibles: JPG / BMP / PNG / G-Code </p><p>Compatible: iOS 10.0 + / Android 4.4 + </p><p>Windows 7/8/10/Vista / XP, Mac OS-10.10/11/12/13/14. </p><p>Conector de comunicación: Tipo C (5 V, 2 A) </p><p>Rango de temperatura de funcionamiento en Celsius: 0 65 – 65 ℃. </p><p>Rango de humedad: 5% a 80% (sin condensación). </p><p>Software: APP </p><p>Potencia láser: 1600 mW </p><p>Vida útil: 10000 horas. </p><p>Cabezal láser puede reemplazar: sí. </p><p>Certificación: CE, FCC, FDA, RoHS, CDRH, IEC 60825-1 (laserklasse 1), IEC 60825-1 (laserklasse 4) </p></DESCRIPTION>\n",
      "<BULLETS>Máquina de grabado mejorada: la máquina de grabado láser Taotuo está equipada con un soporte de enfoque automático, que ajusta automáticamente la distancia láser en cuestión de segundos, no es necesario ajustar el enfoque manualmente. 405 nm azul y púrpura láser, 0,1 mm de alta precisión. Es más ligera que la máquina de grabado tradicional, solo 190 g y el volumen es aproximadamente la mitad de la que una lata de cola. Es fácil de transportar y se puede grabar en cualquier momento\n",
      "☆【 ღ Protección múltiple, más seguro】La máquina de grabado láser LaserPecker tiene la función de control de movimiento y está equipada con un sensor G sensible. Si se produce un movimiento accidental durante el uso, los trabajos para proteger la seguridad se exponen inmediatamente. Ahora cuenta con varias funciones de seguridad como gafas de seguridad, bloqueo de contraseña, detección de movimiento, indicador láser y apagado en caso de sobrecalentamiento.\n",
      "☆【Ampliamente extendida】La máquina de grabado láser Pecker puede ser cartón, tela, fieltro, cuero, madera, acrílico no transparente, madera, bambú, papel, plástico, cuero, goma, esponja, peine, cartera u otros plásticos inflamables, etc. (materiales que no se pueden grabar: metal, piedra, joyas, plata). Material reflectante, material transparente, se recomienda pintar negro antes de tallar con un lápiz.\n",
      "Fácil de usar: pasos fáciles y seguros para principiantes: 1. Inserta el soporte y enciende la máquina de grabado. 2. Conecte la bandeja de grabado láser a la aplicación y luego elija un patrón en la aplicación o descargue su foto favorita para crear su propio diseño. 3. Empieza a tallar. LaserPecker - Máquina de grabado láser con aplicación de 5 modos: impresión, código G, blanco y negro, niveles de gris y sello.\n",
      "☆【 ღ Servicio postventa de alta calidad 】La fuente de alimentación es de 5 V 2 A (ordenador, batería externa, cargador USB) para el funcionamiento de la fuente de alimentación. Estamos abiertos 1 año de garantía si tienes alguna pregunta sobre el uso de la máquina de grabado láser, por favor, no dudes en contactarlo y te volverlo a ti durante 24 horas. El paquete incluye: 1 grabado; 1 soporte de enfoque automático; 1 cable tipo C; 1 cargador; 1 gafas; 1 trípode; 1 regla; 1 manua</BULLETS>\n",
      "<BRAND>Taotuo</BRAND>\n",
      "<COLOR>Máquina de Grabado de Lujo</COLOR>\n",
      "---------\n",
      "top 3 : B08K3GSH5P\n",
      "<TITLE>LaserPecker Pro de grabado láser portátil, máquina grabadora láser compacta con gafas protectoras, impresora láser cortador para bricolaje-Suit</TITLE>\n",
      "<DESCRIPTION><p>Esta mini máquina de grabado láser de escritorio es ideal para el uso de grabado láser amateur.</p> <p></p> <p>Tu idea, en tus manos, en minutos. Solo presiona el botón para crear regalos significativos para tus amigos, productos únicos para vender o algo personalizado solo para ti.</p> <p></p> <p>Perfecto para decorar, grabar o personalizar sus pequeñas y encantadoras pertenencias.</p> <p><br></p> <p></p> <p><b>Producto:</b></p> <p>Peso del artículo: 190G</p> <p></p> <p>Tamaño del paquete: 65 * 61 * 53 mm</p> <p></p> <p>Peso del paquete: 0.9 KG</p> <p></p> <p>Fuente láser: 450 nm bluelightlaser</p> <p></p> <p>Salida láser: 100 niveles ajustables</p> <p></p> <p>Material: aluminio anodizado</p> <p></p> <p>Color: rojo, negro, dorado, verde</p> <p></p> <p>Conexión de la aplicación: Bluetooth</p> <p></p> <p>Formatos de archivo compatibles: JPG / BMP / / PNG / G-code</p> <p></p> <p>Compatible: IOS 9.0+ / Android 5.0+</p> <p></p> <p>No es compatible con Windows-7/8/10 / Vista / XP, Mac OS-10.10 / 11/12/13/14</p> <p></p> <p>Puerto de comunicación: Tipo C (5v, 2A)</p> <p></p> <p>Rango de temperatura de funcionamiento Celsius: 0 ℃ - 65 ℃</p> <p></p> <p>Rango de humedad de funcionamiento: 5% a 80% (sin condensación)</p> <p></p> <p>Software: APLICACIÓN</p> <p></p> <p>Potencia del láser: 1,6 mW</p> <p></p> <p>Estimación de vida útil: 10000 horas</p> <p></p> <p>El cabezal láser puede reemplazar: Sí</p> <p></p> <p>Certificación: CE, FCC, FDA, RoHS, CDRH, IEC 60825-1 (clase de láser 1), IEC 60825-1 (clase de láser 4)</p> <p><br></p> <p></p> <p><b>Lista de paquetes:</b></p> <p></p> <p>1 * máquina de grabado láser</p> <p></p> <p>1 * gafas protectoras</p> <p></p> <p>1 * cable tipo C</p> <p></p> <p>1 * trípode</p> <p></p> <p>1 * adaptador</p> <p></p> <p>1 * Manual de usuario (inglés)</p></DESCRIPTION>\n",
      "<BULLETS>【Preciso y enfoque automático】: actualizado con soporte de enfoque automático que ajusta automáticamente la distancia del láser en segundos. El láser azul-violeta de 405 nm y el punto de alta precisión de 0,01 mm crean detalles dobles más que cualquier otro grabador láser azul normal. Viene con varias características de seguridad que incluyen gafas, bloqueo de contraseña, detección de movimiento, indicador láser y apagado por sobrecalentamiento.\n",
      "【Compacto y portátil】 - 6.7oz, 2.56 '' × 2.4 '' × 2.09 '' (L × W × H), este pequeño dispositivo cabe perfectamente en la palma de su mano y en la bolsa de la mochila, por sí mismo puede ser móvil a través de USB desde cualquier 5V Fuente de alimentación 2A, como banco de energía. Láser tus ideas y diviértete en cualquier momento y lugar.\n",
      "【Plug & play】 -Simplemente inicie la aplicación LaserPecker y conéctese con Bluetooth, puede crear grabados de hasta 3.9''x 3.9 '' (WxH) cargando una imagen, escribiendo texto o importando un archivo de código G. Ideal para grabar etiquetas y decoraciones en cosas como carteras, cuadernos, fundas de teléfonos, etc., en lugar de proyectos de grabado a gran escala\n",
      "【Funcional y práctico】: LaserPecker puede grabar cartón, tela, fieltro, cuero, madera, acrílico no transparente, bolsillos de pita, etc. Práctico bricolaje en casa o en el taller. Sin embargo, los metales, la piedra y los materiales reflectantes no están disponibles, baje la página y consulte más detalles.\n",
      "【Calidad y garantía】 -Dentro de 7 días de tiempo de envío. Se ha realizado la fuente láser con al menos 10000 h de tiempo de servicio y un control de calidad del 100%. Su compra está respaldada por una política de garantía de 24 meses. Comprenda bien antes de usarlo y contáctenos si tiene alguna pregunta o problema. El paquete incluye: 1 * Grabador; 1 * soporte de enfoque automático; 1 * cable tipo C; 1 * cargador; 1 * Gafas, 1 * Trípode, 1 * Regla, 1 * Manual de usuario.</BULLETS>\n",
      "<BRAND>LaserPecker</BRAND>\n",
      "---------\n"
     ]
    }
   ],
   "source": [
    "for i in range(3):\n",
    "    pi = p_relevant.iloc[i]\n",
    "    print ('top', i+1, ':', pi.name)\n",
    "    print (pi['product'])\n",
    "    print ('---------')\n",
    "    "
   ]
  },
  {
   "cell_type": "markdown",
   "id": "63781ad6-4cb0-4919-bdac-ad74b213a1a7",
   "metadata": {},
   "source": [
    "## show details of the bottom 3"
   ]
  },
  {
   "cell_type": "code",
   "execution_count": 26,
   "id": "238d88a3-bb70-4b96-a557-defc7faa770a",
   "metadata": {},
   "outputs": [
    {
     "name": "stdout",
     "output_type": "stream",
     "text": [
      "bottom -3 : B09G9C3BV2\n",
      "<TITLE>Máquina de grabado láser, cortadora láser función de enfoque de diseño de protección para los ojos, grabadora láser DIY CNC para metal, madera, cuero, vinilo (A5 Pro 40W)</TITLE>\n",
      "<DESCRIPTION><p>Especificaciones: </p><p>Modelo: ATOMSTACK A5 PRO 40W. </p><p>Tamaño: 410 x 400 mm. </p><p>Material de tallado: madera, bambú, cartón, plástico, cuero, placa de circuito, óxido de aluminio, revestimiento antirreflectante y metal lacado, cuchillo universal ennegrecido. </p><p>Material de corte: cartón, fieltro, chapa, acrílico, algunas placas de plástico delgadas. </p><p>Potencia del láser: 40 W. </p><p>Potencia óptica del láser: 5-5,5 W. </p><p>Longitud de onda láser: 455 ± 5 nm. </p><p>Precisión de grabado: 0,01 mm. </p><p>Método de enfoque: láser de enfoque fijo, enfoque libre. </p><p>Software operativo: LaserGRBL, LightBurn, compatible con Win XP / Win 7 / Win 8 / XP / Win 10. </p><p>Formatos de archivo compatibles: NC, BMP, JPG, PNG, DXF </p><p>Método de transferencia de datos: conexión USB. </p><p>Fuente de alimentación: entrada de corriente estándar internacional: 100-240 V CA, 50/60 Hz. Salida: 12 V, 5 A. </p><p>Peso neto del equipo: 3426 kg. </p><p>Peso del paquete: 5,072 kg. </p><p>Tamaño: 570 x 600 x 270 mm. </p><p>Tamaño del paquete: 620 x 345 x 130 mm. </p><p><br></p><p>Incluye: </p><p>Grupo de construcción de ejes X. </p><p>Perfil de 57 cm y 48 cm. </p><p>Caja de control. </p><p>Patas de apoyo. </p><p>Gafas láser. </p><p>Láser. </p><p>Placas acrílicas. </p><p>Accesorios necesarios. </p></DESCRIPTION>\n",
      "<BULLETS>Instalación muy precisa y práctica: la máquina de grabado láser CNC con cabezal láser de 40 W de alto rendimiento. Se puede grabar o cortar. Toda la estructura de metal está diseñada para un montaje rápido y la instalación se puede completar en 10-20 minutos.\n",
      "Innovador diseño de protección ocular: el grabado láser con cubierta protectora protege tus ojos perfectamente mientras grabas, filtra la luz UV en un 97%. Durante la función de grabado láser, no necesitas llevar gafas de protección.\n",
      "Eje de línea de escala preciso: en el eje X y Y hay líneas de escala precisas para facilitar la medición de la longitud. El gran intervalo de grabado de 410 x 400 mm puede satisfacer tus diferentes requisitos de grabado. Esta máquina de grabado láser A5 Pro puede combinar tanto el grabado de precisión como el corte de alta energía al mismo tiempo. La potencia del láser de enfoque fijo es más estable que la del láser con zoom.\n",
      "Ampliamente utilizado: este grabador de corte láser A5 Pro de 40 W puede satisfacer tus necesidades diarias. Adecuado para materiales como papel, bambú, madera, plástico, placas de cuero, óxido de aluminio, metal pintado, etc.\n",
      "Amplia compatibilidad: el grabador láser puede ser compatible con varios programas de grabado maduros como Laser GRBL, LightBurn, soporta Win XP/Win 7/Win 8/XP/Win 10 y también admite el sistema Mac (LightBurn), el formato de archivo de grabado es compatible con NC, BMP, JPG, PNG, DXF, etc.</BULLETS>\n",
      "<BRAND>Victool</BRAND>\n",
      "<COLOR>Plata</COLOR>\n",
      "---------\n",
      "bottom -2 : B089MCVZV4\n",
      "<TITLE>NEJE Master-2s 7 W Máquina de grabado láser portátil para escritorio, impresora láser para marcar láser para un grabado rápido y fácil corte, potencia de salida de 2,5 W</TITLE>\n",
      "<DESCRIPTION>🌻Nota (por favor, tenga en cuenta): 🌻 <br><br>Ofrecemos 2 años de garantía y un servicio al cliente de por vida. Si tu módulo láser tiene problemas, no lo desmonte sin nuestro permiso. Se destruirá el módulo láser. Si tiene alguna pregunta sobre esta máquina de grabado, por favor, póngase en contacto con nosotros, le responderemos dentro de las 24 horas. Gracias. <br><br>Especificaciones generales: <br>Modelo: NEJE Master 2 7 W. <br>Potencia óptica: 450 nm 2,5 W. <br>Placa de control: 2 MCU + control remoto + MEMS <br>Satety Protection: MEMS <br>Píxeles: 2266 x 2266 px. <br>Distancia de punto: 0,075 mm. <br>Software: NEJE APP para Android, NEJE Wireless App para iOS/MacOS, software NEJE para Windows, LaserGRBL con firmware GRBL1.1f. <br>Servicio de actualización de software NEJE: sí. <br>NEJE Cloud Gallery: sí. <br>Función de escáner: sí. <br>Material del marco: panel de compuestos de corte CNC, aleación de aluminio, acrílico. <br>Se puede grabar: MDF, balsa, papel, madera, tela, plástico, cuero, contrachapado, papel de espuma, aluminio anodizado. <br>No se puede grabar: metal, cristal, piedra, cerámica, PCB, acero inoxidable, material reflectante, material transparente. <br>Continuar trabajando: ilimitado. <br>Longitud de onda: 450 nm. <br>Forma del haz: punto (enfocable). <br>Unidad de disco: integrada. <br>Color luminoso: azul. <br>Voltaje de entrada: CA 100-240 V, 50/60 Hz. <br>Voltaje de salida: 12 V CC, 2 A. <br>Formato de imagen: .bmp \\ .jpg \\ .png \\ .nc \\ .dxf \\ etc.</DESCRIPTION>\n",
      "<BULLETS>Nueva versión de máquina de grabado láser: Master2s actualizada de 7 W con función de control inalámbrico y placa base de 32 bits. Grabado de alta velocidad (0,5 – 1,5 mm). Adecuado para marcar patrones y logotipos, así como para cortar bloques de madera con un grosor de 2,5 a 3 mm. Área de grabado: 150 x 150 mm en el controlador NEJE o 170 x 170 mm en el controlador GRBL.\n",
      "Los procesadores admiten 2 firmwares: Master 2 está equipado con 2 procesadores y puede soportar 2 firmware al mismo tiempo. Al arrancar el software, el dispositivo detecta automáticamente el software y establece una conexión. En modo NEJE, el software NEJE para Windows funciona con la aplicación NEJE ANDorid. Este modo es adecuado para principiantes y fácil y eficiente. Máquina de grabado láser profesional, kit de montaje para grabado láser Bluetooth\n",
      "Totalmente funcional y potente: la ejecución directa de archivos BMP, JPG, PNG y NEJE CLOUD ofrece miles de materiales y recursos de grabado para descargar y actualizar Tubo láser estándar de 450 nm. El segundo procesador Master 2s se actualiza a GRBL1.1f (no admite Benbox). Máquina de grabado láser sobre madera y cuero para grabado láser para piel Neje\n",
      "Diseño del interruptor final y del sensor de temperatura: la máquina de grabado se puede restablecer automáticamente. Función de memoria de punto de espera: puedes comprobar tu trabajo después de pausar y reiniciar el proceso en el que se detendrá. Con el software puedes ajustar la potencia del láser a tus propias necesidades. Cada láser ha sido sometido a una prueba de envejecimiento a largo plazo para garantizar que la disipación de calor se controla dentro de 70 grados Celsius.\n",
      "Función de protección: giroscopio integrado. Cuando la máquina de grabado láser está funcionando, el giroscopio integrado registra la posición de trabajo. En caso de contacto accidental o desplazamiento de la máquina, la máquina deja de funcionar automáticamente para evitar un accidente. Máquina de grabado láser láser de gravado de madera portátil</BULLETS>\n",
      "<BRAND>GOGOLUCK</BRAND>\n",
      "---------\n",
      "bottom -1 : B08R7DDPRX\n",
      "<TITLE>Orion Motor Tech 80W Máquina de Grabador Láser de CO2 600x1000mm Máquina de Grabador Láser con 2 Tubos Láser y 2 Cabezales Grabadora Láser Profesional con Software RDWorks (80W 600X1000mm)</TITLE>\n",
      "<DESCRIPTION><p><b> Descripción:</b></p> <p>Esta máquina de grabado láser de CO2 de class 1 de 80 W mantiene nuestros altos estándares actuales con su panel de control Ruida, que incluye RDWorks 8 y CorelLaser-Suite, la gran área de trabajo de 1000 x 600 mm.Para mejorar su eficiencia y flujo, esta máquina de corte y grabado láser utiliza dos tubos y cabezales láser industriales. Compatible con la mayoría de los programas gráficos de terceros, esta cortadora láser le permite convertir sus nuevas ideas en realidad a dos velocidades. </p> <p><b>Especifiaciones:</b></p> <p>Fuente de alimentación: 220 V / 50 Hz</p> <p>Potencia nominal: 80 W (máx. 115 W)</p> <p>Área de grabado: 60 x 100 cm</p> <p>Velocidad de grabado: 600 mm / s</p> <p>Profundidad de grabado: 0-20 mm (0-0,8 pulgadas)</p> <p>Relación de resolución: ≤ 4500 ppp</p> <p>Software incluido: RDWorks v8.0, CorelLaser</p> <p>Software compatible: CorelDRAW, AutoCAD, LightBurn (no incluido)</p> <p>Formato gráfico compatible: HPGL; BMP; GIF; JPG; JPEG; DXF; DST; AI; etc</p> <p>Sistema compatible Windows, Mac OS si utiliza el software LightBurn (no incluido)</p> <p>Interfaz de transferencia de datos USB a PC, Ethernet a PC</p> <p>Peso neto: 260 kg (573,2 libras)</p> <p>Certificaciones: CE, FDA</p> <p><b>La lista de paquete</b></p> <p>1 x Grabador láser</p> <p>1 x Cable de tierra</p> <p>1 x Cable USB</p> <p>1 x Cable Ethernet</p> <p>1 x Cable de alimentación</p> <p>1 x Bomba de agua</p> <p>1 x Cinta de doble cara</p> <p>1 x Tubo de escape</p> <p>2 x Mangueras de agua</p> <p>10 x Llaves hexagonales</p> <p>2 x Llaves</p> <p>1 x Abrazadera de acero inoxidable</p> <p>1 x Unidad flash USB (con software)</p> <p>1 x Caja de desechos</p> <p>1 x Bolsa de accesorios</p> <p>1 x Manual de instrucciones en inglés o en alemán</p></DESCRIPTION>\n",
      "<BULLETS>DOBLE EFICIENCIA: Esta máquina de grabado láser de CO2 viene con dos tubos láser de 80 W y dos cabezales láser para realizar doble velocidad. Para sus proyectos por lotes, esta operación simultánea es exactamente lo que está buscando, especialmente porque esta cortadora láser cubre el área de trabajo de 1000 x 600 mm y nuestras puertas de paso para piezas aún más grandes.\n",
      "CONTROL DIGITAL RUIDA: El panel de control Ruida de esta herramienta de corte láser ofrece funciones avanzadas que le permiten perfeccionar sus exigentes grabados. La práctica pantalla LCD ofrece un control total sobre el proceso de marcado láser.\n",
      "FUNCIONAMIENTO SENCILLO Y SEGURO: La protección mediante contraseña y clave evita el uso no autorizado. Un sensor asegura un apagado automático cuando se abre la cubierta protectora. Un actuador de aire incorporado elimina el humo, el polvo y las chispas. Se quita un contenedor de gran capacidad y recoge rápidamente la suciedad mientras trabaja.\n",
      "SOFTWARE INCLUIDO: Esta máquina de grabado láser viene con RDWorks v8 y CorelLaser para que pueda comenzar; También puede recibir archivos de imagen a través de Ethernet o USB de otros programas para comenzar inmediatamente a esculpir sus proyectos en madera, cuero, plástico, caucho y más.\n",
      "APLICACIÓN AMPLIA: La máquina puede procesar los siguientes materiales: madera, caucho, acrílico, delrin, tela, cuero, papel, fibra de vidrio, plexiglás, azulejos, plástico, mármol, cartón, melamina, mylar, aglomerado, madera contrachapada, corcho, corian etc. ¡NO talle ni corte metal!</BULLETS>\n",
      "<BRAND>Orion Motor Tech</BRAND>\n",
      "---------\n"
     ]
    }
   ],
   "source": [
    "for i in [-3,-2,-1]:\n",
    "    pi = p_relevant.iloc[i]\n",
    "    print ('bottom', i, ':', pi.name)\n",
    "    print (pi['product'])\n",
    "    print ('---------')\n",
    "    "
   ]
  },
  {
   "cell_type": "code",
   "execution_count": null,
   "id": "a64854de-cc44-45f8-84c9-023293349c81",
   "metadata": {},
   "outputs": [],
   "source": []
  }
 ],
 "metadata": {
  "kernelspec": {
   "display_name": "p312",
   "language": "python",
   "name": "p312"
  },
  "language_info": {
   "codemirror_mode": {
    "name": "ipython",
    "version": 3
   },
   "file_extension": ".py",
   "mimetype": "text/x-python",
   "name": "python",
   "nbconvert_exporter": "python",
   "pygments_lexer": "ipython3",
   "version": "3.12.9"
  }
 },
 "nbformat": 4,
 "nbformat_minor": 5
}
