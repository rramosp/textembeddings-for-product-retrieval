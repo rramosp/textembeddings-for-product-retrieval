{
 "cells": [
  {
   "cell_type": "code",
   "execution_count": 1,
   "id": "8e2b3116-a0b5-49fe-bf7c-6c3c44908a3f",
   "metadata": {},
   "outputs": [],
   "source": [
    "import pandas as pd\n",
    "import wands\n",
    "from tqdm import tqdm\n",
    "import os\n",
    "import sys\n",
    "sys.path.append('..')\n",
    "\n",
    "import utils"
   ]
  },
  {
   "cell_type": "code",
   "execution_count": 2,
   "id": "45c11c01-ae15-4caa-b3fd-b6c9c6c79331",
   "metadata": {},
   "outputs": [],
   "source": [
    "dataset = 'wands'\n",
    "model_folder = 'text-exp0307'\n",
    "model_id = 'text-embedding-large-exp-03-07'\n",
    "\n",
    "model_folder = 'text-004'\n",
    "model_id = 'text-embedding-004'"
   ]
  },
  {
   "cell_type": "code",
   "execution_count": 3,
   "id": "2147812f-065a-4c55-80a7-0d085b9a799a",
   "metadata": {},
   "outputs": [],
   "source": [
    "q = pd.read_parquet(f'{dataset}/queries.parquet')\n",
    "p = pd.read_parquet(f'{dataset}/products.parquet')\n"
   ]
  },
  {
   "cell_type": "code",
   "execution_count": 4,
   "id": "b04846d9-7276-42df-9dee-cd1407232fcd",
   "metadata": {},
   "outputs": [],
   "source": [
    "project_id = 'gemma-test-deployment'"
   ]
  },
  {
   "cell_type": "code",
   "execution_count": 5,
   "id": "9b49e9c1-4b75-4bc5-8f9d-f1c4696d9b74",
   "metadata": {},
   "outputs": [
    {
     "data": {
      "text/html": [
       "<div>\n",
       "<style scoped>\n",
       "    .dataframe tbody tr th:only-of-type {\n",
       "        vertical-align: middle;\n",
       "    }\n",
       "\n",
       "    .dataframe tbody tr th {\n",
       "        vertical-align: top;\n",
       "    }\n",
       "\n",
       "    .dataframe thead th {\n",
       "        text-align: right;\n",
       "    }\n",
       "</style>\n",
       "<table border=\"1\" class=\"dataframe\">\n",
       "  <thead>\n",
       "    <tr style=\"text-align: right;\">\n",
       "      <th></th>\n",
       "      <th>query</th>\n",
       "      <th>query_class</th>\n",
       "    </tr>\n",
       "    <tr>\n",
       "      <th>query_id</th>\n",
       "      <th></th>\n",
       "      <th></th>\n",
       "    </tr>\n",
       "  </thead>\n",
       "  <tbody>\n",
       "    <tr>\n",
       "      <th>0</th>\n",
       "      <td>salon chair</td>\n",
       "      <td>Massage Chairs</td>\n",
       "    </tr>\n",
       "    <tr>\n",
       "      <th>1</th>\n",
       "      <td>smart coffee table</td>\n",
       "      <td>Coffee &amp; Cocktail Tables</td>\n",
       "    </tr>\n",
       "    <tr>\n",
       "      <th>2</th>\n",
       "      <td>dinosaur</td>\n",
       "      <td>Kids Wall Décor</td>\n",
       "    </tr>\n",
       "    <tr>\n",
       "      <th>3</th>\n",
       "      <td>turquoise pillows</td>\n",
       "      <td>Accent Pillows</td>\n",
       "    </tr>\n",
       "    <tr>\n",
       "      <th>4</th>\n",
       "      <td>chair and a half recliner</td>\n",
       "      <td>Recliners</td>\n",
       "    </tr>\n",
       "  </tbody>\n",
       "</table>\n",
       "</div>"
      ],
      "text/plain": [
       "                              query               query_class\n",
       "query_id                                                     \n",
       "0                       salon chair            Massage Chairs\n",
       "1                smart coffee table  Coffee & Cocktail Tables\n",
       "2                          dinosaur           Kids Wall Décor\n",
       "3                 turquoise pillows            Accent Pillows\n",
       "4         chair and a half recliner                 Recliners"
      ]
     },
     "execution_count": 5,
     "metadata": {},
     "output_type": "execute_result"
    }
   ],
   "source": [
    "q.head()"
   ]
  },
  {
   "cell_type": "code",
   "execution_count": 6,
   "id": "bbe3e427-2367-454e-888a-07d3d53cdbff",
   "metadata": {},
   "outputs": [
    {
     "name": "stderr",
     "output_type": "stream",
     "text": [
      "[Parallel(n_jobs=-1)]: Using backend LokyBackend with 64 concurrent workers.\n",
      "[Parallel(n_jobs=-1)]: Done  72 tasks      | elapsed:    7.8s\n",
      "[Parallel(n_jobs=-1)]: Done 322 tasks      | elapsed:   18.2s\n",
      "[Parallel(n_jobs=-1)]: Done 480 out of 480 | elapsed:   24.6s finished\n"
     ]
    }
   ],
   "source": [
    "queries = q\n",
    "queries['embeddings']= list(utils.get_gemini_embeddings(list(queries['query'].values), \n",
    "                                                   model=model_id,\n",
    "                                                   project_id = project_id,\n",
    "                                                   location = \"us-central1\",\n",
    "                                                   task_type = 'RETRIEVAL_QUERY', \n",
    "                                                  n_jobs=-1))\n"
   ]
  },
  {
   "cell_type": "code",
   "execution_count": 19,
   "id": "36445225-2f50-4ee6-9145-bdeecf666d85",
   "metadata": {},
   "outputs": [],
   "source": [
    "queries.to_parquet(f'{model_folder}/{dataset}-queries.parquet')"
   ]
  },
  {
   "cell_type": "code",
   "execution_count": 18,
   "id": "a1bbed7a-f0b0-4c06-81c5-ee191b73ba19",
   "metadata": {},
   "outputs": [
    {
     "data": {
      "text/html": [
       "<div>\n",
       "<style scoped>\n",
       "    .dataframe tbody tr th:only-of-type {\n",
       "        vertical-align: middle;\n",
       "    }\n",
       "\n",
       "    .dataframe tbody tr th {\n",
       "        vertical-align: top;\n",
       "    }\n",
       "\n",
       "    .dataframe thead th {\n",
       "        text-align: right;\n",
       "    }\n",
       "</style>\n",
       "<table border=\"1\" class=\"dataframe\">\n",
       "  <thead>\n",
       "    <tr style=\"text-align: right;\">\n",
       "      <th></th>\n",
       "      <th>query</th>\n",
       "      <th>query_class</th>\n",
       "      <th>embeddings</th>\n",
       "    </tr>\n",
       "    <tr>\n",
       "      <th>query_id</th>\n",
       "      <th></th>\n",
       "      <th></th>\n",
       "      <th></th>\n",
       "    </tr>\n",
       "  </thead>\n",
       "  <tbody>\n",
       "    <tr>\n",
       "      <th>0</th>\n",
       "      <td>salon chair</td>\n",
       "      <td>Massage Chairs</td>\n",
       "      <td>[-0.02360038086771965, -0.05621311441063881, 0...</td>\n",
       "    </tr>\n",
       "    <tr>\n",
       "      <th>1</th>\n",
       "      <td>smart coffee table</td>\n",
       "      <td>Coffee &amp; Cocktail Tables</td>\n",
       "      <td>[-0.012133768759667873, -0.03541422635316849, ...</td>\n",
       "    </tr>\n",
       "    <tr>\n",
       "      <th>2</th>\n",
       "      <td>dinosaur</td>\n",
       "      <td>Kids Wall Décor</td>\n",
       "      <td>[-0.017517710104584694, -0.06345050781965256, ...</td>\n",
       "    </tr>\n",
       "    <tr>\n",
       "      <th>3</th>\n",
       "      <td>turquoise pillows</td>\n",
       "      <td>Accent Pillows</td>\n",
       "      <td>[0.02777988277375698, -0.04077966511249542, -0...</td>\n",
       "    </tr>\n",
       "    <tr>\n",
       "      <th>4</th>\n",
       "      <td>chair and a half recliner</td>\n",
       "      <td>Recliners</td>\n",
       "      <td>[0.00022231682669371367, -0.05051223933696747,...</td>\n",
       "    </tr>\n",
       "  </tbody>\n",
       "</table>\n",
       "</div>"
      ],
      "text/plain": [
       "                              query               query_class  \\\n",
       "query_id                                                        \n",
       "0                       salon chair            Massage Chairs   \n",
       "1                smart coffee table  Coffee & Cocktail Tables   \n",
       "2                          dinosaur           Kids Wall Décor   \n",
       "3                 turquoise pillows            Accent Pillows   \n",
       "4         chair and a half recliner                 Recliners   \n",
       "\n",
       "                                                 embeddings  \n",
       "query_id                                                     \n",
       "0         [-0.02360038086771965, -0.05621311441063881, 0...  \n",
       "1         [-0.012133768759667873, -0.03541422635316849, ...  \n",
       "2         [-0.017517710104584694, -0.06345050781965256, ...  \n",
       "3         [0.02777988277375698, -0.04077966511249542, -0...  \n",
       "4         [0.00022231682669371367, -0.05051223933696747,...  "
      ]
     },
     "execution_count": 18,
     "metadata": {},
     "output_type": "execute_result"
    }
   ],
   "source": [
    "queries.head()"
   ]
  },
  {
   "cell_type": "code",
   "execution_count": 11,
   "id": "559ea8ef-a13f-4a5f-b040-92e2a07441ec",
   "metadata": {},
   "outputs": [
    {
     "name": "stdout",
     "output_type": "stream",
     "text": [
      "text-004/wands-products.parquet-split-0000000 (10000, 1)\n"
     ]
    },
    {
     "name": "stderr",
     "output_type": "stream",
     "text": [
      "[Parallel(n_jobs=-1)]: Using backend LokyBackend with 64 concurrent workers.\n",
      "[Parallel(n_jobs=-1)]: Done  72 tasks      | elapsed:    7.7s\n",
      "[Parallel(n_jobs=-1)]: Done 322 tasks      | elapsed:   18.5s\n",
      "[Parallel(n_jobs=-1)]: Done 672 tasks      | elapsed:   31.3s\n",
      "[Parallel(n_jobs=-1)]: Done 1122 tasks      | elapsed:   43.9s\n"
     ]
    },
    {
     "name": "stdout",
     "output_type": "stream",
     "text": [
      ".........."
     ]
    },
    {
     "name": "stderr",
     "output_type": "stream",
     "text": [
      "[Parallel(n_jobs=-1)]: Done 1672 tasks      | elapsed:  1.2min\n",
      "[Parallel(n_jobs=-1)]: Done 2322 tasks      | elapsed:  1.7min\n",
      "[Parallel(n_jobs=-1)]: Done 3072 tasks      | elapsed:  2.1min\n",
      "[Parallel(n_jobs=-1)]: Done 3922 tasks      | elapsed:  2.7min\n"
     ]
    },
    {
     "name": "stdout",
     "output_type": "stream",
     "text": [
      ".."
     ]
    },
    {
     "name": "stderr",
     "output_type": "stream",
     "text": [
      "[Parallel(n_jobs=-1)]: Done 4872 tasks      | elapsed:  3.3min\n",
      "[Parallel(n_jobs=-1)]: Done 5922 tasks      | elapsed:  4.0min\n",
      "[Parallel(n_jobs=-1)]: Done 7072 tasks      | elapsed:  4.8min\n"
     ]
    },
    {
     "name": "stdout",
     "output_type": "stream",
     "text": [
      ".."
     ]
    },
    {
     "name": "stderr",
     "output_type": "stream",
     "text": [
      "[Parallel(n_jobs=-1)]: Done 8322 tasks      | elapsed:  5.6min\n",
      "[Parallel(n_jobs=-1)]: Done 9672 tasks      | elapsed:  6.5min\n",
      "[Parallel(n_jobs=-1)]: Done 10000 out of 10000 | elapsed:  6.7min finished\n"
     ]
    },
    {
     "name": "stdout",
     "output_type": "stream",
     "text": [
      "text-004/wands-products.parquet-split-0010000 (10000, 1)\n"
     ]
    },
    {
     "name": "stderr",
     "output_type": "stream",
     "text": [
      "[Parallel(n_jobs=-1)]: Using backend LokyBackend with 64 concurrent workers.\n",
      "[Parallel(n_jobs=-1)]: Done  72 tasks      | elapsed:    3.3s\n",
      "[Parallel(n_jobs=-1)]: Done 322 tasks      | elapsed:   12.0s\n",
      "[Parallel(n_jobs=-1)]: Done 672 tasks      | elapsed:   26.6s\n",
      "[Parallel(n_jobs=-1)]: Done 1122 tasks      | elapsed:   46.5s\n",
      "[Parallel(n_jobs=-1)]: Done 1672 tasks      | elapsed:  1.1min\n"
     ]
    },
    {
     "name": "stdout",
     "output_type": "stream",
     "text": [
      ".."
     ]
    },
    {
     "name": "stderr",
     "output_type": "stream",
     "text": [
      "[Parallel(n_jobs=-1)]: Done 2322 tasks      | elapsed:  1.6min\n",
      "[Parallel(n_jobs=-1)]: Done 3072 tasks      | elapsed:  2.1min\n"
     ]
    },
    {
     "name": "stdout",
     "output_type": "stream",
     "text": [
      "...."
     ]
    },
    {
     "name": "stderr",
     "output_type": "stream",
     "text": [
      "[Parallel(n_jobs=-1)]: Done 3922 tasks      | elapsed:  2.6min\n",
      "[Parallel(n_jobs=-1)]: Done 4872 tasks      | elapsed:  3.2min\n",
      "[Parallel(n_jobs=-1)]: Done 5922 tasks      | elapsed:  4.0min\n"
     ]
    },
    {
     "name": "stdout",
     "output_type": "stream",
     "text": [
      "......"
     ]
    },
    {
     "name": "stderr",
     "output_type": "stream",
     "text": [
      "[Parallel(n_jobs=-1)]: Done 7072 tasks      | elapsed:  5.0min\n",
      "[Parallel(n_jobs=-1)]: Done 8322 tasks      | elapsed:  5.9min\n"
     ]
    },
    {
     "name": "stdout",
     "output_type": "stream",
     "text": [
      "..........."
     ]
    },
    {
     "name": "stderr",
     "output_type": "stream",
     "text": [
      "[Parallel(n_jobs=-1)]: Done 9672 tasks      | elapsed:  6.8min\n",
      "[Parallel(n_jobs=-1)]: Done 10000 out of 10000 | elapsed:  7.0min finished\n"
     ]
    },
    {
     "name": "stdout",
     "output_type": "stream",
     "text": [
      "text-004/wands-products.parquet-split-0020000 (10000, 1)\n"
     ]
    },
    {
     "name": "stderr",
     "output_type": "stream",
     "text": [
      "[Parallel(n_jobs=-1)]: Using backend LokyBackend with 64 concurrent workers.\n",
      "[Parallel(n_jobs=-1)]: Done  72 tasks      | elapsed:    3.0s\n",
      "[Parallel(n_jobs=-1)]: Done 322 tasks      | elapsed:   11.4s\n",
      "[Parallel(n_jobs=-1)]: Done 672 tasks      | elapsed:   25.6s\n",
      "[Parallel(n_jobs=-1)]: Done 1122 tasks      | elapsed:   45.1s\n",
      "[Parallel(n_jobs=-1)]: Done 1672 tasks      | elapsed:  1.1min\n"
     ]
    },
    {
     "name": "stdout",
     "output_type": "stream",
     "text": [
      "."
     ]
    },
    {
     "name": "stderr",
     "output_type": "stream",
     "text": [
      "[Parallel(n_jobs=-1)]: Done 2322 tasks      | elapsed:  1.5min\n",
      "[Parallel(n_jobs=-1)]: Done 3072 tasks      | elapsed:  2.0min\n",
      "[Parallel(n_jobs=-1)]: Done 3922 tasks      | elapsed:  2.6min\n",
      "[Parallel(n_jobs=-1)]: Done 4872 tasks      | elapsed:  3.2min\n",
      "[Parallel(n_jobs=-1)]: Done 5922 tasks      | elapsed:  4.0min\n",
      "[Parallel(n_jobs=-1)]: Done 7072 tasks      | elapsed:  4.7min\n"
     ]
    },
    {
     "name": "stdout",
     "output_type": "stream",
     "text": [
      "........."
     ]
    },
    {
     "name": "stderr",
     "output_type": "stream",
     "text": [
      "[Parallel(n_jobs=-1)]: Done 8322 tasks      | elapsed:  5.7min\n",
      "[Parallel(n_jobs=-1)]: Done 9672 tasks      | elapsed:  6.5min\n",
      "[Parallel(n_jobs=-1)]: Done 10000 out of 10000 | elapsed:  6.7min finished\n"
     ]
    },
    {
     "name": "stdout",
     "output_type": "stream",
     "text": [
      "text-004/wands-products.parquet-split-0030000 (10000, 1)\n"
     ]
    },
    {
     "name": "stderr",
     "output_type": "stream",
     "text": [
      "[Parallel(n_jobs=-1)]: Using backend LokyBackend with 64 concurrent workers.\n",
      "[Parallel(n_jobs=-1)]: Done  72 tasks      | elapsed:    5.0s\n",
      "[Parallel(n_jobs=-1)]: Done 322 tasks      | elapsed:   15.1s\n",
      "[Parallel(n_jobs=-1)]: Done 672 tasks      | elapsed:   25.2s\n",
      "[Parallel(n_jobs=-1)]: Done 1122 tasks      | elapsed:   44.0s\n",
      "[Parallel(n_jobs=-1)]: Done 1672 tasks      | elapsed:  1.1min\n",
      "[Parallel(n_jobs=-1)]: Done 2322 tasks      | elapsed:  1.5min\n"
     ]
    },
    {
     "name": "stdout",
     "output_type": "stream",
     "text": [
      "....."
     ]
    },
    {
     "name": "stderr",
     "output_type": "stream",
     "text": [
      "[Parallel(n_jobs=-1)]: Done 3072 tasks      | elapsed:  2.1min\n",
      "[Parallel(n_jobs=-1)]: Done 3922 tasks      | elapsed:  2.6min\n",
      "[Parallel(n_jobs=-1)]: Done 4872 tasks      | elapsed:  3.3min\n"
     ]
    },
    {
     "name": "stdout",
     "output_type": "stream",
     "text": [
      "...."
     ]
    },
    {
     "name": "stderr",
     "output_type": "stream",
     "text": [
      "[Parallel(n_jobs=-1)]: Done 5922 tasks      | elapsed:  4.0min\n",
      "[Parallel(n_jobs=-1)]: Done 7072 tasks      | elapsed:  4.7min\n",
      "[Parallel(n_jobs=-1)]: Done 8322 tasks      | elapsed:  5.5min\n"
     ]
    },
    {
     "name": "stdout",
     "output_type": "stream",
     "text": [
      "..."
     ]
    },
    {
     "name": "stderr",
     "output_type": "stream",
     "text": [
      "[Parallel(n_jobs=-1)]: Done 9672 tasks      | elapsed:  6.4min\n",
      "[Parallel(n_jobs=-1)]: Done 10000 out of 10000 | elapsed:  6.6min finished\n"
     ]
    },
    {
     "name": "stdout",
     "output_type": "stream",
     "text": [
      "text-004/wands-products.parquet-split-0040000 (2994, 1)\n"
     ]
    },
    {
     "name": "stderr",
     "output_type": "stream",
     "text": [
      "[Parallel(n_jobs=-1)]: Using backend LokyBackend with 64 concurrent workers.\n"
     ]
    },
    {
     "name": "stdout",
     "output_type": "stream",
     "text": [
      "."
     ]
    },
    {
     "name": "stderr",
     "output_type": "stream",
     "text": [
      "[Parallel(n_jobs=-1)]: Done  72 tasks      | elapsed:    5.5s\n"
     ]
    },
    {
     "name": "stdout",
     "output_type": "stream",
     "text": [
      ".."
     ]
    },
    {
     "name": "stderr",
     "output_type": "stream",
     "text": [
      "[Parallel(n_jobs=-1)]: Done 322 tasks      | elapsed:   17.5s\n",
      "[Parallel(n_jobs=-1)]: Done 672 tasks      | elapsed:   32.3s\n",
      "[Parallel(n_jobs=-1)]: Done 1122 tasks      | elapsed:   43.4s\n"
     ]
    },
    {
     "name": "stdout",
     "output_type": "stream",
     "text": [
      ".........."
     ]
    },
    {
     "name": "stderr",
     "output_type": "stream",
     "text": [
      "[Parallel(n_jobs=-1)]: Done 1672 tasks      | elapsed:  1.2min\n",
      "[Parallel(n_jobs=-1)]: Done 2322 tasks      | elapsed:  1.6min\n",
      "[Parallel(n_jobs=-1)]: Done 2994 out of 2994 | elapsed:  2.2min finished\n"
     ]
    }
   ],
   "source": [
    "products = p\n",
    "\n",
    "fname = f'{model_folder}/{dataset}-products.parquet'\n",
    "\n",
    "split_size = 10000\n",
    "for i in range(0,len(products),split_size):\n",
    "    split_fname = f'{fname}-split-{i:07d}'\n",
    "    product_split = products.iloc[i:i+split_size].copy()\n",
    "    print (split_fname, product_split.shape, flush=True)\n",
    "    if os.path.isfile(split_fname):\n",
    "        continue\n",
    "    product_split['embeddings']= list(utils.get_gemini_embeddings(list(product_split['product'].values), \n",
    "                                                   model=model_id,\n",
    "                                                   project_id = project_id,\n",
    "                                                   location = \"us-central1\",\n",
    "                                                   task_type = 'RETRIEVAL_DOCUMENT', \n",
    "                                                  n_jobs=-1))\n",
    "\n",
    "    product_split.to_parquet(split_fname)"
   ]
  },
  {
   "cell_type": "markdown",
   "id": "738a26b5-9096-4d65-a3d8-ce65995cee7d",
   "metadata": {},
   "source": [
    "## collate files"
   ]
  },
  {
   "cell_type": "code",
   "execution_count": 12,
   "id": "89e442ef-250e-40b0-b3ff-404aa328ef12",
   "metadata": {},
   "outputs": [],
   "source": [
    "from glob import glob\n",
    "import pandas as pd"
   ]
  },
  {
   "cell_type": "code",
   "execution_count": 13,
   "id": "b99e965f-b58a-45a6-8c59-a35a128b7265",
   "metadata": {},
   "outputs": [
    {
     "data": {
      "text/plain": [
       "['text-004/wands-products.parquet-split-0000000',\n",
       " 'text-004/wands-products.parquet-split-0010000',\n",
       " 'text-004/wands-products.parquet-split-0020000',\n",
       " 'text-004/wands-products.parquet-split-0030000',\n",
       " 'text-004/wands-products.parquet-split-0040000']"
      ]
     },
     "execution_count": 13,
     "metadata": {},
     "output_type": "execute_result"
    }
   ],
   "source": [
    "sorted(glob(f'{model_folder}/{dataset}-products.parquet-split-*'))"
   ]
  },
  {
   "cell_type": "code",
   "execution_count": 15,
   "id": "b73efe5b-341f-464d-bab5-728a8c35e8c4",
   "metadata": {},
   "outputs": [],
   "source": [
    "all_products = pd.concat([pd.read_parquet(i) for i in sorted(glob(f'{model_folder}/{dataset}-products.parquet-split-*'))])"
   ]
  },
  {
   "cell_type": "code",
   "execution_count": 16,
   "id": "4cadcce0-ab63-4cbd-aad4-4cdda82909b6",
   "metadata": {},
   "outputs": [
    {
     "data": {
      "text/plain": [
       "(42994, 2)"
      ]
     },
     "execution_count": 16,
     "metadata": {},
     "output_type": "execute_result"
    }
   ],
   "source": [
    "all_products.shape"
   ]
  },
  {
   "cell_type": "code",
   "execution_count": 17,
   "id": "912af394-b4bf-4150-848e-5ef88ff2afc2",
   "metadata": {},
   "outputs": [],
   "source": [
    "all_products.to_parquet(f'{model_folder}/{dataset}-products.parquet')"
   ]
  },
  {
   "cell_type": "code",
   "execution_count": null,
   "id": "11a03478-51de-4c62-9e26-80ab5005a231",
   "metadata": {},
   "outputs": [],
   "source": []
  }
 ],
 "metadata": {
  "kernelspec": {
   "display_name": "p312",
   "language": "python",
   "name": "p312"
  },
  "language_info": {
   "codemirror_mode": {
    "name": "ipython",
    "version": 3
   },
   "file_extension": ".py",
   "mimetype": "text/x-python",
   "name": "python",
   "nbconvert_exporter": "python",
   "pygments_lexer": "ipython3",
   "version": "3.12.9"
  }
 },
 "nbformat": 4,
 "nbformat_minor": 5
}
