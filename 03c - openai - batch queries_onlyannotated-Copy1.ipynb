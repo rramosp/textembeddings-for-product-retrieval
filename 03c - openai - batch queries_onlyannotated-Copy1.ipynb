{
 "cells": [
  {
   "cell_type": "markdown",
   "id": "9352b0bf-75be-4485-8c0a-56c97dfd3064",
   "metadata": {},
   "source": [
    "# batch makes all queries to get top 40 products relevant for each query"
   ]
  },
  {
   "cell_type": "code",
   "execution_count": 12,
   "id": "27ae0fd4-3b28-4ef0-9faa-764e075177a9",
   "metadata": {},
   "outputs": [],
   "source": [
    "import pandas as pd\n",
    "import numpy as np\n",
    "from tqdm import tqdm\n",
    "from joblib import Parallel, delayed\n",
    "import polars as pl\n",
    "import utils"
   ]
  },
  {
   "cell_type": "code",
   "execution_count": 7,
   "id": "a95c9cd3-25c3-4816-b775-97c2c2d2aa48",
   "metadata": {},
   "outputs": [],
   "source": [
    "model = 'openai'\n",
    "locale = 'us'"
   ]
  },
  {
   "cell_type": "code",
   "execution_count": 8,
   "id": "25f3efbd-ce45-4213-972a-433fb9929cd3",
   "metadata": {},
   "outputs": [],
   "source": [
    "ESCI_DATASET_ROOT = '/usr/local/google/home/raulramos/projects/esci-data'\n",
    "\n",
    "dgt = utils.load_examples(ESCI_DATASET_ROOT=ESCI_DATASET_ROOT, locale=locale)"
   ]
  },
  {
   "cell_type": "code",
   "execution_count": 9,
   "id": "d2f61b2d-cf83-4b44-ae51-04fb3a36411e",
   "metadata": {},
   "outputs": [],
   "source": [
    "q = pd.read_parquet(f'{model}/queries-{locale}.parquet')"
   ]
  },
  {
   "cell_type": "code",
   "execution_count": 13,
   "id": "edc6e349-a8f0-4a78-bbf7-e1a5cf8b7a2b",
   "metadata": {},
   "outputs": [],
   "source": [
    "\n",
    "p = pl.read_parquet(f'{model}/products-{locale}.parquet')\n",
    "p = p.to_pandas()\n"
   ]
  },
  {
   "cell_type": "code",
   "execution_count": 20,
   "id": "f66a1729-9e5f-4509-9939-05d386de985c",
   "metadata": {},
   "outputs": [],
   "source": [
    "p.index = p.__index_level_0__"
   ]
  },
  {
   "cell_type": "code",
   "execution_count": 14,
   "id": "8aca26de-6c79-4732-8d89-d5a82ab64ecf",
   "metadata": {},
   "outputs": [
    {
     "data": {
      "text/plain": [
       "((97345, 2), (1215851, 3))"
      ]
     },
     "execution_count": 14,
     "metadata": {},
     "output_type": "execute_result"
    }
   ],
   "source": [
    "q.shape, p.shape"
   ]
  },
  {
   "cell_type": "code",
   "execution_count": 15,
   "id": "a2e7381b-74ec-45be-b3b2-72bf23564fcd",
   "metadata": {},
   "outputs": [
    {
     "data": {
      "text/plain": [
       "((97345, 3072), (1215851, 3072))"
      ]
     },
     "execution_count": 15,
     "metadata": {},
     "output_type": "execute_result"
    }
   ],
   "source": [
    "qe = np.stack(q.embeddings.values.copy())\n",
    "pe = np.stack(p.embeddings.values.copy())\n",
    "qe.shape, pe.shape"
   ]
  },
  {
   "cell_type": "code",
   "execution_count": 16,
   "id": "40e27f77-d5d5-4c05-bd0a-88157e418cf3",
   "metadata": {},
   "outputs": [],
   "source": [
    "def get_dotp_closests_idxs_onlyannotated(query_id):\n",
    "\n",
    "    q_embeddings = q.loc[query_id].embeddings\n",
    "\n",
    "    prod_ids = dgt[dgt.query_id == query_id].product_id.values\n",
    "    pq = p.loc[prod_ids]\n",
    "    p_embeddings = np.stack(pq.embeddings.values)\n",
    "    return list(pq.index[np.argsort(p_embeddings.dot(q_embeddings))[::-1]])\n"
   ]
  },
  {
   "cell_type": "code",
   "execution_count": 22,
   "id": "d1d9268b-2654-4673-8cd4-637ad8cf9ddf",
   "metadata": {},
   "outputs": [
    {
     "name": "stderr",
     "output_type": "stream",
     "text": [
      "[Parallel(n_jobs=-1)]: Using backend ThreadingBackend with 64 concurrent workers.\n",
      "[Parallel(n_jobs=-1)]: Done  34 tasks      | elapsed:    0.3s\n",
      "[Parallel(n_jobs=-1)]: Done 160 tasks      | elapsed:    0.8s\n",
      "[Parallel(n_jobs=-1)]: Done 322 tasks      | elapsed:    1.2s\n",
      "[Parallel(n_jobs=-1)]: Done 520 tasks      | elapsed:    1.6s\n",
      "[Parallel(n_jobs=-1)]: Done 754 tasks      | elapsed:    2.0s\n",
      "[Parallel(n_jobs=-1)]: Done 1024 tasks      | elapsed:    2.4s\n",
      "[Parallel(n_jobs=-1)]: Done 1330 tasks      | elapsed:    2.9s\n",
      "[Parallel(n_jobs=-1)]: Done 1672 tasks      | elapsed:    3.5s\n",
      "[Parallel(n_jobs=-1)]: Done 2050 tasks      | elapsed:    4.1s\n",
      "[Parallel(n_jobs=-1)]: Done 2464 tasks      | elapsed:    4.8s\n",
      "[Parallel(n_jobs=-1)]: Done 2914 tasks      | elapsed:    5.5s\n",
      "[Parallel(n_jobs=-1)]: Done 3400 tasks      | elapsed:    6.2s\n",
      "[Parallel(n_jobs=-1)]: Done 3922 tasks      | elapsed:    7.0s\n",
      "[Parallel(n_jobs=-1)]: Done 4480 tasks      | elapsed:    7.9s\n",
      "[Parallel(n_jobs=-1)]: Done 5074 tasks      | elapsed:    8.9s\n",
      "[Parallel(n_jobs=-1)]: Done 5704 tasks      | elapsed:    9.8s\n",
      "[Parallel(n_jobs=-1)]: Done 6370 tasks      | elapsed:   10.8s\n",
      "[Parallel(n_jobs=-1)]: Done 7072 tasks      | elapsed:   11.9s\n",
      "[Parallel(n_jobs=-1)]: Done 7810 tasks      | elapsed:   13.0s\n",
      "[Parallel(n_jobs=-1)]: Done 8584 tasks      | elapsed:   14.3s\n",
      "[Parallel(n_jobs=-1)]: Done 9394 tasks      | elapsed:   15.5s\n",
      "[Parallel(n_jobs=-1)]: Done 10240 tasks      | elapsed:   16.8s\n",
      "[Parallel(n_jobs=-1)]: Done 11122 tasks      | elapsed:   18.1s\n",
      "[Parallel(n_jobs=-1)]: Done 12040 tasks      | elapsed:   19.5s\n",
      "[Parallel(n_jobs=-1)]: Done 12994 tasks      | elapsed:   21.0s\n",
      "[Parallel(n_jobs=-1)]: Done 13984 tasks      | elapsed:   22.7s\n",
      "[Parallel(n_jobs=-1)]: Done 15010 tasks      | elapsed:   24.3s\n",
      "[Parallel(n_jobs=-1)]: Done 16072 tasks      | elapsed:   25.9s\n",
      "[Parallel(n_jobs=-1)]: Done 17170 tasks      | elapsed:   27.7s\n",
      "[Parallel(n_jobs=-1)]: Done 18304 tasks      | elapsed:   29.5s\n",
      "[Parallel(n_jobs=-1)]: Done 19474 tasks      | elapsed:   31.3s\n",
      "[Parallel(n_jobs=-1)]: Done 20680 tasks      | elapsed:   33.2s\n",
      "[Parallel(n_jobs=-1)]: Done 21922 tasks      | elapsed:   35.4s\n",
      "[Parallel(n_jobs=-1)]: Done 23200 tasks      | elapsed:   37.3s\n",
      "[Parallel(n_jobs=-1)]: Done 24514 tasks      | elapsed:   39.3s\n",
      "[Parallel(n_jobs=-1)]: Done 25864 tasks      | elapsed:   41.5s\n",
      "[Parallel(n_jobs=-1)]: Done 27250 tasks      | elapsed:   43.6s\n",
      "[Parallel(n_jobs=-1)]: Done 28672 tasks      | elapsed:   45.8s\n",
      "[Parallel(n_jobs=-1)]: Done 30130 tasks      | elapsed:   48.1s\n",
      "[Parallel(n_jobs=-1)]: Done 31624 tasks      | elapsed:   50.4s\n",
      "[Parallel(n_jobs=-1)]: Done 33154 tasks      | elapsed:   52.8s\n",
      "[Parallel(n_jobs=-1)]: Done 34720 tasks      | elapsed:   55.2s\n",
      "[Parallel(n_jobs=-1)]: Done 36322 tasks      | elapsed:   57.7s\n",
      "[Parallel(n_jobs=-1)]: Done 37960 tasks      | elapsed:  1.0min\n",
      "[Parallel(n_jobs=-1)]: Done 39634 tasks      | elapsed:  1.0min\n",
      "[Parallel(n_jobs=-1)]: Done 41344 tasks      | elapsed:  1.1min\n",
      "[Parallel(n_jobs=-1)]: Done 43090 tasks      | elapsed:  1.1min\n",
      "[Parallel(n_jobs=-1)]: Done 44872 tasks      | elapsed:  1.2min\n",
      "[Parallel(n_jobs=-1)]: Done 46690 tasks      | elapsed:  1.2min\n",
      "[Parallel(n_jobs=-1)]: Done 48544 tasks      | elapsed:  1.3min\n",
      "[Parallel(n_jobs=-1)]: Done 50434 tasks      | elapsed:  1.3min\n",
      "[Parallel(n_jobs=-1)]: Done 52360 tasks      | elapsed:  1.4min\n",
      "[Parallel(n_jobs=-1)]: Done 54322 tasks      | elapsed:  1.4min\n",
      "[Parallel(n_jobs=-1)]: Done 56320 tasks      | elapsed:  1.5min\n",
      "[Parallel(n_jobs=-1)]: Done 58354 tasks      | elapsed:  1.5min\n",
      "[Parallel(n_jobs=-1)]: Done 60424 tasks      | elapsed:  1.6min\n",
      "[Parallel(n_jobs=-1)]: Done 62530 tasks      | elapsed:  1.6min\n",
      "[Parallel(n_jobs=-1)]: Done 64672 tasks      | elapsed:  1.7min\n",
      "[Parallel(n_jobs=-1)]: Done 66850 tasks      | elapsed:  1.7min\n",
      "[Parallel(n_jobs=-1)]: Done 69064 tasks      | elapsed:  1.8min\n",
      "[Parallel(n_jobs=-1)]: Done 71314 tasks      | elapsed:  1.9min\n",
      "[Parallel(n_jobs=-1)]: Done 73600 tasks      | elapsed:  1.9min\n",
      "[Parallel(n_jobs=-1)]: Done 75922 tasks      | elapsed:  2.0min\n",
      "[Parallel(n_jobs=-1)]: Done 78280 tasks      | elapsed:  2.0min\n",
      "[Parallel(n_jobs=-1)]: Done 80674 tasks      | elapsed:  2.1min\n",
      "[Parallel(n_jobs=-1)]: Done 83104 tasks      | elapsed:  2.2min\n",
      "[Parallel(n_jobs=-1)]: Done 85570 tasks      | elapsed:  2.2min\n",
      "[Parallel(n_jobs=-1)]: Done 88072 tasks      | elapsed:  2.3min\n",
      "[Parallel(n_jobs=-1)]: Done 90610 tasks      | elapsed:  2.4min\n",
      "[Parallel(n_jobs=-1)]: Done 93184 tasks      | elapsed:  2.4min\n",
      "[Parallel(n_jobs=-1)]: Done 95794 tasks      | elapsed:  2.5min\n",
      "[Parallel(n_jobs=-1)]: Done 97345 out of 97345 | elapsed:  2.5min finished\n"
     ]
    }
   ],
   "source": [
    "qnn = Parallel(n_jobs=-1, verbose=5, prefer='threads')(delayed(get_dotp_closests_idxs_onlyannotated)(qi) for qi in q.index)"
   ]
  },
  {
   "cell_type": "code",
   "execution_count": 23,
   "id": "c402f19b-5c2d-4a9d-912e-43f9312136ba",
   "metadata": {},
   "outputs": [],
   "source": [
    "q['top40_products'] = qnn"
   ]
  },
  {
   "cell_type": "code",
   "execution_count": 24,
   "id": "3cc7305c-e5c7-4817-ba5d-036276f10884",
   "metadata": {},
   "outputs": [
    {
     "data": {
      "text/html": [
       "<div>\n",
       "<style scoped>\n",
       "    .dataframe tbody tr th:only-of-type {\n",
       "        vertical-align: middle;\n",
       "    }\n",
       "\n",
       "    .dataframe tbody tr th {\n",
       "        vertical-align: top;\n",
       "    }\n",
       "\n",
       "    .dataframe thead th {\n",
       "        text-align: right;\n",
       "    }\n",
       "</style>\n",
       "<table border=\"1\" class=\"dataframe\">\n",
       "  <thead>\n",
       "    <tr style=\"text-align: right;\">\n",
       "      <th></th>\n",
       "      <th>query</th>\n",
       "      <th>embeddings</th>\n",
       "      <th>top40_products</th>\n",
       "    </tr>\n",
       "    <tr>\n",
       "      <th>query_id</th>\n",
       "      <th></th>\n",
       "      <th></th>\n",
       "      <th></th>\n",
       "    </tr>\n",
       "  </thead>\n",
       "  <tbody>\n",
       "    <tr>\n",
       "      <th>0</th>\n",
       "      <td>revent 80 cfm</td>\n",
       "      <td>[-0.05282729119062424, 0.0162424948066473, -0....</td>\n",
       "      <td>[B00MARNO5Y, B07WDM7MQQ, B07X3Y6B1V, B06W2LB17...</td>\n",
       "    </tr>\n",
       "    <tr>\n",
       "      <th>1</th>\n",
       "      <td>!awnmower tires without rims</td>\n",
       "      <td>[-0.015263666398823261, -0.023168815299868584,...</td>\n",
       "      <td>[B08L3B9B9P, B07P4CF3DP, B07C1WZG12, B077QMNXT...</td>\n",
       "    </tr>\n",
       "    <tr>\n",
       "      <th>2</th>\n",
       "      <td>!qscreen fence without holes</td>\n",
       "      <td>[0.019541103392839432, 0.025528443977236748, -...</td>\n",
       "      <td>[B08NG85RHL, B07DS3J3MB, B07DS1YCRZ, B001OJXVK...</td>\n",
       "    </tr>\n",
       "    <tr>\n",
       "      <th>5</th>\n",
       "      <td># 10 self-seal envelopes without window</td>\n",
       "      <td>[-0.010724861174821854, 0.0026416631881147623,...</td>\n",
       "      <td>[B07CXXVXLC, B071R9SBXJ, B078S5ZL5D, B01N175R8...</td>\n",
       "    </tr>\n",
       "    <tr>\n",
       "      <th>6</th>\n",
       "      <td># 2 pencils not sharpened</td>\n",
       "      <td>[-0.013498208485543728, -0.011514219455420971,...</td>\n",
       "      <td>[B07JZJLHCF, B004X4KRW0, B00125Q75Y, B0188A3QR...</td>\n",
       "    </tr>\n",
       "    <tr>\n",
       "      <th>...</th>\n",
       "      <td>...</td>\n",
       "      <td>...</td>\n",
       "      <td>...</td>\n",
       "    </tr>\n",
       "    <tr>\n",
       "      <th>129275</th>\n",
       "      <td>茶叶</td>\n",
       "      <td>[0.03555547818541527, -0.01856878586113453, 0....</td>\n",
       "      <td>[B088HGYXRN, B07NTHKL15, B07PNZ2B39, B088TVHZT...</td>\n",
       "    </tr>\n",
       "    <tr>\n",
       "      <th>130378</th>\n",
       "      <td>香奈儿</td>\n",
       "      <td>[-0.0326329730451107, 0.0005094753578305244, 0...</td>\n",
       "      <td>[B081X6DRRT, B01E7KBXWC, B00KFKDOYO, B0010POWE...</td>\n",
       "    </tr>\n",
       "    <tr>\n",
       "      <th>130537</th>\n",
       "      <td>가마솥</td>\n",
       "      <td>[-0.005771995056420565, -0.016856269910931587,...</td>\n",
       "      <td>[B07Y5L6XYM, B07GKZZMSF, B000N4UX4Q, B0793N5ST...</td>\n",
       "    </tr>\n",
       "    <tr>\n",
       "      <th>130538</th>\n",
       "      <td>골프공</td>\n",
       "      <td>[0.03067653998732567, -0.008546626195311546, -...</td>\n",
       "      <td>[B081B117DH, B07Z44KPHS, B00QN6LC9I, B083T6LDT...</td>\n",
       "    </tr>\n",
       "    <tr>\n",
       "      <th>130539</th>\n",
       "      <td>자전거트레일러</td>\n",
       "      <td>[-0.00494449632242322, -0.005916332360357046, ...</td>\n",
       "      <td>[B010LLGWKE, B010LLGWL8, B07G5VLMN1, B002KV1MJ...</td>\n",
       "    </tr>\n",
       "  </tbody>\n",
       "</table>\n",
       "<p>97345 rows × 3 columns</p>\n",
       "</div>"
      ],
      "text/plain": [
       "                                            query  \\\n",
       "query_id                                            \n",
       "0                                   revent 80 cfm   \n",
       "1                    !awnmower tires without rims   \n",
       "2                    !qscreen fence without holes   \n",
       "5         # 10 self-seal envelopes without window   \n",
       "6                       # 2 pencils not sharpened   \n",
       "...                                           ...   \n",
       "129275                                         茶叶   \n",
       "130378                                        香奈儿   \n",
       "130537                                        가마솥   \n",
       "130538                                        골프공   \n",
       "130539                                    자전거트레일러   \n",
       "\n",
       "                                                 embeddings  \\\n",
       "query_id                                                      \n",
       "0         [-0.05282729119062424, 0.0162424948066473, -0....   \n",
       "1         [-0.015263666398823261, -0.023168815299868584,...   \n",
       "2         [0.019541103392839432, 0.025528443977236748, -...   \n",
       "5         [-0.010724861174821854, 0.0026416631881147623,...   \n",
       "6         [-0.013498208485543728, -0.011514219455420971,...   \n",
       "...                                                     ...   \n",
       "129275    [0.03555547818541527, -0.01856878586113453, 0....   \n",
       "130378    [-0.0326329730451107, 0.0005094753578305244, 0...   \n",
       "130537    [-0.005771995056420565, -0.016856269910931587,...   \n",
       "130538    [0.03067653998732567, -0.008546626195311546, -...   \n",
       "130539    [-0.00494449632242322, -0.005916332360357046, ...   \n",
       "\n",
       "                                             top40_products  \n",
       "query_id                                                     \n",
       "0         [B00MARNO5Y, B07WDM7MQQ, B07X3Y6B1V, B06W2LB17...  \n",
       "1         [B08L3B9B9P, B07P4CF3DP, B07C1WZG12, B077QMNXT...  \n",
       "2         [B08NG85RHL, B07DS3J3MB, B07DS1YCRZ, B001OJXVK...  \n",
       "5         [B07CXXVXLC, B071R9SBXJ, B078S5ZL5D, B01N175R8...  \n",
       "6         [B07JZJLHCF, B004X4KRW0, B00125Q75Y, B0188A3QR...  \n",
       "...                                                     ...  \n",
       "129275    [B088HGYXRN, B07NTHKL15, B07PNZ2B39, B088TVHZT...  \n",
       "130378    [B081X6DRRT, B01E7KBXWC, B00KFKDOYO, B0010POWE...  \n",
       "130537    [B07Y5L6XYM, B07GKZZMSF, B000N4UX4Q, B0793N5ST...  \n",
       "130538    [B081B117DH, B07Z44KPHS, B00QN6LC9I, B083T6LDT...  \n",
       "130539    [B010LLGWKE, B010LLGWL8, B07G5VLMN1, B002KV1MJ...  \n",
       "\n",
       "[97345 rows x 3 columns]"
      ]
     },
     "execution_count": 24,
     "metadata": {},
     "output_type": "execute_result"
    }
   ],
   "source": [
    "q"
   ]
  },
  {
   "cell_type": "code",
   "execution_count": 25,
   "id": "5675f1b3-c2ee-483e-8046-eef73df2d325",
   "metadata": {},
   "outputs": [
    {
     "name": "stderr",
     "output_type": "stream",
     "text": [
      "97345it [00:06, 15879.18it/s]\n"
     ]
    }
   ],
   "source": [
    "qr = []\n",
    "for query_id, qi in tqdm(q.iterrows()):\n",
    "    for product_id in qi.top40_products:\n",
    "        qr.append([query_id, product_id])\n",
    "    "
   ]
  },
  {
   "cell_type": "code",
   "execution_count": 26,
   "id": "f1775f3a-91f7-44db-8d3e-b3cf15975bd6",
   "metadata": {},
   "outputs": [],
   "source": [
    "pd.DataFrame(qr, columns = ['query_id', 'product_id']).to_csv(f'{model}/embeddings_dotp_ranking_onlyannotated_{locale}.csv', index=False)"
   ]
  },
  {
   "cell_type": "code",
   "execution_count": null,
   "id": "953da708-5c54-4cb1-a5a5-aaf2ca6a5fc4",
   "metadata": {},
   "outputs": [],
   "source": []
  }
 ],
 "metadata": {
  "kernelspec": {
   "display_name": "p312",
   "language": "python",
   "name": "p312"
  },
  "language_info": {
   "codemirror_mode": {
    "name": "ipython",
    "version": 3
   },
   "file_extension": ".py",
   "mimetype": "text/x-python",
   "name": "python",
   "nbconvert_exporter": "python",
   "pygments_lexer": "ipython3",
   "version": "3.12.9"
  }
 },
 "nbformat": 4,
 "nbformat_minor": 5
}
