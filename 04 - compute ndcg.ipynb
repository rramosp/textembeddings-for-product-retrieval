{
 "cells": [
  {
   "cell_type": "code",
   "execution_count": 2,
   "id": "b0b4d1c9-5b14-474e-893a-88a23c1fc40c",
   "metadata": {},
   "outputs": [],
   "source": [
    "import pandas as pd\n",
    "import numpy as np\n",
    "from tqdm import tqdm\n",
    "from joblib import Parallel, delayed\n",
    "from sklearn.metrics import ndcg_score\n",
    "import utils\n",
    "import polars as pl"
   ]
  },
  {
   "cell_type": "markdown",
   "id": "c5abfef1-8e46-42e7-9519-e88b87384767",
   "metadata": {},
   "source": [
    "# compute metrics for all datasets and models"
   ]
  },
  {
   "cell_type": "code",
   "execution_count": 29,
   "id": "0dd19b50-c0b1-4a48-a892-d005eab745e4",
   "metadata": {},
   "outputs": [],
   "source": [
    "def compute_metrics(model_folder, dataset, relevance='binary_strict'):\n",
    "    r = pd.read_parquet(f'{model_folder}/{dataset}-ranking_with_relevance.parquet')\n",
    "\n",
    "    if relevance=='binary_strict':\n",
    "        if dataset == 'wands':\n",
    "            r.relevance=[1 if i==2 else 0 for i in r.relevance]\n",
    "        elif dataset.startswith('esci'):\n",
    "            r.relevance=[1 if i==4 else 0 for i in r.relevance]\n",
    "\n",
    "    elif relevance=='binary_tolerant':\n",
    "        if dataset == 'wands':\n",
    "            r.relevance=[1 if i>0 else 0 for i in r.relevance]\n",
    "        elif dataset.startswith('esci'):\n",
    "            r.relevance=[1 if i>1 else 0 for i in r.relevance]\n",
    "    \n",
    "    elif relevance!='asis':\n",
    "        raise ValueError(f\"invalid relevance string {relevance}'\")\n",
    "    \n",
    "    df_dcg, ndcg = utils.compute_ndcg(r)\n",
    "\n",
    "    custom_ndcg = ndcg.ndcg.mean()\n",
    "\n",
    "    sklearn_ndcg = []\n",
    "    for qid in tqdm(np.unique(r.query_id)):\n",
    "        rq = r[r.query_id==qid]\n",
    "        sklearn_ndcg.append(ndcg_score(rq.relevance.values.reshape(1,-1), 1/rq.model_rank.values.reshape(1,-1)))\n",
    "\n",
    "    sklearn_ndcg = np.mean(sklearn_ndcg)\n",
    "\n",
    "    return {'custom_ndcg': custom_ndcg, 'sklearn_ndcg': sklearn_ndcg}"
   ]
  },
  {
   "cell_type": "markdown",
   "id": "86f3da7d-1035-4965-a910-04d3b07df105",
   "metadata": {},
   "source": [
    "## relevance strict"
   ]
  },
  {
   "cell_type": "code",
   "execution_count": null,
   "id": "2316cb79-4801-44b2-95f2-d36dd71c253a",
   "metadata": {},
   "outputs": [
    {
     "name": "stdout",
     "output_type": "stream",
     "text": [
      "openai wands\n"
     ]
    },
    {
     "name": "stderr",
     "output_type": "stream",
     "text": [
      "100%|███████████████████████████████████████████████████████████████████████████████████████████████████████████████████████████████████████████████████████████| 480/480 [00:01<00:00, 318.01it/s]\n",
      "100%|██████████████████████████████████████████████████████████████████████████████████████████████████████████████████████████████████████████████████████████| 480/480 [00:00<00:00, 1205.37it/s]"
     ]
    },
    {
     "name": "stdout",
     "output_type": "stream",
     "text": [
      "openai esci-es\n"
     ]
    },
    {
     "name": "stderr",
     "output_type": "stream",
     "text": [
      "\n",
      "100%|███████████████████████████████████████████████████████████████████████████████████████████████████████████████████████████████████████████████████████| 15180/15180 [00:47<00:00, 321.83it/s]\n",
      "100%|██████████████████████████████████████████████████████████████████████████████████████████████████████████████████████████████████████████████████████| 15180/15180 [00:14<00:00, 1069.47it/s]\n"
     ]
    },
    {
     "name": "stdout",
     "output_type": "stream",
     "text": [
      "openai esci-us\n"
     ]
    },
    {
     "name": "stderr",
     "output_type": "stream",
     "text": [
      "100%|███████████████████████████████████████████████████████████████████████████████████████████████████████████████████████████████████████████████████████| 97345/97345 [07:14<00:00, 223.96it/s]\n",
      "100%|███████████████████████████████████████████████████████████████████████████████████████████████████████████████████████████████████████████████████████| 97345/97345 [05:11<00:00, 312.67it/s]\n"
     ]
    },
    {
     "name": "stdout",
     "output_type": "stream",
     "text": [
      "text-exp0307 wands\n"
     ]
    },
    {
     "name": "stderr",
     "output_type": "stream",
     "text": [
      "100%|███████████████████████████████████████████████████████████████████████████████████████████████████████████████████████████████████████████████████████████| 480/480 [00:00<00:00, 575.62it/s]\n",
      "100%|██████████████████████████████████████████████████████████████████████████████████████████████████████████████████████████████████████████████████████████| 480/480 [00:00<00:00, 1544.17it/s]"
     ]
    },
    {
     "name": "stdout",
     "output_type": "stream",
     "text": [
      "text-exp0307 esci-es\n"
     ]
    },
    {
     "name": "stderr",
     "output_type": "stream",
     "text": [
      "\n",
      "100%|███████████████████████████████████████████████████████████████████████████████████████████████████████████████████████████████████████████████████████| 15180/15180 [00:32<00:00, 462.13it/s]\n",
      "100%|██████████████████████████████████████████████████████████████████████████████████████████████████████████████████████████████████████████████████████| 15180/15180 [00:14<00:00, 1079.02it/s]"
     ]
    },
    {
     "name": "stdout",
     "output_type": "stream",
     "text": [
      "text-exp0307 esci-us\n"
     ]
    },
    {
     "name": "stderr",
     "output_type": "stream",
     "text": [
      "\n",
      " 44%|██████████████████████████████████████████████████████████████████▋                                                                                    | 43016/97345 [03:04<04:04, 221.77it/s]"
     ]
    }
   ],
   "source": [
    "r = {}\n",
    "\n",
    "for model_folder in ['openai', 'text-exp0307', 'text-004']:\n",
    "    r[model_folder] = {}\n",
    "    for dataset in ['wands', 'esci-es', 'esci-us']:\n",
    "        print(model_folder, dataset, flush=True)\n",
    "        r[model_folder][dataset] = compute_metrics(model_folder, dataset)"
   ]
  },
  {
   "cell_type": "code",
   "execution_count": 34,
   "id": "7b1841a9-807e-4f1d-bf13-3f66c2281481",
   "metadata": {},
   "outputs": [
    {
     "data": {
      "text/plain": [
       "1"
      ]
     },
     "execution_count": 34,
     "metadata": {},
     "output_type": "execute_result"
    }
   ],
   "source": [
    "1"
   ]
  },
  {
   "cell_type": "code",
   "execution_count": 36,
   "id": "53a79ae1-1352-4c44-aadb-7aec9b39f7bf",
   "metadata": {},
   "outputs": [
    {
     "data": {
      "text/html": [
       "<div>\n",
       "<style scoped>\n",
       "    .dataframe tbody tr th:only-of-type {\n",
       "        vertical-align: middle;\n",
       "    }\n",
       "\n",
       "    .dataframe tbody tr th {\n",
       "        vertical-align: top;\n",
       "    }\n",
       "\n",
       "    .dataframe thead th {\n",
       "        text-align: right;\n",
       "    }\n",
       "</style>\n",
       "<table border=\"1\" class=\"dataframe\">\n",
       "  <thead>\n",
       "    <tr style=\"text-align: right;\">\n",
       "      <th></th>\n",
       "      <th>wands</th>\n",
       "      <th>esci-es</th>\n",
       "      <th>esci-us</th>\n",
       "    </tr>\n",
       "  </thead>\n",
       "  <tbody>\n",
       "    <tr>\n",
       "      <th>openai</th>\n",
       "      <td>0.825493</td>\n",
       "      <td>0.724324</td>\n",
       "      <td>0.688415</td>\n",
       "    </tr>\n",
       "    <tr>\n",
       "      <th>text-exp0307</th>\n",
       "      <td>0.858814</td>\n",
       "      <td>0.736770</td>\n",
       "      <td>0.705098</td>\n",
       "    </tr>\n",
       "    <tr>\n",
       "      <th>text-004</th>\n",
       "      <td>0.838700</td>\n",
       "      <td>0.653741</td>\n",
       "      <td>0.671455</td>\n",
       "    </tr>\n",
       "  </tbody>\n",
       "</table>\n",
       "</div>"
      ],
      "text/plain": [
       "                 wands   esci-es   esci-us\n",
       "openai        0.825493  0.724324  0.688415\n",
       "text-exp0307  0.858814  0.736770  0.705098\n",
       "text-004      0.838700  0.653741  0.671455"
      ]
     },
     "execution_count": 36,
     "metadata": {},
     "output_type": "execute_result"
    }
   ],
   "source": [
    "pd.DataFrame({m: {d: r[m][d]['custom_ndcg'] for d in r[m].keys()} for m in r.keys()}).T"
   ]
  },
  {
   "cell_type": "code",
   "execution_count": 37,
   "id": "f06ad6ea-9ddf-4332-a76b-b209c49bb2b4",
   "metadata": {},
   "outputs": [
    {
     "data": {
      "text/html": [
       "<div>\n",
       "<style scoped>\n",
       "    .dataframe tbody tr th:only-of-type {\n",
       "        vertical-align: middle;\n",
       "    }\n",
       "\n",
       "    .dataframe tbody tr th {\n",
       "        vertical-align: top;\n",
       "    }\n",
       "\n",
       "    .dataframe thead th {\n",
       "        text-align: right;\n",
       "    }\n",
       "</style>\n",
       "<table border=\"1\" class=\"dataframe\">\n",
       "  <thead>\n",
       "    <tr style=\"text-align: right;\">\n",
       "      <th></th>\n",
       "      <th>wands</th>\n",
       "      <th>esci-es</th>\n",
       "      <th>esci-us</th>\n",
       "    </tr>\n",
       "  </thead>\n",
       "  <tbody>\n",
       "    <tr>\n",
       "      <th>openai</th>\n",
       "      <td>0.615339</td>\n",
       "      <td>0.676370</td>\n",
       "      <td>0.623495</td>\n",
       "    </tr>\n",
       "    <tr>\n",
       "      <th>text-exp0307</th>\n",
       "      <td>0.637729</td>\n",
       "      <td>0.696486</td>\n",
       "      <td>0.650716</td>\n",
       "    </tr>\n",
       "    <tr>\n",
       "      <th>text-004</th>\n",
       "      <td>0.618541</td>\n",
       "      <td>0.554086</td>\n",
       "      <td>0.605527</td>\n",
       "    </tr>\n",
       "  </tbody>\n",
       "</table>\n",
       "</div>"
      ],
      "text/plain": [
       "                 wands   esci-es   esci-us\n",
       "openai        0.615339  0.676370  0.623495\n",
       "text-exp0307  0.637729  0.696486  0.650716\n",
       "text-004      0.618541  0.554086  0.605527"
      ]
     },
     "execution_count": 37,
     "metadata": {},
     "output_type": "execute_result"
    }
   ],
   "source": [
    "pd.DataFrame({m: {d: r[m][d]['sklearn_ndcg'] for d in r[m].keys()} for m in r.keys()}).T"
   ]
  },
  {
   "cell_type": "markdown",
   "id": "675d7afa-ed2d-4caa-9475-ae02c275f837",
   "metadata": {},
   "source": [
    "# relevance tolerant"
   ]
  },
  {
   "cell_type": "code",
   "execution_count": 42,
   "id": "884c3046-9636-4c03-83ba-618db2442602",
   "metadata": {},
   "outputs": [
    {
     "name": "stdout",
     "output_type": "stream",
     "text": [
      "openai wands\n"
     ]
    },
    {
     "name": "stderr",
     "output_type": "stream",
     "text": [
      "100%|███████████████████████████████████████████████████████████████████████████████████████████████████████████████████████████████████████████████████████████| 480/480 [00:00<00:00, 569.89it/s]\n",
      "100%|██████████████████████████████████████████████████████████████████████████████████████████████████████████████████████████████████████████████████████████| 480/480 [00:00<00:00, 1573.58it/s]"
     ]
    },
    {
     "name": "stdout",
     "output_type": "stream",
     "text": [
      "openai esci-es\n"
     ]
    },
    {
     "name": "stderr",
     "output_type": "stream",
     "text": [
      "\n",
      "100%|███████████████████████████████████████████████████████████████████████████████████████████████████████████████████████████████████████████████████████| 15180/15180 [00:33<00:00, 457.44it/s]\n",
      "100%|██████████████████████████████████████████████████████████████████████████████████████████████████████████████████████████████████████████████████████| 15180/15180 [00:13<00:00, 1085.15it/s]"
     ]
    },
    {
     "name": "stdout",
     "output_type": "stream",
     "text": [
      "openai esci-us\n"
     ]
    },
    {
     "name": "stderr",
     "output_type": "stream",
     "text": [
      "\n",
      "100%|███████████████████████████████████████████████████████████████████████████████████████████████████████████████████████████████████████████████████████| 97345/97345 [07:24<00:00, 218.98it/s]\n",
      "100%|███████████████████████████████████████████████████████████████████████████████████████████████████████████████████████████████████████████████████████| 97345/97345 [05:19<00:00, 304.31it/s]\n"
     ]
    },
    {
     "name": "stdout",
     "output_type": "stream",
     "text": [
      "text-exp0307 wands\n"
     ]
    },
    {
     "name": "stderr",
     "output_type": "stream",
     "text": [
      "100%|███████████████████████████████████████████████████████████████████████████████████████████████████████████████████████████████████████████████████████████| 480/480 [00:00<00:00, 576.29it/s]\n",
      "100%|██████████████████████████████████████████████████████████████████████████████████████████████████████████████████████████████████████████████████████████| 480/480 [00:00<00:00, 1547.26it/s]"
     ]
    },
    {
     "name": "stdout",
     "output_type": "stream",
     "text": [
      "text-exp0307 esci-es\n"
     ]
    },
    {
     "name": "stderr",
     "output_type": "stream",
     "text": [
      "\n",
      "100%|███████████████████████████████████████████████████████████████████████████████████████████████████████████████████████████████████████████████████████| 15180/15180 [00:32<00:00, 467.22it/s]\n",
      "100%|██████████████████████████████████████████████████████████████████████████████████████████████████████████████████████████████████████████████████████| 15180/15180 [00:13<00:00, 1085.95it/s]"
     ]
    },
    {
     "name": "stdout",
     "output_type": "stream",
     "text": [
      "text-exp0307 esci-us\n"
     ]
    },
    {
     "name": "stderr",
     "output_type": "stream",
     "text": [
      "\n",
      " 80%|█████████████████████████████████████████████████████████████████████████████████████████████████████████████████████████                              | 78057/97345 [05:43<01:29, 215.63it/s]IOPub message rate exceeded.\n",
      "The Jupyter server will temporarily stop sending output\n",
      "to the client in order to avoid crashing it.\n",
      "To change this limit, set the config variable\n",
      "`--ServerApp.iopub_msg_rate_limit`.\n",
      "\n",
      "Current values:\n",
      "ServerApp.iopub_msg_rate_limit=1000.0 (msgs/sec)\n",
      "ServerApp.rate_limit_window=3.0 (secs)\n",
      "\n",
      "100%|███████████████████████████████████████████████████████████████████████████████████████████████████████████████████████████████████████████████████████| 97345/97345 [07:09<00:00, 226.65it/s]\n",
      "100%|███████████████████████████████████████████████████████████████████████████████████████████████████████████████████████████████████████████████████████| 97345/97345 [05:05<00:00, 318.40it/s]\n"
     ]
    }
   ],
   "source": [
    "r = {}\n",
    "\n",
    "for model_folder in ['openai', 'text-exp0307', 'text-004']:\n",
    "    r[model_folder] = {}\n",
    "    for dataset in ['wands', 'esci-es', 'esci-us']:\n",
    "        print(model_folder, dataset, flush=True)\n",
    "        r[model_folder][dataset] = compute_metrics(model_folder, dataset, relevance='binary_tolerant')"
   ]
  },
  {
   "cell_type": "code",
   "execution_count": 48,
   "id": "9254db81-76c1-4ac0-a87c-81eabcc52988",
   "metadata": {},
   "outputs": [
    {
     "data": {
      "text/html": [
       "<div>\n",
       "<style scoped>\n",
       "    .dataframe tbody tr th:only-of-type {\n",
       "        vertical-align: middle;\n",
       "    }\n",
       "\n",
       "    .dataframe tbody tr th {\n",
       "        vertical-align: top;\n",
       "    }\n",
       "\n",
       "    .dataframe thead th {\n",
       "        text-align: right;\n",
       "    }\n",
       "</style>\n",
       "<table border=\"1\" class=\"dataframe\">\n",
       "  <thead>\n",
       "    <tr style=\"text-align: right;\">\n",
       "      <th></th>\n",
       "      <th>openai</th>\n",
       "      <th>text-exp0307</th>\n",
       "      <th>text-004</th>\n",
       "    </tr>\n",
       "  </thead>\n",
       "  <tbody>\n",
       "    <tr>\n",
       "      <th>wands</th>\n",
       "      <td>0.926686</td>\n",
       "      <td>0.930909</td>\n",
       "      <td>0.916136</td>\n",
       "    </tr>\n",
       "    <tr>\n",
       "      <th>esci-es</th>\n",
       "      <td>0.738400</td>\n",
       "      <td>0.751340</td>\n",
       "      <td>0.666371</td>\n",
       "    </tr>\n",
       "  </tbody>\n",
       "</table>\n",
       "</div>"
      ],
      "text/plain": [
       "           openai  text-exp0307  text-004\n",
       "wands    0.926686      0.930909  0.916136\n",
       "esci-es  0.738400      0.751340  0.666371"
      ]
     },
     "execution_count": 48,
     "metadata": {},
     "output_type": "execute_result"
    }
   ],
   "source": [
    "pd.DataFrame({m: {d: r[m][d]['custom_ndcg'] for d in r[m].keys()} for m in r.keys()})"
   ]
  },
  {
   "cell_type": "code",
   "execution_count": 49,
   "id": "fcf98ab2-d412-4b23-a602-a2be59143600",
   "metadata": {},
   "outputs": [
    {
     "data": {
      "text/html": [
       "<div>\n",
       "<style scoped>\n",
       "    .dataframe tbody tr th:only-of-type {\n",
       "        vertical-align: middle;\n",
       "    }\n",
       "\n",
       "    .dataframe tbody tr th {\n",
       "        vertical-align: top;\n",
       "    }\n",
       "\n",
       "    .dataframe thead th {\n",
       "        text-align: right;\n",
       "    }\n",
       "</style>\n",
       "<table border=\"1\" class=\"dataframe\">\n",
       "  <thead>\n",
       "    <tr style=\"text-align: right;\">\n",
       "      <th></th>\n",
       "      <th>openai</th>\n",
       "      <th>text-exp0307</th>\n",
       "      <th>text-004</th>\n",
       "    </tr>\n",
       "  </thead>\n",
       "  <tbody>\n",
       "    <tr>\n",
       "      <th>wands</th>\n",
       "      <td>0.901472</td>\n",
       "      <td>0.901683</td>\n",
       "      <td>0.893235</td>\n",
       "    </tr>\n",
       "    <tr>\n",
       "      <th>esci-es</th>\n",
       "      <td>0.705468</td>\n",
       "      <td>0.723771</td>\n",
       "      <td>0.586476</td>\n",
       "    </tr>\n",
       "  </tbody>\n",
       "</table>\n",
       "</div>"
      ],
      "text/plain": [
       "           openai  text-exp0307  text-004\n",
       "wands    0.901472      0.901683  0.893235\n",
       "esci-es  0.705468      0.723771  0.586476"
      ]
     },
     "execution_count": 49,
     "metadata": {},
     "output_type": "execute_result"
    }
   ],
   "source": [
    "pd.DataFrame({m: {d: r[m][d]['sklearn_ndcg'] for d in r[m].keys()} for m in r.keys()})"
   ]
  },
  {
   "cell_type": "markdown",
   "id": "ee5beabb-2511-474c-b699-9f94133eb241",
   "metadata": {},
   "source": [
    "# relevance as is"
   ]
  },
  {
   "cell_type": "code",
   "execution_count": 45,
   "id": "d6bb45d1-cd29-494e-9805-db55766f7615",
   "metadata": {},
   "outputs": [
    {
     "name": "stdout",
     "output_type": "stream",
     "text": [
      "openai wands\n"
     ]
    },
    {
     "name": "stderr",
     "output_type": "stream",
     "text": [
      "100%|███████████████████████████████████████████████████████████████████████████████████████████████████████████████████████████████████████████████████████████| 480/480 [00:00<00:00, 589.26it/s]\n",
      "100%|██████████████████████████████████████████████████████████████████████████████████████████████████████████████████████████████████████████████████████████| 480/480 [00:00<00:00, 1460.75it/s]"
     ]
    },
    {
     "name": "stdout",
     "output_type": "stream",
     "text": [
      "openai esci-es\n"
     ]
    },
    {
     "name": "stderr",
     "output_type": "stream",
     "text": [
      "\n",
      "100%|███████████████████████████████████████████████████████████████████████████████████████████████████████████████████████████████████████████████████████| 15180/15180 [00:31<00:00, 487.23it/s]\n",
      "100%|██████████████████████████████████████████████████████████████████████████████████████████████████████████████████████████████████████████████████████| 15180/15180 [00:14<00:00, 1053.79it/s]"
     ]
    },
    {
     "name": "stdout",
     "output_type": "stream",
     "text": [
      "text-exp0307 wands\n"
     ]
    },
    {
     "name": "stderr",
     "output_type": "stream",
     "text": [
      "\n",
      "100%|███████████████████████████████████████████████████████████████████████████████████████████████████████████████████████████████████████████████████████████| 480/480 [00:00<00:00, 586.97it/s]\n",
      "100%|██████████████████████████████████████████████████████████████████████████████████████████████████████████████████████████████████████████████████████████| 480/480 [00:00<00:00, 1502.92it/s]"
     ]
    },
    {
     "name": "stdout",
     "output_type": "stream",
     "text": [
      "text-exp0307 esci-es\n"
     ]
    },
    {
     "name": "stderr",
     "output_type": "stream",
     "text": [
      "\n",
      "100%|███████████████████████████████████████████████████████████████████████████████████████████████████████████████████████████████████████████████████████| 15180/15180 [00:32<00:00, 472.16it/s]\n",
      "100%|██████████████████████████████████████████████████████████████████████████████████████████████████████████████████████████████████████████████████████| 15180/15180 [00:14<00:00, 1057.72it/s]"
     ]
    },
    {
     "name": "stdout",
     "output_type": "stream",
     "text": [
      "text-004 wands\n"
     ]
    },
    {
     "name": "stderr",
     "output_type": "stream",
     "text": [
      "\n",
      "100%|███████████████████████████████████████████████████████████████████████████████████████████████████████████████████████████████████████████████████████████| 480/480 [00:00<00:00, 587.57it/s]\n",
      "100%|██████████████████████████████████████████████████████████████████████████████████████████████████████████████████████████████████████████████████████████| 480/480 [00:00<00:00, 1511.92it/s]"
     ]
    },
    {
     "name": "stdout",
     "output_type": "stream",
     "text": [
      "text-004 esci-es\n"
     ]
    },
    {
     "name": "stderr",
     "output_type": "stream",
     "text": [
      "\n",
      "100%|███████████████████████████████████████████████████████████████████████████████████████████████████████████████████████████████████████████████████████| 15180/15180 [00:32<00:00, 472.64it/s]\n",
      "100%|██████████████████████████████████████████████████████████████████████████████████████████████████████████████████████████████████████████████████████| 15180/15180 [00:14<00:00, 1053.68it/s]\n"
     ]
    }
   ],
   "source": [
    "r = {}\n",
    "\n",
    "for model_folder in ['openai', 'text-exp0307', 'text-004']:\n",
    "    r[model_folder] = {}\n",
    "    for dataset in ['wands', 'esci-es']:\n",
    "        print(model_folder, dataset, flush=True)\n",
    "        r[model_folder][dataset] = compute_metrics(model_folder, dataset, relevance='asis')"
   ]
  },
  {
   "cell_type": "code",
   "execution_count": 46,
   "id": "468ec008-5da9-4b66-be3a-6172153bc7a8",
   "metadata": {},
   "outputs": [
    {
     "data": {
      "text/html": [
       "<div>\n",
       "<style scoped>\n",
       "    .dataframe tbody tr th:only-of-type {\n",
       "        vertical-align: middle;\n",
       "    }\n",
       "\n",
       "    .dataframe tbody tr th {\n",
       "        vertical-align: top;\n",
       "    }\n",
       "\n",
       "    .dataframe thead th {\n",
       "        text-align: right;\n",
       "    }\n",
       "</style>\n",
       "<table border=\"1\" class=\"dataframe\">\n",
       "  <thead>\n",
       "    <tr style=\"text-align: right;\">\n",
       "      <th></th>\n",
       "      <th>openai</th>\n",
       "      <th>text-exp0307</th>\n",
       "      <th>text-004</th>\n",
       "    </tr>\n",
       "  </thead>\n",
       "  <tbody>\n",
       "    <tr>\n",
       "      <th>wands</th>\n",
       "      <td>0.926686</td>\n",
       "      <td>0.930909</td>\n",
       "      <td>0.916136</td>\n",
       "    </tr>\n",
       "    <tr>\n",
       "      <th>esci-es</th>\n",
       "      <td>0.738400</td>\n",
       "      <td>0.751340</td>\n",
       "      <td>0.666371</td>\n",
       "    </tr>\n",
       "  </tbody>\n",
       "</table>\n",
       "</div>"
      ],
      "text/plain": [
       "           openai  text-exp0307  text-004\n",
       "wands    0.926686      0.930909  0.916136\n",
       "esci-es  0.738400      0.751340  0.666371"
      ]
     },
     "execution_count": 46,
     "metadata": {},
     "output_type": "execute_result"
    }
   ],
   "source": [
    "pd.DataFrame({m: {d: r[m][d]['custom_ndcg'] for d in r[m].keys()} for m in r.keys()})"
   ]
  },
  {
   "cell_type": "code",
   "execution_count": 50,
   "id": "9e2c0e42-41ba-4587-b98f-f6ff74661509",
   "metadata": {},
   "outputs": [
    {
     "data": {
      "text/html": [
       "<div>\n",
       "<style scoped>\n",
       "    .dataframe tbody tr th:only-of-type {\n",
       "        vertical-align: middle;\n",
       "    }\n",
       "\n",
       "    .dataframe tbody tr th {\n",
       "        vertical-align: top;\n",
       "    }\n",
       "\n",
       "    .dataframe thead th {\n",
       "        text-align: right;\n",
       "    }\n",
       "</style>\n",
       "<table border=\"1\" class=\"dataframe\">\n",
       "  <thead>\n",
       "    <tr style=\"text-align: right;\">\n",
       "      <th></th>\n",
       "      <th>openai</th>\n",
       "      <th>text-exp0307</th>\n",
       "      <th>text-004</th>\n",
       "    </tr>\n",
       "  </thead>\n",
       "  <tbody>\n",
       "    <tr>\n",
       "      <th>wands</th>\n",
       "      <td>0.901472</td>\n",
       "      <td>0.901683</td>\n",
       "      <td>0.893235</td>\n",
       "    </tr>\n",
       "    <tr>\n",
       "      <th>esci-es</th>\n",
       "      <td>0.705468</td>\n",
       "      <td>0.723771</td>\n",
       "      <td>0.586476</td>\n",
       "    </tr>\n",
       "  </tbody>\n",
       "</table>\n",
       "</div>"
      ],
      "text/plain": [
       "           openai  text-exp0307  text-004\n",
       "wands    0.901472      0.901683  0.893235\n",
       "esci-es  0.705468      0.723771  0.586476"
      ]
     },
     "execution_count": 50,
     "metadata": {},
     "output_type": "execute_result"
    }
   ],
   "source": [
    "pd.DataFrame({m: {d: r[m][d]['sklearn_ndcg'] for d in r[m].keys()} for m in r.keys()})"
   ]
  },
  {
   "cell_type": "markdown",
   "id": "ba956097-f455-482a-9999-93fb4102b8b4",
   "metadata": {},
   "source": [
    "# summarize datasets"
   ]
  },
  {
   "cell_type": "code",
   "execution_count": 39,
   "id": "6ac5f39c-3cfc-4d67-b693-56ec9f79315c",
   "metadata": {},
   "outputs": [
    {
     "name": "stdout",
     "output_type": "stream",
     "text": [
      "wands\n",
      "esci-es\n",
      "esci-us\n"
     ]
    }
   ],
   "source": [
    "import polars as pl\n",
    "\n",
    "datasets = ['wands', 'esci-es', 'esci-us']\n",
    "\n",
    "stats = []\n",
    "\n",
    "for dataset in datasets:\n",
    "    print (dataset, flush=True)\n",
    "    p = pl.read_parquet(f'{dataset}/products.parquet').to_pandas()\n",
    "    q = pd.read_parquet(f'{dataset}/queries.parquet')\n",
    "    r = pd.read_parquet(f'{dataset}/relevance.parquet')\n",
    "\n",
    "    s = {'num_products': len(p), \n",
    "         'num_queries': len(q), \n",
    "         'num_relevance_judgements': len(r),\n",
    "         'num_queries_with_relevance': len(np.unique(r.query_id)),\n",
    "         'num_products_with_relevance': len(np.unique(r.product_id)),\n",
    "         'relevance_values_distribution': r.relevance.value_counts().sort_index(ascending=False) / len(r),\n",
    "         'mean_num_relevance_judgements_per_query': r.groupby('query_id').size().values.mean()\n",
    "        }\n",
    "    stats.append(s)\n",
    "\n",
    "stats = pd.DataFrame(stats, index=datasets).T"
   ]
  },
  {
   "cell_type": "code",
   "execution_count": 40,
   "id": "216d2f62-e8b9-43d3-a139-9c7d84c53f90",
   "metadata": {},
   "outputs": [
    {
     "data": {
      "text/html": [
       "<div>\n",
       "<style scoped>\n",
       "    .dataframe tbody tr th:only-of-type {\n",
       "        vertical-align: middle;\n",
       "    }\n",
       "\n",
       "    .dataframe tbody tr th {\n",
       "        vertical-align: top;\n",
       "    }\n",
       "\n",
       "    .dataframe thead th {\n",
       "        text-align: right;\n",
       "    }\n",
       "</style>\n",
       "<table border=\"1\" class=\"dataframe\">\n",
       "  <thead>\n",
       "    <tr style=\"text-align: right;\">\n",
       "      <th></th>\n",
       "      <th>wands</th>\n",
       "      <th>esci-es</th>\n",
       "      <th>esci-us</th>\n",
       "    </tr>\n",
       "  </thead>\n",
       "  <tbody>\n",
       "    <tr>\n",
       "      <th>num_products</th>\n",
       "      <td>42994</td>\n",
       "      <td>259973</td>\n",
       "      <td>1215851</td>\n",
       "    </tr>\n",
       "    <tr>\n",
       "      <th>num_queries</th>\n",
       "      <td>480</td>\n",
       "      <td>15180</td>\n",
       "      <td>97345</td>\n",
       "    </tr>\n",
       "    <tr>\n",
       "      <th>num_relevance_judgements</th>\n",
       "      <td>233448</td>\n",
       "      <td>356410</td>\n",
       "      <td>1818825</td>\n",
       "    </tr>\n",
       "    <tr>\n",
       "      <th>num_queries_with_relevance</th>\n",
       "      <td>480</td>\n",
       "      <td>15180</td>\n",
       "      <td>97345</td>\n",
       "    </tr>\n",
       "    <tr>\n",
       "      <th>num_products_with_relevance</th>\n",
       "      <td>42986</td>\n",
       "      <td>259973</td>\n",
       "      <td>1215851</td>\n",
       "    </tr>\n",
       "    <tr>\n",
       "      <th>relevance_values_distribution</th>\n",
       "      <td>relevance\n",
       "2    0.109720\n",
       "1    0.628118\n",
       "0    0.2...</td>\n",
       "      <td>relevance\n",
       "4    0.566948\n",
       "3    0.057526\n",
       "2    0.2...</td>\n",
       "      <td>relevance\n",
       "4    0.685914\n",
       "3    0.022019\n",
       "2    0.2...</td>\n",
       "    </tr>\n",
       "    <tr>\n",
       "      <th>mean_num_relevance_judgements_per_query</th>\n",
       "      <td>486.35</td>\n",
       "      <td>23.47892</td>\n",
       "      <td>18.684319</td>\n",
       "    </tr>\n",
       "  </tbody>\n",
       "</table>\n",
       "</div>"
      ],
      "text/plain": [
       "                                                                                     wands  \\\n",
       "num_products                                                                         42994   \n",
       "num_queries                                                                            480   \n",
       "num_relevance_judgements                                                            233448   \n",
       "num_queries_with_relevance                                                             480   \n",
       "num_products_with_relevance                                                          42986   \n",
       "relevance_values_distribution            relevance\n",
       "2    0.109720\n",
       "1    0.628118\n",
       "0    0.2...   \n",
       "mean_num_relevance_judgements_per_query                                             486.35   \n",
       "\n",
       "                                                                                   esci-es  \\\n",
       "num_products                                                                        259973   \n",
       "num_queries                                                                          15180   \n",
       "num_relevance_judgements                                                            356410   \n",
       "num_queries_with_relevance                                                           15180   \n",
       "num_products_with_relevance                                                         259973   \n",
       "relevance_values_distribution            relevance\n",
       "4    0.566948\n",
       "3    0.057526\n",
       "2    0.2...   \n",
       "mean_num_relevance_judgements_per_query                                           23.47892   \n",
       "\n",
       "                                                                                   esci-us  \n",
       "num_products                                                                       1215851  \n",
       "num_queries                                                                          97345  \n",
       "num_relevance_judgements                                                           1818825  \n",
       "num_queries_with_relevance                                                           97345  \n",
       "num_products_with_relevance                                                        1215851  \n",
       "relevance_values_distribution            relevance\n",
       "4    0.685914\n",
       "3    0.022019\n",
       "2    0.2...  \n",
       "mean_num_relevance_judgements_per_query                                          18.684319  "
      ]
     },
     "execution_count": 40,
     "metadata": {},
     "output_type": "execute_result"
    }
   ],
   "source": [
    "stats"
   ]
  },
  {
   "cell_type": "code",
   "execution_count": null,
   "id": "7cc5ac52-26ae-4e49-a6b9-6041645d266e",
   "metadata": {},
   "outputs": [],
   "source": []
  },
  {
   "cell_type": "code",
   "execution_count": 41,
   "id": "9c391426-8eff-4bf8-8dad-f86821e5067d",
   "metadata": {},
   "outputs": [
    {
     "name": "stdout",
     "output_type": "stream",
     "text": [
      "relevance\n",
      "2    0.109720\n",
      "1    0.628118\n",
      "0    0.262161\n",
      "Name: count, dtype: float64\n",
      "relevance\n",
      "4    0.566948\n",
      "3    0.057526\n",
      "2    0.249878\n",
      "1    0.125647\n",
      "Name: count, dtype: float64\n",
      "relevance\n",
      "4    0.685914\n",
      "3    0.022019\n",
      "2    0.203050\n",
      "1    0.089016\n",
      "Name: count, dtype: float64\n"
     ]
    }
   ],
   "source": [
    "for dataset in datasets:\n",
    "    print (stats.loc['relevance_values_distribution'][dataset])"
   ]
  },
  {
   "cell_type": "markdown",
   "id": "1f125ea3-2321-4c3f-ac28-aef677a8aaff",
   "metadata": {},
   "source": [
    "# manual calculation for inspection"
   ]
  },
  {
   "cell_type": "code",
   "execution_count": 5,
   "id": "14ef46c8-8231-491f-95e2-72cddb0b0a5f",
   "metadata": {},
   "outputs": [
    {
     "data": {
      "text/html": [
       "<div>\n",
       "<style scoped>\n",
       "    .dataframe tbody tr th:only-of-type {\n",
       "        vertical-align: middle;\n",
       "    }\n",
       "\n",
       "    .dataframe tbody tr th {\n",
       "        vertical-align: top;\n",
       "    }\n",
       "\n",
       "    .dataframe thead th {\n",
       "        text-align: right;\n",
       "    }\n",
       "</style>\n",
       "<table border=\"1\" class=\"dataframe\">\n",
       "  <thead>\n",
       "    <tr style=\"text-align: right;\">\n",
       "      <th></th>\n",
       "      <th>query_id</th>\n",
       "      <th>product_id</th>\n",
       "      <th>model_rank</th>\n",
       "      <th>relevance</th>\n",
       "    </tr>\n",
       "  </thead>\n",
       "  <tbody>\n",
       "    <tr>\n",
       "      <th>0</th>\n",
       "      <td>0</td>\n",
       "      <td>B074RDGKH4</td>\n",
       "      <td>1</td>\n",
       "      <td>0.0</td>\n",
       "    </tr>\n",
       "    <tr>\n",
       "      <th>1</th>\n",
       "      <td>0</td>\n",
       "      <td>B008OHPUYM</td>\n",
       "      <td>2</td>\n",
       "      <td>0.0</td>\n",
       "    </tr>\n",
       "    <tr>\n",
       "      <th>2</th>\n",
       "      <td>0</td>\n",
       "      <td>B004KLWPI0</td>\n",
       "      <td>3</td>\n",
       "      <td>0.0</td>\n",
       "    </tr>\n",
       "    <tr>\n",
       "      <th>3</th>\n",
       "      <td>0</td>\n",
       "      <td>B0057GS2WK</td>\n",
       "      <td>4</td>\n",
       "      <td>0.0</td>\n",
       "    </tr>\n",
       "    <tr>\n",
       "      <th>4</th>\n",
       "      <td>0</td>\n",
       "      <td>B07K1X8CT7</td>\n",
       "      <td>5</td>\n",
       "      <td>0.0</td>\n",
       "    </tr>\n",
       "  </tbody>\n",
       "</table>\n",
       "</div>"
      ],
      "text/plain": [
       "   query_id  product_id  model_rank  relevance\n",
       "0         0  B074RDGKH4           1        0.0\n",
       "1         0  B008OHPUYM           2        0.0\n",
       "2         0  B004KLWPI0           3        0.0\n",
       "3         0  B0057GS2WK           4        0.0\n",
       "4         0  B07K1X8CT7           5        0.0"
      ]
     },
     "execution_count": 5,
     "metadata": {},
     "output_type": "execute_result"
    }
   ],
   "source": [
    "#model_folder = 'openai'\n",
    "#model_folder = 'text-exp0307'\n",
    "model_folder = 'text-004'\n",
    "#dataset = 'wands'\n",
    "dataset = 'esci-us'\n",
    "\n",
    "r = pd.read_parquet(f'{model_folder}/{dataset}-ranking_with_relevance.parquet')\n",
    "r.head()    "
   ]
  },
  {
   "cell_type": "code",
   "execution_count": 6,
   "id": "5b25c555-5251-471f-8d78-1619c5162931",
   "metadata": {},
   "outputs": [
    {
     "data": {
      "text/plain": [
       "(97345, 1045194)"
      ]
     },
     "execution_count": 6,
     "metadata": {},
     "output_type": "execute_result"
    }
   ],
   "source": [
    "len(np.unique(r.query_id)), len(np.unique(r.product_id))"
   ]
  },
  {
   "cell_type": "code",
   "execution_count": 7,
   "id": "3283d7ac-7410-4d60-92ed-1b551247d3ed",
   "metadata": {},
   "outputs": [
    {
     "data": {
      "text/html": [
       "<div>\n",
       "<style scoped>\n",
       "    .dataframe tbody tr th:only-of-type {\n",
       "        vertical-align: middle;\n",
       "    }\n",
       "\n",
       "    .dataframe tbody tr th {\n",
       "        vertical-align: top;\n",
       "    }\n",
       "\n",
       "    .dataframe thead th {\n",
       "        text-align: right;\n",
       "    }\n",
       "</style>\n",
       "<table border=\"1\" class=\"dataframe\">\n",
       "  <thead>\n",
       "    <tr style=\"text-align: right;\">\n",
       "      <th></th>\n",
       "      <th>product</th>\n",
       "    </tr>\n",
       "    <tr>\n",
       "      <th>__index_level_0__</th>\n",
       "      <th></th>\n",
       "    </tr>\n",
       "  </thead>\n",
       "  <tbody>\n",
       "    <tr>\n",
       "      <th>0000306045</th>\n",
       "      <td>&lt;TITLE&gt;WhiteCoat Clipboard- Pink - Respiratory...</td>\n",
       "    </tr>\n",
       "    <tr>\n",
       "      <th>0002159511</th>\n",
       "      <td>&lt;TITLE&gt;A Day in the Life of Ireland&lt;/TITLE&gt;\\n&lt;...</td>\n",
       "    </tr>\n",
       "    <tr>\n",
       "      <th>0003002764</th>\n",
       "      <td>&lt;TITLE&gt;HENRY'S AWFUL MISTAKE&lt;/TITLE&gt;</td>\n",
       "    </tr>\n",
       "    <tr>\n",
       "      <th>0004126475</th>\n",
       "      <td>&lt;TITLE&gt;David Bellamy's Watercolour Landscape C...</td>\n",
       "    </tr>\n",
       "    <tr>\n",
       "      <th>0004127579</th>\n",
       "      <td>&lt;TITLE&gt;Developing Your Watercolours&lt;/TITLE&gt;\\n&lt;...</td>\n",
       "    </tr>\n",
       "  </tbody>\n",
       "</table>\n",
       "</div>"
      ],
      "text/plain": [
       "                                                             product\n",
       "__index_level_0__                                                   \n",
       "0000306045         <TITLE>WhiteCoat Clipboard- Pink - Respiratory...\n",
       "0002159511         <TITLE>A Day in the Life of Ireland</TITLE>\\n<...\n",
       "0003002764                      <TITLE>HENRY'S AWFUL MISTAKE</TITLE>\n",
       "0004126475         <TITLE>David Bellamy's Watercolour Landscape C...\n",
       "0004127579         <TITLE>Developing Your Watercolours</TITLE>\\n<..."
      ]
     },
     "execution_count": 7,
     "metadata": {},
     "output_type": "execute_result"
    }
   ],
   "source": [
    "p = pl.read_parquet(f'{dataset}/products.parquet').to_pandas()\n",
    "p.set_index('__index_level_0__', inplace=True)\n",
    "p.head()"
   ]
  },
  {
   "cell_type": "code",
   "execution_count": 8,
   "id": "3bd6bfab-dc7c-4ce8-b928-bc932035635c",
   "metadata": {},
   "outputs": [
    {
     "data": {
      "text/plain": [
       "(1215851, 1)"
      ]
     },
     "execution_count": 8,
     "metadata": {},
     "output_type": "execute_result"
    }
   ],
   "source": [
    "p.shape"
   ]
  },
  {
   "cell_type": "code",
   "execution_count": 9,
   "id": "fe1e338d-1149-4709-83b8-68ecc3a9d0bb",
   "metadata": {},
   "outputs": [],
   "source": [
    "if dataset == 'wands':\n",
    "    r.relevance=[1 if i==2 else 0 for i in r.relevance]\n",
    "elif dataset.startswith('esci'):\n",
    "    r.relevance=[1 if i==4 else 0 for i in r.relevance]"
   ]
  },
  {
   "cell_type": "code",
   "execution_count": 10,
   "id": "84106b69-6413-452a-8f7a-34f3d0bc6ce4",
   "metadata": {},
   "outputs": [
    {
     "data": {
      "text/plain": [
       "relevance\n",
       "0    3266336\n",
       "1     627464\n",
       "Name: count, dtype: int64"
      ]
     },
     "execution_count": 10,
     "metadata": {},
     "output_type": "execute_result"
    }
   ],
   "source": [
    "r.relevance.value_counts()"
   ]
  },
  {
   "cell_type": "markdown",
   "id": "1bdfd24c-8470-45d6-a2f4-0493e18605fc",
   "metadata": {},
   "source": [
    "## custom ndcg"
   ]
  },
  {
   "cell_type": "code",
   "execution_count": 11,
   "id": "a03ba4eb-939e-4d14-b5bd-23f6e9eae9e2",
   "metadata": {},
   "outputs": [
    {
     "name": "stderr",
     "output_type": "stream",
     "text": [
      "100%|███████████████████████████████████████████████████████████████████████████████████████████████████████████████████████████████████████████████████████| 97345/97345 [07:13<00:00, 224.62it/s]\n"
     ]
    }
   ],
   "source": [
    "df_dcg, ndcg = utils.compute_ndcg(r)"
   ]
  },
  {
   "cell_type": "code",
   "execution_count": 12,
   "id": "a26d4e6f-6b5e-49b0-ae8e-4935d2d8143b",
   "metadata": {},
   "outputs": [
    {
     "data": {
      "text/plain": [
       "np.float64(0.671454768707987)"
      ]
     },
     "execution_count": 12,
     "metadata": {},
     "output_type": "execute_result"
    }
   ],
   "source": [
    "ndcg.ndcg.mean()"
   ]
  },
  {
   "cell_type": "code",
   "execution_count": null,
   "id": "fa4147d4-9c28-41e4-8238-cadc79dfe1af",
   "metadata": {},
   "outputs": [],
   "source": []
  },
  {
   "cell_type": "markdown",
   "id": "a867e38b-0348-499a-85e7-79486e227eff",
   "metadata": {},
   "source": [
    "## sklearn ndcg"
   ]
  },
  {
   "cell_type": "code",
   "execution_count": 13,
   "id": "681102ca-8128-4398-966c-8dff37bf7c91",
   "metadata": {},
   "outputs": [
    {
     "name": "stderr",
     "output_type": "stream",
     "text": [
      "100%|███████████████████████████████████████████████████████████████████████████████████████████████████████████████████████████████████████████████████████| 97345/97345 [05:09<00:00, 314.69it/s]\n"
     ]
    }
   ],
   "source": [
    "sklearn_ndcg = []\n",
    "for qid in tqdm(np.unique(r.query_id)):\n",
    "    rq = r[r.query_id==qid]\n",
    "    sklearn_ndcg.append(ndcg_score(rq.relevance.values.reshape(1,-1), 1/rq.model_rank.values.reshape(1,-1)))"
   ]
  },
  {
   "cell_type": "code",
   "execution_count": 15,
   "id": "05b3ea88-b4d2-4544-a455-79586baf7440",
   "metadata": {},
   "outputs": [
    {
     "data": {
      "text/plain": [
       "np.float64(0.6055267325550163)"
      ]
     },
     "execution_count": 15,
     "metadata": {},
     "output_type": "execute_result"
    }
   ],
   "source": [
    "np.mean(sklearn_ndcg)"
   ]
  },
  {
   "cell_type": "code",
   "execution_count": null,
   "id": "a68e15a6-ae2a-4e6b-8635-fb8d67f19cd0",
   "metadata": {},
   "outputs": [],
   "source": []
  },
  {
   "cell_type": "code",
   "execution_count": 62,
   "id": "812a22af-e6e6-4e3a-a4a0-aa53df4c4983",
   "metadata": {},
   "outputs": [
    {
     "data": {
      "text/plain": [
       "np.float64(0.7243239003217897)"
      ]
     },
     "execution_count": 62,
     "metadata": {},
     "output_type": "execute_result"
    }
   ],
   "source": [
    "ndcg.ndcg.mean()"
   ]
  },
  {
   "cell_type": "markdown",
   "id": "42a91203-c9e5-402a-9b25-06d03867fa83",
   "metadata": {},
   "source": [
    "# custom ndcg\n",
    "\n",
    "```\n",
    "                 wands           esci-es          esci-es        esci-us\n",
    "               relevance-01   relevance-01234   relevance-01    relevance-01\n",
    "text-004          0.839           0.666            0.654          0.671\n",
    "text-ext307       0.859           0.751            0.751          0.705          \n",
    "openai            0.825           0.739            0.724\n",
    "```\n",
    "\n",
    "## skelarn ndcg\n",
    "\n",
    "```\n",
    "                 wands           esci-es          esci-es\n",
    "               relevance-01   relevance-01234   relevance-01\n",
    "text-004          0.619           0.586              0.554         0.606       \n",
    "text-ext307       0.638           0.724              0.696\n",
    "openai            0.615           0.705              0.676\n",
    "```"
   ]
  },
  {
   "cell_type": "code",
   "execution_count": 76,
   "id": "4299a8d7-2574-4d4c-bc97-a4aa4479210e",
   "metadata": {},
   "outputs": [
    {
     "data": {
      "text/html": [
       "<div>\n",
       "<style scoped>\n",
       "    .dataframe tbody tr th:only-of-type {\n",
       "        vertical-align: middle;\n",
       "    }\n",
       "\n",
       "    .dataframe tbody tr th {\n",
       "        vertical-align: top;\n",
       "    }\n",
       "\n",
       "    .dataframe thead th {\n",
       "        text-align: right;\n",
       "    }\n",
       "</style>\n",
       "<table border=\"1\" class=\"dataframe\">\n",
       "  <thead>\n",
       "    <tr style=\"text-align: right;\">\n",
       "      <th></th>\n",
       "      <th>wands</th>\n",
       "      <th>esci-es</th>\n",
       "    </tr>\n",
       "  </thead>\n",
       "  <tbody>\n",
       "    <tr>\n",
       "      <th>openai</th>\n",
       "      <td>0.825493</td>\n",
       "      <td>0.724324</td>\n",
       "    </tr>\n",
       "    <tr>\n",
       "      <th>text-exp0307</th>\n",
       "      <td>0.858814</td>\n",
       "      <td>0.736770</td>\n",
       "    </tr>\n",
       "    <tr>\n",
       "      <th>text-004</th>\n",
       "      <td>0.838700</td>\n",
       "      <td>0.653741</td>\n",
       "    </tr>\n",
       "  </tbody>\n",
       "</table>\n",
       "</div>"
      ],
      "text/plain": [
       "                 wands   esci-es\n",
       "openai        0.825493  0.724324\n",
       "text-exp0307  0.858814  0.736770\n",
       "text-004      0.838700  0.653741"
      ]
     },
     "execution_count": 76,
     "metadata": {},
     "output_type": "execute_result"
    }
   ],
   "source": [
    "pd.DataFrame({m: {d: r[m][d]['custom_ndcg'] for d in r[m].keys()} for m in r.keys()}).T"
   ]
  },
  {
   "cell_type": "code",
   "execution_count": null,
   "id": "a44d97ff-ebe2-4651-b3d3-b19a4a20f1b3",
   "metadata": {},
   "outputs": [],
   "source": []
  }
 ],
 "metadata": {
  "kernelspec": {
   "display_name": "p312",
   "language": "python",
   "name": "p312"
  },
  "language_info": {
   "codemirror_mode": {
    "name": "ipython",
    "version": 3
   },
   "file_extension": ".py",
   "mimetype": "text/x-python",
   "name": "python",
   "nbconvert_exporter": "python",
   "pygments_lexer": "ipython3",
   "version": "3.12.9"
  }
 },
 "nbformat": 4,
 "nbformat_minor": 5
}
