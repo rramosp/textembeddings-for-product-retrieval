{
 "cells": [
  {
   "cell_type": "code",
   "execution_count": 2,
   "id": "0ec80c36-03cb-45a5-b6b1-d9146ecef403",
   "metadata": {},
   "outputs": [
    {
     "data": {
      "text/plain": [
       "<module 'utils' from '/usr/local/google/home/raulramos/projects/text-embeddings-benchmark/utils.py'>"
      ]
     },
     "execution_count": 2,
     "metadata": {},
     "output_type": "execute_result"
    }
   ],
   "source": [
    "import pandas as pd\n",
    "import numpy as np\n",
    "from tqdm import tqdm\n",
    "import utils\n",
    "import json\n",
    "from joblib import Parallel, delayed\n",
    "from time import sleep\n",
    "\n",
    "from importlib import reload\n",
    "reload(utils)"
   ]
  },
  {
   "cell_type": "code",
   "execution_count": 3,
   "id": "ab4ee6e2-6620-4e49-bf5c-e525bfbe6727",
   "metadata": {},
   "outputs": [],
   "source": [
    "# clone repo https://github.com/amazon-science/esci-data\n",
    "# previously install git-lfs to download the data files when cloning\n",
    "\n",
    "ESCI_DATASET_ROOT = '/usr/local/google/home/raulramos/projects/esci-data'"
   ]
  },
  {
   "cell_type": "code",
   "execution_count": 4,
   "id": "d04d8818-e9ef-4469-a896-f327a8fdd16f",
   "metadata": {},
   "outputs": [],
   "source": [
    "with open('../../secrets/openai-key.txt') as f:\n",
    "    OPENAI_API_KEY = f.read().strip()\n"
   ]
  },
  {
   "cell_type": "code",
   "execution_count": 5,
   "id": "cb12254e-9cf7-409a-b52a-bfe304424d9c",
   "metadata": {},
   "outputs": [],
   "source": [
    "# set locale\n",
    "\n",
    "locale = 'us'"
   ]
  },
  {
   "cell_type": "code",
   "execution_count": 6,
   "id": "6679689e-ab3d-4f48-8a25-6115a8cf5bc4",
   "metadata": {},
   "outputs": [],
   "source": [
    "# load ground truth\n",
    "dgt = utils.load_examples(ESCI_DATASET_ROOT=ESCI_DATASET_ROOT, locale=locale)"
   ]
  },
  {
   "cell_type": "code",
   "execution_count": 7,
   "id": "942cd561-d86e-4d02-b69f-f5474a0b45bc",
   "metadata": {},
   "outputs": [
    {
     "data": {
      "text/html": [
       "<div>\n",
       "<style scoped>\n",
       "    .dataframe tbody tr th:only-of-type {\n",
       "        vertical-align: middle;\n",
       "    }\n",
       "\n",
       "    .dataframe tbody tr th {\n",
       "        vertical-align: top;\n",
       "    }\n",
       "\n",
       "    .dataframe thead th {\n",
       "        text-align: right;\n",
       "    }\n",
       "</style>\n",
       "<table border=\"1\" class=\"dataframe\">\n",
       "  <thead>\n",
       "    <tr style=\"text-align: right;\">\n",
       "      <th></th>\n",
       "      <th>example_id</th>\n",
       "      <th>query</th>\n",
       "      <th>query_id</th>\n",
       "      <th>product_id</th>\n",
       "      <th>product_locale</th>\n",
       "      <th>esci_label</th>\n",
       "      <th>small_version</th>\n",
       "      <th>large_version</th>\n",
       "      <th>split</th>\n",
       "      <th>product_title</th>\n",
       "      <th>product_description</th>\n",
       "      <th>product_bullet_point</th>\n",
       "      <th>product_brand</th>\n",
       "      <th>product_color</th>\n",
       "      <th>relevance</th>\n",
       "    </tr>\n",
       "  </thead>\n",
       "  <tbody>\n",
       "    <tr>\n",
       "      <th>0</th>\n",
       "      <td>0</td>\n",
       "      <td>revent 80 cfm</td>\n",
       "      <td>0</td>\n",
       "      <td>B000MOO21W</td>\n",
       "      <td>us</td>\n",
       "      <td>I</td>\n",
       "      <td>0</td>\n",
       "      <td>1</td>\n",
       "      <td>train</td>\n",
       "      <td>Panasonic FV-20VQ3 WhisperCeiling 190 CFM Ceil...</td>\n",
       "      <td>None</td>\n",
       "      <td>WhisperCeiling fans feature a totally enclosed...</td>\n",
       "      <td>Panasonic</td>\n",
       "      <td>White</td>\n",
       "      <td>1</td>\n",
       "    </tr>\n",
       "    <tr>\n",
       "      <th>1</th>\n",
       "      <td>1</td>\n",
       "      <td>revent 80 cfm</td>\n",
       "      <td>0</td>\n",
       "      <td>B07X3Y6B1V</td>\n",
       "      <td>us</td>\n",
       "      <td>E</td>\n",
       "      <td>0</td>\n",
       "      <td>1</td>\n",
       "      <td>train</td>\n",
       "      <td>Homewerks 7141-80 Bathroom Fan Integrated LED ...</td>\n",
       "      <td>None</td>\n",
       "      <td>OUTSTANDING PERFORMANCE: This Homewerk's bath ...</td>\n",
       "      <td>Homewerks</td>\n",
       "      <td>80 CFM</td>\n",
       "      <td>4</td>\n",
       "    </tr>\n",
       "    <tr>\n",
       "      <th>2</th>\n",
       "      <td>2</td>\n",
       "      <td>revent 80 cfm</td>\n",
       "      <td>0</td>\n",
       "      <td>B07WDM7MQQ</td>\n",
       "      <td>us</td>\n",
       "      <td>E</td>\n",
       "      <td>0</td>\n",
       "      <td>1</td>\n",
       "      <td>train</td>\n",
       "      <td>Homewerks 7140-80 Bathroom Fan Ceiling Mount E...</td>\n",
       "      <td>None</td>\n",
       "      <td>OUTSTANDING PERFORMANCE: This Homewerk's bath ...</td>\n",
       "      <td>Homewerks</td>\n",
       "      <td>White</td>\n",
       "      <td>4</td>\n",
       "    </tr>\n",
       "    <tr>\n",
       "      <th>3</th>\n",
       "      <td>3</td>\n",
       "      <td>revent 80 cfm</td>\n",
       "      <td>0</td>\n",
       "      <td>B07RH6Z8KW</td>\n",
       "      <td>us</td>\n",
       "      <td>E</td>\n",
       "      <td>0</td>\n",
       "      <td>1</td>\n",
       "      <td>train</td>\n",
       "      <td>Delta Electronics RAD80L BreezRadiance 80 CFM ...</td>\n",
       "      <td>This pre-owned or refurbished product has been...</td>\n",
       "      <td>Quiet operation at 1.5 sones\\nBuilt-in thermos...</td>\n",
       "      <td>DELTA ELECTRONICS (AMERICAS) LTD.</td>\n",
       "      <td>White</td>\n",
       "      <td>4</td>\n",
       "    </tr>\n",
       "    <tr>\n",
       "      <th>4</th>\n",
       "      <td>4</td>\n",
       "      <td>revent 80 cfm</td>\n",
       "      <td>0</td>\n",
       "      <td>B07QJ7WYFQ</td>\n",
       "      <td>us</td>\n",
       "      <td>E</td>\n",
       "      <td>0</td>\n",
       "      <td>1</td>\n",
       "      <td>train</td>\n",
       "      <td>Panasonic FV-08VRE2 Ventilation Fan with Reces...</td>\n",
       "      <td>None</td>\n",
       "      <td>The design solution for Fan/light combinations...</td>\n",
       "      <td>Panasonic</td>\n",
       "      <td>White</td>\n",
       "      <td>4</td>\n",
       "    </tr>\n",
       "  </tbody>\n",
       "</table>\n",
       "</div>"
      ],
      "text/plain": [
       "   example_id           query  query_id  product_id product_locale esci_label  \\\n",
       "0           0   revent 80 cfm         0  B000MOO21W             us          I   \n",
       "1           1   revent 80 cfm         0  B07X3Y6B1V             us          E   \n",
       "2           2   revent 80 cfm         0  B07WDM7MQQ             us          E   \n",
       "3           3   revent 80 cfm         0  B07RH6Z8KW             us          E   \n",
       "4           4   revent 80 cfm         0  B07QJ7WYFQ             us          E   \n",
       "\n",
       "   small_version  large_version  split  \\\n",
       "0              0              1  train   \n",
       "1              0              1  train   \n",
       "2              0              1  train   \n",
       "3              0              1  train   \n",
       "4              0              1  train   \n",
       "\n",
       "                                       product_title  \\\n",
       "0  Panasonic FV-20VQ3 WhisperCeiling 190 CFM Ceil...   \n",
       "1  Homewerks 7141-80 Bathroom Fan Integrated LED ...   \n",
       "2  Homewerks 7140-80 Bathroom Fan Ceiling Mount E...   \n",
       "3  Delta Electronics RAD80L BreezRadiance 80 CFM ...   \n",
       "4  Panasonic FV-08VRE2 Ventilation Fan with Reces...   \n",
       "\n",
       "                                 product_description  \\\n",
       "0                                               None   \n",
       "1                                               None   \n",
       "2                                               None   \n",
       "3  This pre-owned or refurbished product has been...   \n",
       "4                                               None   \n",
       "\n",
       "                                product_bullet_point  \\\n",
       "0  WhisperCeiling fans feature a totally enclosed...   \n",
       "1  OUTSTANDING PERFORMANCE: This Homewerk's bath ...   \n",
       "2  OUTSTANDING PERFORMANCE: This Homewerk's bath ...   \n",
       "3  Quiet operation at 1.5 sones\\nBuilt-in thermos...   \n",
       "4  The design solution for Fan/light combinations...   \n",
       "\n",
       "                       product_brand product_color  relevance  \n",
       "0                          Panasonic         White          1  \n",
       "1                          Homewerks        80 CFM          4  \n",
       "2                          Homewerks         White          4  \n",
       "3  DELTA ELECTRONICS (AMERICAS) LTD.         White          4  \n",
       "4                          Panasonic         White          4  "
      ]
     },
     "execution_count": 7,
     "metadata": {},
     "output_type": "execute_result"
    }
   ],
   "source": [
    "dgt.head()"
   ]
  },
  {
   "cell_type": "code",
   "execution_count": 8,
   "id": "eb1f225d-f1f7-41bd-826f-4abe66f5fd4a",
   "metadata": {},
   "outputs": [],
   "source": [
    "queries = dgt.groupby('query_id').first()[['query']]"
   ]
  },
  {
   "cell_type": "code",
   "execution_count": 9,
   "id": "7aaf37b9-cb6b-40ab-820f-ceca640f3b8a",
   "metadata": {},
   "outputs": [
    {
     "name": "stderr",
     "output_type": "stream",
     "text": [
      "1215851it [01:09, 17572.78it/s]\n"
     ]
    }
   ],
   "source": [
    "products = dgt.groupby('product_id').first()[['product_title', 'product_description', 'product_bullet_point', 'product_brand', 'product_color']]\n",
    "products = pd.DataFrame([{product_id: utils.get_product_string(pi) for product_id,pi in tqdm(products.iterrows())}], index=['product']).T"
   ]
  },
  {
   "cell_type": "code",
   "execution_count": 10,
   "id": "c49a1557-9ddb-4b64-afa5-5b5de500c91a",
   "metadata": {},
   "outputs": [
    {
     "data": {
      "text/plain": [
       "((97345, 1), (1215851, 1))"
      ]
     },
     "execution_count": 10,
     "metadata": {},
     "output_type": "execute_result"
    }
   ],
   "source": [
    "queries.shape, products.shape"
   ]
  },
  {
   "cell_type": "code",
   "execution_count": 11,
   "id": "465e0ec6-4aeb-4a97-a8b6-ec8eaffc6e5c",
   "metadata": {},
   "outputs": [
    {
     "data": {
      "text/plain": [
       "<module 'utils' from '/usr/local/google/home/raulramos/projects/text-embeddings-benchmark/utils.py'>"
      ]
     },
     "execution_count": 11,
     "metadata": {},
     "output_type": "execute_result"
    }
   ],
   "source": [
    "from importlib import reload\n",
    "reload(utils)"
   ]
  },
  {
   "cell_type": "code",
   "execution_count": 12,
   "id": "1deb6cfe-d468-4a98-8050-c6d2590eaa76",
   "metadata": {},
   "outputs": [
    {
     "name": "stderr",
     "output_type": "stream",
     "text": [
      "100%|█████████████████████████████████████████████████████████████████████████████████████████████████████| 195/195 [07:38<00:00,  2.35s/it]\n"
     ]
    }
   ],
   "source": [
    "queries['embeddings'] = utils.get_openai_batch_embeddings(queries['query'].values, OPENAI_API_KEY, chunk_size=500)"
   ]
  },
  {
   "cell_type": "code",
   "execution_count": 13,
   "id": "3d19e6e2-d0c7-48bb-9c33-704fb148892f",
   "metadata": {},
   "outputs": [],
   "source": [
    "queries.to_parquet(f'openai/queries-{locale}.parquet')"
   ]
  },
  {
   "cell_type": "code",
   "execution_count": null,
   "id": "f29b821b-607d-4073-9d63-edf72b1ca1ae",
   "metadata": {},
   "outputs": [
    {
     "name": "stderr",
     "output_type": "stream",
     "text": [
      "100%|████████████████████████████████████████████████████████████████████████████████████████████████▉| 2430/2432 [2:02:07<00:06,  3.41s/it]"
     ]
    }
   ],
   "source": [
    "products['embeddings'] = utils.get_openai_batch_embeddings(products['product'].values, OPENAI_API_KEY, chunk_size=500)"
   ]
  },
  {
   "cell_type": "code",
   "execution_count": 15,
   "id": "3d0abb4b-13e4-4d19-ac8c-9ad1b743ca9c",
   "metadata": {},
   "outputs": [],
   "source": [
    "products.to_parquet(f'openai/products-{locale}.parquet')"
   ]
  },
  {
   "cell_type": "code",
   "execution_count": 16,
   "id": "472089da-38e0-4869-b98a-cf857d087d2f",
   "metadata": {},
   "outputs": [
    {
     "data": {
      "text/plain": [
       "(1215851, 2)"
      ]
     },
     "execution_count": 16,
     "metadata": {},
     "output_type": "execute_result"
    }
   ],
   "source": [
    "products.shape"
   ]
  },
  {
   "cell_type": "code",
   "execution_count": 17,
   "id": "a661cbee-5dbc-4129-b1f0-181625750e4e",
   "metadata": {},
   "outputs": [
    {
     "data": {
      "text/plain": [
       "1"
      ]
     },
     "execution_count": 17,
     "metadata": {},
     "output_type": "execute_result"
    }
   ],
   "source": [
    "1"
   ]
  },
  {
   "cell_type": "code",
   "execution_count": null,
   "id": "21d7767c-6d53-4a2f-a6e3-babc12bf76c7",
   "metadata": {},
   "outputs": [],
   "source": []
  }
 ],
 "metadata": {
  "kernelspec": {
   "display_name": "p312",
   "language": "python",
   "name": "p312"
  },
  "language_info": {
   "codemirror_mode": {
    "name": "ipython",
    "version": 3
   },
   "file_extension": ".py",
   "mimetype": "text/x-python",
   "name": "python",
   "nbconvert_exporter": "python",
   "pygments_lexer": "ipython3",
   "version": "3.12.9"
  }
 },
 "nbformat": 4,
 "nbformat_minor": 5
}
